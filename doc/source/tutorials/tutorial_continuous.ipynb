{
 "cells": [
  {
   "cell_type": "markdown",
   "metadata": {},
   "source": [
    "# Tutorial: optimal binning with continuous target"
   ]
  },
  {
   "cell_type": "markdown",
   "metadata": {},
   "source": [
    "## Basic"
   ]
  },
  {
   "cell_type": "markdown",
   "metadata": {},
   "source": [
    "To get us started, let's load a well-known dataset from the UCI repository and transform the data into a ``pandas.DataFrame``."
   ]
  },
  {
   "cell_type": "code",
   "execution_count": 1,
   "metadata": {},
   "outputs": [],
   "source": [
    "import pandas as pd\n",
    "from sklearn.datasets import load_boston"
   ]
  },
  {
   "cell_type": "code",
   "execution_count": 2,
   "metadata": {},
   "outputs": [],
   "source": [
    "data = load_boston()\n",
    "df = pd.DataFrame(data.data, columns=data.feature_names)"
   ]
  },
  {
   "cell_type": "markdown",
   "metadata": {},
   "source": [
    "We choose a variable to discretize and the continuous target."
   ]
  },
  {
   "cell_type": "code",
   "execution_count": 3,
   "metadata": {},
   "outputs": [],
   "source": [
    "variable = \"LSTAT\"\n",
    "x = df[variable].values\n",
    "y = data.target"
   ]
  },
  {
   "cell_type": "markdown",
   "metadata": {},
   "source": [
    "Import and instantiate an ``ContinuousOptimalBinning`` object class. We pass the variable name and its data type."
   ]
  },
  {
   "cell_type": "code",
   "execution_count": 4,
   "metadata": {},
   "outputs": [],
   "source": [
    "from optbinning import ContinuousOptimalBinning"
   ]
  },
  {
   "cell_type": "code",
   "execution_count": 5,
   "metadata": {},
   "outputs": [],
   "source": [
    "optb = ContinuousOptimalBinning(name=variable, dtype=\"numerical\")"
   ]
  },
  {
   "cell_type": "markdown",
   "metadata": {},
   "source": [
    "We fit the optimal binning object with arrays ``x`` and ``y``."
   ]
  },
  {
   "cell_type": "code",
   "execution_count": 6,
   "metadata": {},
   "outputs": [
    {
     "data": {
      "text/plain": [
       "ContinuousOptimalBinning(name='LSTAT')"
      ]
     },
     "execution_count": 6,
     "metadata": {},
     "output_type": "execute_result"
    }
   ],
   "source": [
    "optb.fit(x, y)"
   ]
  },
  {
   "cell_type": "markdown",
   "metadata": {},
   "source": [
    "You can check if an optimal solution has been found via the ``status`` attribute:"
   ]
  },
  {
   "cell_type": "code",
   "execution_count": 7,
   "metadata": {},
   "outputs": [
    {
     "data": {
      "text/plain": [
       "'OPTIMAL'"
      ]
     },
     "execution_count": 7,
     "metadata": {},
     "output_type": "execute_result"
    }
   ],
   "source": [
    "optb.status"
   ]
  },
  {
   "cell_type": "markdown",
   "metadata": {},
   "source": [
    "You can also retrieve the optimal split points via the ``splits`` attribute:"
   ]
  },
  {
   "cell_type": "code",
   "execution_count": 8,
   "metadata": {},
   "outputs": [
    {
     "data": {
      "text/plain": [
       "array([ 4.6500001 ,  5.49499989,  6.86500001,  9.7249999 , 11.67499971,\n",
       "       13.0999999 , 16.08500004, 19.89999962, 23.31500053])"
      ]
     },
     "execution_count": 8,
     "metadata": {},
     "output_type": "execute_result"
    }
   ],
   "source": [
    "optb.splits"
   ]
  },
  {
   "cell_type": "markdown",
   "metadata": {},
   "source": [
    "#### The binning table"
   ]
  },
  {
   "cell_type": "markdown",
   "metadata": {},
   "source": [
    "The optimal binning algorithms return a binning table; a binning table displays the binned data and several metrics for each bin. Class ``ContinuousOptimalBinning`` returns an object ``ContinuousBinningTable`` via the ``binning_table`` attribute."
   ]
  },
  {
   "cell_type": "code",
   "execution_count": 9,
   "metadata": {},
   "outputs": [],
   "source": [
    "binning_table = optb.binning_table"
   ]
  },
  {
   "cell_type": "code",
   "execution_count": 10,
   "metadata": {},
   "outputs": [
    {
     "data": {
      "text/plain": [
       "optbinning.binning.binning_statistics.ContinuousBinningTable"
      ]
     },
     "execution_count": 10,
     "metadata": {},
     "output_type": "execute_result"
    }
   ],
   "source": [
    "type(binning_table)"
   ]
  },
  {
   "cell_type": "markdown",
   "metadata": {},
   "source": [
    "The `binning_table` is instantiated, but not built. Therefore, the first step is to call the method `build`, which returns a ``pandas.DataFrame``."
   ]
  },
  {
   "cell_type": "code",
   "execution_count": 11,
   "metadata": {},
   "outputs": [
    {
     "data": {
      "text/html": [
       "<div>\n",
       "<style scoped>\n",
       "    .dataframe tbody tr th:only-of-type {\n",
       "        vertical-align: middle;\n",
       "    }\n",
       "\n",
       "    .dataframe tbody tr th {\n",
       "        vertical-align: top;\n",
       "    }\n",
       "\n",
       "    .dataframe thead th {\n",
       "        text-align: right;\n",
       "    }\n",
       "</style>\n",
       "<table border=\"1\" class=\"dataframe\">\n",
       "  <thead>\n",
       "    <tr style=\"text-align: right;\">\n",
       "      <th></th>\n",
       "      <th>Bin</th>\n",
       "      <th>Count</th>\n",
       "      <th>Count (%)</th>\n",
       "      <th>Sum</th>\n",
       "      <th>Std</th>\n",
       "      <th>Mean</th>\n",
       "      <th>Min</th>\n",
       "      <th>Max</th>\n",
       "      <th>Zeros count</th>\n",
       "      <th>WoE</th>\n",
       "      <th>IV</th>\n",
       "    </tr>\n",
       "  </thead>\n",
       "  <tbody>\n",
       "    <tr>\n",
       "      <th>0</th>\n",
       "      <td>(-inf, 4.65)</td>\n",
       "      <td>50</td>\n",
       "      <td>0.098814</td>\n",
       "      <td>1985.9</td>\n",
       "      <td>8.198651</td>\n",
       "      <td>39.718000</td>\n",
       "      <td>22.8</td>\n",
       "      <td>50.0</td>\n",
       "      <td>0</td>\n",
       "      <td>17.185194</td>\n",
       "      <td>1.698142</td>\n",
       "    </tr>\n",
       "    <tr>\n",
       "      <th>1</th>\n",
       "      <td>[4.65, 5.49)</td>\n",
       "      <td>28</td>\n",
       "      <td>0.055336</td>\n",
       "      <td>853.2</td>\n",
       "      <td>6.123541</td>\n",
       "      <td>30.471429</td>\n",
       "      <td>21.9</td>\n",
       "      <td>50.0</td>\n",
       "      <td>0</td>\n",
       "      <td>7.938622</td>\n",
       "      <td>0.439291</td>\n",
       "    </tr>\n",
       "    <tr>\n",
       "      <th>2</th>\n",
       "      <td>[5.49, 6.87)</td>\n",
       "      <td>45</td>\n",
       "      <td>0.088933</td>\n",
       "      <td>1188.6</td>\n",
       "      <td>5.136259</td>\n",
       "      <td>26.413333</td>\n",
       "      <td>20.6</td>\n",
       "      <td>48.8</td>\n",
       "      <td>0</td>\n",
       "      <td>3.880527</td>\n",
       "      <td>0.345106</td>\n",
       "    </tr>\n",
       "    <tr>\n",
       "      <th>3</th>\n",
       "      <td>[6.87, 9.72)</td>\n",
       "      <td>89</td>\n",
       "      <td>0.175889</td>\n",
       "      <td>2274.9</td>\n",
       "      <td>6.845250</td>\n",
       "      <td>25.560674</td>\n",
       "      <td>11.9</td>\n",
       "      <td>50.0</td>\n",
       "      <td>0</td>\n",
       "      <td>3.027868</td>\n",
       "      <td>0.532570</td>\n",
       "    </tr>\n",
       "    <tr>\n",
       "      <th>4</th>\n",
       "      <td>[9.72, 11.67)</td>\n",
       "      <td>49</td>\n",
       "      <td>0.096838</td>\n",
       "      <td>1057.9</td>\n",
       "      <td>2.994842</td>\n",
       "      <td>21.589796</td>\n",
       "      <td>15.0</td>\n",
       "      <td>31.0</td>\n",
       "      <td>0</td>\n",
       "      <td>-0.943010</td>\n",
       "      <td>0.091319</td>\n",
       "    </tr>\n",
       "    <tr>\n",
       "      <th>5</th>\n",
       "      <td>[11.67, 13.10)</td>\n",
       "      <td>35</td>\n",
       "      <td>0.069170</td>\n",
       "      <td>697.5</td>\n",
       "      <td>2.592139</td>\n",
       "      <td>19.928571</td>\n",
       "      <td>14.5</td>\n",
       "      <td>27.9</td>\n",
       "      <td>0</td>\n",
       "      <td>-2.604235</td>\n",
       "      <td>0.180135</td>\n",
       "    </tr>\n",
       "    <tr>\n",
       "      <th>6</th>\n",
       "      <td>[13.10, 16.09)</td>\n",
       "      <td>66</td>\n",
       "      <td>0.130435</td>\n",
       "      <td>1289.9</td>\n",
       "      <td>3.541705</td>\n",
       "      <td>19.543939</td>\n",
       "      <td>10.2</td>\n",
       "      <td>30.7</td>\n",
       "      <td>0</td>\n",
       "      <td>-2.988867</td>\n",
       "      <td>0.389852</td>\n",
       "    </tr>\n",
       "    <tr>\n",
       "      <th>7</th>\n",
       "      <td>[16.09, 19.90)</td>\n",
       "      <td>69</td>\n",
       "      <td>0.136364</td>\n",
       "      <td>1129.3</td>\n",
       "      <td>3.607949</td>\n",
       "      <td>16.366667</td>\n",
       "      <td>8.3</td>\n",
       "      <td>27.5</td>\n",
       "      <td>0</td>\n",
       "      <td>-6.166140</td>\n",
       "      <td>0.840837</td>\n",
       "    </tr>\n",
       "    <tr>\n",
       "      <th>8</th>\n",
       "      <td>[19.90, 23.32)</td>\n",
       "      <td>28</td>\n",
       "      <td>0.055336</td>\n",
       "      <td>368.4</td>\n",
       "      <td>3.912839</td>\n",
       "      <td>13.157143</td>\n",
       "      <td>5.0</td>\n",
       "      <td>21.7</td>\n",
       "      <td>0</td>\n",
       "      <td>-9.375663</td>\n",
       "      <td>0.518811</td>\n",
       "    </tr>\n",
       "    <tr>\n",
       "      <th>9</th>\n",
       "      <td>[23.32, inf)</td>\n",
       "      <td>47</td>\n",
       "      <td>0.092885</td>\n",
       "      <td>556.0</td>\n",
       "      <td>4.006586</td>\n",
       "      <td>11.829787</td>\n",
       "      <td>5.0</td>\n",
       "      <td>23.7</td>\n",
       "      <td>0</td>\n",
       "      <td>-10.703019</td>\n",
       "      <td>0.994154</td>\n",
       "    </tr>\n",
       "    <tr>\n",
       "      <th>10</th>\n",
       "      <td>Special</td>\n",
       "      <td>0</td>\n",
       "      <td>0.000000</td>\n",
       "      <td>0.0</td>\n",
       "      <td>NaN</td>\n",
       "      <td>0.000000</td>\n",
       "      <td>NaN</td>\n",
       "      <td>NaN</td>\n",
       "      <td>0</td>\n",
       "      <td>-22.532806</td>\n",
       "      <td>0.000000</td>\n",
       "    </tr>\n",
       "    <tr>\n",
       "      <th>11</th>\n",
       "      <td>Missing</td>\n",
       "      <td>0</td>\n",
       "      <td>0.000000</td>\n",
       "      <td>0.0</td>\n",
       "      <td>NaN</td>\n",
       "      <td>0.000000</td>\n",
       "      <td>NaN</td>\n",
       "      <td>NaN</td>\n",
       "      <td>0</td>\n",
       "      <td>-22.532806</td>\n",
       "      <td>0.000000</td>\n",
       "    </tr>\n",
       "    <tr>\n",
       "      <th>Totals</th>\n",
       "      <td></td>\n",
       "      <td>506</td>\n",
       "      <td>1.000000</td>\n",
       "      <td>11401.6</td>\n",
       "      <td></td>\n",
       "      <td>22.532806</td>\n",
       "      <td>5.0</td>\n",
       "      <td>50.0</td>\n",
       "      <td>0</td>\n",
       "      <td></td>\n",
       "      <td>6.030218</td>\n",
       "    </tr>\n",
       "  </tbody>\n",
       "</table>\n",
       "</div>"
      ],
      "text/plain": [
       "                   Bin  Count  Count (%)      Sum       Std       Mean   Min  \\\n",
       "0         (-inf, 4.65)     50   0.098814   1985.9  8.198651  39.718000  22.8   \n",
       "1         [4.65, 5.49)     28   0.055336    853.2  6.123541  30.471429  21.9   \n",
       "2         [5.49, 6.87)     45   0.088933   1188.6  5.136259  26.413333  20.6   \n",
       "3         [6.87, 9.72)     89   0.175889   2274.9  6.845250  25.560674  11.9   \n",
       "4        [9.72, 11.67)     49   0.096838   1057.9  2.994842  21.589796  15.0   \n",
       "5       [11.67, 13.10)     35   0.069170    697.5  2.592139  19.928571  14.5   \n",
       "6       [13.10, 16.09)     66   0.130435   1289.9  3.541705  19.543939  10.2   \n",
       "7       [16.09, 19.90)     69   0.136364   1129.3  3.607949  16.366667   8.3   \n",
       "8       [19.90, 23.32)     28   0.055336    368.4  3.912839  13.157143   5.0   \n",
       "9         [23.32, inf)     47   0.092885    556.0  4.006586  11.829787   5.0   \n",
       "10             Special      0   0.000000      0.0       NaN   0.000000   NaN   \n",
       "11             Missing      0   0.000000      0.0       NaN   0.000000   NaN   \n",
       "Totals                    506   1.000000  11401.6            22.532806   5.0   \n",
       "\n",
       "         Max  Zeros count        WoE        IV  \n",
       "0       50.0            0  17.185194  1.698142  \n",
       "1       50.0            0   7.938622  0.439291  \n",
       "2       48.8            0   3.880527  0.345106  \n",
       "3       50.0            0   3.027868  0.532570  \n",
       "4       31.0            0  -0.943010  0.091319  \n",
       "5       27.9            0  -2.604235  0.180135  \n",
       "6       30.7            0  -2.988867  0.389852  \n",
       "7       27.5            0  -6.166140  0.840837  \n",
       "8       21.7            0  -9.375663  0.518811  \n",
       "9       23.7            0 -10.703019  0.994154  \n",
       "10       NaN            0 -22.532806  0.000000  \n",
       "11       NaN            0 -22.532806  0.000000  \n",
       "Totals  50.0            0             6.030218  "
      ]
     },
     "execution_count": 11,
     "metadata": {},
     "output_type": "execute_result"
    }
   ],
   "source": [
    "binning_table.build()"
   ]
  },
  {
   "cell_type": "markdown",
   "metadata": {},
   "source": [
    "Let's describe the columns of this binning table:\n",
    "\n",
    "- Bin: the intervals delimited by the optimal split points.\n",
    "- Count: the number of records for each bin.\n",
    "- Count (%): the percentage of records for each bin.\n",
    "- Sum: the target sum for each bin.\n",
    "- Std: the target std for each bin.\n",
    "- Mean: the target mean for each bin.\n",
    "- Min: the target min value for each bin.\n",
    "- Max: the target max value for each bin.\n",
    "- Zeros count: the number of zeros for each bin.\n",
    "- WoE: Surrogate Weight-of-Evidence for each bin.\n",
    "- IV: Surrogate IV for each bin.\n",
    "\n",
    "The WoE IV for a continuous target is computed as follows:\n",
    "\n",
    "\\begin{equation}\n",
    "IV = \\sum_{i=1}^n \\text{WoE}_i \\frac{r_i}{r_T}, \\quad \\text{WoE}_i = |U_i - \\mu|,\n",
    "\\end{equation}\n",
    "\n",
    "where $U_i$ is the target mean value for each bin, $\\mu$ is the total target mean, $r_i$ is the number of records for each bin, and $r_T$ is the total number of records.\n",
    "\n",
    "The last row shows the total number of records, sum and mean."
   ]
  },
  {
   "cell_type": "markdown",
   "metadata": {},
   "source": [
    "You can use the method ``plot`` to visualize the histogram and mean curve. Note that the Bin ID corresponds to the binning table index."
   ]
  },
  {
   "cell_type": "code",
   "execution_count": 12,
   "metadata": {},
   "outputs": [
    {
     "data": {
      "image/png": "[encoded data removed]",
      "text/plain": [
       "<Figure size 432x288 with 2 Axes>"
      ]
     },
     "metadata": {
      "needs_background": "light"
     },
     "output_type": "display_data"
    }
   ],
   "source": [
    "binning_table.plot()"
   ]
  },
  {
   "cell_type": "markdown",
   "metadata": {},
   "source": [
    "Optionally, you can show the binning plot with the actual bin widths."
   ]
  },
  {
   "cell_type": "code",
   "execution_count": 13,
   "metadata": {},
   "outputs": [
    {
     "data": {
      "image/png": "[encoded data removed]",
      "text/plain": [
       "<Figure size 432x288 with 2 Axes>"
      ]
     },
     "metadata": {
      "needs_background": "light"
     },
     "output_type": "display_data"
    }
   ],
   "source": [
    "binning_table.plot(style=\"actual\")"
   ]
  },
  {
   "cell_type": "markdown",
   "metadata": {},
   "source": [
    "##### Mean transformation"
   ]
  },
  {
   "cell_type": "markdown",
   "metadata": {},
   "source": [
    "Now that we have checked the binned data, we can transform our original data into mean values. You can check the correctness of the transformation using pandas ``value_counts`` method, for instance."
   ]
  },
  {
   "cell_type": "code",
   "execution_count": 14,
   "metadata": {},
   "outputs": [],
   "source": [
    "x_transform_mean = optb.transform(x, metric=\"bins\")"
   ]
  },
  {
   "cell_type": "code",
   "execution_count": 15,
   "metadata": {},
   "outputs": [
    {
     "data": {
      "text/plain": [
       "[6.87, 9.72)      89\n",
       "[16.09, 19.90)    69\n",
       "[13.10, 16.09)    66\n",
       "(-inf, 4.65)      50\n",
       "[9.72, 11.67)     49\n",
       "[23.32, inf)      47\n",
       "[5.49, 6.87)      45\n",
       "[11.67, 13.10)    35\n",
       "[19.90, 23.32)    28\n",
       "[4.65, 5.49)      28\n",
       "dtype: int64"
      ]
     },
     "execution_count": 15,
     "metadata": {},
     "output_type": "execute_result"
    }
   ],
   "source": [
    "pd.Series(x_transform_mean).value_counts()"
   ]
  },
  {
   "cell_type": "markdown",
   "metadata": {},
   "source": [
    "## Advanced"
   ]
  },
  {
   "cell_type": "markdown",
   "metadata": {},
   "source": [
    "Many of the advanced options have been covered in the previous tutorials with a binary target. **Check it out!** In this section, we focus on the mean monotonicity trend and the mean difference between bins."
   ]
  },
  {
   "cell_type": "markdown",
   "metadata": {},
   "source": [
    "#### Binning table statistical analysis"
   ]
  },
  {
   "cell_type": "markdown",
   "metadata": {},
   "source": [
    "The ``analysis`` method performs a statistical analysis of the binning table, computing the Information Value (IV) and Herfindahl-Hirschman Index (HHI). Additionally, several statistical significance tests between consecutive bins of the contingency table are performed using the Student's t-test."
   ]
  },
  {
   "cell_type": "code",
   "execution_count": 16,
   "metadata": {},
   "outputs": [
    {
     "name": "stdout",
     "output_type": "stream",
     "text": [
      "-------------------------------------------------\n",
      "OptimalBinning: Continuous Binning Table Analysis\n",
      "-------------------------------------------------\n",
      "\n",
      "  General metrics\n",
      "\n",
      "    IV                       6.03021763\n",
      "    HHI                      0.11313253\n",
      "    HHI (normalized)         0.03250821\n",
      "    Quality score            0.21464367\n",
      "\n",
      "  Monotonic trend            descending\n",
      "\n",
      "  Significance tests\n",
      "\n",
      "    Bin A  Bin B  t-statistic      p-value\n",
      "        0      1     5.644492 3.313748e-07\n",
      "        1      2     2.924528 5.175586e-03\n",
      "        2      3     0.808313 4.206096e-01\n",
      "        3      4     4.714124 6.127108e-06\n",
      "        4      5     2.712699 8.189719e-03\n",
      "        5      6     0.622294 5.353397e-01\n",
      "        6      7     5.162973 8.663417e-07\n",
      "        7      8     3.742511 4.988278e-04\n",
      "        8      9     1.408305 1.643801e-01\n",
      "\n"
     ]
    }
   ],
   "source": [
    "binning_table.analysis()"
   ]
  },
  {
   "cell_type": "markdown",
   "metadata": {},
   "source": [
    "#### Mean monotonicity"
   ]
  },
  {
   "cell_type": "markdown",
   "metadata": {},
   "source": [
    "The monotonic_trend option permits forcing a monotonic trend to the mean curve. The default setting “auto” should be the preferred option, however, some business constraints might require to impose different trends. The default setting “auto” chooses the monotonic trend most likely to minimize the L1-norm from the options “ascending”, “descending”, “peak” and “valley” using a machine-learning-based classifier."
   ]
  },
  {
   "cell_type": "code",
   "execution_count": 17,
   "metadata": {},
   "outputs": [],
   "source": [
    "variable = \"INDUS\"\n",
    "x = df[variable].values\n",
    "y = data.target"
   ]
  },
  {
   "cell_type": "code",
   "execution_count": 18,
   "metadata": {},
   "outputs": [
    {
     "data": {
      "text/plain": [
       "ContinuousOptimalBinning(name='INDUS')"
      ]
     },
     "execution_count": 18,
     "metadata": {},
     "output_type": "execute_result"
    }
   ],
   "source": [
    "optb = ContinuousOptimalBinning(name=variable, dtype=\"numerical\",\n",
    "                                monotonic_trend=\"auto\")\n",
    "optb.fit(x, y)"
   ]
  },
  {
   "cell_type": "code",
   "execution_count": 19,
   "metadata": {},
   "outputs": [
    {
     "data": {
      "text/html": [
       "<div>\n",
       "<style scoped>\n",
       "    .dataframe tbody tr th:only-of-type {\n",
       "        vertical-align: middle;\n",
       "    }\n",
       "\n",
       "    .dataframe tbody tr th {\n",
       "        vertical-align: top;\n",
       "    }\n",
       "\n",
       "    .dataframe thead th {\n",
       "        text-align: right;\n",
       "    }\n",
       "</style>\n",
       "<table border=\"1\" class=\"dataframe\">\n",
       "  <thead>\n",
       "    <tr style=\"text-align: right;\">\n",
       "      <th></th>\n",
       "      <th>Bin</th>\n",
       "      <th>Count</th>\n",
       "      <th>Count (%)</th>\n",
       "      <th>Sum</th>\n",
       "      <th>Std</th>\n",
       "      <th>Mean</th>\n",
       "      <th>Min</th>\n",
       "      <th>Max</th>\n",
       "      <th>Zeros count</th>\n",
       "      <th>WoE</th>\n",
       "      <th>IV</th>\n",
       "    </tr>\n",
       "  </thead>\n",
       "  <tbody>\n",
       "    <tr>\n",
       "      <th>0</th>\n",
       "      <td>(-inf, 3.35)</td>\n",
       "      <td>63</td>\n",
       "      <td>0.124506</td>\n",
       "      <td>1994.0</td>\n",
       "      <td>8.569841</td>\n",
       "      <td>31.650794</td>\n",
       "      <td>16.5</td>\n",
       "      <td>50.0</td>\n",
       "      <td>0</td>\n",
       "      <td>9.117987</td>\n",
       "      <td>1.135243</td>\n",
       "    </tr>\n",
       "    <tr>\n",
       "      <th>1</th>\n",
       "      <td>[3.35, 5.04)</td>\n",
       "      <td>57</td>\n",
       "      <td>0.112648</td>\n",
       "      <td>1615.2</td>\n",
       "      <td>8.072710</td>\n",
       "      <td>28.336842</td>\n",
       "      <td>17.2</td>\n",
       "      <td>50.0</td>\n",
       "      <td>0</td>\n",
       "      <td>5.804036</td>\n",
       "      <td>0.653814</td>\n",
       "    </tr>\n",
       "    <tr>\n",
       "      <th>2</th>\n",
       "      <td>[5.04, 6.66)</td>\n",
       "      <td>66</td>\n",
       "      <td>0.130435</td>\n",
       "      <td>1723.7</td>\n",
       "      <td>7.879078</td>\n",
       "      <td>26.116667</td>\n",
       "      <td>16.0</td>\n",
       "      <td>50.0</td>\n",
       "      <td>0</td>\n",
       "      <td>3.583860</td>\n",
       "      <td>0.467460</td>\n",
       "    </tr>\n",
       "    <tr>\n",
       "      <th>3</th>\n",
       "      <td>[6.66, 8.01)</td>\n",
       "      <td>31</td>\n",
       "      <td>0.061265</td>\n",
       "      <td>692.0</td>\n",
       "      <td>4.604886</td>\n",
       "      <td>22.322581</td>\n",
       "      <td>14.4</td>\n",
       "      <td>35.2</td>\n",
       "      <td>0</td>\n",
       "      <td>-0.210226</td>\n",
       "      <td>0.012879</td>\n",
       "    </tr>\n",
       "    <tr>\n",
       "      <th>4</th>\n",
       "      <td>[8.01, 16.57)</td>\n",
       "      <td>100</td>\n",
       "      <td>0.197628</td>\n",
       "      <td>2045.5</td>\n",
       "      <td>3.547348</td>\n",
       "      <td>20.455000</td>\n",
       "      <td>11.9</td>\n",
       "      <td>28.7</td>\n",
       "      <td>0</td>\n",
       "      <td>-2.077806</td>\n",
       "      <td>0.410634</td>\n",
       "    </tr>\n",
       "    <tr>\n",
       "      <th>5</th>\n",
       "      <td>[16.57, 18.84)</td>\n",
       "      <td>132</td>\n",
       "      <td>0.260870</td>\n",
       "      <td>2165.3</td>\n",
       "      <td>8.507336</td>\n",
       "      <td>16.403788</td>\n",
       "      <td>5.0</td>\n",
       "      <td>50.0</td>\n",
       "      <td>0</td>\n",
       "      <td>-6.129018</td>\n",
       "      <td>1.598874</td>\n",
       "    </tr>\n",
       "    <tr>\n",
       "      <th>6</th>\n",
       "      <td>[18.84, inf)</td>\n",
       "      <td>57</td>\n",
       "      <td>0.112648</td>\n",
       "      <td>1165.9</td>\n",
       "      <td>9.519086</td>\n",
       "      <td>20.454386</td>\n",
       "      <td>7.0</td>\n",
       "      <td>50.0</td>\n",
       "      <td>0</td>\n",
       "      <td>-2.078420</td>\n",
       "      <td>0.234130</td>\n",
       "    </tr>\n",
       "    <tr>\n",
       "      <th>7</th>\n",
       "      <td>Special</td>\n",
       "      <td>0</td>\n",
       "      <td>0.000000</td>\n",
       "      <td>0.0</td>\n",
       "      <td>NaN</td>\n",
       "      <td>0.000000</td>\n",
       "      <td>NaN</td>\n",
       "      <td>NaN</td>\n",
       "      <td>0</td>\n",
       "      <td>-22.532806</td>\n",
       "      <td>0.000000</td>\n",
       "    </tr>\n",
       "    <tr>\n",
       "      <th>8</th>\n",
       "      <td>Missing</td>\n",
       "      <td>0</td>\n",
       "      <td>0.000000</td>\n",
       "      <td>0.0</td>\n",
       "      <td>NaN</td>\n",
       "      <td>0.000000</td>\n",
       "      <td>NaN</td>\n",
       "      <td>NaN</td>\n",
       "      <td>0</td>\n",
       "      <td>-22.532806</td>\n",
       "      <td>0.000000</td>\n",
       "    </tr>\n",
       "    <tr>\n",
       "      <th>Totals</th>\n",
       "      <td></td>\n",
       "      <td>506</td>\n",
       "      <td>1.000000</td>\n",
       "      <td>11401.6</td>\n",
       "      <td></td>\n",
       "      <td>22.532806</td>\n",
       "      <td>5.0</td>\n",
       "      <td>50.0</td>\n",
       "      <td>0</td>\n",
       "      <td></td>\n",
       "      <td>4.513036</td>\n",
       "    </tr>\n",
       "  </tbody>\n",
       "</table>\n",
       "</div>"
      ],
      "text/plain": [
       "                   Bin  Count  Count (%)      Sum       Std       Mean   Min  \\\n",
       "0         (-inf, 3.35)     63   0.124506   1994.0  8.569841  31.650794  16.5   \n",
       "1         [3.35, 5.04)     57   0.112648   1615.2  8.072710  28.336842  17.2   \n",
       "2         [5.04, 6.66)     66   0.130435   1723.7  7.879078  26.116667  16.0   \n",
       "3         [6.66, 8.01)     31   0.061265    692.0  4.604886  22.322581  14.4   \n",
       "4        [8.01, 16.57)    100   0.197628   2045.5  3.547348  20.455000  11.9   \n",
       "5       [16.57, 18.84)    132   0.260870   2165.3  8.507336  16.403788   5.0   \n",
       "6         [18.84, inf)     57   0.112648   1165.9  9.519086  20.454386   7.0   \n",
       "7              Special      0   0.000000      0.0       NaN   0.000000   NaN   \n",
       "8              Missing      0   0.000000      0.0       NaN   0.000000   NaN   \n",
       "Totals                    506   1.000000  11401.6            22.532806   5.0   \n",
       "\n",
       "         Max  Zeros count        WoE        IV  \n",
       "0       50.0            0   9.117987  1.135243  \n",
       "1       50.0            0   5.804036  0.653814  \n",
       "2       50.0            0   3.583860  0.467460  \n",
       "3       35.2            0  -0.210226  0.012879  \n",
       "4       28.7            0  -2.077806  0.410634  \n",
       "5       50.0            0  -6.129018  1.598874  \n",
       "6       50.0            0  -2.078420  0.234130  \n",
       "7        NaN            0 -22.532806  0.000000  \n",
       "8        NaN            0 -22.532806  0.000000  \n",
       "Totals  50.0            0             4.513036  "
      ]
     },
     "execution_count": 19,
     "metadata": {},
     "output_type": "execute_result"
    }
   ],
   "source": [
    "binning_table = optb.binning_table\n",
    "binning_table.build()"
   ]
  },
  {
   "cell_type": "code",
   "execution_count": 20,
   "metadata": {},
   "outputs": [
    {
     "data": {
      "image/png": "[encoded data removed]",
      "text/plain": [
       "<Figure size 432x288 with 2 Axes>"
      ]
     },
     "metadata": {
      "needs_background": "light"
     },
     "output_type": "display_data"
    }
   ],
   "source": [
    "binning_table.plot()"
   ]
  },
  {
   "cell_type": "code",
   "execution_count": 21,
   "metadata": {},
   "outputs": [
    {
     "name": "stdout",
     "output_type": "stream",
     "text": [
      "-------------------------------------------------\n",
      "OptimalBinning: Continuous Binning Table Analysis\n",
      "-------------------------------------------------\n",
      "\n",
      "  General metrics\n",
      "\n",
      "    IV                       4.51303567\n",
      "    HHI                      0.16875752\n",
      "    HHI (normalized)         0.06485221\n",
      "    Quality score            0.74831364\n",
      "\n",
      "  Monotonic trend                valley\n",
      "\n",
      "  Significance tests\n",
      "\n",
      "    Bin A  Bin B  t-statistic  p-value\n",
      "        0      1     2.180865 0.031181\n",
      "        1      2     1.537968 0.126745\n",
      "        2      3     2.976660 0.003739\n",
      "        3      4     2.075258 0.044180\n",
      "        4      5     4.934158 0.000002\n",
      "        5      6    -2.770230 0.006721\n",
      "\n"
     ]
    }
   ],
   "source": [
    "binning_table.analysis()"
   ]
  },
  {
   "cell_type": "markdown",
   "metadata": {},
   "source": [
    "A smoother curve, keeping the valley monotonicity, can be achieved by using ``monotonic_trend=\"convex\"``."
   ]
  },
  {
   "cell_type": "code",
   "execution_count": 22,
   "metadata": {},
   "outputs": [
    {
     "data": {
      "text/plain": [
       "ContinuousOptimalBinning(monotonic_trend='convex', name='INDUS')"
      ]
     },
     "execution_count": 22,
     "metadata": {},
     "output_type": "execute_result"
    }
   ],
   "source": [
    "optb = ContinuousOptimalBinning(name=variable, dtype=\"numerical\",\n",
    "                                monotonic_trend=\"convex\")\n",
    "optb.fit(x, y)"
   ]
  },
  {
   "cell_type": "code",
   "execution_count": 23,
   "metadata": {},
   "outputs": [
    {
     "data": {
      "text/html": [
       "<div>\n",
       "<style scoped>\n",
       "    .dataframe tbody tr th:only-of-type {\n",
       "        vertical-align: middle;\n",
       "    }\n",
       "\n",
       "    .dataframe tbody tr th {\n",
       "        vertical-align: top;\n",
       "    }\n",
       "\n",
       "    .dataframe thead th {\n",
       "        text-align: right;\n",
       "    }\n",
       "</style>\n",
       "<table border=\"1\" class=\"dataframe\">\n",
       "  <thead>\n",
       "    <tr style=\"text-align: right;\">\n",
       "      <th></th>\n",
       "      <th>Bin</th>\n",
       "      <th>Count</th>\n",
       "      <th>Count (%)</th>\n",
       "      <th>Sum</th>\n",
       "      <th>Std</th>\n",
       "      <th>Mean</th>\n",
       "      <th>Min</th>\n",
       "      <th>Max</th>\n",
       "      <th>Zeros count</th>\n",
       "      <th>WoE</th>\n",
       "      <th>IV</th>\n",
       "    </tr>\n",
       "  </thead>\n",
       "  <tbody>\n",
       "    <tr>\n",
       "      <th>0</th>\n",
       "      <td>(-inf, 3.99)</td>\n",
       "      <td>92</td>\n",
       "      <td>0.181818</td>\n",
       "      <td>2932.6</td>\n",
       "      <td>8.688703</td>\n",
       "      <td>31.876087</td>\n",
       "      <td>16.5</td>\n",
       "      <td>50.0</td>\n",
       "      <td>0</td>\n",
       "      <td>9.343281</td>\n",
       "      <td>1.698778</td>\n",
       "    </tr>\n",
       "    <tr>\n",
       "      <th>1</th>\n",
       "      <td>[3.99, 5.04)</td>\n",
       "      <td>28</td>\n",
       "      <td>0.055336</td>\n",
       "      <td>676.6</td>\n",
       "      <td>4.000198</td>\n",
       "      <td>24.164286</td>\n",
       "      <td>17.2</td>\n",
       "      <td>37.3</td>\n",
       "      <td>0</td>\n",
       "      <td>1.631479</td>\n",
       "      <td>0.090279</td>\n",
       "    </tr>\n",
       "    <tr>\n",
       "      <th>2</th>\n",
       "      <td>[5.04, 6.08)</td>\n",
       "      <td>40</td>\n",
       "      <td>0.079051</td>\n",
       "      <td>878.6</td>\n",
       "      <td>4.405028</td>\n",
       "      <td>21.965000</td>\n",
       "      <td>16.0</td>\n",
       "      <td>42.8</td>\n",
       "      <td>0</td>\n",
       "      <td>-0.567806</td>\n",
       "      <td>0.044886</td>\n",
       "    </tr>\n",
       "    <tr>\n",
       "      <th>3</th>\n",
       "      <td>[6.08, 18.84)</td>\n",
       "      <td>289</td>\n",
       "      <td>0.571146</td>\n",
       "      <td>5747.9</td>\n",
       "      <td>8.107544</td>\n",
       "      <td>19.888927</td>\n",
       "      <td>5.0</td>\n",
       "      <td>50.0</td>\n",
       "      <td>0</td>\n",
       "      <td>-2.643879</td>\n",
       "      <td>1.510042</td>\n",
       "    </tr>\n",
       "    <tr>\n",
       "      <th>4</th>\n",
       "      <td>[18.84, inf)</td>\n",
       "      <td>57</td>\n",
       "      <td>0.112648</td>\n",
       "      <td>1165.9</td>\n",
       "      <td>9.519086</td>\n",
       "      <td>20.454386</td>\n",
       "      <td>7.0</td>\n",
       "      <td>50.0</td>\n",
       "      <td>0</td>\n",
       "      <td>-2.078420</td>\n",
       "      <td>0.234130</td>\n",
       "    </tr>\n",
       "    <tr>\n",
       "      <th>5</th>\n",
       "      <td>Special</td>\n",
       "      <td>0</td>\n",
       "      <td>0.000000</td>\n",
       "      <td>0.0</td>\n",
       "      <td>NaN</td>\n",
       "      <td>0.000000</td>\n",
       "      <td>NaN</td>\n",
       "      <td>NaN</td>\n",
       "      <td>0</td>\n",
       "      <td>-22.532806</td>\n",
       "      <td>0.000000</td>\n",
       "    </tr>\n",
       "    <tr>\n",
       "      <th>6</th>\n",
       "      <td>Missing</td>\n",
       "      <td>0</td>\n",
       "      <td>0.000000</td>\n",
       "      <td>0.0</td>\n",
       "      <td>NaN</td>\n",
       "      <td>0.000000</td>\n",
       "      <td>NaN</td>\n",
       "      <td>NaN</td>\n",
       "      <td>0</td>\n",
       "      <td>-22.532806</td>\n",
       "      <td>0.000000</td>\n",
       "    </tr>\n",
       "    <tr>\n",
       "      <th>Totals</th>\n",
       "      <td></td>\n",
       "      <td>506</td>\n",
       "      <td>1.000000</td>\n",
       "      <td>11401.6</td>\n",
       "      <td></td>\n",
       "      <td>22.532806</td>\n",
       "      <td>5.0</td>\n",
       "      <td>50.0</td>\n",
       "      <td>0</td>\n",
       "      <td></td>\n",
       "      <td>3.578116</td>\n",
       "    </tr>\n",
       "  </tbody>\n",
       "</table>\n",
       "</div>"
      ],
      "text/plain": [
       "                  Bin  Count  Count (%)      Sum       Std       Mean   Min  \\\n",
       "0        (-inf, 3.99)     92   0.181818   2932.6  8.688703  31.876087  16.5   \n",
       "1        [3.99, 5.04)     28   0.055336    676.6  4.000198  24.164286  17.2   \n",
       "2        [5.04, 6.08)     40   0.079051    878.6  4.405028  21.965000  16.0   \n",
       "3       [6.08, 18.84)    289   0.571146   5747.9  8.107544  19.888927   5.0   \n",
       "4        [18.84, inf)     57   0.112648   1165.9  9.519086  20.454386   7.0   \n",
       "5             Special      0   0.000000      0.0       NaN   0.000000   NaN   \n",
       "6             Missing      0   0.000000      0.0       NaN   0.000000   NaN   \n",
       "Totals                   506   1.000000  11401.6            22.532806   5.0   \n",
       "\n",
       "         Max  Zeros count        WoE        IV  \n",
       "0       50.0            0   9.343281  1.698778  \n",
       "1       37.3            0   1.631479  0.090279  \n",
       "2       42.8            0  -0.567806  0.044886  \n",
       "3       50.0            0  -2.643879  1.510042  \n",
       "4       50.0            0  -2.078420  0.234130  \n",
       "5        NaN            0 -22.532806  0.000000  \n",
       "6        NaN            0 -22.532806  0.000000  \n",
       "Totals  50.0            0             3.578116  "
      ]
     },
     "execution_count": 23,
     "metadata": {},
     "output_type": "execute_result"
    }
   ],
   "source": [
    "binning_table = optb.binning_table\n",
    "binning_table.build()"
   ]
  },
  {
   "cell_type": "code",
   "execution_count": 24,
   "metadata": {},
   "outputs": [
    {
     "data": {
      "image/png": "[encoded data removed]",
      "text/plain": [
       "<Figure size 432x288 with 2 Axes>"
      ]
     },
     "metadata": {
      "needs_background": "light"
     },
     "output_type": "display_data"
    }
   ],
   "source": [
    "binning_table.plot()"
   ]
  },
  {
   "cell_type": "code",
   "execution_count": 25,
   "metadata": {},
   "outputs": [
    {
     "name": "stdout",
     "output_type": "stream",
     "text": [
      "-------------------------------------------------\n",
      "OptimalBinning: Continuous Binning Table Analysis\n",
      "-------------------------------------------------\n",
      "\n",
      "  General metrics\n",
      "\n",
      "    IV                       3.57811558\n",
      "    HHI                      0.38126670\n",
      "    HHI (normalized)         0.27814448\n",
      "    Quality score            0.22169448\n",
      "\n",
      "  Monotonic trend       valley (convex)\n",
      "\n",
      "  Significance tests\n",
      "\n",
      "    Bin A  Bin B  t-statistic      p-value\n",
      "        0      1     6.536206 2.732420e-09\n",
      "        1      2     2.139577 3.636038e-02\n",
      "        2      3     2.459425 1.602640e-02\n",
      "        3      4    -0.419474 6.761033e-01\n",
      "\n"
     ]
    }
   ],
   "source": [
    "binning_table.analysis()"
   ]
  },
  {
   "cell_type": "markdown",
   "metadata": {},
   "source": [
    "For example, we can force the variable INDUS (proportion of non-retail business acres per town) to be monotonically descending with respect to the house-price."
   ]
  },
  {
   "cell_type": "code",
   "execution_count": 26,
   "metadata": {},
   "outputs": [
    {
     "data": {
      "text/plain": [
       "ContinuousOptimalBinning(monotonic_trend='descending', name='INDUS')"
      ]
     },
     "execution_count": 26,
     "metadata": {},
     "output_type": "execute_result"
    }
   ],
   "source": [
    "optb = ContinuousOptimalBinning(name=variable, dtype=\"numerical\",\n",
    "                                monotonic_trend=\"descending\")\n",
    "optb.fit(x, y)"
   ]
  },
  {
   "cell_type": "code",
   "execution_count": 27,
   "metadata": {},
   "outputs": [
    {
     "data": {
      "text/html": [
       "<div>\n",
       "<style scoped>\n",
       "    .dataframe tbody tr th:only-of-type {\n",
       "        vertical-align: middle;\n",
       "    }\n",
       "\n",
       "    .dataframe tbody tr th {\n",
       "        vertical-align: top;\n",
       "    }\n",
       "\n",
       "    .dataframe thead th {\n",
       "        text-align: right;\n",
       "    }\n",
       "</style>\n",
       "<table border=\"1\" class=\"dataframe\">\n",
       "  <thead>\n",
       "    <tr style=\"text-align: right;\">\n",
       "      <th></th>\n",
       "      <th>Bin</th>\n",
       "      <th>Count</th>\n",
       "      <th>Count (%)</th>\n",
       "      <th>Sum</th>\n",
       "      <th>Std</th>\n",
       "      <th>Mean</th>\n",
       "      <th>Min</th>\n",
       "      <th>Max</th>\n",
       "      <th>Zeros count</th>\n",
       "      <th>WoE</th>\n",
       "      <th>IV</th>\n",
       "    </tr>\n",
       "  </thead>\n",
       "  <tbody>\n",
       "    <tr>\n",
       "      <th>0</th>\n",
       "      <td>(-inf, 3.35)</td>\n",
       "      <td>63</td>\n",
       "      <td>0.124506</td>\n",
       "      <td>1994.0</td>\n",
       "      <td>8.569841</td>\n",
       "      <td>31.650794</td>\n",
       "      <td>16.5</td>\n",
       "      <td>50.0</td>\n",
       "      <td>0</td>\n",
       "      <td>9.117987</td>\n",
       "      <td>1.135243</td>\n",
       "    </tr>\n",
       "    <tr>\n",
       "      <th>1</th>\n",
       "      <td>[3.35, 5.04)</td>\n",
       "      <td>57</td>\n",
       "      <td>0.112648</td>\n",
       "      <td>1615.2</td>\n",
       "      <td>8.072710</td>\n",
       "      <td>28.336842</td>\n",
       "      <td>17.2</td>\n",
       "      <td>50.0</td>\n",
       "      <td>0</td>\n",
       "      <td>5.804036</td>\n",
       "      <td>0.653814</td>\n",
       "    </tr>\n",
       "    <tr>\n",
       "      <th>2</th>\n",
       "      <td>[5.04, 6.66)</td>\n",
       "      <td>66</td>\n",
       "      <td>0.130435</td>\n",
       "      <td>1723.7</td>\n",
       "      <td>7.879078</td>\n",
       "      <td>26.116667</td>\n",
       "      <td>16.0</td>\n",
       "      <td>50.0</td>\n",
       "      <td>0</td>\n",
       "      <td>3.583860</td>\n",
       "      <td>0.467460</td>\n",
       "    </tr>\n",
       "    <tr>\n",
       "      <th>3</th>\n",
       "      <td>[6.66, 8.01)</td>\n",
       "      <td>31</td>\n",
       "      <td>0.061265</td>\n",
       "      <td>692.0</td>\n",
       "      <td>4.604886</td>\n",
       "      <td>22.322581</td>\n",
       "      <td>14.4</td>\n",
       "      <td>35.2</td>\n",
       "      <td>0</td>\n",
       "      <td>-0.210226</td>\n",
       "      <td>0.012879</td>\n",
       "    </tr>\n",
       "    <tr>\n",
       "      <th>4</th>\n",
       "      <td>[8.01, 16.57)</td>\n",
       "      <td>100</td>\n",
       "      <td>0.197628</td>\n",
       "      <td>2045.5</td>\n",
       "      <td>3.547348</td>\n",
       "      <td>20.455000</td>\n",
       "      <td>11.9</td>\n",
       "      <td>28.7</td>\n",
       "      <td>0</td>\n",
       "      <td>-2.077806</td>\n",
       "      <td>0.410634</td>\n",
       "    </tr>\n",
       "    <tr>\n",
       "      <th>5</th>\n",
       "      <td>[16.57, 20.73)</td>\n",
       "      <td>162</td>\n",
       "      <td>0.320158</td>\n",
       "      <td>2874.8</td>\n",
       "      <td>9.618450</td>\n",
       "      <td>17.745679</td>\n",
       "      <td>5.0</td>\n",
       "      <td>50.0</td>\n",
       "      <td>0</td>\n",
       "      <td>-4.787127</td>\n",
       "      <td>1.532638</td>\n",
       "    </tr>\n",
       "    <tr>\n",
       "      <th>6</th>\n",
       "      <td>[20.73, inf)</td>\n",
       "      <td>27</td>\n",
       "      <td>0.053360</td>\n",
       "      <td>456.4</td>\n",
       "      <td>3.690878</td>\n",
       "      <td>16.903704</td>\n",
       "      <td>7.0</td>\n",
       "      <td>23.0</td>\n",
       "      <td>0</td>\n",
       "      <td>-5.629103</td>\n",
       "      <td>0.300367</td>\n",
       "    </tr>\n",
       "    <tr>\n",
       "      <th>7</th>\n",
       "      <td>Special</td>\n",
       "      <td>0</td>\n",
       "      <td>0.000000</td>\n",
       "      <td>0.0</td>\n",
       "      <td>NaN</td>\n",
       "      <td>0.000000</td>\n",
       "      <td>NaN</td>\n",
       "      <td>NaN</td>\n",
       "      <td>0</td>\n",
       "      <td>-22.532806</td>\n",
       "      <td>0.000000</td>\n",
       "    </tr>\n",
       "    <tr>\n",
       "      <th>8</th>\n",
       "      <td>Missing</td>\n",
       "      <td>0</td>\n",
       "      <td>0.000000</td>\n",
       "      <td>0.0</td>\n",
       "      <td>NaN</td>\n",
       "      <td>0.000000</td>\n",
       "      <td>NaN</td>\n",
       "      <td>NaN</td>\n",
       "      <td>0</td>\n",
       "      <td>-22.532806</td>\n",
       "      <td>0.000000</td>\n",
       "    </tr>\n",
       "    <tr>\n",
       "      <th>Totals</th>\n",
       "      <td></td>\n",
       "      <td>506</td>\n",
       "      <td>1.000000</td>\n",
       "      <td>11401.6</td>\n",
       "      <td></td>\n",
       "      <td>22.532806</td>\n",
       "      <td>5.0</td>\n",
       "      <td>50.0</td>\n",
       "      <td>0</td>\n",
       "      <td></td>\n",
       "      <td>4.513036</td>\n",
       "    </tr>\n",
       "  </tbody>\n",
       "</table>\n",
       "</div>"
      ],
      "text/plain": [
       "                   Bin  Count  Count (%)      Sum       Std       Mean   Min  \\\n",
       "0         (-inf, 3.35)     63   0.124506   1994.0  8.569841  31.650794  16.5   \n",
       "1         [3.35, 5.04)     57   0.112648   1615.2  8.072710  28.336842  17.2   \n",
       "2         [5.04, 6.66)     66   0.130435   1723.7  7.879078  26.116667  16.0   \n",
       "3         [6.66, 8.01)     31   0.061265    692.0  4.604886  22.322581  14.4   \n",
       "4        [8.01, 16.57)    100   0.197628   2045.5  3.547348  20.455000  11.9   \n",
       "5       [16.57, 20.73)    162   0.320158   2874.8  9.618450  17.745679   5.0   \n",
       "6         [20.73, inf)     27   0.053360    456.4  3.690878  16.903704   7.0   \n",
       "7              Special      0   0.000000      0.0       NaN   0.000000   NaN   \n",
       "8              Missing      0   0.000000      0.0       NaN   0.000000   NaN   \n",
       "Totals                    506   1.000000  11401.6            22.532806   5.0   \n",
       "\n",
       "         Max  Zeros count        WoE        IV  \n",
       "0       50.0            0   9.117987  1.135243  \n",
       "1       50.0            0   5.804036  0.653814  \n",
       "2       50.0            0   3.583860  0.467460  \n",
       "3       35.2            0  -0.210226  0.012879  \n",
       "4       28.7            0  -2.077806  0.410634  \n",
       "5       50.0            0  -4.787127  1.532638  \n",
       "6       23.0            0  -5.629103  0.300367  \n",
       "7        NaN            0 -22.532806  0.000000  \n",
       "8        NaN            0 -22.532806  0.000000  \n",
       "Totals  50.0            0             4.513036  "
      ]
     },
     "execution_count": 27,
     "metadata": {},
     "output_type": "execute_result"
    }
   ],
   "source": [
    "binning_table = optb.binning_table\n",
    "binning_table.build()"
   ]
  },
  {
   "cell_type": "code",
   "execution_count": 28,
   "metadata": {
    "scrolled": true
   },
   "outputs": [
    {
     "data": {
      "image/png": "[encoded data removed]",
      "text/plain": [
       "<Figure size 432x288 with 2 Axes>"
      ]
     },
     "metadata": {
      "needs_background": "light"
     },
     "output_type": "display_data"
    }
   ],
   "source": [
    "binning_table.plot()"
   ]
  },
  {
   "cell_type": "code",
   "execution_count": 29,
   "metadata": {},
   "outputs": [
    {
     "name": "stdout",
     "output_type": "stream",
     "text": [
      "-------------------------------------------------\n",
      "OptimalBinning: Continuous Binning Table Analysis\n",
      "-------------------------------------------------\n",
      "\n",
      "  General metrics\n",
      "\n",
      "    IV                       4.51303567\n",
      "    HHI                      0.19336343\n",
      "    HHI (normalized)         0.09253386\n",
      "    Quality score            0.42428843\n",
      "\n",
      "  Monotonic trend            descending\n",
      "\n",
      "  Significance tests\n",
      "\n",
      "    Bin A  Bin B  t-statistic  p-value\n",
      "        0      1     2.180865 0.031181\n",
      "        1      2     1.537968 0.126745\n",
      "        2      3     2.976660 0.003739\n",
      "        3      4     2.075258 0.044180\n",
      "        4      5     3.245419 0.001354\n",
      "        5      6     0.811840 0.418853\n",
      "\n"
     ]
    }
   ],
   "source": [
    "binning_table.analysis()"
   ]
  },
  {
   "cell_type": "markdown",
   "metadata": {},
   "source": [
    "#### Mininum mean difference between consecutive bins"
   ]
  },
  {
   "cell_type": "markdown",
   "metadata": {},
   "source": [
    "Now, we note that the mean difference between consecutive bins is not significant enough. Therefore, we decide to set ``min_mean_diff=2.0``:"
   ]
  },
  {
   "cell_type": "code",
   "execution_count": 30,
   "metadata": {},
   "outputs": [
    {
     "data": {
      "text/plain": [
       "ContinuousOptimalBinning(min_mean_diff=2.0, monotonic_trend='descending',\n",
       "                         name='INDUS')"
      ]
     },
     "execution_count": 30,
     "metadata": {},
     "output_type": "execute_result"
    }
   ],
   "source": [
    "optb = ContinuousOptimalBinning(name=variable, dtype=\"numerical\",\n",
    "                                monotonic_trend=\"descending\", min_mean_diff=2.0)\n",
    "optb.fit(x, y)"
   ]
  },
  {
   "cell_type": "code",
   "execution_count": 31,
   "metadata": {},
   "outputs": [
    {
     "data": {
      "text/html": [
       "<div>\n",
       "<style scoped>\n",
       "    .dataframe tbody tr th:only-of-type {\n",
       "        vertical-align: middle;\n",
       "    }\n",
       "\n",
       "    .dataframe tbody tr th {\n",
       "        vertical-align: top;\n",
       "    }\n",
       "\n",
       "    .dataframe thead th {\n",
       "        text-align: right;\n",
       "    }\n",
       "</style>\n",
       "<table border=\"1\" class=\"dataframe\">\n",
       "  <thead>\n",
       "    <tr style=\"text-align: right;\">\n",
       "      <th></th>\n",
       "      <th>Bin</th>\n",
       "      <th>Count</th>\n",
       "      <th>Count (%)</th>\n",
       "      <th>Sum</th>\n",
       "      <th>Std</th>\n",
       "      <th>Mean</th>\n",
       "      <th>Min</th>\n",
       "      <th>Max</th>\n",
       "      <th>Zeros count</th>\n",
       "      <th>WoE</th>\n",
       "      <th>IV</th>\n",
       "    </tr>\n",
       "  </thead>\n",
       "  <tbody>\n",
       "    <tr>\n",
       "      <th>0</th>\n",
       "      <td>(-inf, 3.35)</td>\n",
       "      <td>63</td>\n",
       "      <td>0.124506</td>\n",
       "      <td>1994.0</td>\n",
       "      <td>8.569841</td>\n",
       "      <td>31.650794</td>\n",
       "      <td>16.5</td>\n",
       "      <td>50.0</td>\n",
       "      <td>0</td>\n",
       "      <td>9.117987</td>\n",
       "      <td>1.135243</td>\n",
       "    </tr>\n",
       "    <tr>\n",
       "      <th>1</th>\n",
       "      <td>[3.35, 5.04)</td>\n",
       "      <td>57</td>\n",
       "      <td>0.112648</td>\n",
       "      <td>1615.2</td>\n",
       "      <td>8.072710</td>\n",
       "      <td>28.336842</td>\n",
       "      <td>17.2</td>\n",
       "      <td>50.0</td>\n",
       "      <td>0</td>\n",
       "      <td>5.804036</td>\n",
       "      <td>0.653814</td>\n",
       "    </tr>\n",
       "    <tr>\n",
       "      <th>2</th>\n",
       "      <td>[5.04, 6.66)</td>\n",
       "      <td>66</td>\n",
       "      <td>0.130435</td>\n",
       "      <td>1723.7</td>\n",
       "      <td>7.879078</td>\n",
       "      <td>26.116667</td>\n",
       "      <td>16.0</td>\n",
       "      <td>50.0</td>\n",
       "      <td>0</td>\n",
       "      <td>3.583860</td>\n",
       "      <td>0.467460</td>\n",
       "    </tr>\n",
       "    <tr>\n",
       "      <th>3</th>\n",
       "      <td>[6.66, 16.57)</td>\n",
       "      <td>131</td>\n",
       "      <td>0.258893</td>\n",
       "      <td>2737.5</td>\n",
       "      <td>3.905622</td>\n",
       "      <td>20.896947</td>\n",
       "      <td>11.9</td>\n",
       "      <td>35.2</td>\n",
       "      <td>0</td>\n",
       "      <td>-1.635860</td>\n",
       "      <td>0.423513</td>\n",
       "    </tr>\n",
       "    <tr>\n",
       "      <th>4</th>\n",
       "      <td>[16.57, inf)</td>\n",
       "      <td>189</td>\n",
       "      <td>0.373518</td>\n",
       "      <td>3331.2</td>\n",
       "      <td>9.018376</td>\n",
       "      <td>17.625397</td>\n",
       "      <td>5.0</td>\n",
       "      <td>50.0</td>\n",
       "      <td>0</td>\n",
       "      <td>-4.907409</td>\n",
       "      <td>1.833005</td>\n",
       "    </tr>\n",
       "    <tr>\n",
       "      <th>5</th>\n",
       "      <td>Special</td>\n",
       "      <td>0</td>\n",
       "      <td>0.000000</td>\n",
       "      <td>0.0</td>\n",
       "      <td>NaN</td>\n",
       "      <td>0.000000</td>\n",
       "      <td>NaN</td>\n",
       "      <td>NaN</td>\n",
       "      <td>0</td>\n",
       "      <td>-22.532806</td>\n",
       "      <td>0.000000</td>\n",
       "    </tr>\n",
       "    <tr>\n",
       "      <th>6</th>\n",
       "      <td>Missing</td>\n",
       "      <td>0</td>\n",
       "      <td>0.000000</td>\n",
       "      <td>0.0</td>\n",
       "      <td>NaN</td>\n",
       "      <td>0.000000</td>\n",
       "      <td>NaN</td>\n",
       "      <td>NaN</td>\n",
       "      <td>0</td>\n",
       "      <td>-22.532806</td>\n",
       "      <td>0.000000</td>\n",
       "    </tr>\n",
       "    <tr>\n",
       "      <th>Totals</th>\n",
       "      <td></td>\n",
       "      <td>506</td>\n",
       "      <td>1.000000</td>\n",
       "      <td>11401.6</td>\n",
       "      <td></td>\n",
       "      <td>22.532806</td>\n",
       "      <td>5.0</td>\n",
       "      <td>50.0</td>\n",
       "      <td>0</td>\n",
       "      <td></td>\n",
       "      <td>4.513036</td>\n",
       "    </tr>\n",
       "  </tbody>\n",
       "</table>\n",
       "</div>"
      ],
      "text/plain": [
       "                  Bin  Count  Count (%)      Sum       Std       Mean   Min  \\\n",
       "0        (-inf, 3.35)     63   0.124506   1994.0  8.569841  31.650794  16.5   \n",
       "1        [3.35, 5.04)     57   0.112648   1615.2  8.072710  28.336842  17.2   \n",
       "2        [5.04, 6.66)     66   0.130435   1723.7  7.879078  26.116667  16.0   \n",
       "3       [6.66, 16.57)    131   0.258893   2737.5  3.905622  20.896947  11.9   \n",
       "4        [16.57, inf)    189   0.373518   3331.2  9.018376  17.625397   5.0   \n",
       "5             Special      0   0.000000      0.0       NaN   0.000000   NaN   \n",
       "6             Missing      0   0.000000      0.0       NaN   0.000000   NaN   \n",
       "Totals                   506   1.000000  11401.6            22.532806   5.0   \n",
       "\n",
       "         Max  Zeros count        WoE        IV  \n",
       "0       50.0            0   9.117987  1.135243  \n",
       "1       50.0            0   5.804036  0.653814  \n",
       "2       50.0            0   3.583860  0.467460  \n",
       "3       35.2            0  -1.635860  0.423513  \n",
       "4       50.0            0  -4.907409  1.833005  \n",
       "5        NaN            0 -22.532806  0.000000  \n",
       "6        NaN            0 -22.532806  0.000000  \n",
       "Totals  50.0            0             4.513036  "
      ]
     },
     "execution_count": 31,
     "metadata": {},
     "output_type": "execute_result"
    }
   ],
   "source": [
    "binning_table = optb.binning_table\n",
    "binning_table.build()"
   ]
  },
  {
   "cell_type": "code",
   "execution_count": 32,
   "metadata": {},
   "outputs": [
    {
     "data": {
      "image/png": "[encoded data removed]",
      "text/plain": [
       "<Figure size 432x288 with 2 Axes>"
      ]
     },
     "metadata": {
      "needs_background": "light"
     },
     "output_type": "display_data"
    }
   ],
   "source": [
    "binning_table.plot()"
   ]
  },
  {
   "cell_type": "code",
   "execution_count": 33,
   "metadata": {},
   "outputs": [
    {
     "name": "stdout",
     "output_type": "stream",
     "text": [
      "-------------------------------------------------\n",
      "OptimalBinning: Continuous Binning Table Analysis\n",
      "-------------------------------------------------\n",
      "\n",
      "  General metrics\n",
      "\n",
      "    IV                       4.51303567\n",
      "    HHI                      0.25174585\n",
      "    HHI (normalized)         0.12703682\n",
      "    Quality score            0.73853806\n",
      "\n",
      "  Monotonic trend            descending\n",
      "\n",
      "  Significance tests\n",
      "\n",
      "    Bin A  Bin B  t-statistic  p-value\n",
      "        0      1     2.180865 0.031181\n",
      "        1      2     1.537968 0.126745\n",
      "        2      3     5.076919 0.000002\n",
      "        3      4     4.424387 0.000014\n",
      "\n"
     ]
    }
   ],
   "source": [
    "binning_table.analysis()"
   ]
  }
 ],
 "metadata": {
  "kernelspec": {
   "display_name": "Python 3",
   "language": "python",
   "name": "python3"
  },
  "language_info": {
   "codemirror_mode": {
    "name": "ipython",
    "version": 3
   },
   "file_extension": ".py",
   "mimetype": "text/x-python",
   "name": "python",
   "nbconvert_exporter": "python",
   "pygments_lexer": "ipython3",
   "version": "3.7.4"
  }
 },
 "nbformat": 4,
 "nbformat_minor": 2
}
