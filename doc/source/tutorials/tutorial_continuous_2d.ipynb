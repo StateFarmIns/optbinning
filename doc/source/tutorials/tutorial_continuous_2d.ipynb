{
 "cells": [
  {
   "cell_type": "markdown",
   "metadata": {},
   "source": [
    "# Tutorial: optimal binning 2D with continuous target"
   ]
  },
  {
   "cell_type": "markdown",
   "metadata": {},
   "source": [
    "To get us started, let's load a well-known dataset from the UCI repository and transform the data into a ``pandas.DataFrame``."
   ]
  },
  {
   "cell_type": "code",
   "execution_count": 1,
   "metadata": {},
   "outputs": [],
   "source": [
    "import pandas as pd\n",
    "from sklearn.datasets import load_boston"
   ]
  },
  {
   "cell_type": "code",
   "execution_count": 2,
   "metadata": {},
   "outputs": [],
   "source": [
    "data = load_boston()\n",
    "df = pd.DataFrame(data.data, columns=data.feature_names)"
   ]
  },
  {
   "cell_type": "markdown",
   "metadata": {},
   "source": [
    "We choose two variables to discretize and the continuous target."
   ]
  },
  {
   "cell_type": "code",
   "execution_count": 3,
   "metadata": {},
   "outputs": [],
   "source": [
    "variable1 = \"AGE\"\n",
    "variable2 = \"INDUS\"\n",
    "\n",
    "x = df[variable1].values\n",
    "y = df[variable2].values\n",
    "z = data.target"
   ]
  },
  {
   "cell_type": "markdown",
   "metadata": {},
   "source": [
    "Import and instantiate an ``ContinuousOptimalBinning2D`` object class. We pass the variable names (coordinates x and y), and a solver, in this case, we choose the constraint programming solver."
   ]
  },
  {
   "cell_type": "code",
   "execution_count": 4,
   "metadata": {},
   "outputs": [],
   "source": [
    "from optbinning import ContinuousOptimalBinning2D"
   ]
  },
  {
   "cell_type": "code",
   "execution_count": 5,
   "metadata": {},
   "outputs": [],
   "source": [
    "optb = ContinuousOptimalBinning2D(name_x=variable1, name_y=variable2, solver=\"cp\")"
   ]
  },
  {
   "cell_type": "markdown",
   "metadata": {},
   "source": [
    "We fit the optimal binning object with arrays ``x``, ``y``, and ``z``."
   ]
  },
  {
   "cell_type": "code",
   "execution_count": 6,
   "metadata": {},
   "outputs": [
    {
     "data": {
      "text/plain": [
       "ContinuousOptimalBinning2D(name_x='AGE', name_y='INDUS')"
      ]
     },
     "execution_count": 6,
     "metadata": {},
     "output_type": "execute_result"
    }
   ],
   "source": [
    "optb.fit(x, y, z)"
   ]
  },
  {
   "cell_type": "markdown",
   "metadata": {},
   "source": [
    "Similar to other OptBinning classes, you can inspect the attributes ``status`` and ``splits``. In this case, the splits shown are actually the bins, but the ``splits`` name is used to maintain API homogeneity."
   ]
  },
  {
   "cell_type": "code",
   "execution_count": 7,
   "metadata": {},
   "outputs": [
    {
     "data": {
      "text/plain": [
       "'OPTIMAL'"
      ]
     },
     "execution_count": 7,
     "metadata": {},
     "output_type": "execute_result"
    }
   ],
   "source": [
    "optb.status"
   ]
  },
  {
   "cell_type": "code",
   "execution_count": 8,
   "metadata": {},
   "outputs": [
    {
     "data": {
      "text/plain": [
       "([[-inf, 37.25],\n",
       "  [37.25, 76.25],\n",
       "  [76.25, 92.29999923706055],\n",
       "  [92.29999923706055, 98.25],\n",
       "  [98.25, inf],\n",
       "  [-inf, 37.25],\n",
       "  [37.25, 76.25],\n",
       "  [76.25, 92.29999923706055],\n",
       "  [92.29999923706055, 98.25],\n",
       "  [-inf, 37.25],\n",
       "  [37.25, 76.25],\n",
       "  [76.25, 98.25],\n",
       "  [98.25, inf],\n",
       "  [-inf, 37.25],\n",
       "  [37.25, 76.25],\n",
       "  [76.25, 92.29999923706055],\n",
       "  [92.29999923706055, 98.25],\n",
       "  [37.25, 76.25],\n",
       "  [76.25, 92.29999923706055],\n",
       "  [92.29999923706055, 98.25],\n",
       "  [98.25, inf]],\n",
       " [[-inf, 3.9850000143051147],\n",
       "  [-inf, 3.9850000143051147],\n",
       "  [-inf, 3.9850000143051147],\n",
       "  [-inf, 3.9850000143051147],\n",
       "  [-inf, 6.080000162124634],\n",
       "  [3.9850000143051147, 6.080000162124634],\n",
       "  [3.9850000143051147, 6.080000162124634],\n",
       "  [3.9850000143051147, 6.080000162124634],\n",
       "  [3.9850000143051147, 6.080000162124634],\n",
       "  [6.080000162124634, 6.659999847412109],\n",
       "  [6.080000162124634, 6.659999847412109],\n",
       "  [6.080000162124634, 6.659999847412109],\n",
       "  [6.080000162124634, 16.570000171661377],\n",
       "  [6.659999847412109, inf],\n",
       "  [6.659999847412109, 16.570000171661377],\n",
       "  [6.659999847412109, 16.570000171661377],\n",
       "  [6.659999847412109, 16.570000171661377],\n",
       "  [16.570000171661377, inf],\n",
       "  [16.570000171661377, inf],\n",
       "  [16.570000171661377, inf],\n",
       "  [16.570000171661377, inf]])"
      ]
     },
     "execution_count": 8,
     "metadata": {},
     "output_type": "execute_result"
    }
   ],
   "source": [
    "optb.splits"
   ]
  },
  {
   "cell_type": "markdown",
   "metadata": {},
   "source": [
    "#### The binning table"
   ]
  },
  {
   "cell_type": "markdown",
   "metadata": {},
   "source": [
    "The binning table follows the same structure as the unidimensional binning, except for having two Bin columns, one for each variable (coordinate). The option ``show_bin_xy=True`` in method ``build`` combines both columns to obtain a single Bin column."
   ]
  },
  {
   "cell_type": "code",
   "execution_count": 9,
   "metadata": {},
   "outputs": [
    {
     "data": {
      "text/html": [
       "<div>\n",
       "<style scoped>\n",
       "    .dataframe tbody tr th:only-of-type {\n",
       "        vertical-align: middle;\n",
       "    }\n",
       "\n",
       "    .dataframe tbody tr th {\n",
       "        vertical-align: top;\n",
       "    }\n",
       "\n",
       "    .dataframe thead th {\n",
       "        text-align: right;\n",
       "    }\n",
       "</style>\n",
       "<table border=\"1\" class=\"dataframe\">\n",
       "  <thead>\n",
       "    <tr style=\"text-align: right;\">\n",
       "      <th></th>\n",
       "      <th>Bin x</th>\n",
       "      <th>Bin y</th>\n",
       "      <th>Count</th>\n",
       "      <th>Count (%)</th>\n",
       "      <th>Sum</th>\n",
       "      <th>Std</th>\n",
       "      <th>Mean</th>\n",
       "      <th>WoE</th>\n",
       "      <th>IV</th>\n",
       "    </tr>\n",
       "  </thead>\n",
       "  <tbody>\n",
       "    <tr>\n",
       "      <th>0</th>\n",
       "      <td>(-inf, 37.25)</td>\n",
       "      <td>(-inf, 3.99)</td>\n",
       "      <td>43</td>\n",
       "      <td>0.084980</td>\n",
       "      <td>1317.3</td>\n",
       "      <td>9.113544</td>\n",
       "      <td>30.634884</td>\n",
       "      <td>8.102077</td>\n",
       "      <td>0.688516</td>\n",
       "    </tr>\n",
       "    <tr>\n",
       "      <th>1</th>\n",
       "      <td>[37.25, 76.25)</td>\n",
       "      <td>(-inf, 3.99)</td>\n",
       "      <td>35</td>\n",
       "      <td>0.069170</td>\n",
       "      <td>1115.1</td>\n",
       "      <td>8.144242</td>\n",
       "      <td>31.860000</td>\n",
       "      <td>9.327194</td>\n",
       "      <td>0.645162</td>\n",
       "    </tr>\n",
       "    <tr>\n",
       "      <th>2</th>\n",
       "      <td>[76.25, 92.30)</td>\n",
       "      <td>(-inf, 3.99)</td>\n",
       "      <td>10</td>\n",
       "      <td>0.019763</td>\n",
       "      <td>370.6</td>\n",
       "      <td>8.343644</td>\n",
       "      <td>37.060000</td>\n",
       "      <td>14.527194</td>\n",
       "      <td>0.287099</td>\n",
       "    </tr>\n",
       "    <tr>\n",
       "      <th>3</th>\n",
       "      <td>[92.30, 98.25)</td>\n",
       "      <td>(-inf, 3.99)</td>\n",
       "      <td>2</td>\n",
       "      <td>0.003953</td>\n",
       "      <td>63.5</td>\n",
       "      <td>0.750000</td>\n",
       "      <td>31.750000</td>\n",
       "      <td>9.217194</td>\n",
       "      <td>0.036432</td>\n",
       "    </tr>\n",
       "    <tr>\n",
       "      <th>4</th>\n",
       "      <td>[98.25, inf)</td>\n",
       "      <td>(-inf, 6.08)</td>\n",
       "      <td>2</td>\n",
       "      <td>0.003953</td>\n",
       "      <td>66.1</td>\n",
       "      <td>2.950000</td>\n",
       "      <td>33.050000</td>\n",
       "      <td>10.517194</td>\n",
       "      <td>0.041570</td>\n",
       "    </tr>\n",
       "    <tr>\n",
       "      <th>5</th>\n",
       "      <td>(-inf, 37.25)</td>\n",
       "      <td>[3.99, 6.08)</td>\n",
       "      <td>27</td>\n",
       "      <td>0.053360</td>\n",
       "      <td>680.8</td>\n",
       "      <td>5.262706</td>\n",
       "      <td>25.214815</td>\n",
       "      <td>2.682008</td>\n",
       "      <td>0.143111</td>\n",
       "    </tr>\n",
       "    <tr>\n",
       "      <th>6</th>\n",
       "      <td>[37.25, 76.25)</td>\n",
       "      <td>[3.99, 6.08)</td>\n",
       "      <td>36</td>\n",
       "      <td>0.071146</td>\n",
       "      <td>773.6</td>\n",
       "      <td>2.676002</td>\n",
       "      <td>21.488889</td>\n",
       "      <td>-1.043917</td>\n",
       "      <td>0.074271</td>\n",
       "    </tr>\n",
       "    <tr>\n",
       "      <th>7</th>\n",
       "      <td>[76.25, 92.30)</td>\n",
       "      <td>[3.99, 6.08)</td>\n",
       "      <td>4</td>\n",
       "      <td>0.007905</td>\n",
       "      <td>84.8</td>\n",
       "      <td>2.388514</td>\n",
       "      <td>21.200000</td>\n",
       "      <td>-1.332806</td>\n",
       "      <td>0.010536</td>\n",
       "    </tr>\n",
       "    <tr>\n",
       "      <th>8</th>\n",
       "      <td>[92.30, 98.25)</td>\n",
       "      <td>[3.99, 6.08)</td>\n",
       "      <td>1</td>\n",
       "      <td>0.001976</td>\n",
       "      <td>16.0</td>\n",
       "      <td>0.000000</td>\n",
       "      <td>16.000000</td>\n",
       "      <td>-6.532806</td>\n",
       "      <td>0.012911</td>\n",
       "    </tr>\n",
       "    <tr>\n",
       "      <th>9</th>\n",
       "      <td>(-inf, 37.25)</td>\n",
       "      <td>[6.08, 6.66)</td>\n",
       "      <td>7</td>\n",
       "      <td>0.013834</td>\n",
       "      <td>232.3</td>\n",
       "      <td>5.962365</td>\n",
       "      <td>33.185714</td>\n",
       "      <td>10.652908</td>\n",
       "      <td>0.147372</td>\n",
       "    </tr>\n",
       "    <tr>\n",
       "      <th>10</th>\n",
       "      <td>[37.25, 76.25)</td>\n",
       "      <td>[6.08, 6.66)</td>\n",
       "      <td>9</td>\n",
       "      <td>0.017787</td>\n",
       "      <td>286.0</td>\n",
       "      <td>8.119357</td>\n",
       "      <td>31.777778</td>\n",
       "      <td>9.244971</td>\n",
       "      <td>0.164436</td>\n",
       "    </tr>\n",
       "    <tr>\n",
       "      <th>11</th>\n",
       "      <td>[76.25, 98.25)</td>\n",
       "      <td>[6.08, 6.66)</td>\n",
       "      <td>10</td>\n",
       "      <td>0.019763</td>\n",
       "      <td>326.8</td>\n",
       "      <td>8.488086</td>\n",
       "      <td>32.680000</td>\n",
       "      <td>10.147194</td>\n",
       "      <td>0.200537</td>\n",
       "    </tr>\n",
       "    <tr>\n",
       "      <th>12</th>\n",
       "      <td>[98.25, inf)</td>\n",
       "      <td>[6.08, 16.57)</td>\n",
       "      <td>4</td>\n",
       "      <td>0.007905</td>\n",
       "      <td>65.5</td>\n",
       "      <td>2.246525</td>\n",
       "      <td>16.375000</td>\n",
       "      <td>-6.157806</td>\n",
       "      <td>0.048678</td>\n",
       "    </tr>\n",
       "    <tr>\n",
       "      <th>13</th>\n",
       "      <td>(-inf, 37.25)</td>\n",
       "      <td>[6.66, inf)</td>\n",
       "      <td>23</td>\n",
       "      <td>0.045455</td>\n",
       "      <td>543.5</td>\n",
       "      <td>2.327610</td>\n",
       "      <td>23.630435</td>\n",
       "      <td>1.097628</td>\n",
       "      <td>0.049892</td>\n",
       "    </tr>\n",
       "    <tr>\n",
       "      <th>14</th>\n",
       "      <td>[37.25, 76.25)</td>\n",
       "      <td>[6.66, 16.57)</td>\n",
       "      <td>49</td>\n",
       "      <td>0.096838</td>\n",
       "      <td>1086.8</td>\n",
       "      <td>3.434815</td>\n",
       "      <td>22.179592</td>\n",
       "      <td>-0.353214</td>\n",
       "      <td>0.034205</td>\n",
       "    </tr>\n",
       "    <tr>\n",
       "      <th>15</th>\n",
       "      <td>[76.25, 92.30)</td>\n",
       "      <td>[6.66, 16.57)</td>\n",
       "      <td>40</td>\n",
       "      <td>0.079051</td>\n",
       "      <td>777.0</td>\n",
       "      <td>3.359967</td>\n",
       "      <td>19.425000</td>\n",
       "      <td>-3.107806</td>\n",
       "      <td>0.245676</td>\n",
       "    </tr>\n",
       "    <tr>\n",
       "      <th>16</th>\n",
       "      <td>[92.30, 98.25)</td>\n",
       "      <td>[6.66, 16.57)</td>\n",
       "      <td>15</td>\n",
       "      <td>0.029644</td>\n",
       "      <td>264.7</td>\n",
       "      <td>4.036478</td>\n",
       "      <td>17.646667</td>\n",
       "      <td>-4.886140</td>\n",
       "      <td>0.144846</td>\n",
       "    </tr>\n",
       "    <tr>\n",
       "      <th>17</th>\n",
       "      <td>[37.25, 76.25)</td>\n",
       "      <td>[16.57, inf)</td>\n",
       "      <td>16</td>\n",
       "      <td>0.031621</td>\n",
       "      <td>324.4</td>\n",
       "      <td>4.472765</td>\n",
       "      <td>20.275000</td>\n",
       "      <td>-2.257806</td>\n",
       "      <td>0.071393</td>\n",
       "    </tr>\n",
       "    <tr>\n",
       "      <th>18</th>\n",
       "      <td>[76.25, 92.30)</td>\n",
       "      <td>[16.57, inf)</td>\n",
       "      <td>50</td>\n",
       "      <td>0.098814</td>\n",
       "      <td>912.5</td>\n",
       "      <td>8.416228</td>\n",
       "      <td>18.250000</td>\n",
       "      <td>-4.282806</td>\n",
       "      <td>0.423202</td>\n",
       "    </tr>\n",
       "    <tr>\n",
       "      <th>19</th>\n",
       "      <td>[92.30, 98.25)</td>\n",
       "      <td>[16.57, inf)</td>\n",
       "      <td>71</td>\n",
       "      <td>0.140316</td>\n",
       "      <td>1286.2</td>\n",
       "      <td>10.093278</td>\n",
       "      <td>18.115493</td>\n",
       "      <td>-4.417313</td>\n",
       "      <td>0.619821</td>\n",
       "    </tr>\n",
       "    <tr>\n",
       "      <th>20</th>\n",
       "      <td>[98.25, inf)</td>\n",
       "      <td>[16.57, inf)</td>\n",
       "      <td>52</td>\n",
       "      <td>0.102767</td>\n",
       "      <td>808.1</td>\n",
       "      <td>8.662280</td>\n",
       "      <td>15.540385</td>\n",
       "      <td>-6.992422</td>\n",
       "      <td>0.718589</td>\n",
       "    </tr>\n",
       "    <tr>\n",
       "      <th>21</th>\n",
       "      <td>Special</td>\n",
       "      <td>Special</td>\n",
       "      <td>0</td>\n",
       "      <td>0.000000</td>\n",
       "      <td>0.0</td>\n",
       "      <td>0.000000</td>\n",
       "      <td>0.000000</td>\n",
       "      <td>-22.532806</td>\n",
       "      <td>0.000000</td>\n",
       "    </tr>\n",
       "    <tr>\n",
       "      <th>22</th>\n",
       "      <td>Missing</td>\n",
       "      <td>Missing</td>\n",
       "      <td>0</td>\n",
       "      <td>0.000000</td>\n",
       "      <td>0.0</td>\n",
       "      <td>0.000000</td>\n",
       "      <td>0.000000</td>\n",
       "      <td>-22.532806</td>\n",
       "      <td>0.000000</td>\n",
       "    </tr>\n",
       "    <tr>\n",
       "      <th>Totals</th>\n",
       "      <td></td>\n",
       "      <td></td>\n",
       "      <td>506</td>\n",
       "      <td>1.000000</td>\n",
       "      <td>11401.6</td>\n",
       "      <td></td>\n",
       "      <td>22.532806</td>\n",
       "      <td>171.946019</td>\n",
       "      <td>4.808255</td>\n",
       "    </tr>\n",
       "  </tbody>\n",
       "</table>\n",
       "</div>"
      ],
      "text/plain": [
       "                 Bin x          Bin y  Count  Count (%)      Sum        Std  \\\n",
       "0        (-inf, 37.25)   (-inf, 3.99)     43   0.084980   1317.3   9.113544   \n",
       "1       [37.25, 76.25)   (-inf, 3.99)     35   0.069170   1115.1   8.144242   \n",
       "2       [76.25, 92.30)   (-inf, 3.99)     10   0.019763    370.6   8.343644   \n",
       "3       [92.30, 98.25)   (-inf, 3.99)      2   0.003953     63.5   0.750000   \n",
       "4         [98.25, inf)   (-inf, 6.08)      2   0.003953     66.1   2.950000   \n",
       "5        (-inf, 37.25)   [3.99, 6.08)     27   0.053360    680.8   5.262706   \n",
       "6       [37.25, 76.25)   [3.99, 6.08)     36   0.071146    773.6   2.676002   \n",
       "7       [76.25, 92.30)   [3.99, 6.08)      4   0.007905     84.8   2.388514   \n",
       "8       [92.30, 98.25)   [3.99, 6.08)      1   0.001976     16.0   0.000000   \n",
       "9        (-inf, 37.25)   [6.08, 6.66)      7   0.013834    232.3   5.962365   \n",
       "10      [37.25, 76.25)   [6.08, 6.66)      9   0.017787    286.0   8.119357   \n",
       "11      [76.25, 98.25)   [6.08, 6.66)     10   0.019763    326.8   8.488086   \n",
       "12        [98.25, inf)  [6.08, 16.57)      4   0.007905     65.5   2.246525   \n",
       "13       (-inf, 37.25)    [6.66, inf)     23   0.045455    543.5   2.327610   \n",
       "14      [37.25, 76.25)  [6.66, 16.57)     49   0.096838   1086.8   3.434815   \n",
       "15      [76.25, 92.30)  [6.66, 16.57)     40   0.079051    777.0   3.359967   \n",
       "16      [92.30, 98.25)  [6.66, 16.57)     15   0.029644    264.7   4.036478   \n",
       "17      [37.25, 76.25)   [16.57, inf)     16   0.031621    324.4   4.472765   \n",
       "18      [76.25, 92.30)   [16.57, inf)     50   0.098814    912.5   8.416228   \n",
       "19      [92.30, 98.25)   [16.57, inf)     71   0.140316   1286.2  10.093278   \n",
       "20        [98.25, inf)   [16.57, inf)     52   0.102767    808.1   8.662280   \n",
       "21             Special        Special      0   0.000000      0.0   0.000000   \n",
       "22             Missing        Missing      0   0.000000      0.0   0.000000   \n",
       "Totals                                   506   1.000000  11401.6              \n",
       "\n",
       "             Mean         WoE        IV  \n",
       "0       30.634884    8.102077  0.688516  \n",
       "1       31.860000    9.327194  0.645162  \n",
       "2       37.060000   14.527194  0.287099  \n",
       "3       31.750000    9.217194  0.036432  \n",
       "4       33.050000   10.517194  0.041570  \n",
       "5       25.214815    2.682008  0.143111  \n",
       "6       21.488889   -1.043917  0.074271  \n",
       "7       21.200000   -1.332806  0.010536  \n",
       "8       16.000000   -6.532806  0.012911  \n",
       "9       33.185714   10.652908  0.147372  \n",
       "10      31.777778    9.244971  0.164436  \n",
       "11      32.680000   10.147194  0.200537  \n",
       "12      16.375000   -6.157806  0.048678  \n",
       "13      23.630435    1.097628  0.049892  \n",
       "14      22.179592   -0.353214  0.034205  \n",
       "15      19.425000   -3.107806  0.245676  \n",
       "16      17.646667   -4.886140  0.144846  \n",
       "17      20.275000   -2.257806  0.071393  \n",
       "18      18.250000   -4.282806  0.423202  \n",
       "19      18.115493   -4.417313  0.619821  \n",
       "20      15.540385   -6.992422  0.718589  \n",
       "21       0.000000  -22.532806  0.000000  \n",
       "22       0.000000  -22.532806  0.000000  \n",
       "Totals  22.532806  171.946019  4.808255  "
      ]
     },
     "execution_count": 9,
     "metadata": {},
     "output_type": "execute_result"
    }
   ],
   "source": [
    "optb.binning_table.build()"
   ]
  },
  {
   "cell_type": "markdown",
   "metadata": {},
   "source": [
    "You can use the method ``plot`` to visualize the histogram 2D and mean curve. Note that the Bin ID corresponds to the binning table index. These are the key points to correctly interpret the plots belows:\n",
    "\n",
    "- Bins can only be rectangles. If a bin is composed by $m$ squares, the Bin ID is shown $m$ times.\n",
    "- The upper left plot shows the mean on the x-axis; the bin paths left-right.\n",
    "- The lower right plot shows the mean on the y-axis; the bin paths top-down."
   ]
  },
  {
   "cell_type": "code",
   "execution_count": 10,
   "metadata": {},
   "outputs": [
    {
     "data": {
      "image/png": "[encoded data removed]",
      "text/plain": [
       "<Figure size 504x504 with 4 Axes>"
      ]
     },
     "metadata": {
      "needs_background": "light"
     },
     "output_type": "display_data"
    }
   ],
   "source": [
    "optb.binning_table.plot()"
   ]
  },
  {
   "cell_type": "markdown",
   "metadata": {},
   "source": [
    "##### Mean transformation"
   ]
  },
  {
   "cell_type": "markdown",
   "metadata": {},
   "source": [
    "Now that we have checked the binned data, we can transform our original data into mean values. You can check the correctness of the transformation using pandas ``value_counts`` method, for instance. Note that both ``x`` and ``y`` are required, and a single array is returned with the transformation."
   ]
  },
  {
   "cell_type": "code",
   "execution_count": 11,
   "metadata": {},
   "outputs": [
    {
     "data": {
      "text/plain": [
       "18.115493    71\n",
       "15.540385    52\n",
       "18.250000    50\n",
       "22.179592    49\n",
       "30.634884    43\n",
       "19.425000    40\n",
       "21.488889    36\n",
       "31.860000    35\n",
       "25.214815    27\n",
       "23.630435    23\n",
       "20.275000    16\n",
       "17.646667    15\n",
       "32.680000    10\n",
       "37.060000    10\n",
       "31.777778     9\n",
       "33.185714     7\n",
       "21.200000     4\n",
       "16.375000     4\n",
       "31.750000     2\n",
       "33.050000     2\n",
       "16.000000     1\n",
       "dtype: int64"
      ]
     },
     "execution_count": 11,
     "metadata": {},
     "output_type": "execute_result"
    }
   ],
   "source": [
    "z_transform_mean = optb.transform(x, y, metric=\"mean\")\n",
    "pd.Series(z_transform_mean).value_counts()"
   ]
  },
  {
   "cell_type": "code",
   "execution_count": 12,
   "metadata": {},
   "outputs": [
    {
     "data": {
      "text/plain": [
       "19    71\n",
       "20    52\n",
       "18    50\n",
       "14    49\n",
       "0     43\n",
       "15    40\n",
       "6     36\n",
       "1     35\n",
       "5     27\n",
       "13    23\n",
       "17    16\n",
       "16    15\n",
       "11    10\n",
       "2     10\n",
       "10     9\n",
       "9      7\n",
       "7      4\n",
       "12     4\n",
       "4      2\n",
       "3      2\n",
       "8      1\n",
       "dtype: int64"
      ]
     },
     "execution_count": 12,
     "metadata": {},
     "output_type": "execute_result"
    }
   ],
   "source": [
    "z_transform_indices = optb.transform(x, y, metric=\"indices\")\n",
    "pd.Series(z_transform_indices).value_counts()"
   ]
  },
  {
   "cell_type": "markdown",
   "metadata": {},
   "source": [
    "If ``metric=\"bins\"`` the bin ids are combined."
   ]
  },
  {
   "cell_type": "code",
   "execution_count": 13,
   "metadata": {},
   "outputs": [
    {
     "data": {
      "text/plain": [
       "[92.30, 98.25) $\\cup$ [16.57, inf)     71\n",
       "[98.25, inf) $\\cup$ [16.57, inf)       52\n",
       "[76.25, 92.30) $\\cup$ [16.57, inf)     50\n",
       "[37.25, 76.25) $\\cup$ [6.66, 16.57)    49\n",
       "(-inf, 37.25) $\\cup$ (-inf, 3.99)      43\n",
       "[76.25, 92.30) $\\cup$ [6.66, 16.57)    40\n",
       "[37.25, 76.25) $\\cup$ [3.99, 6.08)     36\n",
       "[37.25, 76.25) $\\cup$ (-inf, 3.99)     35\n",
       "(-inf, 37.25) $\\cup$ [3.99, 6.08)      27\n",
       "(-inf, 37.25) $\\cup$ [6.66, inf)       23\n",
       "[37.25, 76.25) $\\cup$ [16.57, inf)     16\n",
       "[92.30, 98.25) $\\cup$ [6.66, 16.57)    15\n",
       "[76.25, 98.25) $\\cup$ [6.08, 6.66)     10\n",
       "[76.25, 92.30) $\\cup$ (-inf, 3.99)     10\n",
       "[37.25, 76.25) $\\cup$ [6.08, 6.66)      9\n",
       "(-inf, 37.25) $\\cup$ [6.08, 6.66)       7\n",
       "[98.25, inf) $\\cup$ [6.08, 16.57)       4\n",
       "[76.25, 92.30) $\\cup$ [3.99, 6.08)      4\n",
       "[98.25, inf) $\\cup$ (-inf, 6.08)        2\n",
       "[92.30, 98.25) $\\cup$ (-inf, 3.99)      2\n",
       "[92.30, 98.25) $\\cup$ [3.99, 6.08)      1\n",
       "dtype: int64"
      ]
     },
     "execution_count": 13,
     "metadata": {},
     "output_type": "execute_result"
    }
   ],
   "source": [
    "z_transform_bins = optb.transform(x, y, metric=\"bins\")\n",
    "pd.Series(z_transform_bins).value_counts()"
   ]
  },
  {
   "cell_type": "markdown",
   "metadata": {},
   "source": [
    "#### Binning table statistical analysis"
   ]
  },
  {
   "cell_type": "markdown",
   "metadata": {},
   "source": [
    "The ``analysis`` method performs a statistical analysis of the binning table, computing the Information Value (IV), Weight of Evidence (WoE), and Herfindahl-Hirschman Index (HHI). The report is the same that the one for unidimensional binning with a continuous target. The main difference is that the significant tests for each bin are performed with respect to all its linked bins."
   ]
  },
  {
   "cell_type": "code",
   "execution_count": 14,
   "metadata": {},
   "outputs": [
    {
     "name": "stdout",
     "output_type": "stream",
     "text": [
      "----------------------------------------------------\n",
      "OptimalBinning: Continuous Binning Table 2D Analysis\n",
      "----------------------------------------------------\n",
      "\n",
      "  General metrics\n",
      "\n",
      "    IV                       4.80825509\n",
      "    WoE                    171.94601939\n",
      "    WoE (normalized)         7.63091898\n",
      "    HHI                      0.08094955\n",
      "    HHI (normalized)         0.03917453\n",
      "    Quality score            0.00000067\n",
      "\n",
      "  Significance tests\n",
      "\n",
      "    Bin A  Bin B  t-statistic      p-value\n",
      "        0      1    -0.626279 5.330261e-01\n",
      "        0      5     3.151772 2.418667e-03\n",
      "        1      2    -1.747295 1.020375e-01\n",
      "        1      6     7.166955 9.494930e-09\n",
      "        2      3     1.973052 7.794888e-02\n",
      "        2      7     5.476169 1.595659e-04\n",
      "        3      4    -0.603998 6.445191e-01\n",
      "        3      8    29.698485 2.142801e-02\n",
      "        4     12     7.038328 3.332810e-02\n",
      "        5      6     3.366820 1.818855e-03\n",
      "        5      9    -3.226180 1.104060e-02\n",
      "        6      7     0.226611 8.321374e-01\n",
      "        6     10    -3.751024 5.101241e-03\n",
      "        7      8     4.354171 1.437169e-01\n",
      "        7     11    -3.907609 2.230164e-03\n",
      "        8      4    -8.173675 7.750145e-02\n",
      "        8     11    -6.214215 1.015749e-01\n",
      "        9     10     0.399772 6.953661e-01\n",
      "        9     13     4.145039 4.969267e-03\n",
      "       10     11    -0.236693 8.157359e-01\n",
      "       10     14     3.489521 7.419876e-03\n",
      "       11     12     5.603629 1.405522e-04\n",
      "       11     15     4.844244 7.355489e-04\n",
      "       11     16     5.220987 2.298907e-04\n",
      "       12     20     0.507489 6.204418e-01\n",
      "       13     14     2.102164 3.968648e-02\n",
      "       13     17     2.752663 1.203338e-02\n",
      "       14     15     3.808928 2.644745e-04\n",
      "       14     17     1.559713 1.337095e-01\n",
      "       15     16     1.520196 1.429031e-01\n",
      "       15     18     0.901478 3.705578e-01\n",
      "       16     12     0.829910 4.281352e-01\n",
      "       16     19    -0.295271 7.688809e-01\n",
      "       17     18     1.239974 2.208911e-01\n",
      "       18     19     0.079654 9.366502e-01\n",
      "       19     20     1.517969 1.316990e-01\n",
      "\n"
     ]
    }
   ],
   "source": [
    "optb.binning_table.analysis()"
   ]
  },
  {
   "cell_type": "markdown",
   "metadata": {},
   "source": [
    "#### Mean monotonicity"
   ]
  },
  {
   "cell_type": "markdown",
   "metadata": {},
   "source": [
    "The ``monotonic_trend_x`` and ``monotonic_trend_y`` options permit forcing a monotonic trend to the mean curve on each axis. By default, both options are set to None. There are two options available: \"ascending\" and \"descending\". In this example, we force both trends to be \"descending\", and a minimum bin size of 0.025 (2.5%)."
   ]
  },
  {
   "cell_type": "code",
   "execution_count": 15,
   "metadata": {},
   "outputs": [
    {
     "data": {
      "text/plain": [
       "ContinuousOptimalBinning2D(min_bin_size=0.025, monotonic_trend_x='descending',\n",
       "                           monotonic_trend_y='descending', name_x='AGE',\n",
       "                           name_y='INDUS')"
      ]
     },
     "execution_count": 15,
     "metadata": {},
     "output_type": "execute_result"
    }
   ],
   "source": [
    "optb = ContinuousOptimalBinning2D(name_x=variable1, name_y=variable2,\n",
    "                                  monotonic_trend_x=\"descending\",\n",
    "                                  monotonic_trend_y=\"descending\", min_bin_size=0.025)\n",
    "optb.fit(x, y, z)"
   ]
  },
  {
   "cell_type": "code",
   "execution_count": 16,
   "metadata": {},
   "outputs": [
    {
     "data": {
      "text/html": [
       "<div>\n",
       "<style scoped>\n",
       "    .dataframe tbody tr th:only-of-type {\n",
       "        vertical-align: middle;\n",
       "    }\n",
       "\n",
       "    .dataframe tbody tr th {\n",
       "        vertical-align: top;\n",
       "    }\n",
       "\n",
       "    .dataframe thead th {\n",
       "        text-align: right;\n",
       "    }\n",
       "</style>\n",
       "<table border=\"1\" class=\"dataframe\">\n",
       "  <thead>\n",
       "    <tr style=\"text-align: right;\">\n",
       "      <th></th>\n",
       "      <th>Bin x</th>\n",
       "      <th>Bin y</th>\n",
       "      <th>Count</th>\n",
       "      <th>Count (%)</th>\n",
       "      <th>Sum</th>\n",
       "      <th>Std</th>\n",
       "      <th>Mean</th>\n",
       "      <th>WoE</th>\n",
       "      <th>IV</th>\n",
       "    </tr>\n",
       "  </thead>\n",
       "  <tbody>\n",
       "    <tr>\n",
       "      <th>0</th>\n",
       "      <td>(-inf, 92.30)</td>\n",
       "      <td>(-inf, 3.99)</td>\n",
       "      <td>88</td>\n",
       "      <td>0.173913</td>\n",
       "      <td>2803.0</td>\n",
       "      <td>8.870303</td>\n",
       "      <td>31.852273</td>\n",
       "      <td>9.319466</td>\n",
       "      <td>1.620777</td>\n",
       "    </tr>\n",
       "    <tr>\n",
       "      <th>1</th>\n",
       "      <td>[92.30, 98.25)</td>\n",
       "      <td>(-inf, 16.57)</td>\n",
       "      <td>18</td>\n",
       "      <td>0.035573</td>\n",
       "      <td>344.2</td>\n",
       "      <td>5.806372</td>\n",
       "      <td>19.122222</td>\n",
       "      <td>-3.410584</td>\n",
       "      <td>0.121325</td>\n",
       "    </tr>\n",
       "    <tr>\n",
       "      <th>2</th>\n",
       "      <td>[98.25, inf)</td>\n",
       "      <td>(-inf, inf)</td>\n",
       "      <td>58</td>\n",
       "      <td>0.114625</td>\n",
       "      <td>939.7</td>\n",
       "      <td>8.837625</td>\n",
       "      <td>16.201724</td>\n",
       "      <td>-6.331082</td>\n",
       "      <td>0.725697</td>\n",
       "    </tr>\n",
       "    <tr>\n",
       "      <th>3</th>\n",
       "      <td>(-inf, 37.25)</td>\n",
       "      <td>[3.99, 6.66)</td>\n",
       "      <td>34</td>\n",
       "      <td>0.067194</td>\n",
       "      <td>913.1</td>\n",
       "      <td>6.300849</td>\n",
       "      <td>26.855882</td>\n",
       "      <td>4.323076</td>\n",
       "      <td>0.290483</td>\n",
       "    </tr>\n",
       "    <tr>\n",
       "      <th>4</th>\n",
       "      <td>[37.25, 92.30)</td>\n",
       "      <td>[3.99, 6.66)</td>\n",
       "      <td>59</td>\n",
       "      <td>0.116601</td>\n",
       "      <td>1471.2</td>\n",
       "      <td>7.247437</td>\n",
       "      <td>24.935593</td>\n",
       "      <td>2.402787</td>\n",
       "      <td>0.280167</td>\n",
       "    </tr>\n",
       "    <tr>\n",
       "      <th>5</th>\n",
       "      <td>(-inf, 37.25)</td>\n",
       "      <td>[6.66, 16.57)</td>\n",
       "      <td>23</td>\n",
       "      <td>0.045455</td>\n",
       "      <td>543.5</td>\n",
       "      <td>2.327610</td>\n",
       "      <td>23.630435</td>\n",
       "      <td>1.097628</td>\n",
       "      <td>0.049892</td>\n",
       "    </tr>\n",
       "    <tr>\n",
       "      <th>6</th>\n",
       "      <td>[37.25, 76.25)</td>\n",
       "      <td>[6.66, 16.57)</td>\n",
       "      <td>49</td>\n",
       "      <td>0.096838</td>\n",
       "      <td>1086.8</td>\n",
       "      <td>3.434815</td>\n",
       "      <td>22.179592</td>\n",
       "      <td>-0.353214</td>\n",
       "      <td>0.034205</td>\n",
       "    </tr>\n",
       "    <tr>\n",
       "      <th>7</th>\n",
       "      <td>[76.25, 92.30)</td>\n",
       "      <td>[6.66, 16.57)</td>\n",
       "      <td>40</td>\n",
       "      <td>0.079051</td>\n",
       "      <td>777.0</td>\n",
       "      <td>3.359967</td>\n",
       "      <td>19.425000</td>\n",
       "      <td>-3.107806</td>\n",
       "      <td>0.245676</td>\n",
       "    </tr>\n",
       "    <tr>\n",
       "      <th>8</th>\n",
       "      <td>(-inf, 76.25)</td>\n",
       "      <td>[16.57, inf)</td>\n",
       "      <td>16</td>\n",
       "      <td>0.031621</td>\n",
       "      <td>324.4</td>\n",
       "      <td>4.472765</td>\n",
       "      <td>20.275000</td>\n",
       "      <td>-2.257806</td>\n",
       "      <td>0.071393</td>\n",
       "    </tr>\n",
       "    <tr>\n",
       "      <th>9</th>\n",
       "      <td>[76.25, 92.30)</td>\n",
       "      <td>[16.57, inf)</td>\n",
       "      <td>50</td>\n",
       "      <td>0.098814</td>\n",
       "      <td>912.5</td>\n",
       "      <td>8.416228</td>\n",
       "      <td>18.250000</td>\n",
       "      <td>-4.282806</td>\n",
       "      <td>0.423202</td>\n",
       "    </tr>\n",
       "    <tr>\n",
       "      <th>10</th>\n",
       "      <td>[92.30, 98.25)</td>\n",
       "      <td>[16.57, inf)</td>\n",
       "      <td>71</td>\n",
       "      <td>0.140316</td>\n",
       "      <td>1286.2</td>\n",
       "      <td>10.093278</td>\n",
       "      <td>18.115493</td>\n",
       "      <td>-4.417313</td>\n",
       "      <td>0.619821</td>\n",
       "    </tr>\n",
       "    <tr>\n",
       "      <th>11</th>\n",
       "      <td>Special</td>\n",
       "      <td>Special</td>\n",
       "      <td>0</td>\n",
       "      <td>0.000000</td>\n",
       "      <td>0.0</td>\n",
       "      <td>0.000000</td>\n",
       "      <td>0.000000</td>\n",
       "      <td>-22.532806</td>\n",
       "      <td>0.000000</td>\n",
       "    </tr>\n",
       "    <tr>\n",
       "      <th>12</th>\n",
       "      <td>Missing</td>\n",
       "      <td>Missing</td>\n",
       "      <td>0</td>\n",
       "      <td>0.000000</td>\n",
       "      <td>0.0</td>\n",
       "      <td>0.000000</td>\n",
       "      <td>0.000000</td>\n",
       "      <td>-22.532806</td>\n",
       "      <td>0.000000</td>\n",
       "    </tr>\n",
       "    <tr>\n",
       "      <th>Totals</th>\n",
       "      <td></td>\n",
       "      <td></td>\n",
       "      <td>506</td>\n",
       "      <td>1.000000</td>\n",
       "      <td>11401.6</td>\n",
       "      <td></td>\n",
       "      <td>22.532806</td>\n",
       "      <td>86.369184</td>\n",
       "      <td>4.482638</td>\n",
       "    </tr>\n",
       "  </tbody>\n",
       "</table>\n",
       "</div>"
      ],
      "text/plain": [
       "                 Bin x          Bin y  Count  Count (%)      Sum        Std  \\\n",
       "0        (-inf, 92.30)   (-inf, 3.99)     88   0.173913   2803.0   8.870303   \n",
       "1       [92.30, 98.25)  (-inf, 16.57)     18   0.035573    344.2   5.806372   \n",
       "2         [98.25, inf)    (-inf, inf)     58   0.114625    939.7   8.837625   \n",
       "3        (-inf, 37.25)   [3.99, 6.66)     34   0.067194    913.1   6.300849   \n",
       "4       [37.25, 92.30)   [3.99, 6.66)     59   0.116601   1471.2   7.247437   \n",
       "5        (-inf, 37.25)  [6.66, 16.57)     23   0.045455    543.5   2.327610   \n",
       "6       [37.25, 76.25)  [6.66, 16.57)     49   0.096838   1086.8   3.434815   \n",
       "7       [76.25, 92.30)  [6.66, 16.57)     40   0.079051    777.0   3.359967   \n",
       "8        (-inf, 76.25)   [16.57, inf)     16   0.031621    324.4   4.472765   \n",
       "9       [76.25, 92.30)   [16.57, inf)     50   0.098814    912.5   8.416228   \n",
       "10      [92.30, 98.25)   [16.57, inf)     71   0.140316   1286.2  10.093278   \n",
       "11             Special        Special      0   0.000000      0.0   0.000000   \n",
       "12             Missing        Missing      0   0.000000      0.0   0.000000   \n",
       "Totals                                   506   1.000000  11401.6              \n",
       "\n",
       "             Mean        WoE        IV  \n",
       "0       31.852273   9.319466  1.620777  \n",
       "1       19.122222  -3.410584  0.121325  \n",
       "2       16.201724  -6.331082  0.725697  \n",
       "3       26.855882   4.323076  0.290483  \n",
       "4       24.935593   2.402787  0.280167  \n",
       "5       23.630435   1.097628  0.049892  \n",
       "6       22.179592  -0.353214  0.034205  \n",
       "7       19.425000  -3.107806  0.245676  \n",
       "8       20.275000  -2.257806  0.071393  \n",
       "9       18.250000  -4.282806  0.423202  \n",
       "10      18.115493  -4.417313  0.619821  \n",
       "11       0.000000 -22.532806  0.000000  \n",
       "12       0.000000 -22.532806  0.000000  \n",
       "Totals  22.532806  86.369184  4.482638  "
      ]
     },
     "execution_count": 16,
     "metadata": {},
     "output_type": "execute_result"
    }
   ],
   "source": [
    "optb.binning_table.build()"
   ]
  },
  {
   "cell_type": "code",
   "execution_count": 17,
   "metadata": {},
   "outputs": [
    {
     "data": {
      "image/png": "[encoded data removed]",
      "text/plain": [
       "<Figure size 504x504 with 4 Axes>"
      ]
     },
     "metadata": {
      "needs_background": "light"
     },
     "output_type": "display_data"
    }
   ],
   "source": [
    "optb.binning_table.plot()"
   ]
  },
  {
   "cell_type": "code",
   "execution_count": 18,
   "metadata": {},
   "outputs": [
    {
     "name": "stdout",
     "output_type": "stream",
     "text": [
      "----------------------------------------------------\n",
      "OptimalBinning: Continuous Binning Table 2D Analysis\n",
      "----------------------------------------------------\n",
      "\n",
      "  General metrics\n",
      "\n",
      "    IV                       4.48263838\n",
      "    WoE                     86.36918355\n",
      "    WoE (normalized)         3.83304158\n",
      "    HHI                      0.11090628\n",
      "    HHI (normalized)         0.03681514\n",
      "    Quality score            0.00064848\n",
      "\n",
      "  Significance tests\n",
      "\n",
      "    Bin A  Bin B  t-statistic      p-value\n",
      "        0      1     7.652734 5.085335e-09\n",
      "        0      3     3.479643 7.978542e-04\n",
      "        0      4     5.177909 7.689996e-07\n",
      "        1      2     1.627628 1.108228e-01\n",
      "        1     10     0.553529 5.825586e-01\n",
      "        3      4     1.338602 1.846378e-01\n",
      "        3      5     2.722868 9.181932e-03\n",
      "        4      1     3.497175 1.308292e-03\n",
      "        4      6     2.591442 1.122681e-02\n",
      "        4      7     5.089123 2.035925e-06\n",
      "        5      6     2.102164 3.968648e-02\n",
      "        5      8     2.752663 1.203338e-02\n",
      "        6      7     3.808928 2.644745e-04\n",
      "        6      8     1.559713 1.337095e-01\n",
      "        7      1     0.206242 8.384742e-01\n",
      "        7      9     0.901478 3.705578e-01\n",
      "        8      9     1.239974 2.208911e-01\n",
      "        9     10     0.079654 9.366502e-01\n",
      "       10      2     1.147500 2.533428e-01\n",
      "\n"
     ]
    }
   ],
   "source": [
    "optb.binning_table.analysis()"
   ]
  },
  {
   "cell_type": "markdown",
   "metadata": {},
   "source": [
    "#### Mininum mean difference between consecutive bins"
   ]
  },
  {
   "cell_type": "markdown",
   "metadata": {},
   "source": [
    "Now, we note that the mean difference between consecutive bins is not significant enough on the x-axis. Therefore, we decide to set ``min_mean_diff_x=2.0``:"
   ]
  },
  {
   "cell_type": "code",
   "execution_count": 19,
   "metadata": {},
   "outputs": [
    {
     "data": {
      "text/plain": [
       "ContinuousOptimalBinning2D(min_bin_size=0.025, min_mean_diff_x=2.0,\n",
       "                           monotonic_trend_x='descending',\n",
       "                           monotonic_trend_y='descending', name_x='AGE',\n",
       "                           name_y='INDUS')"
      ]
     },
     "execution_count": 19,
     "metadata": {},
     "output_type": "execute_result"
    }
   ],
   "source": [
    "optb = ContinuousOptimalBinning2D(name_x=variable1, name_y=variable2,\n",
    "                                  monotonic_trend_x=\"descending\",\n",
    "                                  monotonic_trend_y=\"descending\", min_bin_size=0.025,\n",
    "                                  min_mean_diff_x=2.0)\n",
    "optb.fit(x, y, z)"
   ]
  },
  {
   "cell_type": "code",
   "execution_count": 20,
   "metadata": {},
   "outputs": [
    {
     "data": {
      "text/html": [
       "<div>\n",
       "<style scoped>\n",
       "    .dataframe tbody tr th:only-of-type {\n",
       "        vertical-align: middle;\n",
       "    }\n",
       "\n",
       "    .dataframe tbody tr th {\n",
       "        vertical-align: top;\n",
       "    }\n",
       "\n",
       "    .dataframe thead th {\n",
       "        text-align: right;\n",
       "    }\n",
       "</style>\n",
       "<table border=\"1\" class=\"dataframe\">\n",
       "  <thead>\n",
       "    <tr style=\"text-align: right;\">\n",
       "      <th></th>\n",
       "      <th>Bin x</th>\n",
       "      <th>Bin y</th>\n",
       "      <th>Count</th>\n",
       "      <th>Count (%)</th>\n",
       "      <th>Sum</th>\n",
       "      <th>Std</th>\n",
       "      <th>Mean</th>\n",
       "      <th>WoE</th>\n",
       "      <th>IV</th>\n",
       "    </tr>\n",
       "  </thead>\n",
       "  <tbody>\n",
       "    <tr>\n",
       "      <th>0</th>\n",
       "      <td>(-inf, inf)</td>\n",
       "      <td>(-inf, 3.99)</td>\n",
       "      <td>92</td>\n",
       "      <td>0.181818</td>\n",
       "      <td>2932.6</td>\n",
       "      <td>8.688703</td>\n",
       "      <td>31.876087</td>\n",
       "      <td>9.343281</td>\n",
       "      <td>1.698778</td>\n",
       "    </tr>\n",
       "    <tr>\n",
       "      <th>1</th>\n",
       "      <td>(-inf, 37.25)</td>\n",
       "      <td>[3.99, 6.66)</td>\n",
       "      <td>34</td>\n",
       "      <td>0.067194</td>\n",
       "      <td>913.1</td>\n",
       "      <td>6.300849</td>\n",
       "      <td>26.855882</td>\n",
       "      <td>4.323076</td>\n",
       "      <td>0.290483</td>\n",
       "    </tr>\n",
       "    <tr>\n",
       "      <th>2</th>\n",
       "      <td>[37.25, inf)</td>\n",
       "      <td>[3.99, 6.66)</td>\n",
       "      <td>60</td>\n",
       "      <td>0.118577</td>\n",
       "      <td>1487.2</td>\n",
       "      <td>7.277258</td>\n",
       "      <td>24.786667</td>\n",
       "      <td>2.253860</td>\n",
       "      <td>0.267256</td>\n",
       "    </tr>\n",
       "    <tr>\n",
       "      <th>3</th>\n",
       "      <td>(-inf, 76.25)</td>\n",
       "      <td>[6.66, 16.57)</td>\n",
       "      <td>72</td>\n",
       "      <td>0.142292</td>\n",
       "      <td>1630.3</td>\n",
       "      <td>3.196475</td>\n",
       "      <td>22.643056</td>\n",
       "      <td>0.110249</td>\n",
       "      <td>0.015688</td>\n",
       "    </tr>\n",
       "    <tr>\n",
       "      <th>4</th>\n",
       "      <td>[76.25, inf)</td>\n",
       "      <td>[6.66, 16.57)</td>\n",
       "      <td>59</td>\n",
       "      <td>0.116601</td>\n",
       "      <td>1107.2</td>\n",
       "      <td>3.624755</td>\n",
       "      <td>18.766102</td>\n",
       "      <td>-3.766705</td>\n",
       "      <td>0.439201</td>\n",
       "    </tr>\n",
       "    <tr>\n",
       "      <th>5</th>\n",
       "      <td>(-inf, 76.25)</td>\n",
       "      <td>[16.57, inf)</td>\n",
       "      <td>16</td>\n",
       "      <td>0.031621</td>\n",
       "      <td>324.4</td>\n",
       "      <td>4.472765</td>\n",
       "      <td>20.275000</td>\n",
       "      <td>-2.257806</td>\n",
       "      <td>0.071393</td>\n",
       "    </tr>\n",
       "    <tr>\n",
       "      <th>6</th>\n",
       "      <td>[76.25, 98.25)</td>\n",
       "      <td>[16.57, inf)</td>\n",
       "      <td>121</td>\n",
       "      <td>0.239130</td>\n",
       "      <td>2198.7</td>\n",
       "      <td>9.436718</td>\n",
       "      <td>18.171074</td>\n",
       "      <td>-4.361732</td>\n",
       "      <td>1.043023</td>\n",
       "    </tr>\n",
       "    <tr>\n",
       "      <th>7</th>\n",
       "      <td>[98.25, inf)</td>\n",
       "      <td>[16.57, inf)</td>\n",
       "      <td>52</td>\n",
       "      <td>0.102767</td>\n",
       "      <td>808.1</td>\n",
       "      <td>8.662280</td>\n",
       "      <td>15.540385</td>\n",
       "      <td>-6.992422</td>\n",
       "      <td>0.718589</td>\n",
       "    </tr>\n",
       "    <tr>\n",
       "      <th>8</th>\n",
       "      <td>Special</td>\n",
       "      <td>Special</td>\n",
       "      <td>0</td>\n",
       "      <td>0.000000</td>\n",
       "      <td>0.0</td>\n",
       "      <td>0.000000</td>\n",
       "      <td>0.000000</td>\n",
       "      <td>-22.532806</td>\n",
       "      <td>0.000000</td>\n",
       "    </tr>\n",
       "    <tr>\n",
       "      <th>9</th>\n",
       "      <td>Missing</td>\n",
       "      <td>Missing</td>\n",
       "      <td>0</td>\n",
       "      <td>0.000000</td>\n",
       "      <td>0.0</td>\n",
       "      <td>0.000000</td>\n",
       "      <td>0.000000</td>\n",
       "      <td>-22.532806</td>\n",
       "      <td>0.000000</td>\n",
       "    </tr>\n",
       "    <tr>\n",
       "      <th>Totals</th>\n",
       "      <td></td>\n",
       "      <td></td>\n",
       "      <td>506</td>\n",
       "      <td>1.000000</td>\n",
       "      <td>11401.6</td>\n",
       "      <td></td>\n",
       "      <td>22.532806</td>\n",
       "      <td>78.474743</td>\n",
       "      <td>4.544411</td>\n",
       "    </tr>\n",
       "  </tbody>\n",
       "</table>\n",
       "</div>"
      ],
      "text/plain": [
       "                 Bin x          Bin y  Count  Count (%)      Sum       Std  \\\n",
       "0          (-inf, inf)   (-inf, 3.99)     92   0.181818   2932.6  8.688703   \n",
       "1        (-inf, 37.25)   [3.99, 6.66)     34   0.067194    913.1  6.300849   \n",
       "2         [37.25, inf)   [3.99, 6.66)     60   0.118577   1487.2  7.277258   \n",
       "3        (-inf, 76.25)  [6.66, 16.57)     72   0.142292   1630.3  3.196475   \n",
       "4         [76.25, inf)  [6.66, 16.57)     59   0.116601   1107.2  3.624755   \n",
       "5        (-inf, 76.25)   [16.57, inf)     16   0.031621    324.4  4.472765   \n",
       "6       [76.25, 98.25)   [16.57, inf)    121   0.239130   2198.7  9.436718   \n",
       "7         [98.25, inf)   [16.57, inf)     52   0.102767    808.1  8.662280   \n",
       "8              Special        Special      0   0.000000      0.0  0.000000   \n",
       "9              Missing        Missing      0   0.000000      0.0  0.000000   \n",
       "Totals                                   506   1.000000  11401.6             \n",
       "\n",
       "             Mean        WoE        IV  \n",
       "0       31.876087   9.343281  1.698778  \n",
       "1       26.855882   4.323076  0.290483  \n",
       "2       24.786667   2.253860  0.267256  \n",
       "3       22.643056   0.110249  0.015688  \n",
       "4       18.766102  -3.766705  0.439201  \n",
       "5       20.275000  -2.257806  0.071393  \n",
       "6       18.171074  -4.361732  1.043023  \n",
       "7       15.540385  -6.992422  0.718589  \n",
       "8        0.000000 -22.532806  0.000000  \n",
       "9        0.000000 -22.532806  0.000000  \n",
       "Totals  22.532806  78.474743  4.544411  "
      ]
     },
     "execution_count": 20,
     "metadata": {},
     "output_type": "execute_result"
    }
   ],
   "source": [
    "optb.binning_table.build()"
   ]
  },
  {
   "cell_type": "code",
   "execution_count": 21,
   "metadata": {},
   "outputs": [
    {
     "data": {
      "image/png": "[encoded data removed]",
      "text/plain": [
       "<Figure size 504x504 with 4 Axes>"
      ]
     },
     "metadata": {
      "needs_background": "light"
     },
     "output_type": "display_data"
    }
   ],
   "source": [
    "optb.binning_table.plot()"
   ]
  },
  {
   "cell_type": "code",
   "execution_count": 22,
   "metadata": {},
   "outputs": [
    {
     "name": "stdout",
     "output_type": "stream",
     "text": [
      "----------------------------------------------------\n",
      "OptimalBinning: Continuous Binning Table 2D Analysis\n",
      "----------------------------------------------------\n",
      "\n",
      "  General metrics\n",
      "\n",
      "    IV                       4.54441094\n",
      "    WoE                     78.47474349\n",
      "    WoE (normalized)         3.48268841\n",
      "    HHI                      0.15422050\n",
      "    HHI (normalized)         0.06024500\n",
      "    Quality score            0.18196194\n",
      "\n",
      "  Significance tests\n",
      "\n",
      "    Bin A  Bin B  t-statistic      p-value\n",
      "        0      1     3.560295 6.228004e-04\n",
      "        0      2     5.432189 2.380140e-07\n",
      "        1      2     1.445094 1.524836e-01\n",
      "        1      3     3.681359 6.667794e-04\n",
      "        2      3     2.117773 3.738699e-02\n",
      "        2      4     5.726516 1.440551e-07\n",
      "        3      4     6.420686 3.039622e-09\n",
      "        3      5     2.006927 5.955795e-02\n",
      "        4      6     0.607723 5.441768e-01\n",
      "        4      7     2.499373 1.491463e-02\n",
      "        5      6     1.492816 1.441306e-01\n",
      "        6      7     1.782159 7.762179e-02\n",
      "\n"
     ]
    }
   ],
   "source": [
    "optb.binning_table.analysis()"
   ]
  }
 ],
 "metadata": {
  "kernelspec": {
   "display_name": "Python 3",
   "language": "python",
   "name": "python3"
  },
  "language_info": {
   "codemirror_mode": {
    "name": "ipython",
    "version": 3
   },
   "file_extension": ".py",
   "mimetype": "text/x-python",
   "name": "python",
   "nbconvert_exporter": "python",
   "pygments_lexer": "ipython3",
   "version": "3.7.4"
  }
 },
 "nbformat": 4,
 "nbformat_minor": 2
}
