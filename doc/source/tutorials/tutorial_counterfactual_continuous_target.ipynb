{
 "cells": [
  {
   "cell_type": "markdown",
   "metadata": {},
   "source": [
    "# Tutorial: Counterfactual explanations for scorecard with continuous target"
   ]
  },
  {
   "cell_type": "markdown",
   "metadata": {},
   "source": [
    "This tutorial shows how to generate counterfactual explanations on scorecard models with continuous target. The dataset for this tutorial is https://scikit-learn.org/stable/modules/generated/sklearn.datasets.fetch_california_housing.html."
   ]
  },
  {
   "cell_type": "code",
   "execution_count": 1,
   "metadata": {},
   "outputs": [],
   "source": [
    "import pandas as pd\n",
    "\n",
    "from sklearn.datasets import fetch_california_housing\n",
    "from sklearn.linear_model import HuberRegressor\n",
    "\n",
    "from optbinning import BinningProcess\n",
    "from optbinning import Scorecard\n",
    "from optbinning.scorecard import Counterfactual"
   ]
  },
  {
   "cell_type": "markdown",
   "metadata": {},
   "source": [
    "Load the dataset"
   ]
  },
  {
   "cell_type": "code",
   "execution_count": 2,
   "metadata": {},
   "outputs": [],
   "source": [
    "data = fetch_california_housing()\n",
    "\n",
    "target = \"target\"\n",
    "variable_names = data.feature_names\n",
    "X = pd.DataFrame(data.data, columns=variable_names)\n",
    "y = data.target"
   ]
  },
  {
   "cell_type": "markdown",
   "metadata": {},
   "source": [
    "#### Scorecard model"
   ]
  },
  {
   "cell_type": "markdown",
   "metadata": {},
   "source": [
    "First, we develop a scorecard following the steps presented in previous tutorials."
   ]
  },
  {
   "cell_type": "code",
   "execution_count": 3,
   "metadata": {},
   "outputs": [
    {
     "name": "stdout",
     "output_type": "stream",
     "text": [
      "2022-04-10 13:47:17,806 | INFO : Scorecard building process started.\n",
      "2022-04-10 13:47:17,808 | INFO : Options: check parameters.\n",
      "2022-04-10 13:47:17,810 | INFO : Dataset: continuous target.\n",
      "2022-04-10 13:47:17,811 | INFO : Binning process started.\n",
      "2022-04-10 13:47:19,943 | INFO : Binning process terminated. Time: 2.1308s\n",
      "2022-04-10 13:47:19,944 | INFO : Fitting estimator.\n",
      "2022-04-10 13:47:20,423 | INFO : Fitting terminated. Time 0.4788s\n",
      "2022-04-10 13:47:20,428 | INFO : Scorecard table building started.\n",
      "2022-04-10 13:47:20,591 | INFO : Scorecard table terminated. Time: 0.1632s\n",
      "2022-04-10 13:47:20,592 | INFO : Scorecard building process terminated. Time: 2.7853s\n"
     ]
    },
    {
     "data": {
      "text/plain": [
       "Scorecard(binning_process=BinningProcess(variable_names=['MedInc', 'HouseAge',\n",
       "                                                         'AveRooms',\n",
       "                                                         'AveBedrms',\n",
       "                                                         'Population',\n",
       "                                                         'AveOccup', 'Latitude',\n",
       "                                                         'Longitude']),\n",
       "          estimator=HuberRegressor(max_iter=200), reverse_scorecard=True,\n",
       "          scaling_method='min_max',\n",
       "          scaling_method_params={'max': 100, 'min': 0}, verbose=True)"
      ]
     },
     "execution_count": 3,
     "metadata": {},
     "output_type": "execute_result"
    }
   ],
   "source": [
    "binning_process = BinningProcess(variable_names)\n",
    "\n",
    "estimator = HuberRegressor(max_iter=200)\n",
    "\n",
    "scorecard = Scorecard(binning_process=binning_process,\n",
    "                      estimator=estimator, scaling_method=\"min_max\",\n",
    "                      scaling_method_params={\"min\": 0, \"max\": 100},\n",
    "                      reverse_scorecard=True,verbose=True)\n",
    "\n",
    "scorecard.fit(X, y)"
   ]
  },
  {
   "cell_type": "markdown",
   "metadata": {},
   "source": [
    "#### Generating counterfactual explanations"
   ]
  },
  {
   "cell_type": "markdown",
   "metadata": {},
   "source": [
    "As an input data point or query, we select the first sample. Note that a query must be either a dictionary of a pandas DataFrame."
   ]
  },
  {
   "cell_type": "code",
   "execution_count": 4,
   "metadata": {},
   "outputs": [],
   "source": [
    "query = X.iloc[0, :].to_frame().T"
   ]
  },
  {
   "cell_type": "code",
   "execution_count": 5,
   "metadata": {},
   "outputs": [
    {
     "data": {
      "text/html": [
       "<div>\n",
       "<style scoped>\n",
       "    .dataframe tbody tr th:only-of-type {\n",
       "        vertical-align: middle;\n",
       "    }\n",
       "\n",
       "    .dataframe tbody tr th {\n",
       "        vertical-align: top;\n",
       "    }\n",
       "\n",
       "    .dataframe thead th {\n",
       "        text-align: right;\n",
       "    }\n",
       "</style>\n",
       "<table border=\"1\" class=\"dataframe\">\n",
       "  <thead>\n",
       "    <tr style=\"text-align: right;\">\n",
       "      <th></th>\n",
       "      <th>MedInc</th>\n",
       "      <th>HouseAge</th>\n",
       "      <th>AveRooms</th>\n",
       "      <th>AveBedrms</th>\n",
       "      <th>Population</th>\n",
       "      <th>AveOccup</th>\n",
       "      <th>Latitude</th>\n",
       "      <th>Longitude</th>\n",
       "    </tr>\n",
       "  </thead>\n",
       "  <tbody>\n",
       "    <tr>\n",
       "      <th>0</th>\n",
       "      <td>8.3252</td>\n",
       "      <td>41.0</td>\n",
       "      <td>6.984127</td>\n",
       "      <td>1.02381</td>\n",
       "      <td>322.0</td>\n",
       "      <td>2.555556</td>\n",
       "      <td>37.88</td>\n",
       "      <td>-122.23</td>\n",
       "    </tr>\n",
       "  </tbody>\n",
       "</table>\n",
       "</div>"
      ],
      "text/plain": [
       "   MedInc  HouseAge  AveRooms  AveBedrms  Population  AveOccup  Latitude  \\\n",
       "0  8.3252      41.0  6.984127    1.02381       322.0  2.555556     37.88   \n",
       "\n",
       "   Longitude  \n",
       "0    -122.23  "
      ]
     },
     "execution_count": 5,
     "metadata": {},
     "output_type": "execute_result"
    }
   ],
   "source": [
    "query"
   ]
  },
  {
   "cell_type": "code",
   "execution_count": 6,
   "metadata": {},
   "outputs": [
    {
     "data": {
      "text/plain": [
       "array([4.29854244])"
      ]
     },
     "execution_count": 6,
     "metadata": {},
     "output_type": "execute_result"
    }
   ],
   "source": [
    "scorecard.predict(query)"
   ]
  },
  {
   "cell_type": "markdown",
   "metadata": {},
   "source": [
    "The predicted outcome (house value) for this query (house) is 4.3. We want to generate counterfactual explanations to find out how to increase the house value to at least 4.5."
   ]
  },
  {
   "cell_type": "code",
   "execution_count": 7,
   "metadata": {},
   "outputs": [],
   "source": [
    "cf = Counterfactual(scorecard=scorecard, verbose=True)"
   ]
  },
  {
   "cell_type": "code",
   "execution_count": 8,
   "metadata": {},
   "outputs": [
    {
     "name": "stdout",
     "output_type": "stream",
     "text": [
      "2022-04-10 13:47:20,714 | INFO : Counterfactual fit started.\n",
      "2022-04-10 13:47:20,715 | INFO : Options: check parameters.\n",
      "2022-04-10 13:47:20,717 | INFO : Compute optimization problem data.\n",
      "2022-04-10 13:47:20,778 | INFO : Counterfactual fit terminated. Time: 0.0648s\n"
     ]
    },
    {
     "data": {
      "text/plain": [
       "Counterfactual(scorecard=Scorecard(binning_process=BinningProcess(variable_names=['MedInc',\n",
       "                                                                                  'HouseAge',\n",
       "                                                                                  'AveRooms',\n",
       "                                                                                  'AveBedrms',\n",
       "                                                                                  'Population',\n",
       "                                                                                  'AveOccup',\n",
       "                                                                                  'Latitude',\n",
       "                                                                                  'Longitude']),\n",
       "                                   estimator=HuberRegressor(max_iter=200),\n",
       "                                   reverse_scorecard=True,\n",
       "                                   scaling_method='min_max',\n",
       "                                   scaling_method_params={'max': 100, 'min': 0},\n",
       "                                   verbose=True),\n",
       "               verbose=True)"
      ]
     },
     "execution_count": 8,
     "metadata": {},
     "output_type": "execute_result"
    }
   ],
   "source": [
    "cf.fit(X)"
   ]
  },
  {
   "cell_type": "code",
   "execution_count": 9,
   "metadata": {},
   "outputs": [
    {
     "name": "stdout",
     "output_type": "stream",
     "text": [
      "2022-04-10 13:47:20,830 | INFO : Counterfactual generation started.\n",
      "2022-04-10 13:47:20,841 | INFO : Options: check parameters.\n",
      "2022-04-10 13:47:20,867 | INFO : Options: check objectives and constraints.\n",
      "2022-04-10 13:47:20,868 | INFO : Optimizer started.\n",
      "2022-04-10 13:47:20,870 | INFO : Optimizer: build model...\n",
      "2022-04-10 13:47:20,933 | INFO : Optimizer: solve...\n",
      "2022-04-10 13:47:21,023 | INFO : Optimizer terminated. Time: 0.1530s\n",
      "2022-04-10 13:47:21,024 | INFO : Post-processing started.\n",
      "2022-04-10 13:47:21,040 | INFO : Post-processing terminated. Time: 0.0156s\n",
      "2022-04-10 13:47:21,042 | INFO : Counterfactual generation terminated. Status: OPTIMAL. Time: 0.2120s\n"
     ]
    },
    {
     "data": {
      "text/plain": [
       "Counterfactual(scorecard=Scorecard(binning_process=BinningProcess(variable_names=['MedInc',\n",
       "                                                                                  'HouseAge',\n",
       "                                                                                  'AveRooms',\n",
       "                                                                                  'AveBedrms',\n",
       "                                                                                  'Population',\n",
       "                                                                                  'AveOccup',\n",
       "                                                                                  'Latitude',\n",
       "                                                                                  'Longitude']),\n",
       "                                   estimator=HuberRegressor(max_iter=200),\n",
       "                                   reverse_scorecard=True,\n",
       "                                   scaling_method='min_max',\n",
       "                                   scaling_method_params={'max': 100, 'min': 0},\n",
       "                                   verbose=True),\n",
       "               verbose=True)"
      ]
     },
     "execution_count": 9,
     "metadata": {},
     "output_type": "execute_result"
    }
   ],
   "source": [
    "cf.generate(query=query, y=4.5, outcome_type=\"continuous\", n_cf=1,\n",
    "            max_changes=3, hard_constraints=[\"min_outcome\"])"
   ]
  },
  {
   "cell_type": "code",
   "execution_count": 10,
   "metadata": {},
   "outputs": [
    {
     "name": "stdout",
     "output_type": "stream",
     "text": [
      "optbinning (Version 0.14.0)\n",
      "Copyright (c) 2019-2022 Guillermo Navas-Palencia, Apache License 2.0\n",
      "\n",
      "  Status  : OPTIMAL                         \n",
      "\n",
      "  Solver statistics\n",
      "    Type                                 mip\n",
      "    Number of variables                   42\n",
      "    Number of constraints                120\n",
      "    Objective value                   7.7965\n",
      "    Best objective bound              7.7965\n",
      "\n",
      "  Objectives\n",
      "    proximity                         0.9862\n",
      "    closeness                         6.8103\n",
      "\n",
      "  Timing\n",
      "    Total time                          0.23 sec\n",
      "    Fit                                 0.06 sec   ( 27.77%)\n",
      "    Solver                              0.15 sec   ( 65.57%)\n",
      "    Post-processing                     0.02 sec   ( 10.16%)\n",
      "\n"
     ]
    }
   ],
   "source": [
    "cf.information()"
   ]
  },
  {
   "cell_type": "markdown",
   "metadata": {},
   "source": [
    "The generate counterfactual suggest increasing the block population, reduce the average house occupancy and change the house block longitude. None of them seems doable."
   ]
  },
  {
   "cell_type": "code",
   "execution_count": 11,
   "metadata": {},
   "outputs": [
    {
     "data": {
      "text/html": [
       "<div>\n",
       "<style scoped>\n",
       "    .dataframe tbody tr th:only-of-type {\n",
       "        vertical-align: middle;\n",
       "    }\n",
       "\n",
       "    .dataframe tbody tr th {\n",
       "        vertical-align: top;\n",
       "    }\n",
       "\n",
       "    .dataframe thead th {\n",
       "        text-align: right;\n",
       "    }\n",
       "</style>\n",
       "<table border=\"1\" class=\"dataframe\">\n",
       "  <thead>\n",
       "    <tr style=\"text-align: right;\">\n",
       "      <th></th>\n",
       "      <th>MedInc</th>\n",
       "      <th>HouseAge</th>\n",
       "      <th>AveRooms</th>\n",
       "      <th>AveBedrms</th>\n",
       "      <th>Population</th>\n",
       "      <th>AveOccup</th>\n",
       "      <th>Latitude</th>\n",
       "      <th>Longitude</th>\n",
       "      <th>outcome</th>\n",
       "    </tr>\n",
       "  </thead>\n",
       "  <tbody>\n",
       "    <tr>\n",
       "      <th>0</th>\n",
       "      <td>-</td>\n",
       "      <td>-</td>\n",
       "      <td>-</td>\n",
       "      <td>[1.05, 1.07)</td>\n",
       "      <td>[986.50, 1426.50)</td>\n",
       "      <td>-</td>\n",
       "      <td>[34.10, 34.18)</td>\n",
       "      <td>-</td>\n",
       "      <td>4.522533</td>\n",
       "    </tr>\n",
       "  </tbody>\n",
       "</table>\n",
       "</div>"
      ],
      "text/plain": [
       "  MedInc HouseAge AveRooms     AveBedrms         Population AveOccup  \\\n",
       "0      -        -        -  [1.05, 1.07)  [986.50, 1426.50)        -   \n",
       "\n",
       "         Latitude Longitude   outcome  \n",
       "0  [34.10, 34.18)         -  4.522533  "
      ]
     },
     "execution_count": 11,
     "metadata": {},
     "output_type": "execute_result"
    }
   ],
   "source": [
    "cf.display(show_only_changes=True, show_outcome=True)"
   ]
  },
  {
   "cell_type": "markdown",
   "metadata": {},
   "source": [
    "Now, let's generate several counterfactuals aiming to limit the house value to 4.0."
   ]
  },
  {
   "cell_type": "code",
   "execution_count": 12,
   "metadata": {},
   "outputs": [
    {
     "name": "stdout",
     "output_type": "stream",
     "text": [
      "2022-04-10 13:47:21,118 | INFO : Counterfactual generation started.\n",
      "2022-04-10 13:47:21,120 | INFO : Options: check parameters.\n",
      "2022-04-10 13:47:21,131 | INFO : Options: check objectives and constraints.\n",
      "2022-04-10 13:47:21,132 | INFO : Optimizer started.\n",
      "2022-04-10 13:47:21,133 | INFO : Optimizer: build model...\n",
      "2022-04-10 13:47:21,296 | INFO : Optimizer: solve...\n",
      "2022-04-10 13:47:51,482 | INFO : Optimizer terminated. Time: 30.3493s\n",
      "2022-04-10 13:47:51,483 | INFO : Post-processing started.\n",
      "2022-04-10 13:47:51,513 | INFO : Post-processing terminated. Time: 0.0289s\n",
      "2022-04-10 13:47:51,514 | INFO : Counterfactual generation terminated. Status: FEASIBLE. Time: 30.3959s\n"
     ]
    },
    {
     "data": {
      "text/html": [
       "<div>\n",
       "<style scoped>\n",
       "    .dataframe tbody tr th:only-of-type {\n",
       "        vertical-align: middle;\n",
       "    }\n",
       "\n",
       "    .dataframe tbody tr th {\n",
       "        vertical-align: top;\n",
       "    }\n",
       "\n",
       "    .dataframe thead th {\n",
       "        text-align: right;\n",
       "    }\n",
       "</style>\n",
       "<table border=\"1\" class=\"dataframe\">\n",
       "  <thead>\n",
       "    <tr style=\"text-align: right;\">\n",
       "      <th></th>\n",
       "      <th>MedInc</th>\n",
       "      <th>HouseAge</th>\n",
       "      <th>AveRooms</th>\n",
       "      <th>AveBedrms</th>\n",
       "      <th>Population</th>\n",
       "      <th>AveOccup</th>\n",
       "      <th>Latitude</th>\n",
       "      <th>Longitude</th>\n",
       "      <th>outcome</th>\n",
       "    </tr>\n",
       "  </thead>\n",
       "  <tbody>\n",
       "    <tr>\n",
       "      <th>0</th>\n",
       "      <td>[5.79, 6.82)</td>\n",
       "      <td>-</td>\n",
       "      <td>-</td>\n",
       "      <td>[1.07, 1.10)</td>\n",
       "      <td>[986.50, 1426.50)</td>\n",
       "      <td>-</td>\n",
       "      <td>-</td>\n",
       "      <td>-</td>\n",
       "      <td>3.350462</td>\n",
       "    </tr>\n",
       "    <tr>\n",
       "      <th>0</th>\n",
       "      <td>-</td>\n",
       "      <td>-</td>\n",
       "      <td>-</td>\n",
       "      <td>-</td>\n",
       "      <td>[986.50, 1426.50)</td>\n",
       "      <td>[3.11, 3.24)</td>\n",
       "      <td>-</td>\n",
       "      <td>[-118.91, inf)</td>\n",
       "      <td>3.948499</td>\n",
       "    </tr>\n",
       "    <tr>\n",
       "      <th>0</th>\n",
       "      <td>[5.79, 6.82)</td>\n",
       "      <td>-</td>\n",
       "      <td>-</td>\n",
       "      <td>-</td>\n",
       "      <td>[986.50, 1426.50)</td>\n",
       "      <td>[2.90, 3.01)</td>\n",
       "      <td>-</td>\n",
       "      <td>-</td>\n",
       "      <td>3.233206</td>\n",
       "    </tr>\n",
       "  </tbody>\n",
       "</table>\n",
       "</div>"
      ],
      "text/plain": [
       "         MedInc HouseAge AveRooms     AveBedrms         Population  \\\n",
       "0  [5.79, 6.82)        -        -  [1.07, 1.10)  [986.50, 1426.50)   \n",
       "0             -        -        -             -  [986.50, 1426.50)   \n",
       "0  [5.79, 6.82)        -        -             -  [986.50, 1426.50)   \n",
       "\n",
       "       AveOccup Latitude       Longitude   outcome  \n",
       "0             -        -               -  3.350462  \n",
       "0  [3.11, 3.24)        -  [-118.91, inf)  3.948499  \n",
       "0  [2.90, 3.01)        -               -  3.233206  "
      ]
     },
     "execution_count": 12,
     "metadata": {},
     "output_type": "execute_result"
    }
   ],
   "source": [
    "cf.generate(query=query, y=4.0, outcome_type=\"continuous\", n_cf=3,\n",
    "            max_changes=3,\n",
    "            hard_constraints=[\"diversity_features\", \"max_outcome\"],\n",
    "            time_limit=30\n",
    "           ).display(show_only_changes=True, show_outcome=True)"
   ]
  },
  {
   "cell_type": "markdown",
   "metadata": {},
   "source": [
    "And the same generation enforcing diversity on feature values."
   ]
  },
  {
   "cell_type": "code",
   "execution_count": 13,
   "metadata": {},
   "outputs": [
    {
     "name": "stdout",
     "output_type": "stream",
     "text": [
      "2022-04-10 13:47:51,562 | INFO : Counterfactual generation started.\n",
      "2022-04-10 13:47:51,564 | INFO : Options: check parameters.\n",
      "2022-04-10 13:47:51,574 | INFO : Options: check objectives and constraints.\n",
      "2022-04-10 13:47:51,576 | INFO : Optimizer started.\n",
      "2022-04-10 13:47:51,578 | INFO : Optimizer: build model...\n",
      "2022-04-10 13:47:51,710 | INFO : Optimizer: solve...\n",
      "2022-04-10 13:48:22,120 | INFO : Optimizer terminated. Time: 30.5423s\n",
      "2022-04-10 13:48:22,121 | INFO : Post-processing started.\n",
      "2022-04-10 13:48:22,150 | INFO : Post-processing terminated. Time: 0.0273s\n",
      "2022-04-10 13:48:22,150 | INFO : Counterfactual generation terminated. Status: FEASIBLE. Time: 30.5880s\n"
     ]
    },
    {
     "data": {
      "text/html": [
       "<div>\n",
       "<style scoped>\n",
       "    .dataframe tbody tr th:only-of-type {\n",
       "        vertical-align: middle;\n",
       "    }\n",
       "\n",
       "    .dataframe tbody tr th {\n",
       "        vertical-align: top;\n",
       "    }\n",
       "\n",
       "    .dataframe thead th {\n",
       "        text-align: right;\n",
       "    }\n",
       "</style>\n",
       "<table border=\"1\" class=\"dataframe\">\n",
       "  <thead>\n",
       "    <tr style=\"text-align: right;\">\n",
       "      <th></th>\n",
       "      <th>MedInc</th>\n",
       "      <th>HouseAge</th>\n",
       "      <th>AveRooms</th>\n",
       "      <th>AveBedrms</th>\n",
       "      <th>Population</th>\n",
       "      <th>AveOccup</th>\n",
       "      <th>Latitude</th>\n",
       "      <th>Longitude</th>\n",
       "      <th>outcome</th>\n",
       "    </tr>\n",
       "  </thead>\n",
       "  <tbody>\n",
       "    <tr>\n",
       "      <th>0</th>\n",
       "      <td>[5.79, 6.82)</td>\n",
       "      <td>-</td>\n",
       "      <td>-</td>\n",
       "      <td>-</td>\n",
       "      <td>[986.50, 1426.50)</td>\n",
       "      <td>[3.52, 3.82)</td>\n",
       "      <td>-</td>\n",
       "      <td>-</td>\n",
       "      <td>2.918294</td>\n",
       "    </tr>\n",
       "    <tr>\n",
       "      <th>0</th>\n",
       "      <td>[4.53, 5.04)</td>\n",
       "      <td>-</td>\n",
       "      <td>-</td>\n",
       "      <td>[1.07, 1.10)</td>\n",
       "      <td>[1911.50, 2720.50)</td>\n",
       "      <td>-</td>\n",
       "      <td>-</td>\n",
       "      <td>-</td>\n",
       "      <td>2.620019</td>\n",
       "    </tr>\n",
       "    <tr>\n",
       "      <th>0</th>\n",
       "      <td>[5.04, 5.79)</td>\n",
       "      <td>-</td>\n",
       "      <td>-</td>\n",
       "      <td>-</td>\n",
       "      <td>[1426.50, 1911.50)</td>\n",
       "      <td>-</td>\n",
       "      <td>-</td>\n",
       "      <td>[-118.91, inf)</td>\n",
       "      <td>2.744065</td>\n",
       "    </tr>\n",
       "  </tbody>\n",
       "</table>\n",
       "</div>"
      ],
      "text/plain": [
       "         MedInc HouseAge AveRooms     AveBedrms          Population  \\\n",
       "0  [5.79, 6.82)        -        -             -   [986.50, 1426.50)   \n",
       "0  [4.53, 5.04)        -        -  [1.07, 1.10)  [1911.50, 2720.50)   \n",
       "0  [5.04, 5.79)        -        -             -  [1426.50, 1911.50)   \n",
       "\n",
       "       AveOccup Latitude       Longitude   outcome  \n",
       "0  [3.52, 3.82)        -               -  2.918294  \n",
       "0             -        -               -  2.620019  \n",
       "0             -        -  [-118.91, inf)  2.744065  "
      ]
     },
     "execution_count": 13,
     "metadata": {},
     "output_type": "execute_result"
    }
   ],
   "source": [
    "cf.generate(query=query, y=3.0, outcome_type=\"continuous\", n_cf=3,\n",
    "            max_changes=3,\n",
    "            hard_constraints=[\"diversity_features\", \"diversity_values\", \"max_outcome\"],\n",
    "            time_limit=30\n",
    "           ).display(show_only_changes=True, show_outcome=True)"
   ]
  }
 ],
 "metadata": {
  "kernelspec": {
   "display_name": "Python 3",
   "language": "python",
   "name": "python3"
  },
  "language_info": {
   "codemirror_mode": {
    "name": "ipython",
    "version": 3
   },
   "file_extension": ".py",
   "mimetype": "text/x-python",
   "name": "python",
   "nbconvert_exporter": "python",
   "pygments_lexer": "ipython3",
   "version": "3.7.4"
  }
 },
 "nbformat": 4,
 "nbformat_minor": 2
}
