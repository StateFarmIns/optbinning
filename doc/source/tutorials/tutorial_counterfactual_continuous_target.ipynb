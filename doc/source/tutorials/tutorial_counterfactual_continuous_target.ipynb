{
 "cells": [
  {
   "cell_type": "markdown",
   "metadata": {},
   "source": [
    "# Tutorial: Counterfactual explanations for scorecard with continuous target"
   ]
  },
  {
   "cell_type": "markdown",
   "metadata": {},
   "source": [
    "This tutorial shows how to generate counterfactual explanations on scorecard models with continuous target. The dataset for this tutorial is https://scikit-learn.org/stable/modules/generated/sklearn.datasets.fetch_california_housing.html."
   ]
  },
  {
   "cell_type": "code",
   "execution_count": 1,
   "metadata": {},
   "outputs": [],
   "source": [
    "import pandas as pd\n",
    "\n",
    "from sklearn.datasets import fetch_california_housing\n",
    "from sklearn.linear_model import HuberRegressor\n",
    "\n",
    "from optbinning import BinningProcess\n",
    "from optbinning import Scorecard\n",
    "from optbinning.scorecard import Counterfactual"
   ]
  },
  {
   "cell_type": "markdown",
   "metadata": {},
   "source": [
    "Load the dataset"
   ]
  },
  {
   "cell_type": "code",
   "execution_count": 2,
   "metadata": {},
   "outputs": [],
   "source": [
    "data = fetch_california_housing()\n",
    "\n",
    "target = \"target\"\n",
    "variable_names = data.feature_names\n",
    "df = pd.DataFrame(data.data, columns=variable_names)\n",
    "df[target] = data.target"
   ]
  },
  {
   "cell_type": "markdown",
   "metadata": {},
   "source": [
    "#### Scorecard model"
   ]
  },
  {
   "cell_type": "markdown",
   "metadata": {},
   "source": [
    "First, we develop a scorecard following the steps presented in previous tutorials."
   ]
  },
  {
   "cell_type": "code",
   "execution_count": 3,
   "metadata": {},
   "outputs": [
    {
     "name": "stdout",
     "output_type": "stream",
     "text": [
      "2021-05-23 09:58:57,060 | INFO : Scorecard building process started.\n",
      "2021-05-23 09:58:57,061 | INFO : Options: check parameters.\n",
      "2021-05-23 09:58:57,064 | INFO : Dataset: continuous target.\n",
      "2021-05-23 09:58:57,065 | INFO : Binning process started.\n",
      "2021-05-23 09:58:59,278 | INFO : Binning process terminated. Time: 2.2123s\n",
      "2021-05-23 09:58:59,279 | INFO : Fitting estimator.\n",
      "2021-05-23 09:59:00,278 | INFO : Fitting terminated. Time 0.9992s\n",
      "2021-05-23 09:59:00,281 | INFO : Scorecard table building started.\n",
      "2021-05-23 09:59:00,460 | INFO : Scorecard table terminated. Time: 0.1793s\n",
      "2021-05-23 09:59:00,461 | INFO : Scorecard building process terminated. Time: 3.4005s\n"
     ]
    },
    {
     "data": {
      "text/plain": [
       "Scorecard(binning_process=BinningProcess(binning_fit_params=None,\n",
       "                                         binning_transform_params=None,\n",
       "                                         categorical_variables=None,\n",
       "                                         max_bin_size=None, max_n_bins=None,\n",
       "                                         max_n_prebins=20, max_pvalue=None,\n",
       "                                         max_pvalue_policy='consecutive',\n",
       "                                         min_bin_size=None, min_n_bins=None,\n",
       "                                         min_prebin_size=0.05, n_jobs=None,\n",
       "                                         selection_criteria=None,\n",
       "                                         special_codes=None, split_digits=None,\n",
       "                                         v...\n",
       "                                                         'AveRooms',\n",
       "                                                         'AveBedrms',\n",
       "                                                         'Population',\n",
       "                                                         'AveOccup', 'Latitude',\n",
       "                                                         'Longitude'],\n",
       "                                         verbose=False),\n",
       "          estimator=HuberRegressor(alpha=0.0001, epsilon=1.35,\n",
       "                                   fit_intercept=True, max_iter=200, tol=1e-05,\n",
       "                                   warm_start=False),\n",
       "          intercept_based=False, reverse_scorecard=True, rounding=False,\n",
       "          scaling_method='min_max',\n",
       "          scaling_method_params={'max': 100, 'min': 0}, target='target',\n",
       "          verbose=True)"
      ]
     },
     "execution_count": 3,
     "metadata": {},
     "output_type": "execute_result"
    }
   ],
   "source": [
    "binning_process = BinningProcess(variable_names)\n",
    "\n",
    "estimator = HuberRegressor(max_iter=200)\n",
    "\n",
    "scorecard = Scorecard(binning_process=binning_process, target=target,\n",
    "                      estimator=estimator, scaling_method=\"min_max\",\n",
    "                      scaling_method_params={\"min\": 0, \"max\": 100},\n",
    "                      reverse_scorecard=True,verbose=True)\n",
    "\n",
    "scorecard.fit(df)"
   ]
  },
  {
   "cell_type": "markdown",
   "metadata": {},
   "source": [
    "#### Generating counterfactual explanations"
   ]
  },
  {
   "cell_type": "markdown",
   "metadata": {},
   "source": [
    "As an input data point or query, we select the first sample. Note that a query must be either a dictionary of a pandas DataFrame."
   ]
  },
  {
   "cell_type": "code",
   "execution_count": 4,
   "metadata": {},
   "outputs": [],
   "source": [
    "query = df.iloc[0, :-1].to_frame().T"
   ]
  },
  {
   "cell_type": "code",
   "execution_count": 5,
   "metadata": {},
   "outputs": [
    {
     "data": {
      "text/html": [
       "<div>\n",
       "<style scoped>\n",
       "    .dataframe tbody tr th:only-of-type {\n",
       "        vertical-align: middle;\n",
       "    }\n",
       "\n",
       "    .dataframe tbody tr th {\n",
       "        vertical-align: top;\n",
       "    }\n",
       "\n",
       "    .dataframe thead th {\n",
       "        text-align: right;\n",
       "    }\n",
       "</style>\n",
       "<table border=\"1\" class=\"dataframe\">\n",
       "  <thead>\n",
       "    <tr style=\"text-align: right;\">\n",
       "      <th></th>\n",
       "      <th>MedInc</th>\n",
       "      <th>HouseAge</th>\n",
       "      <th>AveRooms</th>\n",
       "      <th>AveBedrms</th>\n",
       "      <th>Population</th>\n",
       "      <th>AveOccup</th>\n",
       "      <th>Latitude</th>\n",
       "      <th>Longitude</th>\n",
       "    </tr>\n",
       "  </thead>\n",
       "  <tbody>\n",
       "    <tr>\n",
       "      <th>0</th>\n",
       "      <td>8.3252</td>\n",
       "      <td>41.0</td>\n",
       "      <td>6.984127</td>\n",
       "      <td>1.02381</td>\n",
       "      <td>322.0</td>\n",
       "      <td>2.555556</td>\n",
       "      <td>37.88</td>\n",
       "      <td>-122.23</td>\n",
       "    </tr>\n",
       "  </tbody>\n",
       "</table>\n",
       "</div>"
      ],
      "text/plain": [
       "   MedInc  HouseAge  AveRooms  AveBedrms  Population  AveOccup  Latitude  \\\n",
       "0  8.3252      41.0  6.984127    1.02381       322.0  2.555556     37.88   \n",
       "\n",
       "   Longitude  \n",
       "0    -122.23  "
      ]
     },
     "execution_count": 5,
     "metadata": {},
     "output_type": "execute_result"
    }
   ],
   "source": [
    "query"
   ]
  },
  {
   "cell_type": "code",
   "execution_count": 6,
   "metadata": {},
   "outputs": [
    {
     "data": {
      "text/plain": [
       "array([4.38634097])"
      ]
     },
     "execution_count": 6,
     "metadata": {},
     "output_type": "execute_result"
    }
   ],
   "source": [
    "scorecard.predict(query)"
   ]
  },
  {
   "cell_type": "markdown",
   "metadata": {},
   "source": [
    "The predicted outcome (house value) for this query (house) is 4.38. We want to generate counterfactual explanations to find out how to increase the house value to at least 4.5."
   ]
  },
  {
   "cell_type": "code",
   "execution_count": 7,
   "metadata": {},
   "outputs": [],
   "source": [
    "cf = Counterfactual(scorecard=scorecard, verbose=True)"
   ]
  },
  {
   "cell_type": "code",
   "execution_count": 8,
   "metadata": {},
   "outputs": [
    {
     "name": "stdout",
     "output_type": "stream",
     "text": [
      "2021-05-23 09:59:00,596 | INFO : Counterfactual fit started.\n",
      "2021-05-23 09:59:00,599 | INFO : Options: check parameters.\n",
      "2021-05-23 09:59:00,601 | INFO : Compute optimization problem data.\n",
      "2021-05-23 09:59:00,672 | INFO : Counterfactual fit terminated. Time: 0.0755s\n"
     ]
    },
    {
     "data": {
      "text/plain": [
       "Counterfactual(n_jobs=1,\n",
       "               scorecard=Scorecard(binning_process=BinningProcess(binning_fit_params=None,\n",
       "                                                                  binning_transform_params=None,\n",
       "                                                                  categorical_variables=None,\n",
       "                                                                  max_bin_size=None,\n",
       "                                                                  max_n_bins=None,\n",
       "                                                                  max_n_prebins=20,\n",
       "                                                                  max_pvalue=None,\n",
       "                                                                  max_pvalue_policy='consecutive',\n",
       "                                                                  min_bin_size=None,\n",
       "                                                                  min_n_bins=None,\n",
       "                                                                  min_prebin_size=0.05,\n",
       "                                                                  n_jobs=None,\n",
       "                                                                  selection_criteria=None,\n",
       "                                                                  spec...\n",
       "                                                                                  'AveOccup',\n",
       "                                                                                  'Latitude',\n",
       "                                                                                  'Longitude'],\n",
       "                                                                  verbose=False),\n",
       "                                   estimator=HuberRegressor(alpha=0.0001,\n",
       "                                                            epsilon=1.35,\n",
       "                                                            fit_intercept=True,\n",
       "                                                            max_iter=200,\n",
       "                                                            tol=1e-05,\n",
       "                                                            warm_start=False),\n",
       "                                   intercept_based=False,\n",
       "                                   reverse_scorecard=True, rounding=False,\n",
       "                                   scaling_method='min_max',\n",
       "                                   scaling_method_params={'max': 100, 'min': 0},\n",
       "                                   target='target', verbose=True),\n",
       "               special_missing=False, verbose=True)"
      ]
     },
     "execution_count": 8,
     "metadata": {},
     "output_type": "execute_result"
    }
   ],
   "source": [
    "cf.fit(df)"
   ]
  },
  {
   "cell_type": "code",
   "execution_count": 9,
   "metadata": {},
   "outputs": [
    {
     "name": "stdout",
     "output_type": "stream",
     "text": [
      "2021-05-23 09:59:00,740 | INFO : Counterfactual generation started.\n",
      "2021-05-23 09:59:00,745 | INFO : Options: check parameters.\n",
      "2021-05-23 09:59:00,766 | INFO : Options: check objectives and constraints.\n",
      "2021-05-23 09:59:00,779 | INFO : Optimizer started.\n",
      "2021-05-23 09:59:00,784 | INFO : Optimizer: build model...\n",
      "2021-05-23 09:59:00,842 | INFO : Optimizer: solve...\n",
      "2021-05-23 09:59:01,126 | INFO : Optimizer terminated. Time: 0.3416s\n",
      "2021-05-23 09:59:01,127 | INFO : Post-processing started.\n",
      "2021-05-23 09:59:01,140 | INFO : Post-processing terminated. Time: 0.0122s\n",
      "2021-05-23 09:59:01,142 | INFO : Counterfactual generation terminated. Status: OPTIMAL. Time: 0.4017s\n"
     ]
    },
    {
     "data": {
      "text/plain": [
       "Counterfactual(n_jobs=1,\n",
       "               scorecard=Scorecard(binning_process=BinningProcess(binning_fit_params=None,\n",
       "                                                                  binning_transform_params=None,\n",
       "                                                                  categorical_variables=None,\n",
       "                                                                  max_bin_size=None,\n",
       "                                                                  max_n_bins=None,\n",
       "                                                                  max_n_prebins=20,\n",
       "                                                                  max_pvalue=None,\n",
       "                                                                  max_pvalue_policy='consecutive',\n",
       "                                                                  min_bin_size=None,\n",
       "                                                                  min_n_bins=None,\n",
       "                                                                  min_prebin_size=0.05,\n",
       "                                                                  n_jobs=None,\n",
       "                                                                  selection_criteria=None,\n",
       "                                                                  spec...\n",
       "                                                                                  'AveOccup',\n",
       "                                                                                  'Latitude',\n",
       "                                                                                  'Longitude'],\n",
       "                                                                  verbose=False),\n",
       "                                   estimator=HuberRegressor(alpha=0.0001,\n",
       "                                                            epsilon=1.35,\n",
       "                                                            fit_intercept=True,\n",
       "                                                            max_iter=200,\n",
       "                                                            tol=1e-05,\n",
       "                                                            warm_start=False),\n",
       "                                   intercept_based=False,\n",
       "                                   reverse_scorecard=True, rounding=False,\n",
       "                                   scaling_method='min_max',\n",
       "                                   scaling_method_params={'max': 100, 'min': 0},\n",
       "                                   target='target', verbose=True),\n",
       "               special_missing=False, verbose=True)"
      ]
     },
     "execution_count": 9,
     "metadata": {},
     "output_type": "execute_result"
    }
   ],
   "source": [
    "cf.generate(query=query, y=4.5, outcome_type=\"continuous\", n_cf=1,\n",
    "            max_changes=3, hard_constraints=[\"min_outcome\"])"
   ]
  },
  {
   "cell_type": "code",
   "execution_count": 10,
   "metadata": {},
   "outputs": [
    {
     "name": "stdout",
     "output_type": "stream",
     "text": [
      "optbinning (Version 0.12.0)\n",
      "Copyright (c) 2019-2021 Guillermo Navas-Palencia, Apache License 2.0\n",
      "\n",
      "  Status  : OPTIMAL                         \n",
      "\n",
      "  Solver statistics\n",
      "    Type                                 mip\n",
      "    Number of variables                  120\n",
      "    Number of constraints                 42\n",
      "    Objective value                   7.6866\n",
      "    Best objective bound              7.6866\n",
      "\n",
      "  Objectives\n",
      "    proximity                         0.7069\n",
      "    closeness                         6.9798\n",
      "\n",
      "  Timing\n",
      "    Total time                          0.43 sec\n",
      "    Fit                                 0.08 sec   ( 17.58%)\n",
      "    Solver                              0.34 sec   ( 79.57%)\n",
      "    Post-processing                     0.01 sec   (  3.58%)\n",
      "\n"
     ]
    }
   ],
   "source": [
    "cf.information()"
   ]
  },
  {
   "cell_type": "markdown",
   "metadata": {},
   "source": [
    "The generate counterfactual suggest increasing the block population, reduce the average house occupancy and change the house block longitude. None of them seems doable."
   ]
  },
  {
   "cell_type": "code",
   "execution_count": 11,
   "metadata": {},
   "outputs": [
    {
     "data": {
      "text/html": [
       "<div>\n",
       "<style scoped>\n",
       "    .dataframe tbody tr th:only-of-type {\n",
       "        vertical-align: middle;\n",
       "    }\n",
       "\n",
       "    .dataframe tbody tr th {\n",
       "        vertical-align: top;\n",
       "    }\n",
       "\n",
       "    .dataframe thead th {\n",
       "        text-align: right;\n",
       "    }\n",
       "</style>\n",
       "<table border=\"1\" class=\"dataframe\">\n",
       "  <thead>\n",
       "    <tr style=\"text-align: right;\">\n",
       "      <th></th>\n",
       "      <th>MedInc</th>\n",
       "      <th>HouseAge</th>\n",
       "      <th>AveRooms</th>\n",
       "      <th>AveBedrms</th>\n",
       "      <th>Population</th>\n",
       "      <th>AveOccup</th>\n",
       "      <th>Latitude</th>\n",
       "      <th>Longitude</th>\n",
       "      <th>outcome</th>\n",
       "    </tr>\n",
       "  </thead>\n",
       "  <tbody>\n",
       "    <tr>\n",
       "      <th>0</th>\n",
       "      <td>-</td>\n",
       "      <td>-</td>\n",
       "      <td>-</td>\n",
       "      <td>-</td>\n",
       "      <td>[986.50, 1160.50)</td>\n",
       "      <td>[-inf, 1.95)</td>\n",
       "      <td>-</td>\n",
       "      <td>[-122.16, -118.33)</td>\n",
       "      <td>4.520902</td>\n",
       "    </tr>\n",
       "  </tbody>\n",
       "</table>\n",
       "</div>"
      ],
      "text/plain": [
       "  MedInc HouseAge AveRooms AveBedrms         Population      AveOccup  \\\n",
       "0      -        -        -         -  [986.50, 1160.50)  [-inf, 1.95)   \n",
       "\n",
       "  Latitude           Longitude   outcome  \n",
       "0        -  [-122.16, -118.33)  4.520902  "
      ]
     },
     "execution_count": 11,
     "metadata": {},
     "output_type": "execute_result"
    }
   ],
   "source": [
    "cf.display(show_only_changes=True, show_outcome=True)"
   ]
  },
  {
   "cell_type": "markdown",
   "metadata": {},
   "source": [
    "Now, let's generate several counterfactuals aiming to limit the house value to 4.0."
   ]
  },
  {
   "cell_type": "code",
   "execution_count": 12,
   "metadata": {},
   "outputs": [
    {
     "name": "stdout",
     "output_type": "stream",
     "text": [
      "2021-05-23 09:59:01,250 | INFO : Counterfactual generation started.\n",
      "2021-05-23 09:59:01,252 | INFO : Options: check parameters.\n",
      "2021-05-23 09:59:01,258 | INFO : Options: check objectives and constraints.\n",
      "2021-05-23 09:59:01,260 | INFO : Optimizer started.\n",
      "2021-05-23 09:59:01,260 | INFO : Optimizer: build model...\n",
      "2021-05-23 09:59:01,476 | INFO : Optimizer: solve...\n",
      "2021-05-23 09:59:22,581 | INFO : Optimizer terminated. Time: 21.3209s\n",
      "2021-05-23 09:59:22,583 | INFO : Post-processing started.\n",
      "2021-05-23 09:59:22,614 | INFO : Post-processing terminated. Time: 0.0294s\n",
      "2021-05-23 09:59:22,615 | INFO : Counterfactual generation terminated. Status: OPTIMAL. Time: 21.3649s\n"
     ]
    },
    {
     "data": {
      "text/html": [
       "<div>\n",
       "<style scoped>\n",
       "    .dataframe tbody tr th:only-of-type {\n",
       "        vertical-align: middle;\n",
       "    }\n",
       "\n",
       "    .dataframe tbody tr th {\n",
       "        vertical-align: top;\n",
       "    }\n",
       "\n",
       "    .dataframe thead th {\n",
       "        text-align: right;\n",
       "    }\n",
       "</style>\n",
       "<table border=\"1\" class=\"dataframe\">\n",
       "  <thead>\n",
       "    <tr style=\"text-align: right;\">\n",
       "      <th></th>\n",
       "      <th>MedInc</th>\n",
       "      <th>HouseAge</th>\n",
       "      <th>AveRooms</th>\n",
       "      <th>AveBedrms</th>\n",
       "      <th>Population</th>\n",
       "      <th>AveOccup</th>\n",
       "      <th>Latitude</th>\n",
       "      <th>Longitude</th>\n",
       "      <th>outcome</th>\n",
       "    </tr>\n",
       "  </thead>\n",
       "  <tbody>\n",
       "    <tr>\n",
       "      <th>0</th>\n",
       "      <td>-</td>\n",
       "      <td>-</td>\n",
       "      <td>-</td>\n",
       "      <td>-</td>\n",
       "      <td>[986.50, 1160.50)</td>\n",
       "      <td>[3.11, 3.24)</td>\n",
       "      <td>-</td>\n",
       "      <td>[-122.16, -118.33)</td>\n",
       "      <td>3.968866</td>\n",
       "    </tr>\n",
       "    <tr>\n",
       "      <th>0</th>\n",
       "      <td>[5.79, 6.82)</td>\n",
       "      <td>-</td>\n",
       "      <td>-</td>\n",
       "      <td>[-inf, 0.95)</td>\n",
       "      <td>-</td>\n",
       "      <td>-</td>\n",
       "      <td>-</td>\n",
       "      <td>[-122.16, -118.33)</td>\n",
       "      <td>3.227336</td>\n",
       "    </tr>\n",
       "    <tr>\n",
       "      <th>0</th>\n",
       "      <td>[5.79, 6.82)</td>\n",
       "      <td>-</td>\n",
       "      <td>-</td>\n",
       "      <td>-</td>\n",
       "      <td>[986.50, 1160.50)</td>\n",
       "      <td>-</td>\n",
       "      <td>-</td>\n",
       "      <td>[-122.16, -118.33)</td>\n",
       "      <td>3.158199</td>\n",
       "    </tr>\n",
       "  </tbody>\n",
       "</table>\n",
       "</div>"
      ],
      "text/plain": [
       "         MedInc HouseAge AveRooms     AveBedrms         Population  \\\n",
       "0             -        -        -             -  [986.50, 1160.50)   \n",
       "0  [5.79, 6.82)        -        -  [-inf, 0.95)                  -   \n",
       "0  [5.79, 6.82)        -        -             -  [986.50, 1160.50)   \n",
       "\n",
       "       AveOccup Latitude           Longitude   outcome  \n",
       "0  [3.11, 3.24)        -  [-122.16, -118.33)  3.968866  \n",
       "0             -        -  [-122.16, -118.33)  3.227336  \n",
       "0             -        -  [-122.16, -118.33)  3.158199  "
      ]
     },
     "execution_count": 12,
     "metadata": {},
     "output_type": "execute_result"
    }
   ],
   "source": [
    "cf.generate(query=query, y=4.0, outcome_type=\"continuous\", n_cf=3,\n",
    "            max_changes=3,\n",
    "            hard_constraints=[\"diversity_features\", \"max_outcome\"],\n",
    "            time_limit=30\n",
    "           ).display(show_only_changes=True, show_outcome=True)"
   ]
  },
  {
   "cell_type": "markdown",
   "metadata": {},
   "source": [
    "And the same generation enforcing diversity on feature values."
   ]
  },
  {
   "cell_type": "code",
   "execution_count": 13,
   "metadata": {},
   "outputs": [
    {
     "name": "stdout",
     "output_type": "stream",
     "text": [
      "2021-05-23 09:59:22,658 | INFO : Counterfactual generation started.\n",
      "2021-05-23 09:59:22,660 | INFO : Options: check parameters.\n",
      "2021-05-23 09:59:22,666 | INFO : Options: check objectives and constraints.\n",
      "2021-05-23 09:59:22,667 | INFO : Optimizer started.\n",
      "2021-05-23 09:59:22,669 | INFO : Optimizer: build model...\n",
      "2021-05-23 09:59:22,818 | INFO : Optimizer: solve...\n",
      "2021-05-23 09:59:46,222 | INFO : Optimizer terminated. Time: 23.5526s\n",
      "2021-05-23 09:59:46,223 | INFO : Post-processing started.\n",
      "2021-05-23 09:59:46,255 | INFO : Post-processing terminated. Time: 0.0302s\n",
      "2021-05-23 09:59:46,255 | INFO : Counterfactual generation terminated. Status: OPTIMAL. Time: 23.5970s\n"
     ]
    },
    {
     "data": {
      "text/html": [
       "<div>\n",
       "<style scoped>\n",
       "    .dataframe tbody tr th:only-of-type {\n",
       "        vertical-align: middle;\n",
       "    }\n",
       "\n",
       "    .dataframe tbody tr th {\n",
       "        vertical-align: top;\n",
       "    }\n",
       "\n",
       "    .dataframe thead th {\n",
       "        text-align: right;\n",
       "    }\n",
       "</style>\n",
       "<table border=\"1\" class=\"dataframe\">\n",
       "  <thead>\n",
       "    <tr style=\"text-align: right;\">\n",
       "      <th></th>\n",
       "      <th>MedInc</th>\n",
       "      <th>HouseAge</th>\n",
       "      <th>AveRooms</th>\n",
       "      <th>AveBedrms</th>\n",
       "      <th>Population</th>\n",
       "      <th>AveOccup</th>\n",
       "      <th>Latitude</th>\n",
       "      <th>Longitude</th>\n",
       "      <th>outcome</th>\n",
       "    </tr>\n",
       "  </thead>\n",
       "  <tbody>\n",
       "    <tr>\n",
       "      <th>0</th>\n",
       "      <td>[5.79, 6.82)</td>\n",
       "      <td>-</td>\n",
       "      <td>-</td>\n",
       "      <td>-</td>\n",
       "      <td>-</td>\n",
       "      <td>[3.11, 3.24)</td>\n",
       "      <td>-</td>\n",
       "      <td>[-118.16, inf)</td>\n",
       "      <td>2.981844</td>\n",
       "    </tr>\n",
       "    <tr>\n",
       "      <th>0</th>\n",
       "      <td>[4.53, 5.04)</td>\n",
       "      <td>-</td>\n",
       "      <td>[6.12, 6.37)</td>\n",
       "      <td>-</td>\n",
       "      <td>-</td>\n",
       "      <td>-</td>\n",
       "      <td>-</td>\n",
       "      <td>[-118.33, -118.26)</td>\n",
       "      <td>2.486897</td>\n",
       "    </tr>\n",
       "    <tr>\n",
       "      <th>0</th>\n",
       "      <td>[5.04, 5.79)</td>\n",
       "      <td>-</td>\n",
       "      <td>-</td>\n",
       "      <td>-</td>\n",
       "      <td>[986.50, 1160.50)</td>\n",
       "      <td>-</td>\n",
       "      <td>-</td>\n",
       "      <td>[-122.16, -118.33)</td>\n",
       "      <td>2.646881</td>\n",
       "    </tr>\n",
       "  </tbody>\n",
       "</table>\n",
       "</div>"
      ],
      "text/plain": [
       "         MedInc HouseAge      AveRooms AveBedrms         Population  \\\n",
       "0  [5.79, 6.82)        -             -         -                  -   \n",
       "0  [4.53, 5.04)        -  [6.12, 6.37)         -                  -   \n",
       "0  [5.04, 5.79)        -             -         -  [986.50, 1160.50)   \n",
       "\n",
       "       AveOccup Latitude           Longitude   outcome  \n",
       "0  [3.11, 3.24)        -      [-118.16, inf)  2.981844  \n",
       "0             -        -  [-118.33, -118.26)  2.486897  \n",
       "0             -        -  [-122.16, -118.33)  2.646881  "
      ]
     },
     "execution_count": 13,
     "metadata": {},
     "output_type": "execute_result"
    }
   ],
   "source": [
    "cf.generate(query=query, y=3.0, outcome_type=\"continuous\", n_cf=3,\n",
    "            max_changes=3,\n",
    "            hard_constraints=[\"diversity_features\", \"diversity_values\", \"max_outcome\"],\n",
    "            time_limit=30\n",
    "           ).display(show_only_changes=True, show_outcome=True)"
   ]
  }
 ],
 "metadata": {
  "kernelspec": {
   "display_name": "Python 3",
   "language": "python",
   "name": "python3"
  },
  "language_info": {
   "codemirror_mode": {
    "name": "ipython",
    "version": 3
   },
   "file_extension": ".py",
   "mimetype": "text/x-python",
   "name": "python",
   "nbconvert_exporter": "python",
   "pygments_lexer": "ipython3",
   "version": "3.7.4"
  }
 },
 "nbformat": 4,
 "nbformat_minor": 2
}
