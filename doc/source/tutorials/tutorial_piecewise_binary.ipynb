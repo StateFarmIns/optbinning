{
 "cells": [
  {
   "cell_type": "markdown",
   "metadata": {},
   "source": [
    "# Tutorial: optimal piecewise binning with binary target"
   ]
  },
  {
   "cell_type": "markdown",
   "metadata": {},
   "source": [
    "## Basic"
   ]
  },
  {
   "cell_type": "markdown",
   "metadata": {},
   "source": [
    "To get us started, let's load a well-known dataset from the UCI repository and transform the data into a ``pandas.DataFrame``."
   ]
  },
  {
   "cell_type": "code",
   "execution_count": 1,
   "metadata": {},
   "outputs": [],
   "source": [
    "import numpy as np\n",
    "import pandas as pd\n",
    "from sklearn.datasets import load_breast_cancer"
   ]
  },
  {
   "cell_type": "code",
   "execution_count": 2,
   "metadata": {},
   "outputs": [],
   "source": [
    "data = load_breast_cancer()\n",
    "df = pd.DataFrame(data.data, columns=data.feature_names)"
   ]
  },
  {
   "cell_type": "markdown",
   "metadata": {},
   "source": [
    "We choose a variable to discretize and the binary target."
   ]
  },
  {
   "cell_type": "code",
   "execution_count": 3,
   "metadata": {},
   "outputs": [],
   "source": [
    "variable = \"mean radius\"\n",
    "x = df[variable].values\n",
    "y = data.target"
   ]
  },
  {
   "cell_type": "markdown",
   "metadata": {},
   "source": [
    "Import and instantiate an ``OptimalPWBinning`` object class and we pass the variable name. The ``OptimalPWBinning`` can **ONLY** handle numerical variables. This differs from the ``OptimalBinning`` object class."
   ]
  },
  {
   "cell_type": "code",
   "execution_count": 4,
   "metadata": {},
   "outputs": [],
   "source": [
    "from optbinning import OptimalPWBinning"
   ]
  },
  {
   "cell_type": "code",
   "execution_count": 5,
   "metadata": {},
   "outputs": [],
   "source": [
    "optb = OptimalPWBinning(name=variable)"
   ]
  },
  {
   "cell_type": "markdown",
   "metadata": {},
   "source": [
    "We fit the optimal binning object with arrays ``x`` and ``y``. We set a minimum (lower bound) and maximum (upper bound) probability using arguments ``lb`` and ``ub``. Note that these bounds are optional, but guarantee an event rate between $[0, 1]$ as any probability distribution. As shown later, settings these bounds will increase the problem size thus leading to higher solution times. An alternative approach to bypass these bounds is implemented when transforming to event rate or WoE using functions ``fit`` and ``fit_transform``, where values outside the interval $[0, 1]$ are clipped.\n",
    "\n",
    "Note that the Weight-of-Evidence is not defined for event rate equal 0 or 1. Therefore, for small datasets, we recommend modifying the interval $[0, 1]$ with a small value, thus using $[\\epsilon, 1 - \\epsilon]$."
   ]
  },
  {
   "cell_type": "code",
   "execution_count": 6,
   "metadata": {},
   "outputs": [
    {
     "data": {
      "text/plain": [
       "OptimalPWBinning(continuous=True, degree=1,\n",
       "                 estimator=LogisticRegression(C=1.0, class_weight=None,\n",
       "                                              dual=False, fit_intercept=True,\n",
       "                                              intercept_scaling=1,\n",
       "                                              l1_ratio=None, max_iter=100,\n",
       "                                              multi_class='auto', n_jobs=None,\n",
       "                                              penalty='l2', random_state=None,\n",
       "                                              solver='lbfgs', tol=0.0001,\n",
       "                                              verbose=0, warm_start=False),\n",
       "                 h_epsilon=1.35, max_bin_size=None, max_n_bins=None,\n",
       "                 max_n_prebins...\n",
       "                 min_n_bins=None, min_prebin_size=0.05, monotonic_trend='auto',\n",
       "                 n_subsamples=None, name='mean radius', objective='l2',\n",
       "                 outlier_detector=None, outlier_params=None,\n",
       "                 prebinning_method='cart', quantile=0.5, random_state=None,\n",
       "                 reg_l1=1.0, reg_l2=1.0, regularization=None, solver='auto',\n",
       "                 special_codes=None, split_digits=None, user_splits=None,\n",
       "                 user_splits_fixed=None, verbose=False)"
      ]
     },
     "execution_count": 6,
     "metadata": {},
     "output_type": "execute_result"
    }
   ],
   "source": [
    "optb.fit(x, y, lb=0.001, ub=0.999)"
   ]
  },
  {
   "cell_type": "markdown",
   "metadata": {},
   "source": [
    "You can check if an optimal solution has been found via the ``status`` attribute:"
   ]
  },
  {
   "cell_type": "code",
   "execution_count": 7,
   "metadata": {},
   "outputs": [
    {
     "data": {
      "text/plain": [
       "'OPTIMAL'"
      ]
     },
     "execution_count": 7,
     "metadata": {},
     "output_type": "execute_result"
    }
   ],
   "source": [
    "optb.status"
   ]
  },
  {
   "cell_type": "markdown",
   "metadata": {},
   "source": [
    "You can also retrieve the optimal split points via the ``splits`` attribute:"
   ]
  },
  {
   "cell_type": "code",
   "execution_count": 8,
   "metadata": {},
   "outputs": [
    {
     "data": {
      "text/plain": [
       "array([11.42500019, 12.32999992, 13.09499979, 13.70499992, 15.04500008,\n",
       "       16.92500019])"
      ]
     },
     "execution_count": 8,
     "metadata": {},
     "output_type": "execute_result"
    }
   ],
   "source": [
    "optb.splits"
   ]
  },
  {
   "cell_type": "markdown",
   "metadata": {},
   "source": [
    "#### The binning table"
   ]
  },
  {
   "cell_type": "markdown",
   "metadata": {},
   "source": [
    "The optimal binning algorithms return a binning table; a binning table displays the binned data and several metrics for each bin. Class ``OptimalPWBinning`` returns an object ``PWBinningTable`` via the ``binning_table`` attribute."
   ]
  },
  {
   "cell_type": "code",
   "execution_count": 9,
   "metadata": {},
   "outputs": [],
   "source": [
    "binning_table = optb.binning_table"
   ]
  },
  {
   "cell_type": "code",
   "execution_count": 10,
   "metadata": {},
   "outputs": [
    {
     "data": {
      "text/plain": [
       "optbinning.binning.piecewise.binning_statistics.PWBinningTable"
      ]
     },
     "execution_count": 10,
     "metadata": {},
     "output_type": "execute_result"
    }
   ],
   "source": [
    "type(binning_table)"
   ]
  },
  {
   "cell_type": "markdown",
   "metadata": {},
   "source": [
    "The `binning_table` is instantiated, but not built. Therefore, the first step is to call the method `build`, which returns a ``pandas.DataFrame``."
   ]
  },
  {
   "cell_type": "code",
   "execution_count": 11,
   "metadata": {},
   "outputs": [
    {
     "data": {
      "text/html": [
       "<div>\n",
       "<style scoped>\n",
       "    .dataframe tbody tr th:only-of-type {\n",
       "        vertical-align: middle;\n",
       "    }\n",
       "\n",
       "    .dataframe tbody tr th {\n",
       "        vertical-align: top;\n",
       "    }\n",
       "\n",
       "    .dataframe thead th {\n",
       "        text-align: right;\n",
       "    }\n",
       "</style>\n",
       "<table border=\"1\" class=\"dataframe\">\n",
       "  <thead>\n",
       "    <tr style=\"text-align: right;\">\n",
       "      <th></th>\n",
       "      <th>Bin</th>\n",
       "      <th>Count</th>\n",
       "      <th>Count (%)</th>\n",
       "      <th>Non-event</th>\n",
       "      <th>Event</th>\n",
       "      <th>c0</th>\n",
       "      <th>c1</th>\n",
       "    </tr>\n",
       "  </thead>\n",
       "  <tbody>\n",
       "    <tr>\n",
       "      <th>0</th>\n",
       "      <td>[-inf, 11.43)</td>\n",
       "      <td>118</td>\n",
       "      <td>0.207381</td>\n",
       "      <td>3</td>\n",
       "      <td>115</td>\n",
       "      <td>1.03265</td>\n",
       "      <td>-0.0048199</td>\n",
       "    </tr>\n",
       "    <tr>\n",
       "      <th>1</th>\n",
       "      <td>[11.43, 12.33)</td>\n",
       "      <td>79</td>\n",
       "      <td>0.138840</td>\n",
       "      <td>3</td>\n",
       "      <td>76</td>\n",
       "      <td>1.64484</td>\n",
       "      <td>-0.0584032</td>\n",
       "    </tr>\n",
       "    <tr>\n",
       "      <th>2</th>\n",
       "      <td>[12.33, 13.09)</td>\n",
       "      <td>68</td>\n",
       "      <td>0.119508</td>\n",
       "      <td>7</td>\n",
       "      <td>61</td>\n",
       "      <td>2.14057</td>\n",
       "      <td>-0.0986085</td>\n",
       "    </tr>\n",
       "    <tr>\n",
       "      <th>3</th>\n",
       "      <td>[13.09, 13.70)</td>\n",
       "      <td>49</td>\n",
       "      <td>0.086116</td>\n",
       "      <td>10</td>\n",
       "      <td>39</td>\n",
       "      <td>2.91496</td>\n",
       "      <td>-0.157745</td>\n",
       "    </tr>\n",
       "    <tr>\n",
       "      <th>4</th>\n",
       "      <td>[13.70, 15.05)</td>\n",
       "      <td>83</td>\n",
       "      <td>0.145870</td>\n",
       "      <td>28</td>\n",
       "      <td>55</td>\n",
       "      <td>4.10527</td>\n",
       "      <td>-0.244597</td>\n",
       "    </tr>\n",
       "    <tr>\n",
       "      <th>5</th>\n",
       "      <td>[15.05, 16.93)</td>\n",
       "      <td>54</td>\n",
       "      <td>0.094903</td>\n",
       "      <td>44</td>\n",
       "      <td>10</td>\n",
       "      <td>3.56249</td>\n",
       "      <td>-0.20852</td>\n",
       "    </tr>\n",
       "    <tr>\n",
       "      <th>6</th>\n",
       "      <td>[16.93, inf)</td>\n",
       "      <td>118</td>\n",
       "      <td>0.207381</td>\n",
       "      <td>117</td>\n",
       "      <td>1</td>\n",
       "      <td>0.0821419</td>\n",
       "      <td>-0.00288659</td>\n",
       "    </tr>\n",
       "    <tr>\n",
       "      <th>7</th>\n",
       "      <td>Special</td>\n",
       "      <td>0</td>\n",
       "      <td>0.000000</td>\n",
       "      <td>0</td>\n",
       "      <td>0</td>\n",
       "      <td>0</td>\n",
       "      <td>0</td>\n",
       "    </tr>\n",
       "    <tr>\n",
       "      <th>8</th>\n",
       "      <td>Missing</td>\n",
       "      <td>0</td>\n",
       "      <td>0.000000</td>\n",
       "      <td>0</td>\n",
       "      <td>0</td>\n",
       "      <td>0</td>\n",
       "      <td>0</td>\n",
       "    </tr>\n",
       "    <tr>\n",
       "      <th>Totals</th>\n",
       "      <td></td>\n",
       "      <td>569</td>\n",
       "      <td>1.000000</td>\n",
       "      <td>212</td>\n",
       "      <td>357</td>\n",
       "      <td>-</td>\n",
       "      <td>-</td>\n",
       "    </tr>\n",
       "  </tbody>\n",
       "</table>\n",
       "</div>"
      ],
      "text/plain": [
       "                   Bin  Count  Count (%)  Non-event  Event         c0  \\\n",
       "0        [-inf, 11.43)    118   0.207381          3    115    1.03265   \n",
       "1       [11.43, 12.33)     79   0.138840          3     76    1.64484   \n",
       "2       [12.33, 13.09)     68   0.119508          7     61    2.14057   \n",
       "3       [13.09, 13.70)     49   0.086116         10     39    2.91496   \n",
       "4       [13.70, 15.05)     83   0.145870         28     55    4.10527   \n",
       "5       [15.05, 16.93)     54   0.094903         44     10    3.56249   \n",
       "6         [16.93, inf)    118   0.207381        117      1  0.0821419   \n",
       "7              Special      0   0.000000          0      0          0   \n",
       "8              Missing      0   0.000000          0      0          0   \n",
       "Totals                    569   1.000000        212    357          -   \n",
       "\n",
       "                c1  \n",
       "0       -0.0048199  \n",
       "1       -0.0584032  \n",
       "2       -0.0986085  \n",
       "3        -0.157745  \n",
       "4        -0.244597  \n",
       "5         -0.20852  \n",
       "6      -0.00288659  \n",
       "7                0  \n",
       "8                0  \n",
       "Totals           -  "
      ]
     },
     "execution_count": 11,
     "metadata": {},
     "output_type": "execute_result"
    }
   ],
   "source": [
    "binning_table.build()"
   ]
  },
  {
   "cell_type": "markdown",
   "metadata": {},
   "source": [
    "Let's describe the columns of this binning table:\n",
    "\n",
    "- Bin: the intervals delimited by the optimal split points.\n",
    "- Count: the number of records for each bin.\n",
    "- Count (%): the percentage of records for each bin.\n",
    "- Non-event: the number of non-event records $(y = 0)$ for each bin.\n",
    "- Event: the number of event records $(y = 1)$ for each bin.\n",
    "- $c_0$: the first coefficient of the event rate polynomial.\n",
    "- $c_1$: the second coefficient of the event rate polynomial.\n",
    "\n",
    "The event rate for bin $i$ is defined as $ER_i = c_0 + c_1 x_i$, where $x_i \\in \\text{Bin}_{i}$. In general,\n",
    "\\begin{equation}\n",
    "ER_i = \\sum_{j=0}^d c_j x_i^j,\n",
    "\\end{equation}\n",
    "where $d$ is the degree of the event rate polynomial.\n",
    "\n",
    "The last row shows the total number of records, non-event records, event records."
   ]
  },
  {
   "cell_type": "markdown",
   "metadata": {},
   "source": [
    "You can use the method ``plot`` to visualize the number of non-event and event records by bin, and WoE or event rate curve."
   ]
  },
  {
   "cell_type": "code",
   "execution_count": 12,
   "metadata": {},
   "outputs": [
    {
     "data": {
      "image/png": "[encoded data removed]",
      "text/plain": [
       "<Figure size 432x288 with 2 Axes>"
      ]
     },
     "metadata": {
      "needs_background": "light"
     },
     "output_type": "display_data"
    }
   ],
   "source": [
    "binning_table.plot(metric=\"woe\")"
   ]
  },
  {
   "cell_type": "code",
   "execution_count": 13,
   "metadata": {},
   "outputs": [
    {
     "data": {
      "image/png": "[encoded data removed]",
      "text/plain": [
       "<Figure size 432x288 with 2 Axes>"
      ]
     },
     "metadata": {
      "needs_background": "light"
     },
     "output_type": "display_data"
    }
   ],
   "source": [
    "binning_table.plot(metric=\"event_rate\")"
   ]
  },
  {
   "cell_type": "markdown",
   "metadata": {},
   "source": [
    "##### Event rate / WoE transformation"
   ]
  },
  {
   "cell_type": "markdown",
   "metadata": {},
   "source": [
    "Now that we have checked the binned data, we can transform our original data into WoE or event rate values."
   ]
  },
  {
   "cell_type": "code",
   "execution_count": 14,
   "metadata": {},
   "outputs": [],
   "source": [
    "x_transform_woe = optb.transform(x, metric=\"woe\")"
   ]
  },
  {
   "cell_type": "code",
   "execution_count": 15,
   "metadata": {},
   "outputs": [],
   "source": [
    "x_transform_event_rate = optb.transform(x, metric=\"event_rate\")"
   ]
  },
  {
   "cell_type": "markdown",
   "metadata": {},
   "source": [
    "## Advanced"
   ]
  },
  {
   "cell_type": "markdown",
   "metadata": {},
   "source": [
    "#### Optimal binning Information"
   ]
  },
  {
   "cell_type": "markdown",
   "metadata": {},
   "source": [
    "The ``OptimalPWBinning`` can print overview information about the options settings, problem statistics, and the solution of the computation. By default, ``print_level=1``."
   ]
  },
  {
   "cell_type": "code",
   "execution_count": 16,
   "metadata": {},
   "outputs": [
    {
     "data": {
      "text/plain": [
       "OptimalPWBinning(continuous=True, degree=1,\n",
       "                 estimator=LogisticRegression(C=1.0, class_weight=None,\n",
       "                                              dual=False, fit_intercept=True,\n",
       "                                              intercept_scaling=1,\n",
       "                                              l1_ratio=None, max_iter=100,\n",
       "                                              multi_class='auto', n_jobs=None,\n",
       "                                              penalty='l2', random_state=None,\n",
       "                                              solver='lbfgs', tol=0.0001,\n",
       "                                              verbose=0, warm_start=False),\n",
       "                 h_epsilon=1.35, max_bin_size=None, max_n_bins=None,\n",
       "                 max_n_prebins...\n",
       "                 min_n_bins=None, min_prebin_size=0.05, monotonic_trend='auto',\n",
       "                 n_subsamples=None, name='mean radius', objective='l2',\n",
       "                 outlier_detector=None, outlier_params=None,\n",
       "                 prebinning_method='cart', quantile=0.5, random_state=None,\n",
       "                 reg_l1=1.0, reg_l2=1.0, regularization=None, solver='auto',\n",
       "                 special_codes=None, split_digits=None, user_splits=None,\n",
       "                 user_splits_fixed=None, verbose=False)"
      ]
     },
     "execution_count": 16,
     "metadata": {},
     "output_type": "execute_result"
    }
   ],
   "source": [
    "optb = OptimalPWBinning(name=variable)\n",
    "optb.fit(x, y)"
   ]
  },
  {
   "cell_type": "markdown",
   "metadata": {},
   "source": [
    "If ``print_level=0``, a minimal output including the header, variable name, status, and total time are printed."
   ]
  },
  {
   "cell_type": "code",
   "execution_count": 17,
   "metadata": {},
   "outputs": [
    {
     "name": "stdout",
     "output_type": "stream",
     "text": [
      "optbinning (Version 0.11.0)\n",
      "Copyright (c) 2019-2021 Guillermo Navas-Palencia, Apache License 2.0\n",
      "\n",
      "  Name    : mean radius                     \n",
      "  Status  : OPTIMAL                         \n",
      "\n",
      "  Time    : 0.0717  sec\n",
      "\n"
     ]
    }
   ],
   "source": [
    "optb.information(print_level=0)"
   ]
  },
  {
   "cell_type": "markdown",
   "metadata": {},
   "source": [
    "If ``print_level>=1``, statistics on the pre-binning phase and the solver are printed. More detailed timing statistics are also included."
   ]
  },
  {
   "cell_type": "code",
   "execution_count": 18,
   "metadata": {},
   "outputs": [
    {
     "name": "stdout",
     "output_type": "stream",
     "text": [
      "optbinning (Version 0.11.0)\n",
      "Copyright (c) 2019-2021 Guillermo Navas-Palencia, Apache License 2.0\n",
      "\n",
      "  Name    : mean radius                     \n",
      "  Status  : OPTIMAL                         \n",
      "\n",
      "  Pre-binning statistics\n",
      "    Number of bins                         7\n",
      "\n",
      "  Solver statistics\n",
      "    Type                                auto\n",
      "    Number of variables                   14\n",
      "    Number of constraints                 20\n",
      "\n",
      "  Timing\n",
      "    Total time                          0.07 sec\n",
      "    Pre-processing                      0.00 sec   (  0.29%)\n",
      "    Estimator                           0.01 sec   ( 12.23%)\n",
      "    Pre-binning                         0.04 sec   ( 55.33%)\n",
      "    Solver                              0.02 sec   ( 21.76%)\n",
      "    Post-processing                     0.01 sec   (  9.47%)\n",
      "\n"
     ]
    }
   ],
   "source": [
    "optb.information(print_level=1)"
   ]
  },
  {
   "cell_type": "markdown",
   "metadata": {},
   "source": [
    "If ``print_level=2``, the list of all options of the ``OptimalBinning`` are displayed."
   ]
  },
  {
   "cell_type": "code",
   "execution_count": 19,
   "metadata": {},
   "outputs": [
    {
     "name": "stdout",
     "output_type": "stream",
     "text": [
      "optbinning (Version 0.11.0)\n",
      "Copyright (c) 2019-2021 Guillermo Navas-Palencia, Apache License 2.0\n",
      "\n",
      "  Begin options\n",
      "    name                         mean radius   * U\n",
      "    estimator                            yes   * U\n",
      "    objective                             l2   * d\n",
      "    degree                                 1   * d\n",
      "    continuous                          True   * d\n",
      "    prebinning_method                   cart   * d\n",
      "    max_n_prebins                         20   * d\n",
      "    min_prebin_size                     0.05   * d\n",
      "    min_n_bins                            no   * d\n",
      "    max_n_bins                            no   * d\n",
      "    min_bin_size                          no   * d\n",
      "    max_bin_size                          no   * d\n",
      "    monotonic_trend                     auto   * d\n",
      "    n_subsamples                          no   * d\n",
      "    max_pvalue                            no   * d\n",
      "    max_pvalue_policy            consecutive   * d\n",
      "    outlier_detector                      no   * d\n",
      "    outlier_params                        no   * d\n",
      "    user_splits                           no   * d\n",
      "    special_codes                         no   * d\n",
      "    split_digits                          no   * d\n",
      "    solver                              auto   * d\n",
      "    h_epsilon                           1.35   * d\n",
      "    quantile                             0.5   * d\n",
      "    regularization                        no   * d\n",
      "    reg_l1                               1.0   * d\n",
      "    reg_l2                               1.0   * d\n",
      "    random_state                          no   * d\n",
      "    verbose                            False   * d\n",
      "  End options\n",
      "\n",
      "  Name    : mean radius                     \n",
      "  Status  : OPTIMAL                         \n",
      "\n",
      "  Pre-binning statistics\n",
      "    Number of bins                         7\n",
      "\n",
      "  Solver statistics\n",
      "    Type                                auto\n",
      "    Number of variables                   14\n",
      "    Number of constraints                 20\n",
      "\n",
      "  Timing\n",
      "    Total time                          0.07 sec\n",
      "    Pre-processing                      0.00 sec   (  0.29%)\n",
      "    Estimator                           0.01 sec   ( 12.23%)\n",
      "    Pre-binning                         0.04 sec   ( 55.33%)\n",
      "    Solver                              0.02 sec   ( 21.76%)\n",
      "    Post-processing                     0.01 sec   (  9.47%)\n",
      "\n"
     ]
    }
   ],
   "source": [
    "optb.information(print_level=2)"
   ]
  },
  {
   "cell_type": "markdown",
   "metadata": {},
   "source": [
    "#### Binning table statistical analysis"
   ]
  },
  {
   "cell_type": "markdown",
   "metadata": {},
   "source": [
    "The ``analysis`` method performs a statistical analysis of the binning table, computing the statistics Gini index, Information Value (IV), Jensen-Shannon divergence, and the quality score. Additionally, several statistical significance tests between consecutive bins of the contingency table are performed: a frequentist test using the Chi-square test or the Fisher's exact test, and a Bayesian A/B test using the beta distribution as a conjugate prior of the Bernoulli distribution. The piecewise binning also includes two performance metrics: the average precision and the Brier score."
   ]
  },
  {
   "cell_type": "code",
   "execution_count": 20,
   "metadata": {},
   "outputs": [
    {
     "name": "stdout",
     "output_type": "stream",
     "text": [
      "---------------------------------------------\n",
      "OptimalBinning: Binary Binning Table Analysis\n",
      "---------------------------------------------\n",
      "\n",
      "  General metrics\n",
      "\n",
      "    Gini index               0.87503303\n",
      "    IV (Jeffrey)             4.47808263\n",
      "    JS (Jensen-Shannon)      0.37566002\n",
      "    Hellinger                0.44267970\n",
      "    Triangular               1.20862637\n",
      "    KS                       0.72390466\n",
      "    Avg precision            0.95577179\n",
      "    Brier score              0.08956351\n",
      "    HHI                      0.15727342\n",
      "    HHI (normalized)         0.05193260\n",
      "    Cramer's V               0.80066760\n",
      "    Quality score            0.00000000\n",
      "\n",
      "  Significance tests\n",
      "\n",
      "    Bin A  Bin B  t-statistic       p-value  P[A > B]      P[B > A]\n",
      "        0      1     0.289789  5.903557e-01  0.697563  3.024368e-01\n",
      "        1      2     2.285355  1.306002e-01  0.941469  5.853092e-02\n",
      "        2      3     2.317546  1.279217e-01  0.936661  6.333919e-02\n",
      "        3      4     2.539025  1.110634e-01  0.950869  4.913141e-02\n",
      "        4      5    29.418844  5.830790e-08  1.000000  1.898159e-11\n",
      "        5      6    18.624518  1.591604e-05  0.999997  3.106835e-06\n",
      "\n"
     ]
    }
   ],
   "source": [
    "binning_table.analysis(pvalue_test=\"chi2\")"
   ]
  },
  {
   "cell_type": "code",
   "execution_count": 21,
   "metadata": {},
   "outputs": [
    {
     "name": "stdout",
     "output_type": "stream",
     "text": [
      "---------------------------------------------\n",
      "OptimalBinning: Binary Binning Table Analysis\n",
      "---------------------------------------------\n",
      "\n",
      "  General metrics\n",
      "\n",
      "    Gini index               0.87503303\n",
      "    IV (Jeffrey)             4.47808263\n",
      "    JS (Jensen-Shannon)      0.37566002\n",
      "    Hellinger                0.44267970\n",
      "    Triangular               1.20862637\n",
      "    KS                       0.72390466\n",
      "    Avg precision            0.95577179\n",
      "    Brier score              0.08956351\n",
      "    HHI                      0.15727342\n",
      "    HHI (normalized)         0.05193260\n",
      "    Cramer's V               0.80066760\n",
      "    Quality score            0.00000000\n",
      "\n",
      "  Significance tests\n",
      "\n",
      "    Bin A  Bin B  odd ratio       p-value  P[A > B]      P[B > A]\n",
      "        0      1   0.660870  6.855009e-01  0.697563  3.024368e-01\n",
      "        1      2   0.343985  1.879769e-01  0.941469  5.853092e-02\n",
      "        2      3   0.447541  1.829850e-01  0.936661  6.333919e-02\n",
      "        3      4   0.503663  1.153088e-01  0.950869  4.913141e-02\n",
      "        4      5   0.115702  3.464724e-08  1.000000  1.898159e-11\n",
      "        5      6   0.037607  4.144258e-05  0.999997  3.106835e-06\n",
      "\n"
     ]
    }
   ],
   "source": [
    "binning_table.analysis(pvalue_test=\"fisher\")"
   ]
  },
  {
   "cell_type": "markdown",
   "metadata": {},
   "source": [
    "#### Event rate / WoE monotonicity"
   ]
  },
  {
   "cell_type": "markdown",
   "metadata": {},
   "source": [
    "The ``monotonic_trend`` option permits forcing a monotonic trend to the event rate curve. The default setting \"auto\" should be the preferred option, however, some business constraints might require to impose different trends. The default setting \"auto\" chooses the monotonic trend most likely to maximize the information value from the options \"ascending\", \"descending\", \"peak\" and \"valley\" using a machine-learning-based classifier."
   ]
  },
  {
   "cell_type": "code",
   "execution_count": 22,
   "metadata": {},
   "outputs": [],
   "source": [
    "variable = \"mean texture\"\n",
    "x = df[variable].values\n",
    "y = data.target"
   ]
  },
  {
   "cell_type": "code",
   "execution_count": 23,
   "metadata": {},
   "outputs": [
    {
     "data": {
      "text/plain": [
       "OptimalPWBinning(continuous=True, degree=1,\n",
       "                 estimator=LogisticRegression(C=1.0, class_weight=None,\n",
       "                                              dual=False, fit_intercept=True,\n",
       "                                              intercept_scaling=1,\n",
       "                                              l1_ratio=None, max_iter=100,\n",
       "                                              multi_class='auto', n_jobs=None,\n",
       "                                              penalty='l2', random_state=None,\n",
       "                                              solver='lbfgs', tol=0.0001,\n",
       "                                              verbose=0, warm_start=False),\n",
       "                 h_epsilon=1.35, max_bin_size=None, max_n_bins=None,\n",
       "                 max_n_prebins...\n",
       "                 min_n_bins=None, min_prebin_size=0.05, monotonic_trend='auto',\n",
       "                 n_subsamples=None, name='mean texture', objective='l2',\n",
       "                 outlier_detector=None, outlier_params=None,\n",
       "                 prebinning_method='cart', quantile=0.5, random_state=None,\n",
       "                 reg_l1=1.0, reg_l2=1.0, regularization=None, solver='auto',\n",
       "                 special_codes=None, split_digits=None, user_splits=None,\n",
       "                 user_splits_fixed=None, verbose=False)"
      ]
     },
     "execution_count": 23,
     "metadata": {},
     "output_type": "execute_result"
    }
   ],
   "source": [
    "optb = OptimalPWBinning(name=variable)\n",
    "optb.fit(x, y, lb=0.001, ub=0.999)"
   ]
  },
  {
   "cell_type": "code",
   "execution_count": 24,
   "metadata": {},
   "outputs": [
    {
     "data": {
      "text/html": [
       "<div>\n",
       "<style scoped>\n",
       "    .dataframe tbody tr th:only-of-type {\n",
       "        vertical-align: middle;\n",
       "    }\n",
       "\n",
       "    .dataframe tbody tr th {\n",
       "        vertical-align: top;\n",
       "    }\n",
       "\n",
       "    .dataframe thead th {\n",
       "        text-align: right;\n",
       "    }\n",
       "</style>\n",
       "<table border=\"1\" class=\"dataframe\">\n",
       "  <thead>\n",
       "    <tr style=\"text-align: right;\">\n",
       "      <th></th>\n",
       "      <th>Bin</th>\n",
       "      <th>Count</th>\n",
       "      <th>Count (%)</th>\n",
       "      <th>Non-event</th>\n",
       "      <th>Event</th>\n",
       "      <th>c0</th>\n",
       "      <th>c1</th>\n",
       "    </tr>\n",
       "  </thead>\n",
       "  <tbody>\n",
       "    <tr>\n",
       "      <th>0</th>\n",
       "      <td>[-inf, 15.05)</td>\n",
       "      <td>92</td>\n",
       "      <td>0.161687</td>\n",
       "      <td>4</td>\n",
       "      <td>88</td>\n",
       "      <td>1.19518</td>\n",
       "      <td>-0.0239015</td>\n",
       "    </tr>\n",
       "    <tr>\n",
       "      <th>1</th>\n",
       "      <td>[15.05, 16.39)</td>\n",
       "      <td>61</td>\n",
       "      <td>0.107206</td>\n",
       "      <td>8</td>\n",
       "      <td>53</td>\n",
       "      <td>1.43854</td>\n",
       "      <td>-0.0400774</td>\n",
       "    </tr>\n",
       "    <tr>\n",
       "      <th>2</th>\n",
       "      <td>[16.39, 17.03)</td>\n",
       "      <td>29</td>\n",
       "      <td>0.050967</td>\n",
       "      <td>6</td>\n",
       "      <td>23</td>\n",
       "      <td>1.42601</td>\n",
       "      <td>-0.0393128</td>\n",
       "    </tr>\n",
       "    <tr>\n",
       "      <th>3</th>\n",
       "      <td>[17.03, 18.46)</td>\n",
       "      <td>79</td>\n",
       "      <td>0.138840</td>\n",
       "      <td>17</td>\n",
       "      <td>62</td>\n",
       "      <td>1.55674</td>\n",
       "      <td>-0.0469873</td>\n",
       "    </tr>\n",
       "    <tr>\n",
       "      <th>4</th>\n",
       "      <td>[18.46, 19.47)</td>\n",
       "      <td>55</td>\n",
       "      <td>0.096661</td>\n",
       "      <td>20</td>\n",
       "      <td>35</td>\n",
       "      <td>1.66523</td>\n",
       "      <td>-0.0528638</td>\n",
       "    </tr>\n",
       "    <tr>\n",
       "      <th>5</th>\n",
       "      <td>[19.47, 20.20)</td>\n",
       "      <td>36</td>\n",
       "      <td>0.063269</td>\n",
       "      <td>18</td>\n",
       "      <td>18</td>\n",
       "      <td>1.71402</td>\n",
       "      <td>-0.0553698</td>\n",
       "    </tr>\n",
       "    <tr>\n",
       "      <th>6</th>\n",
       "      <td>[20.20, 21.71)</td>\n",
       "      <td>72</td>\n",
       "      <td>0.126538</td>\n",
       "      <td>43</td>\n",
       "      <td>29</td>\n",
       "      <td>1.76253</td>\n",
       "      <td>-0.0577723</td>\n",
       "    </tr>\n",
       "    <tr>\n",
       "      <th>7</th>\n",
       "      <td>[21.71, 22.74)</td>\n",
       "      <td>40</td>\n",
       "      <td>0.070299</td>\n",
       "      <td>27</td>\n",
       "      <td>13</td>\n",
       "      <td>1.80404</td>\n",
       "      <td>-0.059684</td>\n",
       "    </tr>\n",
       "    <tr>\n",
       "      <th>8</th>\n",
       "      <td>[22.74, 24.00)</td>\n",
       "      <td>29</td>\n",
       "      <td>0.050967</td>\n",
       "      <td>24</td>\n",
       "      <td>5</td>\n",
       "      <td>1.67099</td>\n",
       "      <td>-0.0538332</td>\n",
       "    </tr>\n",
       "    <tr>\n",
       "      <th>9</th>\n",
       "      <td>[24.00, 26.98)</td>\n",
       "      <td>43</td>\n",
       "      <td>0.075571</td>\n",
       "      <td>30</td>\n",
       "      <td>13</td>\n",
       "      <td>1.75293</td>\n",
       "      <td>-0.0572474</td>\n",
       "    </tr>\n",
       "    <tr>\n",
       "      <th>10</th>\n",
       "      <td>[26.98, inf)</td>\n",
       "      <td>33</td>\n",
       "      <td>0.057996</td>\n",
       "      <td>15</td>\n",
       "      <td>18</td>\n",
       "      <td>0.663321</td>\n",
       "      <td>-0.0168615</td>\n",
       "    </tr>\n",
       "    <tr>\n",
       "      <th>11</th>\n",
       "      <td>Special</td>\n",
       "      <td>0</td>\n",
       "      <td>0.000000</td>\n",
       "      <td>0</td>\n",
       "      <td>0</td>\n",
       "      <td>0</td>\n",
       "      <td>0</td>\n",
       "    </tr>\n",
       "    <tr>\n",
       "      <th>12</th>\n",
       "      <td>Missing</td>\n",
       "      <td>0</td>\n",
       "      <td>0.000000</td>\n",
       "      <td>0</td>\n",
       "      <td>0</td>\n",
       "      <td>0</td>\n",
       "      <td>0</td>\n",
       "    </tr>\n",
       "    <tr>\n",
       "      <th>Totals</th>\n",
       "      <td></td>\n",
       "      <td>569</td>\n",
       "      <td>1.000000</td>\n",
       "      <td>212</td>\n",
       "      <td>357</td>\n",
       "      <td>-</td>\n",
       "      <td>-</td>\n",
       "    </tr>\n",
       "  </tbody>\n",
       "</table>\n",
       "</div>"
      ],
      "text/plain": [
       "                   Bin  Count  Count (%)  Non-event  Event        c0  \\\n",
       "0        [-inf, 15.05)     92   0.161687          4     88   1.19518   \n",
       "1       [15.05, 16.39)     61   0.107206          8     53   1.43854   \n",
       "2       [16.39, 17.03)     29   0.050967          6     23   1.42601   \n",
       "3       [17.03, 18.46)     79   0.138840         17     62   1.55674   \n",
       "4       [18.46, 19.47)     55   0.096661         20     35   1.66523   \n",
       "5       [19.47, 20.20)     36   0.063269         18     18   1.71402   \n",
       "6       [20.20, 21.71)     72   0.126538         43     29   1.76253   \n",
       "7       [21.71, 22.74)     40   0.070299         27     13   1.80404   \n",
       "8       [22.74, 24.00)     29   0.050967         24      5   1.67099   \n",
       "9       [24.00, 26.98)     43   0.075571         30     13   1.75293   \n",
       "10        [26.98, inf)     33   0.057996         15     18  0.663321   \n",
       "11             Special      0   0.000000          0      0         0   \n",
       "12             Missing      0   0.000000          0      0         0   \n",
       "Totals                    569   1.000000        212    357         -   \n",
       "\n",
       "               c1  \n",
       "0      -0.0239015  \n",
       "1      -0.0400774  \n",
       "2      -0.0393128  \n",
       "3      -0.0469873  \n",
       "4      -0.0528638  \n",
       "5      -0.0553698  \n",
       "6      -0.0577723  \n",
       "7       -0.059684  \n",
       "8      -0.0538332  \n",
       "9      -0.0572474  \n",
       "10     -0.0168615  \n",
       "11              0  \n",
       "12              0  \n",
       "Totals          -  "
      ]
     },
     "execution_count": 24,
     "metadata": {},
     "output_type": "execute_result"
    }
   ],
   "source": [
    "binning_table = optb.binning_table\n",
    "binning_table.build()"
   ]
  },
  {
   "cell_type": "code",
   "execution_count": 25,
   "metadata": {},
   "outputs": [
    {
     "data": {
      "image/png": "[encoded data removed]",
      "text/plain": [
       "<Figure size 432x288 with 2 Axes>"
      ]
     },
     "metadata": {
      "needs_background": "light"
     },
     "output_type": "display_data"
    }
   ],
   "source": [
    "binning_table.plot(metric=\"event_rate\")"
   ]
  },
  {
   "cell_type": "markdown",
   "metadata": {},
   "source": [
    "For example, we can force the variable mean texture to be convex with respect to the probability of having breast cancer."
   ]
  },
  {
   "cell_type": "code",
   "execution_count": 26,
   "metadata": {},
   "outputs": [
    {
     "data": {
      "text/plain": [
       "OptimalPWBinning(continuous=True, degree=1,\n",
       "                 estimator=LogisticRegression(C=1.0, class_weight=None,\n",
       "                                              dual=False, fit_intercept=True,\n",
       "                                              intercept_scaling=1,\n",
       "                                              l1_ratio=None, max_iter=100,\n",
       "                                              multi_class='auto', n_jobs=None,\n",
       "                                              penalty='l2', random_state=None,\n",
       "                                              solver='lbfgs', tol=0.0001,\n",
       "                                              verbose=0, warm_start=False),\n",
       "                 h_epsilon=1.35, max_bin_size=None, max_n_bins=None,\n",
       "                 max_n_prebins...\n",
       "                 min_n_bins=None, min_prebin_size=0.05,\n",
       "                 monotonic_trend='convex', n_subsamples=None,\n",
       "                 name='mean texture', objective='l2', outlier_detector=None,\n",
       "                 outlier_params=None, prebinning_method='cart', quantile=0.5,\n",
       "                 random_state=None, reg_l1=1.0, reg_l2=1.0, regularization=None,\n",
       "                 solver='auto', special_codes=None, split_digits=None,\n",
       "                 user_splits=None, user_splits_fixed=None, verbose=False)"
      ]
     },
     "execution_count": 26,
     "metadata": {},
     "output_type": "execute_result"
    }
   ],
   "source": [
    "optb = OptimalPWBinning(name=variable, monotonic_trend=\"convex\")\n",
    "optb.fit(x, y, lb=0.001, ub=0.999)"
   ]
  },
  {
   "cell_type": "code",
   "execution_count": 27,
   "metadata": {},
   "outputs": [
    {
     "data": {
      "image/png": "[encoded data removed]",
      "text/plain": [
       "<Figure size 432x288 with 2 Axes>"
      ]
     },
     "metadata": {
      "needs_background": "light"
     },
     "output_type": "display_data"
    }
   ],
   "source": [
    "binning_table = optb.binning_table\n",
    "binning_table.build()\n",
    "binning_table.plot(metric=\"event_rate\")"
   ]
  },
  {
   "cell_type": "markdown",
   "metadata": {},
   "source": [
    "#### User-defined split points"
   ]
  },
  {
   "cell_type": "markdown",
   "metadata": {},
   "source": [
    "In some situations, we have defined split points or bins required to satisfy a priori belief,  knowledge or business constraint. The ``OptimalPWBinning`` permits to pass user-defined split points. The supplied information is used as a pre-binning, disallowing any pre-binning method set by the user. Furthermore, version 0.5.0 introduces ``user_splits_fixed`` parameter, to allow the user to fix some user-defined splits, so these must appear in the solution."
   ]
  },
  {
   "cell_type": "markdown",
   "metadata": {},
   "source": [
    "Example numerical variable:"
   ]
  },
  {
   "cell_type": "code",
   "execution_count": 28,
   "metadata": {},
   "outputs": [],
   "source": [
    "user_splits =       [  14,    15,    16,    17,    20,    21,    22,    27]\n",
    "user_splits_fixed = [False, True,  True, False, False, False, False, False]"
   ]
  },
  {
   "cell_type": "code",
   "execution_count": 29,
   "metadata": {},
   "outputs": [
    {
     "data": {
      "text/plain": [
       "OptimalPWBinning(continuous=True, degree=1,\n",
       "                 estimator=LogisticRegression(C=1.0, class_weight=None,\n",
       "                                              dual=False, fit_intercept=True,\n",
       "                                              intercept_scaling=1,\n",
       "                                              l1_ratio=None, max_iter=100,\n",
       "                                              multi_class='auto', n_jobs=None,\n",
       "                                              penalty='l2', random_state=None,\n",
       "                                              solver='lbfgs', tol=0.0001,\n",
       "                                              verbose=0, warm_start=False),\n",
       "                 h_epsilon=1.35, max_bin_size=None, max_n_bins=None,\n",
       "                 max_n_prebins...\n",
       "                 n_subsamples=None, name='mean texture', objective='l2',\n",
       "                 outlier_detector=None, outlier_params=None,\n",
       "                 prebinning_method='cart', quantile=0.5, random_state=None,\n",
       "                 reg_l1=1.0, reg_l2=1.0, regularization=None, solver='auto',\n",
       "                 special_codes=None, split_digits=None,\n",
       "                 user_splits=[14, 15, 16, 17, 20, 21, 22, 27],\n",
       "                 user_splits_fixed=[False, True, True, False, False, False,\n",
       "                                    False, False],\n",
       "                 verbose=False)"
      ]
     },
     "execution_count": 29,
     "metadata": {},
     "output_type": "execute_result"
    }
   ],
   "source": [
    "optb = OptimalPWBinning(name=variable, user_splits=user_splits,\n",
    "                        user_splits_fixed=user_splits_fixed)\n",
    "\n",
    "optb.fit(x, y)"
   ]
  },
  {
   "cell_type": "code",
   "execution_count": 30,
   "metadata": {},
   "outputs": [
    {
     "data": {
      "text/html": [
       "<div>\n",
       "<style scoped>\n",
       "    .dataframe tbody tr th:only-of-type {\n",
       "        vertical-align: middle;\n",
       "    }\n",
       "\n",
       "    .dataframe tbody tr th {\n",
       "        vertical-align: top;\n",
       "    }\n",
       "\n",
       "    .dataframe thead th {\n",
       "        text-align: right;\n",
       "    }\n",
       "</style>\n",
       "<table border=\"1\" class=\"dataframe\">\n",
       "  <thead>\n",
       "    <tr style=\"text-align: right;\">\n",
       "      <th></th>\n",
       "      <th>Bin</th>\n",
       "      <th>Count</th>\n",
       "      <th>Count (%)</th>\n",
       "      <th>Non-event</th>\n",
       "      <th>Event</th>\n",
       "      <th>c0</th>\n",
       "      <th>c1</th>\n",
       "    </tr>\n",
       "  </thead>\n",
       "  <tbody>\n",
       "    <tr>\n",
       "      <th>0</th>\n",
       "      <td>[-inf, 14.00)</td>\n",
       "      <td>54</td>\n",
       "      <td>0.094903</td>\n",
       "      <td>2</td>\n",
       "      <td>52</td>\n",
       "      <td>1.15397</td>\n",
       "      <td>-0.0205654</td>\n",
       "    </tr>\n",
       "    <tr>\n",
       "      <th>1</th>\n",
       "      <td>[14.00, 15.00)</td>\n",
       "      <td>37</td>\n",
       "      <td>0.065026</td>\n",
       "      <td>2</td>\n",
       "      <td>35</td>\n",
       "      <td>1.35451</td>\n",
       "      <td>-0.0348897</td>\n",
       "    </tr>\n",
       "    <tr>\n",
       "      <th>2</th>\n",
       "      <td>[15.00, 16.00)</td>\n",
       "      <td>43</td>\n",
       "      <td>0.075571</td>\n",
       "      <td>7</td>\n",
       "      <td>36</td>\n",
       "      <td>1.24446</td>\n",
       "      <td>-0.0275524</td>\n",
       "    </tr>\n",
       "    <tr>\n",
       "      <th>3</th>\n",
       "      <td>[16.00, 20.00)</td>\n",
       "      <td>210</td>\n",
       "      <td>0.369069</td>\n",
       "      <td>59</td>\n",
       "      <td>151</td>\n",
       "      <td>1.5709</td>\n",
       "      <td>-0.0479552</td>\n",
       "    </tr>\n",
       "    <tr>\n",
       "      <th>4</th>\n",
       "      <td>[20.00, 21.00)</td>\n",
       "      <td>45</td>\n",
       "      <td>0.079086</td>\n",
       "      <td>26</td>\n",
       "      <td>19</td>\n",
       "      <td>1.87464</td>\n",
       "      <td>-0.063142</td>\n",
       "    </tr>\n",
       "    <tr>\n",
       "      <th>5</th>\n",
       "      <td>[21.00, 22.00)</td>\n",
       "      <td>49</td>\n",
       "      <td>0.086116</td>\n",
       "      <td>30</td>\n",
       "      <td>19</td>\n",
       "      <td>1.78837</td>\n",
       "      <td>-0.0590341</td>\n",
       "    </tr>\n",
       "    <tr>\n",
       "      <th>6</th>\n",
       "      <td>[22.00, 27.00)</td>\n",
       "      <td>99</td>\n",
       "      <td>0.173989</td>\n",
       "      <td>71</td>\n",
       "      <td>28</td>\n",
       "      <td>1.70844</td>\n",
       "      <td>-0.0554011</td>\n",
       "    </tr>\n",
       "    <tr>\n",
       "      <th>7</th>\n",
       "      <td>[27.00, inf)</td>\n",
       "      <td>32</td>\n",
       "      <td>0.056239</td>\n",
       "      <td>15</td>\n",
       "      <td>17</td>\n",
       "      <td>0.789092</td>\n",
       "      <td>-0.021351</td>\n",
       "    </tr>\n",
       "    <tr>\n",
       "      <th>8</th>\n",
       "      <td>Special</td>\n",
       "      <td>0</td>\n",
       "      <td>0.000000</td>\n",
       "      <td>0</td>\n",
       "      <td>0</td>\n",
       "      <td>0</td>\n",
       "      <td>0</td>\n",
       "    </tr>\n",
       "    <tr>\n",
       "      <th>9</th>\n",
       "      <td>Missing</td>\n",
       "      <td>0</td>\n",
       "      <td>0.000000</td>\n",
       "      <td>0</td>\n",
       "      <td>0</td>\n",
       "      <td>0</td>\n",
       "      <td>0</td>\n",
       "    </tr>\n",
       "    <tr>\n",
       "      <th>Totals</th>\n",
       "      <td></td>\n",
       "      <td>569</td>\n",
       "      <td>1.000000</td>\n",
       "      <td>212</td>\n",
       "      <td>357</td>\n",
       "      <td>-</td>\n",
       "      <td>-</td>\n",
       "    </tr>\n",
       "  </tbody>\n",
       "</table>\n",
       "</div>"
      ],
      "text/plain": [
       "                   Bin  Count  Count (%)  Non-event  Event        c0  \\\n",
       "0        [-inf, 14.00)     54   0.094903          2     52   1.15397   \n",
       "1       [14.00, 15.00)     37   0.065026          2     35   1.35451   \n",
       "2       [15.00, 16.00)     43   0.075571          7     36   1.24446   \n",
       "3       [16.00, 20.00)    210   0.369069         59    151    1.5709   \n",
       "4       [20.00, 21.00)     45   0.079086         26     19   1.87464   \n",
       "5       [21.00, 22.00)     49   0.086116         30     19   1.78837   \n",
       "6       [22.00, 27.00)     99   0.173989         71     28   1.70844   \n",
       "7         [27.00, inf)     32   0.056239         15     17  0.789092   \n",
       "8              Special      0   0.000000          0      0         0   \n",
       "9              Missing      0   0.000000          0      0         0   \n",
       "Totals                    569   1.000000        212    357         -   \n",
       "\n",
       "               c1  \n",
       "0      -0.0205654  \n",
       "1      -0.0348897  \n",
       "2      -0.0275524  \n",
       "3      -0.0479552  \n",
       "4       -0.063142  \n",
       "5      -0.0590341  \n",
       "6      -0.0554011  \n",
       "7       -0.021351  \n",
       "8               0  \n",
       "9               0  \n",
       "Totals          -  "
      ]
     },
     "execution_count": 30,
     "metadata": {},
     "output_type": "execute_result"
    }
   ],
   "source": [
    "binning_table = optb.binning_table\n",
    "binning_table.build()"
   ]
  },
  {
   "cell_type": "code",
   "execution_count": 31,
   "metadata": {},
   "outputs": [
    {
     "name": "stdout",
     "output_type": "stream",
     "text": [
      "optbinning (Version 0.11.0)\n",
      "Copyright (c) 2019-2021 Guillermo Navas-Palencia, Apache License 2.0\n",
      "\n",
      "  Name    : mean texture                    \n",
      "  Status  : OPTIMAL                         \n",
      "\n",
      "  Pre-binning statistics\n",
      "    Number of bins                         8\n",
      "\n",
      "  Solver statistics\n",
      "    Type                                auto\n",
      "    Number of variables                   16\n",
      "    Number of constraints                 23\n",
      "\n",
      "  Timing\n",
      "    Total time                          0.15 sec\n",
      "    Pre-processing                      0.00 sec   (  0.18%)\n",
      "    Estimator                           0.01 sec   (  7.64%)\n",
      "    Pre-binning                         0.09 sec   ( 61.96%)\n",
      "    Solver                              0.03 sec   ( 21.76%)\n",
      "    Post-processing                     0.01 sec   (  7.82%)\n",
      "\n"
     ]
    }
   ],
   "source": [
    "optb.information()"
   ]
  },
  {
   "cell_type": "markdown",
   "metadata": {},
   "source": [
    "#### Performance: choosing a solver"
   ]
  },
  {
   "cell_type": "markdown",
   "metadata": {},
   "source": [
    "``OptimalPWBinning`` uses the RoPWR library to solving the piecewise regression problem. See https://github.com/guillermo-navas-palencia/ropwr for details."
   ]
  },
  {
   "cell_type": "markdown",
   "metadata": {},
   "source": [
    "#### Robustness: choosing an objective function and regularization"
   ]
  },
  {
   "cell_type": "markdown",
   "metadata": {},
   "source": [
    "``OptimalPWBinning`` uses the RoPWR library to solving the piecewise regression problem. See https://github.com/guillermo-navas-palencia/ropwr for details."
   ]
  },
  {
   "cell_type": "markdown",
   "metadata": {},
   "source": [
    "#### Missing data and special codes"
   ]
  },
  {
   "cell_type": "markdown",
   "metadata": {},
   "source": [
    "For this example, let's load data from the FICO Explainable Machine Learning Challenge: https://community.fico.com/s/explainable-machine-learning-challenge"
   ]
  },
  {
   "cell_type": "code",
   "execution_count": 32,
   "metadata": {},
   "outputs": [],
   "source": [
    "df = pd.read_csv(\"data/FICO_challenge/heloc_dataset_v1.csv\", sep=\",\")"
   ]
  },
  {
   "cell_type": "markdown",
   "metadata": {},
   "source": [
    "The data dictionary of this challenge includes three special values/codes:\n",
    "\n",
    "* -9 No Bureau Record or No Investigation\n",
    "* -8 No Usable/Valid Trades or Inquiries\n",
    "* -7 Condition not Met (e.g. No Inquiries, No Delinquencies) "
   ]
  },
  {
   "cell_type": "code",
   "execution_count": 33,
   "metadata": {},
   "outputs": [],
   "source": [
    "special_codes = [-9, -8, -7]"
   ]
  },
  {
   "cell_type": "code",
   "execution_count": 34,
   "metadata": {},
   "outputs": [],
   "source": [
    "variable = \"AverageMInFile\"\n",
    "x = df[variable].values\n",
    "y = df.RiskPerformance.values"
   ]
  },
  {
   "cell_type": "code",
   "execution_count": 35,
   "metadata": {},
   "outputs": [
    {
     "data": {
      "text/plain": [
       "array(['Bad', 'Good'], dtype=object)"
      ]
     },
     "execution_count": 35,
     "metadata": {},
     "output_type": "execute_result"
    }
   ],
   "source": [
    "df.RiskPerformance.unique()"
   ]
  },
  {
   "cell_type": "markdown",
   "metadata": {},
   "source": [
    "Target is a categorical dichotomic variable, which can be easily transform into numerical."
   ]
  },
  {
   "cell_type": "code",
   "execution_count": 36,
   "metadata": {},
   "outputs": [],
   "source": [
    "mask = y == \"Bad\"\n",
    "y[mask] = 1\n",
    "y[~mask] = 0\n",
    "y = y.astype(int)"
   ]
  },
  {
   "cell_type": "markdown",
   "metadata": {},
   "source": [
    "For the sake of completeness, we include a few missing values"
   ]
  },
  {
   "cell_type": "code",
   "execution_count": 37,
   "metadata": {},
   "outputs": [],
   "source": [
    "idx = np.random.randint(0, len(x), 500)\n",
    "x = x.astype(np.float)\n",
    "x[idx] = np.nan"
   ]
  },
  {
   "cell_type": "code",
   "execution_count": 38,
   "metadata": {},
   "outputs": [
    {
     "data": {
      "text/plain": [
       "OptimalPWBinning(continuous=True, degree=1,\n",
       "                 estimator=LogisticRegression(C=1.0, class_weight=None,\n",
       "                                              dual=False, fit_intercept=True,\n",
       "                                              intercept_scaling=1,\n",
       "                                              l1_ratio=None, max_iter=100,\n",
       "                                              multi_class='auto', n_jobs=None,\n",
       "                                              penalty='l2', random_state=None,\n",
       "                                              solver='lbfgs', tol=0.0001,\n",
       "                                              verbose=0, warm_start=False),\n",
       "                 h_epsilon=1.35, max_bin_size=None, max_n_bins=None,\n",
       "                 max_n_prebins...\n",
       "                 min_n_bins=None, min_prebin_size=0.05, monotonic_trend='auto',\n",
       "                 n_subsamples=None, name='AverageMInFile', objective='l2',\n",
       "                 outlier_detector=None, outlier_params=None,\n",
       "                 prebinning_method='cart', quantile=0.5, random_state=None,\n",
       "                 reg_l1=1.0, reg_l2=1.0, regularization=None, solver='osqp',\n",
       "                 special_codes=[-9, -8, -7], split_digits=None,\n",
       "                 user_splits=None, user_splits_fixed=None, verbose=False)"
      ]
     },
     "execution_count": 38,
     "metadata": {},
     "output_type": "execute_result"
    }
   ],
   "source": [
    "optb = OptimalPWBinning(name=variable, special_codes=special_codes, solver=\"osqp\")\n",
    "\n",
    "optb.fit(x, y, lb=0, ub=1)"
   ]
  },
  {
   "cell_type": "code",
   "execution_count": 39,
   "metadata": {},
   "outputs": [
    {
     "name": "stdout",
     "output_type": "stream",
     "text": [
      "optbinning (Version 0.11.0)\n",
      "Copyright (c) 2019-2021 Guillermo Navas-Palencia, Apache License 2.0\n",
      "\n",
      "  Name    : AverageMInFile                  \n",
      "  Status  : OPTIMAL                         \n",
      "\n",
      "  Pre-binning statistics\n",
      "    Number of bins                        12\n",
      "\n",
      "  Solver statistics\n",
      "    Type                                osqp\n",
      "    Number of variables                   24\n",
      "    Number of constraints              18847\n",
      "\n",
      "  Timing\n",
      "    Total time                          0.39 sec\n",
      "    Pre-processing                      0.00 sec   (  0.44%)\n",
      "    Estimator                           0.04 sec   (  9.37%)\n",
      "    Pre-binning                         0.17 sec   ( 43.37%)\n",
      "    Solver                              0.16 sec   ( 41.45%)\n",
      "    Post-processing                     0.02 sec   (  4.96%)\n",
      "\n"
     ]
    }
   ],
   "source": [
    "optb.information(print_level=1)"
   ]
  },
  {
   "cell_type": "code",
   "execution_count": 40,
   "metadata": {},
   "outputs": [
    {
     "data": {
      "text/html": [
       "<div>\n",
       "<style scoped>\n",
       "    .dataframe tbody tr th:only-of-type {\n",
       "        vertical-align: middle;\n",
       "    }\n",
       "\n",
       "    .dataframe tbody tr th {\n",
       "        vertical-align: top;\n",
       "    }\n",
       "\n",
       "    .dataframe thead th {\n",
       "        text-align: right;\n",
       "    }\n",
       "</style>\n",
       "<table border=\"1\" class=\"dataframe\">\n",
       "  <thead>\n",
       "    <tr style=\"text-align: right;\">\n",
       "      <th></th>\n",
       "      <th>Bin</th>\n",
       "      <th>Count</th>\n",
       "      <th>Count (%)</th>\n",
       "      <th>Non-event</th>\n",
       "      <th>Event</th>\n",
       "      <th>c0</th>\n",
       "      <th>c1</th>\n",
       "    </tr>\n",
       "  </thead>\n",
       "  <tbody>\n",
       "    <tr>\n",
       "      <th>0</th>\n",
       "      <td>[-inf, 30.50)</td>\n",
       "      <td>543</td>\n",
       "      <td>0.051917</td>\n",
       "      <td>97</td>\n",
       "      <td>446</td>\n",
       "      <td>0.788301</td>\n",
       "      <td>-0.00304249</td>\n",
       "    </tr>\n",
       "    <tr>\n",
       "      <th>1</th>\n",
       "      <td>[30.50, 41.50)</td>\n",
       "      <td>554</td>\n",
       "      <td>0.052969</td>\n",
       "      <td>147</td>\n",
       "      <td>407</td>\n",
       "      <td>0.799788</td>\n",
       "      <td>-0.00341911</td>\n",
       "    </tr>\n",
       "    <tr>\n",
       "      <th>2</th>\n",
       "      <td>[41.50, 48.50)</td>\n",
       "      <td>516</td>\n",
       "      <td>0.049336</td>\n",
       "      <td>145</td>\n",
       "      <td>371</td>\n",
       "      <td>0.803716</td>\n",
       "      <td>-0.00351377</td>\n",
       "    </tr>\n",
       "    <tr>\n",
       "      <th>3</th>\n",
       "      <td>[48.50, 54.50)</td>\n",
       "      <td>528</td>\n",
       "      <td>0.050483</td>\n",
       "      <td>188</td>\n",
       "      <td>340</td>\n",
       "      <td>0.808907</td>\n",
       "      <td>-0.0036208</td>\n",
       "    </tr>\n",
       "    <tr>\n",
       "      <th>4</th>\n",
       "      <td>[54.50, 59.50)</td>\n",
       "      <td>494</td>\n",
       "      <td>0.047232</td>\n",
       "      <td>195</td>\n",
       "      <td>299</td>\n",
       "      <td>0.812732</td>\n",
       "      <td>-0.00369099</td>\n",
       "    </tr>\n",
       "    <tr>\n",
       "      <th>5</th>\n",
       "      <td>[59.50, 64.50)</td>\n",
       "      <td>600</td>\n",
       "      <td>0.057367</td>\n",
       "      <td>263</td>\n",
       "      <td>337</td>\n",
       "      <td>0.814625</td>\n",
       "      <td>-0.0037228</td>\n",
       "    </tr>\n",
       "    <tr>\n",
       "      <th>6</th>\n",
       "      <td>[64.50, 70.50)</td>\n",
       "      <td>781</td>\n",
       "      <td>0.074673</td>\n",
       "      <td>361</td>\n",
       "      <td>420</td>\n",
       "      <td>0.821307</td>\n",
       "      <td>-0.00382639</td>\n",
       "    </tr>\n",
       "    <tr>\n",
       "      <th>7</th>\n",
       "      <td>[70.50, 74.50)</td>\n",
       "      <td>534</td>\n",
       "      <td>0.051057</td>\n",
       "      <td>260</td>\n",
       "      <td>274</td>\n",
       "      <td>0.802862</td>\n",
       "      <td>-0.00356477</td>\n",
       "    </tr>\n",
       "    <tr>\n",
       "      <th>8</th>\n",
       "      <td>[74.50, 81.50)</td>\n",
       "      <td>904</td>\n",
       "      <td>0.086433</td>\n",
       "      <td>476</td>\n",
       "      <td>428</td>\n",
       "      <td>0.858438</td>\n",
       "      <td>-0.00431075</td>\n",
       "    </tr>\n",
       "    <tr>\n",
       "      <th>9</th>\n",
       "      <td>[81.50, 97.50)</td>\n",
       "      <td>1693</td>\n",
       "      <td>0.161870</td>\n",
       "      <td>961</td>\n",
       "      <td>732</td>\n",
       "      <td>0.77016</td>\n",
       "      <td>-0.00322759</td>\n",
       "    </tr>\n",
       "    <tr>\n",
       "      <th>10</th>\n",
       "      <td>[97.50, 116.50)</td>\n",
       "      <td>1169</td>\n",
       "      <td>0.111770</td>\n",
       "      <td>711</td>\n",
       "      <td>458</td>\n",
       "      <td>1.03335</td>\n",
       "      <td>-0.00592698</td>\n",
       "    </tr>\n",
       "    <tr>\n",
       "      <th>11</th>\n",
       "      <td>[116.50, inf)</td>\n",
       "      <td>1090</td>\n",
       "      <td>0.104216</td>\n",
       "      <td>703</td>\n",
       "      <td>387</td>\n",
       "      <td>0.492737</td>\n",
       "      <td>-0.00128652</td>\n",
       "    </tr>\n",
       "    <tr>\n",
       "      <th>12</th>\n",
       "      <td>Special</td>\n",
       "      <td>566</td>\n",
       "      <td>0.054116</td>\n",
       "      <td>255</td>\n",
       "      <td>311</td>\n",
       "      <td>0.54947</td>\n",
       "      <td>0</td>\n",
       "    </tr>\n",
       "    <tr>\n",
       "      <th>13</th>\n",
       "      <td>Missing</td>\n",
       "      <td>487</td>\n",
       "      <td>0.046563</td>\n",
       "      <td>238</td>\n",
       "      <td>249</td>\n",
       "      <td>0.511294</td>\n",
       "      <td>0</td>\n",
       "    </tr>\n",
       "    <tr>\n",
       "      <th>Totals</th>\n",
       "      <td></td>\n",
       "      <td>10459</td>\n",
       "      <td>1.000000</td>\n",
       "      <td>5000</td>\n",
       "      <td>5459</td>\n",
       "      <td>-</td>\n",
       "      <td>-</td>\n",
       "    </tr>\n",
       "  </tbody>\n",
       "</table>\n",
       "</div>"
      ],
      "text/plain": [
       "                    Bin  Count  Count (%)  Non-event  Event        c0  \\\n",
       "0         [-inf, 30.50)    543   0.051917         97    446  0.788301   \n",
       "1        [30.50, 41.50)    554   0.052969        147    407  0.799788   \n",
       "2        [41.50, 48.50)    516   0.049336        145    371  0.803716   \n",
       "3        [48.50, 54.50)    528   0.050483        188    340  0.808907   \n",
       "4        [54.50, 59.50)    494   0.047232        195    299  0.812732   \n",
       "5        [59.50, 64.50)    600   0.057367        263    337  0.814625   \n",
       "6        [64.50, 70.50)    781   0.074673        361    420  0.821307   \n",
       "7        [70.50, 74.50)    534   0.051057        260    274  0.802862   \n",
       "8        [74.50, 81.50)    904   0.086433        476    428  0.858438   \n",
       "9        [81.50, 97.50)   1693   0.161870        961    732   0.77016   \n",
       "10      [97.50, 116.50)   1169   0.111770        711    458   1.03335   \n",
       "11        [116.50, inf)   1090   0.104216        703    387  0.492737   \n",
       "12              Special    566   0.054116        255    311   0.54947   \n",
       "13              Missing    487   0.046563        238    249  0.511294   \n",
       "Totals                   10459   1.000000       5000   5459         -   \n",
       "\n",
       "                c1  \n",
       "0      -0.00304249  \n",
       "1      -0.00341911  \n",
       "2      -0.00351377  \n",
       "3       -0.0036208  \n",
       "4      -0.00369099  \n",
       "5       -0.0037228  \n",
       "6      -0.00382639  \n",
       "7      -0.00356477  \n",
       "8      -0.00431075  \n",
       "9      -0.00322759  \n",
       "10     -0.00592698  \n",
       "11     -0.00128652  \n",
       "12               0  \n",
       "13               0  \n",
       "Totals           -  "
      ]
     },
     "execution_count": 40,
     "metadata": {},
     "output_type": "execute_result"
    }
   ],
   "source": [
    "binning_table = optb.binning_table\n",
    "binning_table.build()"
   ]
  },
  {
   "cell_type": "markdown",
   "metadata": {},
   "source": [
    "Note the dashed bins 10 and 11, corresponding to the special codes bin and the missing bin, respectively."
   ]
  },
  {
   "cell_type": "code",
   "execution_count": 41,
   "metadata": {},
   "outputs": [
    {
     "data": {
      "image/png": "[encoded data removed]",
      "text/plain": [
       "<Figure size 432x288 with 2 Axes>"
      ]
     },
     "metadata": {
      "needs_background": "light"
     },
     "output_type": "display_data"
    }
   ],
   "source": [
    "binning_table.plot(metric=\"event_rate\")"
   ]
  },
  {
   "cell_type": "markdown",
   "metadata": {},
   "source": [
    "#### Verbosity option"
   ]
  },
  {
   "cell_type": "markdown",
   "metadata": {},
   "source": [
    "For debugging purposes, we can print information on each step of the computation by triggering the ``verbose`` option."
   ]
  },
  {
   "cell_type": "code",
   "execution_count": 42,
   "metadata": {},
   "outputs": [
    {
     "name": "stdout",
     "output_type": "stream",
     "text": [
      "2021-01-12 20:10:32,053 | INFO : Optimal piecewise binning started.\n",
      "2021-01-12 20:10:32,054 | INFO : Options: check parameters.\n",
      "2021-01-12 20:10:32,055 | INFO : Pre-processing started.\n",
      "2021-01-12 20:10:32,056 | INFO : Pre-processing: number of samples: 10459\n",
      "2021-01-12 20:10:32,059 | INFO : Pre-processing: number of clean samples: 9972\n",
      "2021-01-12 20:10:32,060 | INFO : Pre-processing: number of missing samples: 487\n",
      "2021-01-12 20:10:32,061 | INFO : Pre-processing: number of special samples: 0\n",
      "2021-01-12 20:10:32,062 | INFO : Pre-processing terminated. Time: 0.0019s\n",
      "2021-01-12 20:10:32,062 | INFO : Pre-binning: set logistic regression as an estimator.\n",
      "2021-01-12 20:10:32,063 | INFO : Pre-binning: estimator fitting started.\n",
      "2021-01-12 20:10:32,107 | INFO : Pre-binning: estimator terminated. Time 0.0448s.\n",
      "2021-01-12 20:10:32,108 | INFO : Pre-binning: optimal binning started.\n",
      "2021-01-12 20:10:32,287 | INFO : Pre-binning: number of splits: 9.\n",
      "2021-01-12 20:10:32,289 | INFO : Pre-binning: no need for subsamples.\n",
      "2021-01-12 20:10:32,292 | INFO : Pre-binning: optimal binning terminated. Time 0.183s.\n",
      "2021-01-12 20:10:32,294 | INFO : Optimizer started.\n",
      "2021-01-12 20:10:32,297 | INFO : Optimizer: descending monotonic trend.\n",
      "-----------------------------------------------------------------\n",
      "           OSQP v0.6.0  -  Operator Splitting QP Solver\n",
      "              (c) Bartolomeo Stellato,  Goran Banjac\n",
      "        University of Oxford  -  Stanford University 2019\n",
      "-----------------------------------------------------------------\n",
      "problem:  variables n = 20, constraints m = 19973\n",
      "          nnz(P) + nnz(A) = 39964\n",
      "settings: linear system solver = qdldl,\n",
      "          eps_abs = 1.0e-05, eps_rel = 1.0e-05,\n",
      "          eps_prim_inf = 1.0e-04, eps_dual_inf = 1.0e-04,\n",
      "          rho = 1.00e-01 (adaptive),\n",
      "          sigma = 1.00e-06, alpha = 1.60, max_iter = 10000\n",
      "          check_termination: on (interval 25),\n",
      "          scaling: on, scaled_termination: off\n",
      "          warm start: on, polish: on, time_limit: off\n",
      "\n",
      "iter   objective    pri res    dua res    rho        time\n",
      "   1  -4.3051e+01   9.52e-04   1.61e+05   1.00e-01   1.64e-02s\n",
      " 200  -2.5013e+03   8.64e-03   1.16e+04   1.86e-02   1.20e-01s\n",
      " 400  -2.7932e+03   3.69e-04   3.01e+03   1.86e-02   2.22e-01s\n",
      " 525  -2.8264e+03   4.36e-06   1.38e-02   4.19e-03   2.81e-01s\n",
      "plsh  -2.8264e+03   1.17e-16   7.61e-11   --------   2.82e-01s\n",
      "\n",
      "status:               solved\n",
      "solution polish:      successful\n",
      "number of iterations: 525\n",
      "optimal objective:    -2826.4429\n",
      "run time:             2.82e-01s\n",
      "optimal rho estimate: 1.17e-02\n",
      "\n",
      "2021-01-12 20:10:32,624 | INFO : Optimizer terminated. Time: 0.3253s\n",
      "2021-01-12 20:10:32,625 | INFO : Post-processing started.\n",
      "2021-01-12 20:10:32,626 | INFO : Post-processing: compute binning information.\n",
      "2021-01-12 20:10:32,635 | INFO : Post-processing: compute performance metrics.\n",
      "2021-01-12 20:10:32,650 | INFO : Post-processing terminated. Time: 0.0227s\n",
      "2021-01-12 20:10:32,650 | INFO : Optimal piecewise binning terminated. Status: OPTIMAL. Time: 0.5978s\n"
     ]
    },
    {
     "data": {
      "text/plain": [
       "OptimalPWBinning(continuous=True, degree=1,\n",
       "                 estimator=LogisticRegression(C=1.0, class_weight=None,\n",
       "                                              dual=False, fit_intercept=True,\n",
       "                                              intercept_scaling=1,\n",
       "                                              l1_ratio=None, max_iter=100,\n",
       "                                              multi_class='auto', n_jobs=None,\n",
       "                                              penalty='l2', random_state=None,\n",
       "                                              solver='lbfgs', tol=0.0001,\n",
       "                                              verbose=0, warm_start=False),\n",
       "                 h_epsilon=1.35, max_bin_size=None, max_n_bins=None,\n",
       "                 max_n_prebins...\n",
       "                 min_n_bins=None, min_prebin_size=0.05, monotonic_trend='auto',\n",
       "                 n_subsamples=None, name='AverageMInFile', objective='l2',\n",
       "                 outlier_detector=None, outlier_params=None,\n",
       "                 prebinning_method='cart', quantile=0.5, random_state=None,\n",
       "                 reg_l1=1.0, reg_l2=1.0, regularization=None, solver='osqp',\n",
       "                 special_codes=None, split_digits=None, user_splits=None,\n",
       "                 user_splits_fixed=None, verbose=True)"
      ]
     },
     "execution_count": 42,
     "metadata": {},
     "output_type": "execute_result"
    }
   ],
   "source": [
    "optb = OptimalPWBinning(name=variable, solver=\"osqp\", verbose=True)\n",
    "optb.fit(x, y, lb=0, ub=1)"
   ]
  }
 ],
 "metadata": {
  "kernelspec": {
   "display_name": "Python 3",
   "language": "python",
   "name": "python3"
  },
  "language_info": {
   "codemirror_mode": {
    "name": "ipython",
    "version": 3
   },
   "file_extension": ".py",
   "mimetype": "text/x-python",
   "name": "python",
   "nbconvert_exporter": "python",
   "pygments_lexer": "ipython3",
   "version": "3.7.4"
  }
 },
 "nbformat": 4,
 "nbformat_minor": 2
}
