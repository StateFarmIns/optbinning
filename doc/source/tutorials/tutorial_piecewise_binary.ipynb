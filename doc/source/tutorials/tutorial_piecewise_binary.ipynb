{
 "cells": [
  {
   "cell_type": "markdown",
   "metadata": {},
   "source": [
    "# Tutorial: optimal piecewise binning with binary target"
   ]
  },
  {
   "cell_type": "markdown",
   "metadata": {},
   "source": [
    "## Basic"
   ]
  },
  {
   "cell_type": "markdown",
   "metadata": {},
   "source": [
    "To get us started, let's load a well-known dataset from the UCI repository and transform the data into a ``pandas.DataFrame``."
   ]
  },
  {
   "cell_type": "code",
   "execution_count": 1,
   "metadata": {},
   "outputs": [],
   "source": [
    "import numpy as np\n",
    "import pandas as pd\n",
    "\n",
    "from sklearn.datasets import load_breast_cancer\n",
    "from sklearn.ensemble import GradientBoostingClassifier"
   ]
  },
  {
   "cell_type": "code",
   "execution_count": 2,
   "metadata": {},
   "outputs": [],
   "source": [
    "data = load_breast_cancer()\n",
    "df = pd.DataFrame(data.data, columns=data.feature_names)"
   ]
  },
  {
   "cell_type": "markdown",
   "metadata": {},
   "source": [
    "We choose a variable to discretize and the binary target."
   ]
  },
  {
   "cell_type": "code",
   "execution_count": 3,
   "metadata": {},
   "outputs": [],
   "source": [
    "variable = \"mean radius\"\n",
    "x = df[variable].values\n",
    "y = data.target"
   ]
  },
  {
   "cell_type": "markdown",
   "metadata": {},
   "source": [
    "Import and instantiate an ``OptimalPWBinning`` object class and we pass the variable name. The ``OptimalPWBinning`` can **ONLY** handle numerical variables. This differs from the ``OptimalBinning`` object class."
   ]
  },
  {
   "cell_type": "code",
   "execution_count": 4,
   "metadata": {},
   "outputs": [],
   "source": [
    "from optbinning import OptimalPWBinning"
   ]
  },
  {
   "cell_type": "code",
   "execution_count": 5,
   "metadata": {},
   "outputs": [],
   "source": [
    "optb = OptimalPWBinning(name=variable)"
   ]
  },
  {
   "cell_type": "markdown",
   "metadata": {},
   "source": [
    "We fit the optimal binning object with arrays ``x`` and ``y``. We set a minimum (lower bound) and maximum (upper bound) probability using arguments ``lb`` and ``ub``. Note that these bounds are optional, but guarantee an event rate between $[0, 1]$ as any probability distribution. As shown later, settings these bounds will increase the problem size thus leading to higher solution times. An alternative approach to bypass these bounds is implemented when transforming to event rate or WoE using functions ``fit`` and ``fit_transform``, where values outside the interval $[0, 1]$ are clipped.\n",
    "\n",
    "Note that the Weight-of-Evidence is not defined for event rate equal 0 or 1. Therefore, for small datasets, we recommend modifying the interval $[0, 1]$ with a small value, thus using $[\\epsilon, 1 - \\epsilon]$."
   ]
  },
  {
   "cell_type": "code",
   "execution_count": 6,
   "metadata": {},
   "outputs": [
    {
     "data": {
      "text/plain": [
       "OptimalPWBinning(estimator=LogisticRegression(), name='mean radius')"
      ]
     },
     "execution_count": 6,
     "metadata": {},
     "output_type": "execute_result"
    }
   ],
   "source": [
    "optb.fit(x, y, lb=0.001, ub=0.999)"
   ]
  },
  {
   "cell_type": "markdown",
   "metadata": {},
   "source": [
    "You can check if an optimal solution has been found via the ``status`` attribute:"
   ]
  },
  {
   "cell_type": "code",
   "execution_count": 7,
   "metadata": {},
   "outputs": [
    {
     "data": {
      "text/plain": [
       "'OPTIMAL'"
      ]
     },
     "execution_count": 7,
     "metadata": {},
     "output_type": "execute_result"
    }
   ],
   "source": [
    "optb.status"
   ]
  },
  {
   "cell_type": "markdown",
   "metadata": {},
   "source": [
    "You can also retrieve the optimal split points via the ``splits`` attribute:"
   ]
  },
  {
   "cell_type": "code",
   "execution_count": 8,
   "metadata": {},
   "outputs": [
    {
     "data": {
      "text/plain": [
       "array([11.42500019, 12.32999992, 13.09499979, 13.70499992, 15.04500008,\n",
       "       16.92500019])"
      ]
     },
     "execution_count": 8,
     "metadata": {},
     "output_type": "execute_result"
    }
   ],
   "source": [
    "optb.splits"
   ]
  },
  {
   "cell_type": "markdown",
   "metadata": {},
   "source": [
    "#### The binning table"
   ]
  },
  {
   "cell_type": "markdown",
   "metadata": {},
   "source": [
    "The optimal binning algorithms return a binning table; a binning table displays the binned data and several metrics for each bin. Class ``OptimalPWBinning`` returns an object ``PWBinningTable`` via the ``binning_table`` attribute."
   ]
  },
  {
   "cell_type": "code",
   "execution_count": 9,
   "metadata": {},
   "outputs": [],
   "source": [
    "binning_table = optb.binning_table"
   ]
  },
  {
   "cell_type": "code",
   "execution_count": 10,
   "metadata": {},
   "outputs": [
    {
     "data": {
      "text/plain": [
       "optbinning.binning.piecewise.binning_statistics.PWBinningTable"
      ]
     },
     "execution_count": 10,
     "metadata": {},
     "output_type": "execute_result"
    }
   ],
   "source": [
    "type(binning_table)"
   ]
  },
  {
   "cell_type": "markdown",
   "metadata": {},
   "source": [
    "The `binning_table` is instantiated, but not built. Therefore, the first step is to call the method `build`, which returns a ``pandas.DataFrame``."
   ]
  },
  {
   "cell_type": "code",
   "execution_count": 11,
   "metadata": {},
   "outputs": [
    {
     "data": {
      "text/html": [
       "<div>\n",
       "<style scoped>\n",
       "    .dataframe tbody tr th:only-of-type {\n",
       "        vertical-align: middle;\n",
       "    }\n",
       "\n",
       "    .dataframe tbody tr th {\n",
       "        vertical-align: top;\n",
       "    }\n",
       "\n",
       "    .dataframe thead th {\n",
       "        text-align: right;\n",
       "    }\n",
       "</style>\n",
       "<table border=\"1\" class=\"dataframe\">\n",
       "  <thead>\n",
       "    <tr style=\"text-align: right;\">\n",
       "      <th></th>\n",
       "      <th>Bin</th>\n",
       "      <th>Count</th>\n",
       "      <th>Count (%)</th>\n",
       "      <th>Non-event</th>\n",
       "      <th>Event</th>\n",
       "      <th>c0</th>\n",
       "      <th>c1</th>\n",
       "    </tr>\n",
       "  </thead>\n",
       "  <tbody>\n",
       "    <tr>\n",
       "      <th>0</th>\n",
       "      <td>(-inf, 11.43)</td>\n",
       "      <td>118</td>\n",
       "      <td>0.207381</td>\n",
       "      <td>3</td>\n",
       "      <td>115</td>\n",
       "      <td>1.032648</td>\n",
       "      <td>-0.004820</td>\n",
       "    </tr>\n",
       "    <tr>\n",
       "      <th>1</th>\n",
       "      <td>[11.43, 12.33)</td>\n",
       "      <td>79</td>\n",
       "      <td>0.138840</td>\n",
       "      <td>3</td>\n",
       "      <td>76</td>\n",
       "      <td>1.644837</td>\n",
       "      <td>-0.058403</td>\n",
       "    </tr>\n",
       "    <tr>\n",
       "      <th>2</th>\n",
       "      <td>[12.33, 13.09)</td>\n",
       "      <td>68</td>\n",
       "      <td>0.119508</td>\n",
       "      <td>7</td>\n",
       "      <td>61</td>\n",
       "      <td>2.140569</td>\n",
       "      <td>-0.098609</td>\n",
       "    </tr>\n",
       "    <tr>\n",
       "      <th>3</th>\n",
       "      <td>[13.09, 13.70)</td>\n",
       "      <td>49</td>\n",
       "      <td>0.086116</td>\n",
       "      <td>10</td>\n",
       "      <td>39</td>\n",
       "      <td>2.914961</td>\n",
       "      <td>-0.157745</td>\n",
       "    </tr>\n",
       "    <tr>\n",
       "      <th>4</th>\n",
       "      <td>[13.70, 15.05)</td>\n",
       "      <td>83</td>\n",
       "      <td>0.145870</td>\n",
       "      <td>28</td>\n",
       "      <td>55</td>\n",
       "      <td>4.105273</td>\n",
       "      <td>-0.244597</td>\n",
       "    </tr>\n",
       "    <tr>\n",
       "      <th>5</th>\n",
       "      <td>[15.05, 16.93)</td>\n",
       "      <td>54</td>\n",
       "      <td>0.094903</td>\n",
       "      <td>44</td>\n",
       "      <td>10</td>\n",
       "      <td>3.562494</td>\n",
       "      <td>-0.208520</td>\n",
       "    </tr>\n",
       "    <tr>\n",
       "      <th>6</th>\n",
       "      <td>[16.93, inf)</td>\n",
       "      <td>118</td>\n",
       "      <td>0.207381</td>\n",
       "      <td>117</td>\n",
       "      <td>1</td>\n",
       "      <td>0.082142</td>\n",
       "      <td>-0.002887</td>\n",
       "    </tr>\n",
       "    <tr>\n",
       "      <th>7</th>\n",
       "      <td>Special</td>\n",
       "      <td>0</td>\n",
       "      <td>0.000000</td>\n",
       "      <td>0</td>\n",
       "      <td>0</td>\n",
       "      <td>0.000000</td>\n",
       "      <td>0.000000</td>\n",
       "    </tr>\n",
       "    <tr>\n",
       "      <th>8</th>\n",
       "      <td>Missing</td>\n",
       "      <td>0</td>\n",
       "      <td>0.000000</td>\n",
       "      <td>0</td>\n",
       "      <td>0</td>\n",
       "      <td>0.000000</td>\n",
       "      <td>0.000000</td>\n",
       "    </tr>\n",
       "    <tr>\n",
       "      <th>Totals</th>\n",
       "      <td></td>\n",
       "      <td>569</td>\n",
       "      <td>1.000000</td>\n",
       "      <td>212</td>\n",
       "      <td>357</td>\n",
       "      <td>-</td>\n",
       "      <td>-</td>\n",
       "    </tr>\n",
       "  </tbody>\n",
       "</table>\n",
       "</div>"
      ],
      "text/plain": [
       "                   Bin  Count  Count (%)  Non-event  Event        c0        c1\n",
       "0        (-inf, 11.43)    118   0.207381          3    115  1.032648 -0.004820\n",
       "1       [11.43, 12.33)     79   0.138840          3     76  1.644837 -0.058403\n",
       "2       [12.33, 13.09)     68   0.119508          7     61  2.140569 -0.098609\n",
       "3       [13.09, 13.70)     49   0.086116         10     39  2.914961 -0.157745\n",
       "4       [13.70, 15.05)     83   0.145870         28     55  4.105273 -0.244597\n",
       "5       [15.05, 16.93)     54   0.094903         44     10  3.562494 -0.208520\n",
       "6         [16.93, inf)    118   0.207381        117      1  0.082142 -0.002887\n",
       "7              Special      0   0.000000          0      0  0.000000  0.000000\n",
       "8              Missing      0   0.000000          0      0  0.000000  0.000000\n",
       "Totals                    569   1.000000        212    357         -         -"
      ]
     },
     "execution_count": 11,
     "metadata": {},
     "output_type": "execute_result"
    }
   ],
   "source": [
    "binning_table.build()"
   ]
  },
  {
   "cell_type": "markdown",
   "metadata": {},
   "source": [
    "Let's describe the columns of this binning table:\n",
    "\n",
    "- Bin: the intervals delimited by the optimal split points.\n",
    "- Count: the number of records for each bin.\n",
    "- Count (%): the percentage of records for each bin.\n",
    "- Non-event: the number of non-event records $(y = 0)$ for each bin.\n",
    "- Event: the number of event records $(y = 1)$ for each bin.\n",
    "- $c_0$: the first coefficient of the event rate polynomial.\n",
    "- $c_1$: the second coefficient of the event rate polynomial.\n",
    "\n",
    "The event rate for bin $i$ is defined as $ER_i = c_0 + c_1 x_i$, where $x_i \\in \\text{Bin}_{i}$. In general,\n",
    "\\begin{equation}\n",
    "ER_i = \\sum_{j=0}^d c_j x_i^j,\n",
    "\\end{equation}\n",
    "where $d$ is the degree of the event rate polynomial.\n",
    "\n",
    "The last row shows the total number of records, non-event records, event records."
   ]
  },
  {
   "cell_type": "markdown",
   "metadata": {},
   "source": [
    "You can use the method ``plot`` to visualize the number of non-event and event records by bin, and WoE or event rate curve."
   ]
  },
  {
   "cell_type": "code",
   "execution_count": 12,
   "metadata": {},
   "outputs": [
    {
     "data": {
      "image/png": "[encoded data removed]",
      "text/plain": [
       "<Figure size 432x288 with 2 Axes>"
      ]
     },
     "metadata": {
      "needs_background": "light"
     },
     "output_type": "display_data"
    }
   ],
   "source": [
    "binning_table.plot(metric=\"woe\")"
   ]
  },
  {
   "cell_type": "code",
   "execution_count": 13,
   "metadata": {},
   "outputs": [
    {
     "data": {
      "image/png": "[encoded data removed]",
      "text/plain": [
       "<Figure size 432x288 with 2 Axes>"
      ]
     },
     "metadata": {
      "needs_background": "light"
     },
     "output_type": "display_data"
    }
   ],
   "source": [
    "binning_table.plot(metric=\"event_rate\")"
   ]
  },
  {
   "cell_type": "markdown",
   "metadata": {},
   "source": [
    "##### Event rate / WoE transformation"
   ]
  },
  {
   "cell_type": "markdown",
   "metadata": {},
   "source": [
    "Now that we have checked the binned data, we can transform our original data into WoE or event rate values."
   ]
  },
  {
   "cell_type": "code",
   "execution_count": 14,
   "metadata": {},
   "outputs": [],
   "source": [
    "x_transform_woe = optb.transform(x, metric=\"woe\")"
   ]
  },
  {
   "cell_type": "code",
   "execution_count": 15,
   "metadata": {},
   "outputs": [],
   "source": [
    "x_transform_event_rate = optb.transform(x, metric=\"event_rate\")"
   ]
  },
  {
   "cell_type": "markdown",
   "metadata": {},
   "source": [
    "## Advanced"
   ]
  },
  {
   "cell_type": "markdown",
   "metadata": {},
   "source": [
    "#### Optimal binning Information"
   ]
  },
  {
   "cell_type": "markdown",
   "metadata": {},
   "source": [
    "The ``OptimalPWBinning`` can print overview information about the options settings, problem statistics, and the solution of the computation. By default, ``print_level=1``."
   ]
  },
  {
   "cell_type": "code",
   "execution_count": 16,
   "metadata": {},
   "outputs": [
    {
     "data": {
      "text/plain": [
       "OptimalPWBinning(estimator=LogisticRegression(), name='mean radius')"
      ]
     },
     "execution_count": 16,
     "metadata": {},
     "output_type": "execute_result"
    }
   ],
   "source": [
    "optb = OptimalPWBinning(name=variable)\n",
    "optb.fit(x, y)"
   ]
  },
  {
   "cell_type": "markdown",
   "metadata": {},
   "source": [
    "If ``print_level=0``, a minimal output including the header, variable name, status, and total time are printed."
   ]
  },
  {
   "cell_type": "code",
   "execution_count": 17,
   "metadata": {},
   "outputs": [
    {
     "name": "stdout",
     "output_type": "stream",
     "text": [
      "optbinning (Version 0.13.0)\n",
      "Copyright (c) 2019-2021 Guillermo Navas-Palencia, Apache License 2.0\n",
      "\n",
      "  Name    : mean radius                     \n",
      "  Status  : OPTIMAL                         \n",
      "\n",
      "  Time    : 0.1293  sec\n",
      "\n"
     ]
    }
   ],
   "source": [
    "optb.information(print_level=0)"
   ]
  },
  {
   "cell_type": "markdown",
   "metadata": {},
   "source": [
    "If ``print_level>=1``, statistics on the pre-binning phase and the solver are printed. More detailed timing statistics are also included."
   ]
  },
  {
   "cell_type": "code",
   "execution_count": 18,
   "metadata": {},
   "outputs": [
    {
     "name": "stdout",
     "output_type": "stream",
     "text": [
      "optbinning (Version 0.13.0)\n",
      "Copyright (c) 2019-2021 Guillermo Navas-Palencia, Apache License 2.0\n",
      "\n",
      "  Name    : mean radius                     \n",
      "  Status  : OPTIMAL                         \n",
      "\n",
      "  Pre-binning statistics\n",
      "    Number of bins                         7\n",
      "\n",
      "  Solver statistics\n",
      "    Type                                auto\n",
      "    Number of variables                   14\n",
      "    Number of constraints                 20\n",
      "\n",
      "  Timing\n",
      "    Total time                          0.13 sec\n",
      "    Pre-processing                      0.00 sec   (  0.55%)\n",
      "    Estimator                           0.01 sec   ( 10.44%)\n",
      "    Pre-binning                         0.07 sec   ( 50.95%)\n",
      "    Solver                              0.03 sec   ( 26.36%)\n",
      "    Post-processing                     0.01 sec   ( 10.95%)\n",
      "\n"
     ]
    }
   ],
   "source": [
    "optb.information(print_level=1)"
   ]
  },
  {
   "cell_type": "markdown",
   "metadata": {},
   "source": [
    "If ``print_level=2``, the list of all options of the ``OptimalBinning`` are displayed."
   ]
  },
  {
   "cell_type": "code",
   "execution_count": 19,
   "metadata": {},
   "outputs": [
    {
     "name": "stdout",
     "output_type": "stream",
     "text": [
      "optbinning (Version 0.13.0)\n",
      "Copyright (c) 2019-2021 Guillermo Navas-Palencia, Apache License 2.0\n",
      "\n",
      "  Begin options\n",
      "    name                         mean radius   * U\n",
      "    estimator                            yes   * U\n",
      "    objective                             l2   * d\n",
      "    degree                                 1   * d\n",
      "    continuous                          True   * d\n",
      "    prebinning_method                   cart   * d\n",
      "    max_n_prebins                         20   * d\n",
      "    min_prebin_size                     0.05   * d\n",
      "    min_n_bins                            no   * d\n",
      "    max_n_bins                            no   * d\n",
      "    min_bin_size                          no   * d\n",
      "    max_bin_size                          no   * d\n",
      "    monotonic_trend                     auto   * d\n",
      "    n_subsamples                          no   * d\n",
      "    max_pvalue                            no   * d\n",
      "    max_pvalue_policy            consecutive   * d\n",
      "    outlier_detector                      no   * d\n",
      "    outlier_params                        no   * d\n",
      "    user_splits                           no   * d\n",
      "    special_codes                         no   * d\n",
      "    split_digits                          no   * d\n",
      "    solver                              auto   * d\n",
      "    h_epsilon                           1.35   * d\n",
      "    quantile                             0.5   * d\n",
      "    regularization                        no   * d\n",
      "    reg_l1                               1.0   * d\n",
      "    reg_l2                               1.0   * d\n",
      "    random_state                          no   * d\n",
      "    verbose                            False   * d\n",
      "  End options\n",
      "\n",
      "  Name    : mean radius                     \n",
      "  Status  : OPTIMAL                         \n",
      "\n",
      "  Pre-binning statistics\n",
      "    Number of bins                         7\n",
      "\n",
      "  Solver statistics\n",
      "    Type                                auto\n",
      "    Number of variables                   14\n",
      "    Number of constraints                 20\n",
      "\n",
      "  Timing\n",
      "    Total time                          0.13 sec\n",
      "    Pre-processing                      0.00 sec   (  0.55%)\n",
      "    Estimator                           0.01 sec   ( 10.44%)\n",
      "    Pre-binning                         0.07 sec   ( 50.95%)\n",
      "    Solver                              0.03 sec   ( 26.36%)\n",
      "    Post-processing                     0.01 sec   ( 10.95%)\n",
      "\n"
     ]
    }
   ],
   "source": [
    "optb.information(print_level=2)"
   ]
  },
  {
   "cell_type": "markdown",
   "metadata": {},
   "source": [
    "#### Binning table statistical analysis"
   ]
  },
  {
   "cell_type": "markdown",
   "metadata": {},
   "source": [
    "The ``analysis`` method performs a statistical analysis of the binning table, computing the statistics Gini index, Information Value (IV), Jensen-Shannon divergence, and the quality score. Additionally, several statistical significance tests between consecutive bins of the contingency table are performed: a frequentist test using the Chi-square test or the Fisher's exact test, and a Bayesian A/B test using the beta distribution as a conjugate prior of the Bernoulli distribution. The piecewise binning also includes two performance metrics: the average precision and the Brier score."
   ]
  },
  {
   "cell_type": "code",
   "execution_count": 20,
   "metadata": {},
   "outputs": [
    {
     "name": "stdout",
     "output_type": "stream",
     "text": [
      "---------------------------------------------\n",
      "OptimalBinning: Binary Binning Table Analysis\n",
      "---------------------------------------------\n",
      "\n",
      "  General metrics\n",
      "\n",
      "    Gini index               0.87503303\n",
      "    IV (Jeffrey)             4.47808263\n",
      "    JS (Jensen-Shannon)      0.37566002\n",
      "    Hellinger                0.44267970\n",
      "    Triangular               1.20862637\n",
      "    KS                       0.72390466\n",
      "    Avg precision            0.95577179\n",
      "    Brier score              0.08956351\n",
      "    HHI                      0.15727342\n",
      "    HHI (normalized)         0.05193260\n",
      "    Cramer's V               0.80066760\n",
      "    Quality score            0.00000000\n",
      "\n",
      "  Significance tests\n",
      "\n",
      "    Bin A  Bin B  t-statistic      p-value  P[A > B]     P[B > A]\n",
      "        0      1     0.289789 5.903557e-01  0.697563 3.024368e-01\n",
      "        1      2     2.285355 1.306002e-01  0.941469 5.853092e-02\n",
      "        2      3     2.317546 1.279217e-01  0.936661 6.333919e-02\n",
      "        3      4     2.539025 1.110634e-01  0.950869 4.913141e-02\n",
      "        4      5    29.418844 5.830790e-08  1.000000 1.898159e-11\n",
      "        5      6    18.624518 1.591604e-05  0.999997 3.106835e-06\n",
      "\n"
     ]
    }
   ],
   "source": [
    "binning_table.analysis(pvalue_test=\"chi2\")"
   ]
  },
  {
   "cell_type": "code",
   "execution_count": 21,
   "metadata": {},
   "outputs": [
    {
     "name": "stdout",
     "output_type": "stream",
     "text": [
      "---------------------------------------------\n",
      "OptimalBinning: Binary Binning Table Analysis\n",
      "---------------------------------------------\n",
      "\n",
      "  General metrics\n",
      "\n",
      "    Gini index               0.87503303\n",
      "    IV (Jeffrey)             4.47808263\n",
      "    JS (Jensen-Shannon)      0.37566002\n",
      "    Hellinger                0.44267970\n",
      "    Triangular               1.20862637\n",
      "    KS                       0.72390466\n",
      "    Avg precision            0.95577179\n",
      "    Brier score              0.08956351\n",
      "    HHI                      0.15727342\n",
      "    HHI (normalized)         0.05193260\n",
      "    Cramer's V               0.80066760\n",
      "    Quality score            0.00000000\n",
      "\n",
      "  Significance tests\n",
      "\n",
      "    Bin A  Bin B  odd ratio      p-value  P[A > B]     P[B > A]\n",
      "        0      1   0.660870 6.855009e-01  0.697563 3.024368e-01\n",
      "        1      2   0.343985 1.879769e-01  0.941469 5.853092e-02\n",
      "        2      3   0.447541 1.829850e-01  0.936661 6.333919e-02\n",
      "        3      4   0.503663 1.153088e-01  0.950869 4.913141e-02\n",
      "        4      5   0.115702 3.464724e-08  1.000000 1.898159e-11\n",
      "        5      6   0.037607 4.144258e-05  0.999997 3.106835e-06\n",
      "\n"
     ]
    }
   ],
   "source": [
    "binning_table.analysis(pvalue_test=\"fisher\")"
   ]
  },
  {
   "cell_type": "markdown",
   "metadata": {},
   "source": [
    "#### Event rate / WoE monotonicity"
   ]
  },
  {
   "cell_type": "markdown",
   "metadata": {},
   "source": [
    "The ``monotonic_trend`` option permits forcing a monotonic trend to the event rate curve. The default setting \"auto\" should be the preferred option, however, some business constraints might require to impose different trends. The default setting \"auto\" chooses the monotonic trend most likely to maximize the information value from the options \"ascending\", \"descending\", \"peak\" and \"valley\" using a machine-learning-based classifier. For this example, we choose Gradient Boosting as an estimator."
   ]
  },
  {
   "cell_type": "code",
   "execution_count": 22,
   "metadata": {},
   "outputs": [],
   "source": [
    "variable = \"mean texture\"\n",
    "x = df[variable].values\n",
    "y = data.target"
   ]
  },
  {
   "cell_type": "code",
   "execution_count": 23,
   "metadata": {},
   "outputs": [
    {
     "data": {
      "text/plain": [
       "OptimalPWBinning(estimator=GradientBoostingClassifier(), name='mean texture')"
      ]
     },
     "execution_count": 23,
     "metadata": {},
     "output_type": "execute_result"
    }
   ],
   "source": [
    "optb = OptimalPWBinning(name=variable, estimator=GradientBoostingClassifier())\n",
    "optb.fit(x, y, lb=0.001, ub=0.999)"
   ]
  },
  {
   "cell_type": "code",
   "execution_count": 24,
   "metadata": {},
   "outputs": [
    {
     "data": {
      "text/html": [
       "<div>\n",
       "<style scoped>\n",
       "    .dataframe tbody tr th:only-of-type {\n",
       "        vertical-align: middle;\n",
       "    }\n",
       "\n",
       "    .dataframe tbody tr th {\n",
       "        vertical-align: top;\n",
       "    }\n",
       "\n",
       "    .dataframe thead th {\n",
       "        text-align: right;\n",
       "    }\n",
       "</style>\n",
       "<table border=\"1\" class=\"dataframe\">\n",
       "  <thead>\n",
       "    <tr style=\"text-align: right;\">\n",
       "      <th></th>\n",
       "      <th>Bin</th>\n",
       "      <th>Count</th>\n",
       "      <th>Count (%)</th>\n",
       "      <th>Non-event</th>\n",
       "      <th>Event</th>\n",
       "      <th>c0</th>\n",
       "      <th>c1</th>\n",
       "    </tr>\n",
       "  </thead>\n",
       "  <tbody>\n",
       "    <tr>\n",
       "      <th>0</th>\n",
       "      <td>(-inf, 15.05)</td>\n",
       "      <td>92</td>\n",
       "      <td>0.161687</td>\n",
       "      <td>4</td>\n",
       "      <td>88</td>\n",
       "      <td>0.931559</td>\n",
       "      <td>-0.000000</td>\n",
       "    </tr>\n",
       "    <tr>\n",
       "      <th>1</th>\n",
       "      <td>[15.05, 16.39)</td>\n",
       "      <td>61</td>\n",
       "      <td>0.107206</td>\n",
       "      <td>8</td>\n",
       "      <td>53</td>\n",
       "      <td>2.075863</td>\n",
       "      <td>-0.076059</td>\n",
       "    </tr>\n",
       "    <tr>\n",
       "      <th>2</th>\n",
       "      <td>[16.39, 17.03)</td>\n",
       "      <td>29</td>\n",
       "      <td>0.050967</td>\n",
       "      <td>6</td>\n",
       "      <td>23</td>\n",
       "      <td>2.149342</td>\n",
       "      <td>-0.080541</td>\n",
       "    </tr>\n",
       "    <tr>\n",
       "      <th>3</th>\n",
       "      <td>[17.03, 18.46)</td>\n",
       "      <td>79</td>\n",
       "      <td>0.138840</td>\n",
       "      <td>17</td>\n",
       "      <td>62</td>\n",
       "      <td>1.113793</td>\n",
       "      <td>-0.019751</td>\n",
       "    </tr>\n",
       "    <tr>\n",
       "      <th>4</th>\n",
       "      <td>[18.46, 19.47)</td>\n",
       "      <td>55</td>\n",
       "      <td>0.096661</td>\n",
       "      <td>20</td>\n",
       "      <td>35</td>\n",
       "      <td>4.139964</td>\n",
       "      <td>-0.183682</td>\n",
       "    </tr>\n",
       "    <tr>\n",
       "      <th>5</th>\n",
       "      <td>[19.47, 20.20)</td>\n",
       "      <td>36</td>\n",
       "      <td>0.063269</td>\n",
       "      <td>18</td>\n",
       "      <td>18</td>\n",
       "      <td>4.417902</td>\n",
       "      <td>-0.197957</td>\n",
       "    </tr>\n",
       "    <tr>\n",
       "      <th>6</th>\n",
       "      <td>[20.20, 21.71)</td>\n",
       "      <td>72</td>\n",
       "      <td>0.126538</td>\n",
       "      <td>43</td>\n",
       "      <td>29</td>\n",
       "      <td>0.933414</td>\n",
       "      <td>-0.025415</td>\n",
       "    </tr>\n",
       "    <tr>\n",
       "      <th>7</th>\n",
       "      <td>[21.71, 22.74)</td>\n",
       "      <td>40</td>\n",
       "      <td>0.070299</td>\n",
       "      <td>27</td>\n",
       "      <td>13</td>\n",
       "      <td>2.611206</td>\n",
       "      <td>-0.102697</td>\n",
       "    </tr>\n",
       "    <tr>\n",
       "      <th>8</th>\n",
       "      <td>[22.74, 24.00)</td>\n",
       "      <td>29</td>\n",
       "      <td>0.050967</td>\n",
       "      <td>24</td>\n",
       "      <td>5</td>\n",
       "      <td>0.275868</td>\n",
       "      <td>-0.000000</td>\n",
       "    </tr>\n",
       "    <tr>\n",
       "      <th>9</th>\n",
       "      <td>[24.00, 26.98)</td>\n",
       "      <td>43</td>\n",
       "      <td>0.075571</td>\n",
       "      <td>30</td>\n",
       "      <td>13</td>\n",
       "      <td>-1.111300</td>\n",
       "      <td>0.057799</td>\n",
       "    </tr>\n",
       "    <tr>\n",
       "      <th>10</th>\n",
       "      <td>[26.98, inf)</td>\n",
       "      <td>33</td>\n",
       "      <td>0.057996</td>\n",
       "      <td>15</td>\n",
       "      <td>18</td>\n",
       "      <td>0.448108</td>\n",
       "      <td>0.000000</td>\n",
       "    </tr>\n",
       "    <tr>\n",
       "      <th>11</th>\n",
       "      <td>Special</td>\n",
       "      <td>0</td>\n",
       "      <td>0.000000</td>\n",
       "      <td>0</td>\n",
       "      <td>0</td>\n",
       "      <td>0.000000</td>\n",
       "      <td>0.000000</td>\n",
       "    </tr>\n",
       "    <tr>\n",
       "      <th>12</th>\n",
       "      <td>Missing</td>\n",
       "      <td>0</td>\n",
       "      <td>0.000000</td>\n",
       "      <td>0</td>\n",
       "      <td>0</td>\n",
       "      <td>0.000000</td>\n",
       "      <td>0.000000</td>\n",
       "    </tr>\n",
       "    <tr>\n",
       "      <th>Totals</th>\n",
       "      <td></td>\n",
       "      <td>569</td>\n",
       "      <td>1.000000</td>\n",
       "      <td>212</td>\n",
       "      <td>357</td>\n",
       "      <td>-</td>\n",
       "      <td>-</td>\n",
       "    </tr>\n",
       "  </tbody>\n",
       "</table>\n",
       "</div>"
      ],
      "text/plain": [
       "                   Bin  Count  Count (%)  Non-event  Event        c0        c1\n",
       "0        (-inf, 15.05)     92   0.161687          4     88  0.931559 -0.000000\n",
       "1       [15.05, 16.39)     61   0.107206          8     53  2.075863 -0.076059\n",
       "2       [16.39, 17.03)     29   0.050967          6     23  2.149342 -0.080541\n",
       "3       [17.03, 18.46)     79   0.138840         17     62  1.113793 -0.019751\n",
       "4       [18.46, 19.47)     55   0.096661         20     35  4.139964 -0.183682\n",
       "5       [19.47, 20.20)     36   0.063269         18     18  4.417902 -0.197957\n",
       "6       [20.20, 21.71)     72   0.126538         43     29  0.933414 -0.025415\n",
       "7       [21.71, 22.74)     40   0.070299         27     13  2.611206 -0.102697\n",
       "8       [22.74, 24.00)     29   0.050967         24      5  0.275868 -0.000000\n",
       "9       [24.00, 26.98)     43   0.075571         30     13 -1.111300  0.057799\n",
       "10        [26.98, inf)     33   0.057996         15     18  0.448108  0.000000\n",
       "11             Special      0   0.000000          0      0  0.000000  0.000000\n",
       "12             Missing      0   0.000000          0      0  0.000000  0.000000\n",
       "Totals                    569   1.000000        212    357         -         -"
      ]
     },
     "execution_count": 24,
     "metadata": {},
     "output_type": "execute_result"
    }
   ],
   "source": [
    "binning_table = optb.binning_table\n",
    "binning_table.build()"
   ]
  },
  {
   "cell_type": "code",
   "execution_count": 25,
   "metadata": {},
   "outputs": [
    {
     "data": {
      "image/png": "[encoded data removed]",
      "text/plain": [
       "<Figure size 432x288 with 2 Axes>"
      ]
     },
     "metadata": {
      "needs_background": "light"
     },
     "output_type": "display_data"
    }
   ],
   "source": [
    "binning_table.plot(metric=\"event_rate\")"
   ]
  },
  {
   "cell_type": "markdown",
   "metadata": {},
   "source": [
    "For example, we can force the variable mean texture to be convex with respect to the probability of having breast cancer."
   ]
  },
  {
   "cell_type": "code",
   "execution_count": 26,
   "metadata": {},
   "outputs": [
    {
     "data": {
      "text/plain": [
       "OptimalPWBinning(estimator=GradientBoostingClassifier(),\n",
       "                 monotonic_trend='convex', name='mean texture')"
      ]
     },
     "execution_count": 26,
     "metadata": {},
     "output_type": "execute_result"
    }
   ],
   "source": [
    "optb = OptimalPWBinning(name=variable, estimator=GradientBoostingClassifier(),\n",
    "                        monotonic_trend=\"convex\")\n",
    "optb.fit(x, y, lb=0.001, ub=0.999)"
   ]
  },
  {
   "cell_type": "code",
   "execution_count": 27,
   "metadata": {},
   "outputs": [
    {
     "data": {
      "image/png": "[encoded data removed]",
      "text/plain": [
       "<Figure size 432x288 with 2 Axes>"
      ]
     },
     "metadata": {
      "needs_background": "light"
     },
     "output_type": "display_data"
    }
   ],
   "source": [
    "binning_table = optb.binning_table\n",
    "binning_table.build()\n",
    "binning_table.plot(metric=\"event_rate\")"
   ]
  },
  {
   "cell_type": "markdown",
   "metadata": {},
   "source": [
    "#### User-defined split points"
   ]
  },
  {
   "cell_type": "markdown",
   "metadata": {},
   "source": [
    "In some situations, we have defined split points or bins required to satisfy a priori belief,  knowledge or business constraint. The ``OptimalPWBinning`` permits to pass user-defined split points. The supplied information is used as a pre-binning, disallowing any pre-binning method set by the user. Furthermore, version 0.5.0 introduces ``user_splits_fixed`` parameter, to allow the user to fix some user-defined splits, so these must appear in the solution."
   ]
  },
  {
   "cell_type": "markdown",
   "metadata": {},
   "source": [
    "Example numerical variable:"
   ]
  },
  {
   "cell_type": "code",
   "execution_count": 28,
   "metadata": {},
   "outputs": [],
   "source": [
    "user_splits =       [  14,    15,    16,    17,    20,    21,    22,    27]\n",
    "user_splits_fixed = [False, True,  True, False, False, False, False, False]"
   ]
  },
  {
   "cell_type": "code",
   "execution_count": 29,
   "metadata": {},
   "outputs": [
    {
     "data": {
      "text/plain": [
       "OptimalPWBinning(estimator=LogisticRegression(), name='mean texture',\n",
       "                 user_splits=[14, 15, 16, 17, 20, 21, 22, 27],\n",
       "                 user_splits_fixed=[False, True, True, False, False, False,\n",
       "                                    False, False])"
      ]
     },
     "execution_count": 29,
     "metadata": {},
     "output_type": "execute_result"
    }
   ],
   "source": [
    "optb = OptimalPWBinning(name=variable, user_splits=user_splits,\n",
    "                        user_splits_fixed=user_splits_fixed)\n",
    "\n",
    "optb.fit(x, y)"
   ]
  },
  {
   "cell_type": "code",
   "execution_count": 30,
   "metadata": {},
   "outputs": [
    {
     "data": {
      "text/html": [
       "<div>\n",
       "<style scoped>\n",
       "    .dataframe tbody tr th:only-of-type {\n",
       "        vertical-align: middle;\n",
       "    }\n",
       "\n",
       "    .dataframe tbody tr th {\n",
       "        vertical-align: top;\n",
       "    }\n",
       "\n",
       "    .dataframe thead th {\n",
       "        text-align: right;\n",
       "    }\n",
       "</style>\n",
       "<table border=\"1\" class=\"dataframe\">\n",
       "  <thead>\n",
       "    <tr style=\"text-align: right;\">\n",
       "      <th></th>\n",
       "      <th>Bin</th>\n",
       "      <th>Count</th>\n",
       "      <th>Count (%)</th>\n",
       "      <th>Non-event</th>\n",
       "      <th>Event</th>\n",
       "      <th>c0</th>\n",
       "      <th>c1</th>\n",
       "    </tr>\n",
       "  </thead>\n",
       "  <tbody>\n",
       "    <tr>\n",
       "      <th>0</th>\n",
       "      <td>(-inf, 14.00)</td>\n",
       "      <td>54</td>\n",
       "      <td>0.094903</td>\n",
       "      <td>2</td>\n",
       "      <td>52</td>\n",
       "      <td>1.153974</td>\n",
       "      <td>-0.020565</td>\n",
       "    </tr>\n",
       "    <tr>\n",
       "      <th>1</th>\n",
       "      <td>[14.00, 15.00)</td>\n",
       "      <td>37</td>\n",
       "      <td>0.065026</td>\n",
       "      <td>2</td>\n",
       "      <td>35</td>\n",
       "      <td>1.354515</td>\n",
       "      <td>-0.034890</td>\n",
       "    </tr>\n",
       "    <tr>\n",
       "      <th>2</th>\n",
       "      <td>[15.00, 16.00)</td>\n",
       "      <td>43</td>\n",
       "      <td>0.075571</td>\n",
       "      <td>7</td>\n",
       "      <td>36</td>\n",
       "      <td>1.244455</td>\n",
       "      <td>-0.027552</td>\n",
       "    </tr>\n",
       "    <tr>\n",
       "      <th>3</th>\n",
       "      <td>[16.00, 20.00)</td>\n",
       "      <td>210</td>\n",
       "      <td>0.369069</td>\n",
       "      <td>59</td>\n",
       "      <td>151</td>\n",
       "      <td>1.570900</td>\n",
       "      <td>-0.047955</td>\n",
       "    </tr>\n",
       "    <tr>\n",
       "      <th>4</th>\n",
       "      <td>[20.00, 21.00)</td>\n",
       "      <td>45</td>\n",
       "      <td>0.079086</td>\n",
       "      <td>26</td>\n",
       "      <td>19</td>\n",
       "      <td>1.874636</td>\n",
       "      <td>-0.063142</td>\n",
       "    </tr>\n",
       "    <tr>\n",
       "      <th>5</th>\n",
       "      <td>[21.00, 22.00)</td>\n",
       "      <td>49</td>\n",
       "      <td>0.086116</td>\n",
       "      <td>30</td>\n",
       "      <td>19</td>\n",
       "      <td>1.788369</td>\n",
       "      <td>-0.059034</td>\n",
       "    </tr>\n",
       "    <tr>\n",
       "      <th>6</th>\n",
       "      <td>[22.00, 27.00)</td>\n",
       "      <td>99</td>\n",
       "      <td>0.173989</td>\n",
       "      <td>71</td>\n",
       "      <td>28</td>\n",
       "      <td>1.708444</td>\n",
       "      <td>-0.055401</td>\n",
       "    </tr>\n",
       "    <tr>\n",
       "      <th>7</th>\n",
       "      <td>[27.00, inf)</td>\n",
       "      <td>32</td>\n",
       "      <td>0.056239</td>\n",
       "      <td>15</td>\n",
       "      <td>17</td>\n",
       "      <td>0.789092</td>\n",
       "      <td>-0.021351</td>\n",
       "    </tr>\n",
       "    <tr>\n",
       "      <th>8</th>\n",
       "      <td>Special</td>\n",
       "      <td>0</td>\n",
       "      <td>0.000000</td>\n",
       "      <td>0</td>\n",
       "      <td>0</td>\n",
       "      <td>0.000000</td>\n",
       "      <td>0.000000</td>\n",
       "    </tr>\n",
       "    <tr>\n",
       "      <th>9</th>\n",
       "      <td>Missing</td>\n",
       "      <td>0</td>\n",
       "      <td>0.000000</td>\n",
       "      <td>0</td>\n",
       "      <td>0</td>\n",
       "      <td>0.000000</td>\n",
       "      <td>0.000000</td>\n",
       "    </tr>\n",
       "    <tr>\n",
       "      <th>Totals</th>\n",
       "      <td></td>\n",
       "      <td>569</td>\n",
       "      <td>1.000000</td>\n",
       "      <td>212</td>\n",
       "      <td>357</td>\n",
       "      <td>-</td>\n",
       "      <td>-</td>\n",
       "    </tr>\n",
       "  </tbody>\n",
       "</table>\n",
       "</div>"
      ],
      "text/plain": [
       "                   Bin  Count  Count (%)  Non-event  Event        c0        c1\n",
       "0        (-inf, 14.00)     54   0.094903          2     52  1.153974 -0.020565\n",
       "1       [14.00, 15.00)     37   0.065026          2     35  1.354515 -0.034890\n",
       "2       [15.00, 16.00)     43   0.075571          7     36  1.244455 -0.027552\n",
       "3       [16.00, 20.00)    210   0.369069         59    151  1.570900 -0.047955\n",
       "4       [20.00, 21.00)     45   0.079086         26     19  1.874636 -0.063142\n",
       "5       [21.00, 22.00)     49   0.086116         30     19  1.788369 -0.059034\n",
       "6       [22.00, 27.00)     99   0.173989         71     28  1.708444 -0.055401\n",
       "7         [27.00, inf)     32   0.056239         15     17  0.789092 -0.021351\n",
       "8              Special      0   0.000000          0      0  0.000000  0.000000\n",
       "9              Missing      0   0.000000          0      0  0.000000  0.000000\n",
       "Totals                    569   1.000000        212    357         -         -"
      ]
     },
     "execution_count": 30,
     "metadata": {},
     "output_type": "execute_result"
    }
   ],
   "source": [
    "binning_table = optb.binning_table\n",
    "binning_table.build()"
   ]
  },
  {
   "cell_type": "code",
   "execution_count": 31,
   "metadata": {},
   "outputs": [
    {
     "name": "stdout",
     "output_type": "stream",
     "text": [
      "optbinning (Version 0.13.0)\n",
      "Copyright (c) 2019-2021 Guillermo Navas-Palencia, Apache License 2.0\n",
      "\n",
      "  Name    : mean texture                    \n",
      "  Status  : OPTIMAL                         \n",
      "\n",
      "  Pre-binning statistics\n",
      "    Number of bins                         8\n",
      "\n",
      "  Solver statistics\n",
      "    Type                                auto\n",
      "    Number of variables                   16\n",
      "    Number of constraints                 23\n",
      "\n",
      "  Timing\n",
      "    Total time                          0.16 sec\n",
      "    Pre-processing                      0.00 sec   (  0.47%)\n",
      "    Estimator                           0.02 sec   ( 11.20%)\n",
      "    Pre-binning                         0.09 sec   ( 56.21%)\n",
      "    Solver                              0.04 sec   ( 23.07%)\n",
      "    Post-processing                     0.01 sec   (  8.35%)\n",
      "\n"
     ]
    }
   ],
   "source": [
    "optb.information()"
   ]
  },
  {
   "cell_type": "markdown",
   "metadata": {},
   "source": [
    "#### Performance: choosing a solver"
   ]
  },
  {
   "cell_type": "markdown",
   "metadata": {},
   "source": [
    "``OptimalPWBinning`` uses the RoPWR library to solving the piecewise regression problem. See https://github.com/guillermo-navas-palencia/ropwr for details."
   ]
  },
  {
   "cell_type": "markdown",
   "metadata": {},
   "source": [
    "#### Robustness: choosing an objective function and regularization"
   ]
  },
  {
   "cell_type": "markdown",
   "metadata": {},
   "source": [
    "``OptimalPWBinning`` uses the RoPWR library to solving the piecewise regression problem. See https://github.com/guillermo-navas-palencia/ropwr for details."
   ]
  },
  {
   "cell_type": "markdown",
   "metadata": {},
   "source": [
    "#### Missing data and special codes"
   ]
  },
  {
   "cell_type": "markdown",
   "metadata": {},
   "source": [
    "For this example, let's load data from the FICO Explainable Machine Learning Challenge: https://community.fico.com/s/explainable-machine-learning-challenge"
   ]
  },
  {
   "cell_type": "code",
   "execution_count": 32,
   "metadata": {},
   "outputs": [],
   "source": [
    "df = pd.read_csv(\"data/FICO_challenge/heloc_dataset_v1.csv\", sep=\",\")"
   ]
  },
  {
   "cell_type": "markdown",
   "metadata": {},
   "source": [
    "The data dictionary of this challenge includes three special values/codes:\n",
    "\n",
    "* -9 No Bureau Record or No Investigation\n",
    "* -8 No Usable/Valid Trades or Inquiries\n",
    "* -7 Condition not Met (e.g. No Inquiries, No Delinquencies) "
   ]
  },
  {
   "cell_type": "code",
   "execution_count": 33,
   "metadata": {},
   "outputs": [],
   "source": [
    "special_codes = [-9, -8, -7]"
   ]
  },
  {
   "cell_type": "code",
   "execution_count": 34,
   "metadata": {},
   "outputs": [],
   "source": [
    "variable = \"AverageMInFile\"\n",
    "x = df[variable].values\n",
    "y = df.RiskPerformance.values"
   ]
  },
  {
   "cell_type": "code",
   "execution_count": 35,
   "metadata": {},
   "outputs": [
    {
     "data": {
      "text/plain": [
       "array(['Bad', 'Good'], dtype=object)"
      ]
     },
     "execution_count": 35,
     "metadata": {},
     "output_type": "execute_result"
    }
   ],
   "source": [
    "df.RiskPerformance.unique()"
   ]
  },
  {
   "cell_type": "markdown",
   "metadata": {},
   "source": [
    "Target is a categorical dichotomic variable, which can be easily transform into numerical."
   ]
  },
  {
   "cell_type": "code",
   "execution_count": 36,
   "metadata": {},
   "outputs": [],
   "source": [
    "mask = y == \"Bad\"\n",
    "y[mask] = 1\n",
    "y[~mask] = 0\n",
    "y = y.astype(int)"
   ]
  },
  {
   "cell_type": "markdown",
   "metadata": {},
   "source": [
    "For the sake of completeness, we include a few missing values"
   ]
  },
  {
   "cell_type": "code",
   "execution_count": 37,
   "metadata": {},
   "outputs": [],
   "source": [
    "idx = np.random.randint(0, len(x), 500)\n",
    "x = x.astype(float)\n",
    "x[idx] = np.nan"
   ]
  },
  {
   "cell_type": "code",
   "execution_count": 38,
   "metadata": {},
   "outputs": [
    {
     "data": {
      "text/plain": [
       "OptimalPWBinning(estimator=LogisticRegression(), name='AverageMInFile',\n",
       "                 solver='osqp', special_codes=[-9, -8, -7])"
      ]
     },
     "execution_count": 38,
     "metadata": {},
     "output_type": "execute_result"
    }
   ],
   "source": [
    "optb = OptimalPWBinning(name=variable, special_codes=special_codes, solver=\"osqp\")\n",
    "\n",
    "optb.fit(x, y, lb=0, ub=1)"
   ]
  },
  {
   "cell_type": "code",
   "execution_count": 39,
   "metadata": {},
   "outputs": [
    {
     "name": "stdout",
     "output_type": "stream",
     "text": [
      "optbinning (Version 0.13.0)\n",
      "Copyright (c) 2019-2021 Guillermo Navas-Palencia, Apache License 2.0\n",
      "\n",
      "  Name    : AverageMInFile                  \n",
      "  Status  : OPTIMAL                         \n",
      "\n",
      "  Pre-binning statistics\n",
      "    Number of bins                        13\n",
      "\n",
      "  Solver statistics\n",
      "    Type                                osqp\n",
      "    Number of variables                   26\n",
      "    Number of constraints              18862\n",
      "\n",
      "  Timing\n",
      "    Total time                          0.44 sec\n",
      "    Pre-processing                      0.00 sec   (  0.53%)\n",
      "    Estimator                           0.04 sec   (  8.64%)\n",
      "    Pre-binning                         0.12 sec   ( 27.57%)\n",
      "    Solver                              0.26 sec   ( 59.10%)\n",
      "    Post-processing                     0.02 sec   (  3.80%)\n",
      "\n"
     ]
    }
   ],
   "source": [
    "optb.information(print_level=1)"
   ]
  },
  {
   "cell_type": "code",
   "execution_count": 40,
   "metadata": {},
   "outputs": [
    {
     "data": {
      "text/html": [
       "<div>\n",
       "<style scoped>\n",
       "    .dataframe tbody tr th:only-of-type {\n",
       "        vertical-align: middle;\n",
       "    }\n",
       "\n",
       "    .dataframe tbody tr th {\n",
       "        vertical-align: top;\n",
       "    }\n",
       "\n",
       "    .dataframe thead th {\n",
       "        text-align: right;\n",
       "    }\n",
       "</style>\n",
       "<table border=\"1\" class=\"dataframe\">\n",
       "  <thead>\n",
       "    <tr style=\"text-align: right;\">\n",
       "      <th></th>\n",
       "      <th>Bin</th>\n",
       "      <th>Count</th>\n",
       "      <th>Count (%)</th>\n",
       "      <th>Non-event</th>\n",
       "      <th>Event</th>\n",
       "      <th>c0</th>\n",
       "      <th>c1</th>\n",
       "    </tr>\n",
       "  </thead>\n",
       "  <tbody>\n",
       "    <tr>\n",
       "      <th>0</th>\n",
       "      <td>(-inf, 30.50)</td>\n",
       "      <td>549</td>\n",
       "      <td>0.052491</td>\n",
       "      <td>99</td>\n",
       "      <td>450</td>\n",
       "      <td>0.791990</td>\n",
       "      <td>-0.003080</td>\n",
       "    </tr>\n",
       "    <tr>\n",
       "      <th>1</th>\n",
       "      <td>[30.50, 41.50)</td>\n",
       "      <td>545</td>\n",
       "      <td>0.052108</td>\n",
       "      <td>147</td>\n",
       "      <td>398</td>\n",
       "      <td>0.804033</td>\n",
       "      <td>-0.003475</td>\n",
       "    </tr>\n",
       "    <tr>\n",
       "      <th>2</th>\n",
       "      <td>[41.50, 48.50)</td>\n",
       "      <td>515</td>\n",
       "      <td>0.049240</td>\n",
       "      <td>145</td>\n",
       "      <td>370</td>\n",
       "      <td>0.808132</td>\n",
       "      <td>-0.003574</td>\n",
       "    </tr>\n",
       "    <tr>\n",
       "      <th>3</th>\n",
       "      <td>[48.50, 54.50)</td>\n",
       "      <td>520</td>\n",
       "      <td>0.049718</td>\n",
       "      <td>185</td>\n",
       "      <td>335</td>\n",
       "      <td>0.813688</td>\n",
       "      <td>-0.003688</td>\n",
       "    </tr>\n",
       "    <tr>\n",
       "      <th>4</th>\n",
       "      <td>[54.50, 59.50)</td>\n",
       "      <td>492</td>\n",
       "      <td>0.047041</td>\n",
       "      <td>198</td>\n",
       "      <td>294</td>\n",
       "      <td>0.817258</td>\n",
       "      <td>-0.003754</td>\n",
       "    </tr>\n",
       "    <tr>\n",
       "      <th>5</th>\n",
       "      <td>[59.50, 64.50)</td>\n",
       "      <td>603</td>\n",
       "      <td>0.057654</td>\n",
       "      <td>258</td>\n",
       "      <td>345</td>\n",
       "      <td>0.820850</td>\n",
       "      <td>-0.003814</td>\n",
       "    </tr>\n",
       "    <tr>\n",
       "      <th>6</th>\n",
       "      <td>[64.50, 69.50)</td>\n",
       "      <td>654</td>\n",
       "      <td>0.062530</td>\n",
       "      <td>300</td>\n",
       "      <td>354</td>\n",
       "      <td>0.822749</td>\n",
       "      <td>-0.003844</td>\n",
       "    </tr>\n",
       "    <tr>\n",
       "      <th>7</th>\n",
       "      <td>[69.50, 75.50)</td>\n",
       "      <td>808</td>\n",
       "      <td>0.077254</td>\n",
       "      <td>394</td>\n",
       "      <td>414</td>\n",
       "      <td>0.828317</td>\n",
       "      <td>-0.003924</td>\n",
       "    </tr>\n",
       "    <tr>\n",
       "      <th>8</th>\n",
       "      <td>[75.50, 81.50)</td>\n",
       "      <td>765</td>\n",
       "      <td>0.073143</td>\n",
       "      <td>400</td>\n",
       "      <td>365</td>\n",
       "      <td>0.819068</td>\n",
       "      <td>-0.003801</td>\n",
       "    </tr>\n",
       "    <tr>\n",
       "      <th>9</th>\n",
       "      <td>[81.50, 95.50)</td>\n",
       "      <td>1520</td>\n",
       "      <td>0.145329</td>\n",
       "      <td>863</td>\n",
       "      <td>657</td>\n",
       "      <td>0.841207</td>\n",
       "      <td>-0.004073</td>\n",
       "    </tr>\n",
       "    <tr>\n",
       "      <th>10</th>\n",
       "      <td>[95.50, 101.50)</td>\n",
       "      <td>477</td>\n",
       "      <td>0.045607</td>\n",
       "      <td>280</td>\n",
       "      <td>197</td>\n",
       "      <td>0.608803</td>\n",
       "      <td>-0.001639</td>\n",
       "    </tr>\n",
       "    <tr>\n",
       "      <th>11</th>\n",
       "      <td>[101.50, 116.50)</td>\n",
       "      <td>876</td>\n",
       "      <td>0.083756</td>\n",
       "      <td>538</td>\n",
       "      <td>338</td>\n",
       "      <td>1.161241</td>\n",
       "      <td>-0.007082</td>\n",
       "    </tr>\n",
       "    <tr>\n",
       "      <th>12</th>\n",
       "      <td>[116.50, inf)</td>\n",
       "      <td>1088</td>\n",
       "      <td>0.104025</td>\n",
       "      <td>709</td>\n",
       "      <td>379</td>\n",
       "      <td>0.483154</td>\n",
       "      <td>-0.001261</td>\n",
       "    </tr>\n",
       "    <tr>\n",
       "      <th>13</th>\n",
       "      <td>Special</td>\n",
       "      <td>560</td>\n",
       "      <td>0.053542</td>\n",
       "      <td>250</td>\n",
       "      <td>310</td>\n",
       "      <td>0.553571</td>\n",
       "      <td>0.000000</td>\n",
       "    </tr>\n",
       "    <tr>\n",
       "      <th>14</th>\n",
       "      <td>Missing</td>\n",
       "      <td>487</td>\n",
       "      <td>0.046563</td>\n",
       "      <td>234</td>\n",
       "      <td>253</td>\n",
       "      <td>0.519507</td>\n",
       "      <td>0.000000</td>\n",
       "    </tr>\n",
       "    <tr>\n",
       "      <th>Totals</th>\n",
       "      <td></td>\n",
       "      <td>10459</td>\n",
       "      <td>1.000000</td>\n",
       "      <td>5000</td>\n",
       "      <td>5459</td>\n",
       "      <td>-</td>\n",
       "      <td>-</td>\n",
       "    </tr>\n",
       "  </tbody>\n",
       "</table>\n",
       "</div>"
      ],
      "text/plain": [
       "                     Bin  Count  Count (%)  Non-event  Event        c0  \\\n",
       "0          (-inf, 30.50)    549   0.052491         99    450  0.791990   \n",
       "1         [30.50, 41.50)    545   0.052108        147    398  0.804033   \n",
       "2         [41.50, 48.50)    515   0.049240        145    370  0.808132   \n",
       "3         [48.50, 54.50)    520   0.049718        185    335  0.813688   \n",
       "4         [54.50, 59.50)    492   0.047041        198    294  0.817258   \n",
       "5         [59.50, 64.50)    603   0.057654        258    345  0.820850   \n",
       "6         [64.50, 69.50)    654   0.062530        300    354  0.822749   \n",
       "7         [69.50, 75.50)    808   0.077254        394    414  0.828317   \n",
       "8         [75.50, 81.50)    765   0.073143        400    365  0.819068   \n",
       "9         [81.50, 95.50)   1520   0.145329        863    657  0.841207   \n",
       "10       [95.50, 101.50)    477   0.045607        280    197  0.608803   \n",
       "11      [101.50, 116.50)    876   0.083756        538    338  1.161241   \n",
       "12         [116.50, inf)   1088   0.104025        709    379  0.483154   \n",
       "13               Special    560   0.053542        250    310  0.553571   \n",
       "14               Missing    487   0.046563        234    253  0.519507   \n",
       "Totals                    10459   1.000000       5000   5459         -   \n",
       "\n",
       "              c1  \n",
       "0      -0.003080  \n",
       "1      -0.003475  \n",
       "2      -0.003574  \n",
       "3      -0.003688  \n",
       "4      -0.003754  \n",
       "5      -0.003814  \n",
       "6      -0.003844  \n",
       "7      -0.003924  \n",
       "8      -0.003801  \n",
       "9      -0.004073  \n",
       "10     -0.001639  \n",
       "11     -0.007082  \n",
       "12     -0.001261  \n",
       "13      0.000000  \n",
       "14      0.000000  \n",
       "Totals         -  "
      ]
     },
     "execution_count": 40,
     "metadata": {},
     "output_type": "execute_result"
    }
   ],
   "source": [
    "binning_table = optb.binning_table\n",
    "binning_table.build()"
   ]
  },
  {
   "cell_type": "markdown",
   "metadata": {},
   "source": [
    "Note the dashed bins 10 and 11, corresponding to the special codes bin and the missing bin, respectively."
   ]
  },
  {
   "cell_type": "code",
   "execution_count": 41,
   "metadata": {},
   "outputs": [
    {
     "data": {
      "image/png": "[encoded data removed]",
      "text/plain": [
       "<Figure size 432x288 with 2 Axes>"
      ]
     },
     "metadata": {
      "needs_background": "light"
     },
     "output_type": "display_data"
    }
   ],
   "source": [
    "binning_table.plot(metric=\"event_rate\")"
   ]
  },
  {
   "cell_type": "markdown",
   "metadata": {},
   "source": [
    "#### Verbosity option"
   ]
  },
  {
   "cell_type": "markdown",
   "metadata": {},
   "source": [
    "For debugging purposes, we can print information on each step of the computation by triggering the ``verbose`` option."
   ]
  },
  {
   "cell_type": "code",
   "execution_count": 42,
   "metadata": {},
   "outputs": [
    {
     "name": "stdout",
     "output_type": "stream",
     "text": [
      "2021-10-23 20:11:41,921 | INFO : Optimal piecewise binning started.\n",
      "2021-10-23 20:11:41,924 | INFO : Options: check parameters.\n",
      "2021-10-23 20:11:41,926 | INFO : Pre-processing started.\n",
      "2021-10-23 20:11:41,927 | INFO : Pre-processing: number of samples: 10459\n",
      "2021-10-23 20:11:41,929 | INFO : Pre-processing: number of clean samples: 9972\n",
      "2021-10-23 20:11:41,940 | INFO : Pre-processing: number of missing samples: 487\n",
      "2021-10-23 20:11:41,942 | INFO : Pre-processing: number of special samples: 0\n",
      "2021-10-23 20:11:41,944 | INFO : Pre-processing terminated. Time: 0.0005s\n",
      "2021-10-23 20:11:41,945 | INFO : Pre-binning: set logistic regression as an estimator.\n",
      "2021-10-23 20:11:41,947 | INFO : Pre-binning: estimator fitting started.\n",
      "2021-10-23 20:11:42,015 | INFO : Pre-binning: estimator terminated. Time 0.0694s.\n",
      "2021-10-23 20:11:42,016 | INFO : Pre-binning: optimal binning started.\n",
      "2021-10-23 20:11:42,139 | INFO : Pre-binning: number of splits: 9.\n",
      "2021-10-23 20:11:42,140 | INFO : Pre-binning: no need for subsamples.\n",
      "2021-10-23 20:11:42,141 | INFO : Pre-binning: optimal binning terminated. Time 0.1243s.\n",
      "2021-10-23 20:11:42,142 | INFO : Optimizer started.\n",
      "2021-10-23 20:11:42,145 | INFO : Optimizer: descending monotonic trend.\n",
      "===============================================================================\n",
      "                                     CVXPY                                     \n",
      "                                    v1.1.12                                    \n",
      "===============================================================================\n",
      "(CVXPY) Oct 23 08:11:42 PM: Your problem has 20 variables, 4 constraints, and 0 parameters.\n",
      "(CVXPY) Oct 23 08:11:42 PM: It is compliant with the following grammars: DCP, DQCP\n",
      "(CVXPY) Oct 23 08:11:42 PM: (If you need to solve this problem multiple times, but with different data, consider using parameters.)\n",
      "(CVXPY) Oct 23 08:11:42 PM: CVXPY will first compile your problem; then, it will invoke a numerical solver to obtain a solution.\n",
      "-------------------------------------------------------------------------------\n",
      "                                  Compilation                                  \n",
      "-------------------------------------------------------------------------------\n",
      "(CVXPY) Oct 23 08:11:42 PM: Compiling problem (target solver=OSQP).\n",
      "(CVXPY) Oct 23 08:11:42 PM: Reduction chain: CvxAttr2Constr -> Qp2SymbolicQp -> QpMatrixStuffing -> OSQP\n",
      "(CVXPY) Oct 23 08:11:42 PM: Applying reduction CvxAttr2Constr\n",
      "(CVXPY) Oct 23 08:11:42 PM: Applying reduction Qp2SymbolicQp\n",
      "(CVXPY) Oct 23 08:11:42 PM: Applying reduction QpMatrixStuffing\n",
      "(CVXPY) Oct 23 08:11:42 PM: Applying reduction OSQP\n",
      "(CVXPY) Oct 23 08:11:42 PM: Finished problem compilation (took 1.250e-01 seconds).\n",
      "-------------------------------------------------------------------------------\n",
      "                                Numerical solver                               \n",
      "-------------------------------------------------------------------------------\n",
      "(CVXPY) Oct 23 08:11:42 PM: Invoking solver OSQP  to obtain a solution.\n",
      "-----------------------------------------------------------------\n",
      "           OSQP v0.6.0  -  Operator Splitting QP Solver\n",
      "              (c) Bartolomeo Stellato,  Goran Banjac\n",
      "        University of Oxford  -  Stanford University 2019\n",
      "-----------------------------------------------------------------\n",
      "problem:  variables n = 20, constraints m = 19973\n",
      "          nnz(P) + nnz(A) = 39964\n",
      "settings: linear system solver = qdldl,\n",
      "          eps_abs = 1.0e-05, eps_rel = 1.0e-05,\n",
      "          eps_prim_inf = 1.0e-04, eps_dual_inf = 1.0e-04,\n",
      "          rho = 1.00e-01 (adaptive),\n",
      "          sigma = 1.00e-06, alpha = 1.60, max_iter = 10000\n",
      "          check_termination: on (interval 25),\n",
      "          scaling: on, scaled_termination: off\n",
      "          warm start: on, polish: on, time_limit: off\n",
      "\n",
      "iter   objective    pri res    dua res    rho        time\n",
      "   1  -4.2858e+01   1.47e-03   2.00e+05   1.00e-01   2.28e-02s\n",
      " 200  -2.3356e+03   4.66e-03   1.64e+04   1.97e-02   1.09e-01s\n",
      " 400  -2.7738e+03   9.07e-03   5.72e+03   1.97e-02   1.88e-01s\n",
      " 575  -2.8268e+03   8.00e-06   1.58e-01   1.57e-02   2.70e-01s\n",
      "plsh  -2.8268e+03   1.93e-16   4.42e-11   --------   2.71e-01s\n",
      "\n",
      "status:               solved\n",
      "solution polish:      successful\n",
      "number of iterations: 575\n",
      "optimal objective:    -2826.8492\n",
      "run time:             2.71e-01s\n",
      "optimal rho estimate: 2.01e-02\n",
      "\n",
      "-------------------------------------------------------------------------------\n",
      "                                    Summary                                    \n",
      "-------------------------------------------------------------------------------\n",
      "(CVXPY) Oct 23 08:11:42 PM: Problem status: optimal\n",
      "(CVXPY) Oct 23 08:11:42 PM: Optimal value: -2.827e+03\n",
      "(CVXPY) Oct 23 08:11:42 PM: Compilation took 1.250e-01 seconds\n",
      "(CVXPY) Oct 23 08:11:42 PM: Solver (including time spent in interface) took 2.794e-01 seconds\n",
      "2021-10-23 20:11:42,620 | INFO : Optimizer terminated. Time: 0.4740s\n",
      "2021-10-23 20:11:42,621 | INFO : Post-processing started.\n",
      "2021-10-23 20:11:42,622 | INFO : Post-processing: compute binning information.\n",
      "2021-10-23 20:11:42,632 | INFO : Post-processing: compute performance metrics.\n",
      "2021-10-23 20:11:42,652 | INFO : Post-processing terminated. Time: 0.0262s\n",
      "2021-10-23 20:11:42,656 | INFO : Optimal piecewise binning terminated. Status: OPTIMAL. Time: 0.7346s\n"
     ]
    },
    {
     "data": {
      "text/plain": [
       "OptimalPWBinning(estimator=LogisticRegression(), name='AverageMInFile',\n",
       "                 solver='osqp', verbose=True)"
      ]
     },
     "execution_count": 42,
     "metadata": {},
     "output_type": "execute_result"
    }
   ],
   "source": [
    "optb = OptimalPWBinning(name=variable, solver=\"osqp\", verbose=True)\n",
    "optb.fit(x, y, lb=0, ub=1)"
   ]
  }
 ],
 "metadata": {
  "kernelspec": {
   "display_name": "Python 3",
   "language": "python",
   "name": "python3"
  },
  "language_info": {
   "codemirror_mode": {
    "name": "ipython",
    "version": 3
   },
   "file_extension": ".py",
   "mimetype": "text/x-python",
   "name": "python",
   "nbconvert_exporter": "python",
   "pygments_lexer": "ipython3",
   "version": "3.7.4"
  }
 },
 "nbformat": 4,
 "nbformat_minor": 2
}
