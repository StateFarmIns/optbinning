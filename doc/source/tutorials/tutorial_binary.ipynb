{
 "cells": [
  {
   "cell_type": "markdown",
   "metadata": {},
   "source": [
    "# Tutorial: optimal binning with binary target"
   ]
  },
  {
   "cell_type": "markdown",
   "metadata": {},
   "source": [
    "## Basic"
   ]
  },
  {
   "cell_type": "markdown",
   "metadata": {},
   "source": [
    "To get us started, let's load a well-known dataset from the UCI repository and transform the data into a ``pandas.DataFrame``."
   ]
  },
  {
   "cell_type": "code",
   "execution_count": 1,
   "metadata": {},
   "outputs": [],
   "source": [
    "import numpy as np\n",
    "import pandas as pd\n",
    "from sklearn.datasets import load_breast_cancer"
   ]
  },
  {
   "cell_type": "code",
   "execution_count": 2,
   "metadata": {},
   "outputs": [],
   "source": [
    "data = load_breast_cancer()\n",
    "df = pd.DataFrame(data.data, columns=data.feature_names)"
   ]
  },
  {
   "cell_type": "markdown",
   "metadata": {},
   "source": [
    "We choose a variable to discretize and the binary target."
   ]
  },
  {
   "cell_type": "code",
   "execution_count": 3,
   "metadata": {},
   "outputs": [],
   "source": [
    "variable = \"mean radius\"\n",
    "x = df[variable].values\n",
    "y = data.target"
   ]
  },
  {
   "cell_type": "markdown",
   "metadata": {},
   "source": [
    "Import and instantiate an ``OptimalBinning`` object class. We pass the variable name, its data type, and a solver, in this case, we choose the constraint programming solver."
   ]
  },
  {
   "cell_type": "code",
   "execution_count": 4,
   "metadata": {},
   "outputs": [],
   "source": [
    "from optbinning import OptimalBinning"
   ]
  },
  {
   "cell_type": "code",
   "execution_count": 5,
   "metadata": {},
   "outputs": [],
   "source": [
    "optb = OptimalBinning(name=variable, dtype=\"numerical\", solver=\"cp\")"
   ]
  },
  {
   "cell_type": "markdown",
   "metadata": {},
   "source": [
    "We fit the optimal binning object with arrays ``x`` and ``y``."
   ]
  },
  {
   "cell_type": "code",
   "execution_count": 6,
   "metadata": {},
   "outputs": [
    {
     "data": {
      "text/plain": [
       "OptimalBinning(name='mean radius')"
      ]
     },
     "execution_count": 6,
     "metadata": {},
     "output_type": "execute_result"
    }
   ],
   "source": [
    "optb.fit(x, y)"
   ]
  },
  {
   "cell_type": "markdown",
   "metadata": {},
   "source": [
    "You can check if an optimal solution has been found via the ``status`` attribute:"
   ]
  },
  {
   "cell_type": "code",
   "execution_count": 7,
   "metadata": {},
   "outputs": [
    {
     "data": {
      "text/plain": [
       "'OPTIMAL'"
      ]
     },
     "execution_count": 7,
     "metadata": {},
     "output_type": "execute_result"
    }
   ],
   "source": [
    "optb.status"
   ]
  },
  {
   "cell_type": "markdown",
   "metadata": {},
   "source": [
    "You can also retrieve the optimal split points via the ``splits`` attribute:"
   ]
  },
  {
   "cell_type": "code",
   "execution_count": 8,
   "metadata": {},
   "outputs": [
    {
     "data": {
      "text/plain": [
       "array([11.42500019, 12.32999992, 13.09499979, 13.70499992, 15.04500008,\n",
       "       16.92500019])"
      ]
     },
     "execution_count": 8,
     "metadata": {},
     "output_type": "execute_result"
    }
   ],
   "source": [
    "optb.splits"
   ]
  },
  {
   "cell_type": "markdown",
   "metadata": {},
   "source": [
    "#### The binning table"
   ]
  },
  {
   "cell_type": "markdown",
   "metadata": {},
   "source": [
    "The optimal binning algorithms return a binning table; a binning table displays the binned data and several metrics for each bin. Class ``OptimalBinning`` returns an object ``BinningTable`` via the ``binning_table`` attribute."
   ]
  },
  {
   "cell_type": "code",
   "execution_count": 9,
   "metadata": {},
   "outputs": [],
   "source": [
    "binning_table = optb.binning_table"
   ]
  },
  {
   "cell_type": "code",
   "execution_count": 10,
   "metadata": {},
   "outputs": [
    {
     "data": {
      "text/plain": [
       "optbinning.binning.binning_statistics.BinningTable"
      ]
     },
     "execution_count": 10,
     "metadata": {},
     "output_type": "execute_result"
    }
   ],
   "source": [
    "type(binning_table)"
   ]
  },
  {
   "cell_type": "markdown",
   "metadata": {},
   "source": [
    "The `binning_table` is instantiated, but not built. Therefore, the first step is to call the method `build`, which returns a ``pandas.DataFrame``."
   ]
  },
  {
   "cell_type": "code",
   "execution_count": 11,
   "metadata": {},
   "outputs": [
    {
     "data": {
      "text/html": [
       "<div>\n",
       "<style scoped>\n",
       "    .dataframe tbody tr th:only-of-type {\n",
       "        vertical-align: middle;\n",
       "    }\n",
       "\n",
       "    .dataframe tbody tr th {\n",
       "        vertical-align: top;\n",
       "    }\n",
       "\n",
       "    .dataframe thead th {\n",
       "        text-align: right;\n",
       "    }\n",
       "</style>\n",
       "<table border=\"1\" class=\"dataframe\">\n",
       "  <thead>\n",
       "    <tr style=\"text-align: right;\">\n",
       "      <th></th>\n",
       "      <th>Bin</th>\n",
       "      <th>Count</th>\n",
       "      <th>Count (%)</th>\n",
       "      <th>Non-event</th>\n",
       "      <th>Event</th>\n",
       "      <th>Event rate</th>\n",
       "      <th>WoE</th>\n",
       "      <th>IV</th>\n",
       "      <th>JS</th>\n",
       "    </tr>\n",
       "  </thead>\n",
       "  <tbody>\n",
       "    <tr>\n",
       "      <th>0</th>\n",
       "      <td>(-inf, 11.43)</td>\n",
       "      <td>118</td>\n",
       "      <td>0.207381</td>\n",
       "      <td>3</td>\n",
       "      <td>115</td>\n",
       "      <td>0.974576</td>\n",
       "      <td>-3.125170</td>\n",
       "      <td>0.962483</td>\n",
       "      <td>0.087205</td>\n",
       "    </tr>\n",
       "    <tr>\n",
       "      <th>1</th>\n",
       "      <td>[11.43, 12.33)</td>\n",
       "      <td>79</td>\n",
       "      <td>0.138840</td>\n",
       "      <td>3</td>\n",
       "      <td>76</td>\n",
       "      <td>0.962025</td>\n",
       "      <td>-2.710972</td>\n",
       "      <td>0.538763</td>\n",
       "      <td>0.052198</td>\n",
       "    </tr>\n",
       "    <tr>\n",
       "      <th>2</th>\n",
       "      <td>[12.33, 13.09)</td>\n",
       "      <td>68</td>\n",
       "      <td>0.119508</td>\n",
       "      <td>7</td>\n",
       "      <td>61</td>\n",
       "      <td>0.897059</td>\n",
       "      <td>-1.643814</td>\n",
       "      <td>0.226599</td>\n",
       "      <td>0.025513</td>\n",
       "    </tr>\n",
       "    <tr>\n",
       "      <th>3</th>\n",
       "      <td>[13.09, 13.70)</td>\n",
       "      <td>49</td>\n",
       "      <td>0.086116</td>\n",
       "      <td>10</td>\n",
       "      <td>39</td>\n",
       "      <td>0.795918</td>\n",
       "      <td>-0.839827</td>\n",
       "      <td>0.052131</td>\n",
       "      <td>0.006331</td>\n",
       "    </tr>\n",
       "    <tr>\n",
       "      <th>4</th>\n",
       "      <td>[13.70, 15.05)</td>\n",
       "      <td>83</td>\n",
       "      <td>0.145870</td>\n",
       "      <td>28</td>\n",
       "      <td>55</td>\n",
       "      <td>0.662651</td>\n",
       "      <td>-0.153979</td>\n",
       "      <td>0.003385</td>\n",
       "      <td>0.000423</td>\n",
       "    </tr>\n",
       "    <tr>\n",
       "      <th>5</th>\n",
       "      <td>[15.05, 16.93)</td>\n",
       "      <td>54</td>\n",
       "      <td>0.094903</td>\n",
       "      <td>44</td>\n",
       "      <td>10</td>\n",
       "      <td>0.185185</td>\n",
       "      <td>2.002754</td>\n",
       "      <td>0.359566</td>\n",
       "      <td>0.038678</td>\n",
       "    </tr>\n",
       "    <tr>\n",
       "      <th>6</th>\n",
       "      <td>[16.93, inf)</td>\n",
       "      <td>118</td>\n",
       "      <td>0.207381</td>\n",
       "      <td>117</td>\n",
       "      <td>1</td>\n",
       "      <td>0.008475</td>\n",
       "      <td>5.283323</td>\n",
       "      <td>2.900997</td>\n",
       "      <td>0.183436</td>\n",
       "    </tr>\n",
       "    <tr>\n",
       "      <th>7</th>\n",
       "      <td>Special</td>\n",
       "      <td>0</td>\n",
       "      <td>0.000000</td>\n",
       "      <td>0</td>\n",
       "      <td>0</td>\n",
       "      <td>0.000000</td>\n",
       "      <td>0.000000</td>\n",
       "      <td>0.000000</td>\n",
       "      <td>0.000000</td>\n",
       "    </tr>\n",
       "    <tr>\n",
       "      <th>8</th>\n",
       "      <td>Missing</td>\n",
       "      <td>0</td>\n",
       "      <td>0.000000</td>\n",
       "      <td>0</td>\n",
       "      <td>0</td>\n",
       "      <td>0.000000</td>\n",
       "      <td>0.000000</td>\n",
       "      <td>0.000000</td>\n",
       "      <td>0.000000</td>\n",
       "    </tr>\n",
       "    <tr>\n",
       "      <th>Totals</th>\n",
       "      <td></td>\n",
       "      <td>569</td>\n",
       "      <td>1.000000</td>\n",
       "      <td>212</td>\n",
       "      <td>357</td>\n",
       "      <td>0.627417</td>\n",
       "      <td></td>\n",
       "      <td>5.043925</td>\n",
       "      <td>0.393784</td>\n",
       "    </tr>\n",
       "  </tbody>\n",
       "</table>\n",
       "</div>"
      ],
      "text/plain": [
       "                   Bin  Count  Count (%)  Non-event  Event  Event rate  \\\n",
       "0        (-inf, 11.43)    118   0.207381          3    115    0.974576   \n",
       "1       [11.43, 12.33)     79   0.138840          3     76    0.962025   \n",
       "2       [12.33, 13.09)     68   0.119508          7     61    0.897059   \n",
       "3       [13.09, 13.70)     49   0.086116         10     39    0.795918   \n",
       "4       [13.70, 15.05)     83   0.145870         28     55    0.662651   \n",
       "5       [15.05, 16.93)     54   0.094903         44     10    0.185185   \n",
       "6         [16.93, inf)    118   0.207381        117      1    0.008475   \n",
       "7              Special      0   0.000000          0      0    0.000000   \n",
       "8              Missing      0   0.000000          0      0    0.000000   \n",
       "Totals                    569   1.000000        212    357    0.627417   \n",
       "\n",
       "             WoE        IV        JS  \n",
       "0      -3.125170  0.962483  0.087205  \n",
       "1      -2.710972  0.538763  0.052198  \n",
       "2      -1.643814  0.226599  0.025513  \n",
       "3      -0.839827  0.052131  0.006331  \n",
       "4      -0.153979  0.003385  0.000423  \n",
       "5       2.002754  0.359566  0.038678  \n",
       "6       5.283323  2.900997  0.183436  \n",
       "7       0.000000  0.000000  0.000000  \n",
       "8       0.000000  0.000000  0.000000  \n",
       "Totals            5.043925  0.393784  "
      ]
     },
     "execution_count": 11,
     "metadata": {},
     "output_type": "execute_result"
    }
   ],
   "source": [
    "binning_table.build()"
   ]
  },
  {
   "cell_type": "markdown",
   "metadata": {},
   "source": [
    "Let's describe the columns of this binning table:\n",
    "\n",
    "- Bin: the intervals delimited by the optimal split points.\n",
    "- Count: the number of records for each bin.\n",
    "- Count (%): the percentage of records for each bin.\n",
    "- Non-event: the number of non-event records $(y = 0)$ for each bin.\n",
    "- Event: the number of event records $(y = 1)$ for each bin.\n",
    "- Event rate: the percentage of event records for each bin.\n",
    "- WoE: the Weight-of-Evidence for each bin.\n",
    "- IV: the Information Value (also known as Jeffrey's divergence) for each bin.\n",
    "- JS: the Jensen-Shannon divergence for each bin.\n",
    "\n",
    "The last row shows the total number of records, non-event records, event records, and IV and JS."
   ]
  },
  {
   "cell_type": "markdown",
   "metadata": {},
   "source": [
    "You can use the method ``plot`` to visualize the histogram and WoE or event rate curve. Note that the Bin ID corresponds to the binning table index."
   ]
  },
  {
   "cell_type": "code",
   "execution_count": 12,
   "metadata": {},
   "outputs": [
    {
     "data": {
      "image/png": "[encoded data removed]",
      "text/plain": [
       "<Figure size 432x288 with 2 Axes>"
      ]
     },
     "metadata": {
      "needs_background": "light"
     },
     "output_type": "display_data"
    }
   ],
   "source": [
    "binning_table.plot(metric=\"woe\")"
   ]
  },
  {
   "cell_type": "code",
   "execution_count": 13,
   "metadata": {},
   "outputs": [
    {
     "data": {
      "image/png": "[encoded data removed]",
      "text/plain": [
       "<Figure size 432x288 with 2 Axes>"
      ]
     },
     "metadata": {
      "needs_background": "light"
     },
     "output_type": "display_data"
    }
   ],
   "source": [
    "binning_table.plot(metric=\"event_rate\")"
   ]
  },
  {
   "cell_type": "markdown",
   "metadata": {},
   "source": [
    "Note that WoE is inversely related to the event rate, i.e., a monotonically ascending event rate ensures a monotonically descending WoE and vice-versa. We will see more monotonic trend options in the advanced tutorial."
   ]
  },
  {
   "cell_type": "markdown",
   "metadata": {},
   "source": [
    "##### Event rate / WoE transformation"
   ]
  },
  {
   "cell_type": "markdown",
   "metadata": {},
   "source": [
    "Now that we have checked the binned data, we can transform our original data into WoE or event rate values. You can check the correctness of the transformation using pandas ``value_counts`` method, for instance."
   ]
  },
  {
   "cell_type": "code",
   "execution_count": 14,
   "metadata": {},
   "outputs": [],
   "source": [
    "x_transform_woe = optb.transform(x, metric=\"woe\")"
   ]
  },
  {
   "cell_type": "code",
   "execution_count": 15,
   "metadata": {},
   "outputs": [
    {
     "data": {
      "text/plain": [
       "-3.125170    118\n",
       " 5.283323    118\n",
       "-0.153979     83\n",
       "-2.710972     79\n",
       "-1.643814     68\n",
       " 2.002754     54\n",
       "-0.839827     49\n",
       "dtype: int64"
      ]
     },
     "execution_count": 15,
     "metadata": {},
     "output_type": "execute_result"
    }
   ],
   "source": [
    "pd.Series(x_transform_woe).value_counts()"
   ]
  },
  {
   "cell_type": "code",
   "execution_count": 16,
   "metadata": {},
   "outputs": [],
   "source": [
    "x_transform_event_rate = optb.transform(x, metric=\"event_rate\")"
   ]
  },
  {
   "cell_type": "code",
   "execution_count": 17,
   "metadata": {},
   "outputs": [
    {
     "data": {
      "text/plain": [
       "0.974576    118\n",
       "0.008475    118\n",
       "0.662651     83\n",
       "0.962025     79\n",
       "0.897059     68\n",
       "0.185185     54\n",
       "0.795918     49\n",
       "dtype: int64"
      ]
     },
     "execution_count": 17,
     "metadata": {},
     "output_type": "execute_result"
    }
   ],
   "source": [
    "pd.Series(x_transform_event_rate).value_counts()"
   ]
  },
  {
   "cell_type": "code",
   "execution_count": 18,
   "metadata": {},
   "outputs": [],
   "source": [
    "x_transform_indices = optb.transform(x, metric=\"indices\")"
   ]
  },
  {
   "cell_type": "code",
   "execution_count": 19,
   "metadata": {},
   "outputs": [
    {
     "data": {
      "text/plain": [
       "0    118\n",
       "6    118\n",
       "4     83\n",
       "1     79\n",
       "2     68\n",
       "5     54\n",
       "3     49\n",
       "dtype: int64"
      ]
     },
     "execution_count": 19,
     "metadata": {},
     "output_type": "execute_result"
    }
   ],
   "source": [
    "pd.Series(x_transform_indices).value_counts()"
   ]
  },
  {
   "cell_type": "code",
   "execution_count": 20,
   "metadata": {},
   "outputs": [],
   "source": [
    "x_transform_bins = optb.transform(x, metric=\"bins\")"
   ]
  },
  {
   "cell_type": "code",
   "execution_count": 21,
   "metadata": {},
   "outputs": [
    {
     "data": {
      "text/plain": [
       "[16.93, inf)      118\n",
       "(-inf, 11.43)     118\n",
       "[13.70, 15.05)     83\n",
       "[11.43, 12.33)     79\n",
       "[12.33, 13.09)     68\n",
       "[15.05, 16.93)     54\n",
       "[13.09, 13.70)     49\n",
       "dtype: int64"
      ]
     },
     "execution_count": 21,
     "metadata": {},
     "output_type": "execute_result"
    }
   ],
   "source": [
    "pd.Series(x_transform_bins).value_counts()"
   ]
  },
  {
   "cell_type": "markdown",
   "metadata": {},
   "source": [
    "#### Categorical variable"
   ]
  },
  {
   "cell_type": "markdown",
   "metadata": {},
   "source": [
    "Let's load the application_train.csv file from the Kaggle's competition https://www.kaggle.com/c/home-credit-default-risk/data."
   ]
  },
  {
   "cell_type": "code",
   "execution_count": 22,
   "metadata": {},
   "outputs": [],
   "source": [
    "df_cat = pd.read_csv(\"data/kaggle/HomeCreditDefaultRisk/application_train.csv\",\n",
    "                     engine='c')"
   ]
  },
  {
   "cell_type": "code",
   "execution_count": 23,
   "metadata": {},
   "outputs": [],
   "source": [
    "variable_cat = \"NAME_INCOME_TYPE\"\n",
    "x_cat = df_cat[variable_cat].values\n",
    "y_cat = df_cat.TARGET.values"
   ]
  },
  {
   "cell_type": "code",
   "execution_count": 24,
   "metadata": {},
   "outputs": [
    {
     "data": {
      "text/plain": [
       "Working                 158774\n",
       "Commercial associate     71617\n",
       "Pensioner                55362\n",
       "State servant            21703\n",
       "Unemployed                  22\n",
       "Student                     18\n",
       "Businessman                 10\n",
       "Maternity leave              5\n",
       "Name: NAME_INCOME_TYPE, dtype: int64"
      ]
     },
     "execution_count": 24,
     "metadata": {},
     "output_type": "execute_result"
    }
   ],
   "source": [
    "df_cat[variable_cat].value_counts()"
   ]
  },
  {
   "cell_type": "markdown",
   "metadata": {},
   "source": [
    "We instantiate an ``OptimalBinning`` object class with the variable name, its data type (**categorical**) and a solver, in this case, we choose the mixed-integer programming solver. Also, for this particular example, we set a ``cat_cutoff=0.1`` to create bin others with categories in which the percentage of occurrences is below 10%. This will merge categories State servant, Unemployed, Student, Businessman and Maternity leave."
   ]
  },
  {
   "cell_type": "code",
   "execution_count": 25,
   "metadata": {},
   "outputs": [],
   "source": [
    "optb = OptimalBinning(name=variable_cat, dtype=\"categorical\", solver=\"mip\",\n",
    "                      cat_cutoff=0.1)"
   ]
  },
  {
   "cell_type": "code",
   "execution_count": 26,
   "metadata": {},
   "outputs": [
    {
     "data": {
      "text/plain": [
       "OptimalBinning(cat_cutoff=0.1, dtype='categorical', name='NAME_INCOME_TYPE',\n",
       "               solver='mip')"
      ]
     },
     "execution_count": 26,
     "metadata": {},
     "output_type": "execute_result"
    }
   ],
   "source": [
    "optb.fit(x_cat, y_cat)"
   ]
  },
  {
   "cell_type": "code",
   "execution_count": 27,
   "metadata": {},
   "outputs": [
    {
     "data": {
      "text/plain": [
       "'OPTIMAL'"
      ]
     },
     "execution_count": 27,
     "metadata": {},
     "output_type": "execute_result"
    }
   ],
   "source": [
    "optb.status"
   ]
  },
  {
   "cell_type": "markdown",
   "metadata": {},
   "source": [
    "The optimal split points are the list of classes belonging to each bin."
   ]
  },
  {
   "cell_type": "code",
   "execution_count": 28,
   "metadata": {},
   "outputs": [
    {
     "data": {
      "text/plain": [
       "[array(['Pensioner'], dtype=object),\n",
       " array(['Commercial associate'], dtype=object),\n",
       " array(['Working'], dtype=object),\n",
       " array(['State servant', 'Unemployed', 'Student', 'Businessman',\n",
       "        'Maternity leave'], dtype=object)]"
      ]
     },
     "execution_count": 28,
     "metadata": {},
     "output_type": "execute_result"
    }
   ],
   "source": [
    "optb.splits"
   ]
  },
  {
   "cell_type": "code",
   "execution_count": 29,
   "metadata": {},
   "outputs": [
    {
     "data": {
      "text/html": [
       "<div>\n",
       "<style scoped>\n",
       "    .dataframe tbody tr th:only-of-type {\n",
       "        vertical-align: middle;\n",
       "    }\n",
       "\n",
       "    .dataframe tbody tr th {\n",
       "        vertical-align: top;\n",
       "    }\n",
       "\n",
       "    .dataframe thead th {\n",
       "        text-align: right;\n",
       "    }\n",
       "</style>\n",
       "<table border=\"1\" class=\"dataframe\">\n",
       "  <thead>\n",
       "    <tr style=\"text-align: right;\">\n",
       "      <th></th>\n",
       "      <th>Bin</th>\n",
       "      <th>Count</th>\n",
       "      <th>Count (%)</th>\n",
       "      <th>Non-event</th>\n",
       "      <th>Event</th>\n",
       "      <th>Event rate</th>\n",
       "      <th>WoE</th>\n",
       "      <th>IV</th>\n",
       "      <th>JS</th>\n",
       "    </tr>\n",
       "  </thead>\n",
       "  <tbody>\n",
       "    <tr>\n",
       "      <th>0</th>\n",
       "      <td>[Pensioner]</td>\n",
       "      <td>55362</td>\n",
       "      <td>0.180033</td>\n",
       "      <td>52380</td>\n",
       "      <td>2982</td>\n",
       "      <td>0.053864</td>\n",
       "      <td>0.433445</td>\n",
       "      <td>0.028249</td>\n",
       "      <td>0.003504</td>\n",
       "    </tr>\n",
       "    <tr>\n",
       "      <th>1</th>\n",
       "      <td>[Commercial associate]</td>\n",
       "      <td>71617</td>\n",
       "      <td>0.232892</td>\n",
       "      <td>66257</td>\n",
       "      <td>5360</td>\n",
       "      <td>0.074843</td>\n",
       "      <td>0.082092</td>\n",
       "      <td>0.001516</td>\n",
       "      <td>0.000189</td>\n",
       "    </tr>\n",
       "    <tr>\n",
       "      <th>2</th>\n",
       "      <td>[Working]</td>\n",
       "      <td>158774</td>\n",
       "      <td>0.516320</td>\n",
       "      <td>143550</td>\n",
       "      <td>15224</td>\n",
       "      <td>0.095885</td>\n",
       "      <td>-0.188675</td>\n",
       "      <td>0.019895</td>\n",
       "      <td>0.002483</td>\n",
       "    </tr>\n",
       "    <tr>\n",
       "      <th>3</th>\n",
       "      <td>[State servant, Unemployed, Student, Businessm...</td>\n",
       "      <td>21758</td>\n",
       "      <td>0.070755</td>\n",
       "      <td>20499</td>\n",
       "      <td>1259</td>\n",
       "      <td>0.057864</td>\n",
       "      <td>0.357573</td>\n",
       "      <td>0.007795</td>\n",
       "      <td>0.000969</td>\n",
       "    </tr>\n",
       "    <tr>\n",
       "      <th>4</th>\n",
       "      <td>Special</td>\n",
       "      <td>0</td>\n",
       "      <td>0.000000</td>\n",
       "      <td>0</td>\n",
       "      <td>0</td>\n",
       "      <td>0.000000</td>\n",
       "      <td>0.000000</td>\n",
       "      <td>0.000000</td>\n",
       "      <td>0.000000</td>\n",
       "    </tr>\n",
       "    <tr>\n",
       "      <th>5</th>\n",
       "      <td>Missing</td>\n",
       "      <td>0</td>\n",
       "      <td>0.000000</td>\n",
       "      <td>0</td>\n",
       "      <td>0</td>\n",
       "      <td>0.000000</td>\n",
       "      <td>0.000000</td>\n",
       "      <td>0.000000</td>\n",
       "      <td>0.000000</td>\n",
       "    </tr>\n",
       "    <tr>\n",
       "      <th>Totals</th>\n",
       "      <td></td>\n",
       "      <td>307511</td>\n",
       "      <td>1.000000</td>\n",
       "      <td>282686</td>\n",
       "      <td>24825</td>\n",
       "      <td>0.080729</td>\n",
       "      <td></td>\n",
       "      <td>0.057455</td>\n",
       "      <td>0.007146</td>\n",
       "    </tr>\n",
       "  </tbody>\n",
       "</table>\n",
       "</div>"
      ],
      "text/plain": [
       "                                                      Bin   Count  Count (%)  \\\n",
       "0                                             [Pensioner]   55362   0.180033   \n",
       "1                                  [Commercial associate]   71617   0.232892   \n",
       "2                                               [Working]  158774   0.516320   \n",
       "3       [State servant, Unemployed, Student, Businessm...   21758   0.070755   \n",
       "4                                                 Special       0   0.000000   \n",
       "5                                                 Missing       0   0.000000   \n",
       "Totals                                                     307511   1.000000   \n",
       "\n",
       "        Non-event  Event  Event rate       WoE        IV        JS  \n",
       "0           52380   2982    0.053864  0.433445  0.028249  0.003504  \n",
       "1           66257   5360    0.074843  0.082092  0.001516  0.000189  \n",
       "2          143550  15224    0.095885 -0.188675  0.019895  0.002483  \n",
       "3           20499   1259    0.057864  0.357573  0.007795  0.000969  \n",
       "4               0      0    0.000000  0.000000  0.000000  0.000000  \n",
       "5               0      0    0.000000  0.000000  0.000000  0.000000  \n",
       "Totals     282686  24825    0.080729            0.057455  0.007146  "
      ]
     },
     "execution_count": 29,
     "metadata": {},
     "output_type": "execute_result"
    }
   ],
   "source": [
    "binning_table = optb.binning_table\n",
    "binning_table.build()"
   ]
  },
  {
   "cell_type": "markdown",
   "metadata": {},
   "source": [
    "You can use the method ``plot`` to visualize the histogram and WoE or event rate curve. Note that for categorical variables the optimal bins are **always** monotonically ascending with respect to the event rate. Finally, note that bin 3 corresponds to bin others and is represented by using a lighter color."
   ]
  },
  {
   "cell_type": "code",
   "execution_count": 30,
   "metadata": {},
   "outputs": [
    {
     "data": {
      "image/png": "[encoded data removed]",
      "text/plain": [
       "<Figure size 432x288 with 2 Axes>"
      ]
     },
     "metadata": {
      "needs_background": "light"
     },
     "output_type": "display_data"
    }
   ],
   "source": [
    "binning_table.plot(metric=\"event_rate\")"
   ]
  },
  {
   "cell_type": "markdown",
   "metadata": {},
   "source": [
    "Same as for the numerical dtype, we can transform our original data into WoE or event rate values. Transformation of data including categories not present during training return zero WoE or event rate."
   ]
  },
  {
   "cell_type": "code",
   "execution_count": 31,
   "metadata": {},
   "outputs": [],
   "source": [
    "x_new = [\"Businessman\", \"Working\", \"Unknown\"]"
   ]
  },
  {
   "cell_type": "code",
   "execution_count": 32,
   "metadata": {},
   "outputs": [],
   "source": [
    "x_transform_woe = optb.transform(x_new, metric=\"woe\")"
   ]
  },
  {
   "cell_type": "code",
   "execution_count": 33,
   "metadata": {},
   "outputs": [
    {
     "data": {
      "text/html": [
       "<div>\n",
       "<style scoped>\n",
       "    .dataframe tbody tr th:only-of-type {\n",
       "        vertical-align: middle;\n",
       "    }\n",
       "\n",
       "    .dataframe tbody tr th {\n",
       "        vertical-align: top;\n",
       "    }\n",
       "\n",
       "    .dataframe thead th {\n",
       "        text-align: right;\n",
       "    }\n",
       "</style>\n",
       "<table border=\"1\" class=\"dataframe\">\n",
       "  <thead>\n",
       "    <tr style=\"text-align: right;\">\n",
       "      <th></th>\n",
       "      <th>NAME_INCOME_TYPE</th>\n",
       "      <th>WoE</th>\n",
       "    </tr>\n",
       "  </thead>\n",
       "  <tbody>\n",
       "    <tr>\n",
       "      <th>0</th>\n",
       "      <td>Businessman</td>\n",
       "      <td>0.357573</td>\n",
       "    </tr>\n",
       "    <tr>\n",
       "      <th>1</th>\n",
       "      <td>Working</td>\n",
       "      <td>-0.188675</td>\n",
       "    </tr>\n",
       "    <tr>\n",
       "      <th>2</th>\n",
       "      <td>Unknown</td>\n",
       "      <td>0.000000</td>\n",
       "    </tr>\n",
       "  </tbody>\n",
       "</table>\n",
       "</div>"
      ],
      "text/plain": [
       "  NAME_INCOME_TYPE       WoE\n",
       "0      Businessman  0.357573\n",
       "1          Working -0.188675\n",
       "2          Unknown  0.000000"
      ]
     },
     "execution_count": 33,
     "metadata": {},
     "output_type": "execute_result"
    }
   ],
   "source": [
    "pd.DataFrame({variable_cat: x_new, \"WoE\": x_transform_woe})"
   ]
  },
  {
   "cell_type": "markdown",
   "metadata": {},
   "source": [
    "## Advanced"
   ]
  },
  {
   "cell_type": "markdown",
   "metadata": {},
   "source": [
    "#### Optimal binning Information"
   ]
  },
  {
   "cell_type": "markdown",
   "metadata": {},
   "source": [
    "The ``OptimalBinning`` can print overview information about the options settings, problem statistics, and the solution of the computation. By default, ``print_level=1``."
   ]
  },
  {
   "cell_type": "code",
   "execution_count": 34,
   "metadata": {},
   "outputs": [
    {
     "data": {
      "text/plain": [
       "OptimalBinning(name='mean radius', solver='mip')"
      ]
     },
     "execution_count": 34,
     "metadata": {},
     "output_type": "execute_result"
    }
   ],
   "source": [
    "optb = OptimalBinning(name=variable, dtype=\"numerical\", solver=\"mip\")\n",
    "optb.fit(x, y)"
   ]
  },
  {
   "cell_type": "markdown",
   "metadata": {},
   "source": [
    "If ``print_level=0``, a minimal output including the header, variable name, status, and total time are printed."
   ]
  },
  {
   "cell_type": "code",
   "execution_count": 35,
   "metadata": {},
   "outputs": [
    {
     "name": "stdout",
     "output_type": "stream",
     "text": [
      "optbinning (Version 0.16.0)\n",
      "Copyright (c) 2019-2022 Guillermo Navas-Palencia, Apache License 2.0\n",
      "\n",
      "  Name    : mean radius                     \n",
      "  Status  : OPTIMAL                         \n",
      "\n",
      "  Time    : 0.0441  sec\n",
      "\n"
     ]
    }
   ],
   "source": [
    "optb.information(print_level=0)"
   ]
  },
  {
   "cell_type": "markdown",
   "metadata": {},
   "source": [
    "If ``print_level>=1``, statistics on the pre-binning phase and the solver are printed. More detailed timing statistics are also included."
   ]
  },
  {
   "cell_type": "code",
   "execution_count": 36,
   "metadata": {},
   "outputs": [
    {
     "name": "stdout",
     "output_type": "stream",
     "text": [
      "optbinning (Version 0.16.0)\n",
      "Copyright (c) 2019-2022 Guillermo Navas-Palencia, Apache License 2.0\n",
      "\n",
      "  Name    : mean radius                     \n",
      "  Status  : OPTIMAL                         \n",
      "\n",
      "  Pre-binning statistics\n",
      "    Number of pre-bins                     9\n",
      "    Number of refinements                  1\n",
      "\n",
      "  Solver statistics\n",
      "    Type                                 mip\n",
      "    Number of variables                   85\n",
      "    Number of constraints                 45\n",
      "    Objective value                   5.0439\n",
      "    Best objective bound              5.0439\n",
      "\n",
      "  Timing\n",
      "    Total time                          0.04 sec\n",
      "    Pre-processing                      0.00 sec   (  7.80%)\n",
      "    Pre-binning                         0.00 sec   (  9.35%)\n",
      "    Solver                              0.04 sec   ( 81.21%)\n",
      "    Post-processing                     0.00 sec   (  0.23%)\n",
      "\n"
     ]
    }
   ],
   "source": [
    "optb.information(print_level=1)"
   ]
  },
  {
   "cell_type": "markdown",
   "metadata": {},
   "source": [
    "If ``print_level=2``, the list of all options of the ``OptimalBinning`` are displayed. The output contains the option name, its current value and an indicator for how it was set. The unchanged options from the default settings are noted by \"d\", and the options set by the user changed from the default settings are noted by \"U\". This is inspired by the NAG solver e04mtc printed output, see https://www.nag.co.uk/numeric/cl/nagdoc_cl26/html/e04/e04mtc.html#fcomments."
   ]
  },
  {
   "cell_type": "code",
   "execution_count": 37,
   "metadata": {},
   "outputs": [
    {
     "name": "stdout",
     "output_type": "stream",
     "text": [
      "optbinning (Version 0.16.0)\n",
      "Copyright (c) 2019-2022 Guillermo Navas-Palencia, Apache License 2.0\n",
      "\n",
      "  Begin options\n",
      "    name                         mean radius   * U\n",
      "    dtype                          numerical   * d\n",
      "    prebinning_method                   cart   * d\n",
      "    solver                               mip   * U\n",
      "    divergence                            iv   * d\n",
      "    max_n_prebins                         20   * d\n",
      "    min_prebin_size                     0.05   * d\n",
      "    min_n_bins                            no   * d\n",
      "    max_n_bins                            no   * d\n",
      "    min_bin_size                          no   * d\n",
      "    max_bin_size                          no   * d\n",
      "    min_bin_n_nonevent                    no   * d\n",
      "    max_bin_n_nonevent                    no   * d\n",
      "    min_bin_n_event                       no   * d\n",
      "    max_bin_n_event                       no   * d\n",
      "    monotonic_trend                     auto   * d\n",
      "    min_event_rate_diff                    0   * d\n",
      "    max_pvalue                            no   * d\n",
      "    max_pvalue_policy            consecutive   * d\n",
      "    gamma                                  0   * d\n",
      "    class_weight                          no   * d\n",
      "    cat_cutoff                            no   * d\n",
      "    user_splits                           no   * d\n",
      "    user_splits_fixed                     no   * d\n",
      "    special_codes                         no   * d\n",
      "    split_digits                          no   * d\n",
      "    mip_solver                           bop   * d\n",
      "    time_limit                           100   * d\n",
      "    verbose                            False   * d\n",
      "  End options\n",
      "\n",
      "  Name    : mean radius                     \n",
      "  Status  : OPTIMAL                         \n",
      "\n",
      "  Pre-binning statistics\n",
      "    Number of pre-bins                     9\n",
      "    Number of refinements                  1\n",
      "\n",
      "  Solver statistics\n",
      "    Type                                 mip\n",
      "    Number of variables                   85\n",
      "    Number of constraints                 45\n",
      "    Objective value                   5.0439\n",
      "    Best objective bound              5.0439\n",
      "\n",
      "  Timing\n",
      "    Total time                          0.04 sec\n",
      "    Pre-processing                      0.00 sec   (  7.80%)\n",
      "    Pre-binning                         0.00 sec   (  9.35%)\n",
      "    Solver                              0.04 sec   ( 81.21%)\n",
      "    Post-processing                     0.00 sec   (  0.23%)\n",
      "\n"
     ]
    }
   ],
   "source": [
    "optb.information(print_level=2)"
   ]
  },
  {
   "cell_type": "markdown",
   "metadata": {},
   "source": [
    "#### Binning table statistical analysis"
   ]
  },
  {
   "cell_type": "markdown",
   "metadata": {},
   "source": [
    "The ``analysis`` method performs a statistical analysis of the binning table, computing the statistics Gini index, Information Value (IV), Jensen-Shannon divergence, and the quality score. Additionally, several statistical significance tests between consecutive bins of the contingency table are performed: a frequentist test using the Chi-square test or the Fisher's exact test, and a Bayesian A/B test using the beta distribution as a conjugate prior of the Bernoulli distribution."
   ]
  },
  {
   "cell_type": "code",
   "execution_count": 38,
   "metadata": {},
   "outputs": [
    {
     "name": "stdout",
     "output_type": "stream",
     "text": [
      "---------------------------------------------\n",
      "OptimalBinning: Binary Binning Table Analysis\n",
      "---------------------------------------------\n",
      "\n",
      "  General metrics\n",
      "\n",
      "    Gini index               0.12175489\n",
      "    IV (Jeffrey)             0.05745546\n",
      "    JS (Jensen-Shannon)      0.00714565\n",
      "    Hellinger                0.00716372\n",
      "    Triangular               0.02843984\n",
      "    KS                       0.08364544\n",
      "    HHI                      0.35824301\n",
      "    HHI (normalized)         0.22989161\n",
      "    Cramer's V               0.06007763\n",
      "    Quality score            0.18240827\n",
      "\n",
      "  Monotonic trend                  peak\n",
      "\n",
      "  Significance tests\n",
      "\n",
      "    Bin A  Bin B  t-statistic      p-value     P[A > B]  P[B > A]\n",
      "        0      1   223.890188 1.281939e-50 4.799305e-71       1.0\n",
      "        1      2   268.591060 2.301360e-60 6.289833e-76       1.0\n",
      "\n"
     ]
    }
   ],
   "source": [
    "binning_table.analysis(pvalue_test=\"chi2\")"
   ]
  },
  {
   "cell_type": "code",
   "execution_count": 39,
   "metadata": {},
   "outputs": [
    {
     "name": "stdout",
     "output_type": "stream",
     "text": [
      "---------------------------------------------\n",
      "OptimalBinning: Binary Binning Table Analysis\n",
      "---------------------------------------------\n",
      "\n",
      "  General metrics\n",
      "\n",
      "    Gini index               0.12175489\n",
      "    IV (Jeffrey)             0.05745546\n",
      "    JS (Jensen-Shannon)      0.00714565\n",
      "    Hellinger                0.00716372\n",
      "    Triangular               0.02843984\n",
      "    KS                       0.08364544\n",
      "    HHI                      0.35824301\n",
      "    HHI (normalized)         0.22989161\n",
      "    Cramer's V               0.06007763\n",
      "    Quality score            0.18240827\n",
      "\n",
      "  Monotonic trend                  peak\n",
      "\n",
      "  Significance tests\n",
      "\n",
      "    Bin A  Bin B  odd ratio      p-value     P[A > B]  P[B > A]\n",
      "        0      1   1.420990 2.091361e-51 4.799305e-71       1.0\n",
      "        1      2   1.310969 4.434577e-62 6.289833e-76       1.0\n",
      "\n"
     ]
    }
   ],
   "source": [
    "binning_table.analysis(pvalue_test=\"fisher\")"
   ]
  },
  {
   "cell_type": "markdown",
   "metadata": {},
   "source": [
    "#### Event rate / WoE monotonicity"
   ]
  },
  {
   "cell_type": "markdown",
   "metadata": {},
   "source": [
    "The ``monotonic_trend`` option permits forcing a monotonic trend to the event rate curve. The default setting \"auto\" should be the preferred option, however, some business constraints might require to impose different trends. The default setting \"auto\" chooses the monotonic trend most likely to maximize the information value from the options \"ascending\", \"descending\", \"peak\" and \"valley\" using a machine-learning-based classifier."
   ]
  },
  {
   "cell_type": "code",
   "execution_count": 40,
   "metadata": {},
   "outputs": [],
   "source": [
    "variable = \"mean texture\"\n",
    "x = df[variable].values\n",
    "y = data.target"
   ]
  },
  {
   "cell_type": "code",
   "execution_count": 41,
   "metadata": {},
   "outputs": [
    {
     "data": {
      "text/plain": [
       "OptimalBinning(name='mean texture')"
      ]
     },
     "execution_count": 41,
     "metadata": {},
     "output_type": "execute_result"
    }
   ],
   "source": [
    "optb = OptimalBinning(name=variable, dtype=\"numerical\", solver=\"cp\")\n",
    "optb.fit(x, y)"
   ]
  },
  {
   "cell_type": "code",
   "execution_count": 42,
   "metadata": {},
   "outputs": [
    {
     "data": {
      "text/html": [
       "<div>\n",
       "<style scoped>\n",
       "    .dataframe tbody tr th:only-of-type {\n",
       "        vertical-align: middle;\n",
       "    }\n",
       "\n",
       "    .dataframe tbody tr th {\n",
       "        vertical-align: top;\n",
       "    }\n",
       "\n",
       "    .dataframe thead th {\n",
       "        text-align: right;\n",
       "    }\n",
       "</style>\n",
       "<table border=\"1\" class=\"dataframe\">\n",
       "  <thead>\n",
       "    <tr style=\"text-align: right;\">\n",
       "      <th></th>\n",
       "      <th>Bin</th>\n",
       "      <th>Count</th>\n",
       "      <th>Count (%)</th>\n",
       "      <th>Non-event</th>\n",
       "      <th>Event</th>\n",
       "      <th>Event rate</th>\n",
       "      <th>WoE</th>\n",
       "      <th>IV</th>\n",
       "      <th>JS</th>\n",
       "    </tr>\n",
       "  </thead>\n",
       "  <tbody>\n",
       "    <tr>\n",
       "      <th>0</th>\n",
       "      <td>(-inf, 15.05)</td>\n",
       "      <td>92</td>\n",
       "      <td>0.161687</td>\n",
       "      <td>4</td>\n",
       "      <td>88</td>\n",
       "      <td>0.956522</td>\n",
       "      <td>-2.569893</td>\n",
       "      <td>0.584986</td>\n",
       "      <td>0.057939</td>\n",
       "    </tr>\n",
       "    <tr>\n",
       "      <th>1</th>\n",
       "      <td>[15.05, 16.39)</td>\n",
       "      <td>61</td>\n",
       "      <td>0.107206</td>\n",
       "      <td>8</td>\n",
       "      <td>53</td>\n",
       "      <td>0.868852</td>\n",
       "      <td>-1.369701</td>\n",
       "      <td>0.151658</td>\n",
       "      <td>0.017602</td>\n",
       "    </tr>\n",
       "    <tr>\n",
       "      <th>2</th>\n",
       "      <td>[16.39, 17.03)</td>\n",
       "      <td>29</td>\n",
       "      <td>0.050967</td>\n",
       "      <td>6</td>\n",
       "      <td>23</td>\n",
       "      <td>0.793103</td>\n",
       "      <td>-0.822585</td>\n",
       "      <td>0.029715</td>\n",
       "      <td>0.003613</td>\n",
       "    </tr>\n",
       "    <tr>\n",
       "      <th>3</th>\n",
       "      <td>[17.03, 18.46)</td>\n",
       "      <td>79</td>\n",
       "      <td>0.138840</td>\n",
       "      <td>17</td>\n",
       "      <td>62</td>\n",
       "      <td>0.784810</td>\n",
       "      <td>-0.772772</td>\n",
       "      <td>0.072239</td>\n",
       "      <td>0.008812</td>\n",
       "    </tr>\n",
       "    <tr>\n",
       "      <th>4</th>\n",
       "      <td>[18.46, 19.47)</td>\n",
       "      <td>55</td>\n",
       "      <td>0.096661</td>\n",
       "      <td>20</td>\n",
       "      <td>35</td>\n",
       "      <td>0.636364</td>\n",
       "      <td>-0.038466</td>\n",
       "      <td>0.000142</td>\n",
       "      <td>0.000018</td>\n",
       "    </tr>\n",
       "    <tr>\n",
       "      <th>5</th>\n",
       "      <td>[19.47, 20.20)</td>\n",
       "      <td>36</td>\n",
       "      <td>0.063269</td>\n",
       "      <td>18</td>\n",
       "      <td>18</td>\n",
       "      <td>0.500000</td>\n",
       "      <td>0.521150</td>\n",
       "      <td>0.017972</td>\n",
       "      <td>0.002221</td>\n",
       "    </tr>\n",
       "    <tr>\n",
       "      <th>6</th>\n",
       "      <td>[20.20, 21.71)</td>\n",
       "      <td>72</td>\n",
       "      <td>0.126538</td>\n",
       "      <td>43</td>\n",
       "      <td>29</td>\n",
       "      <td>0.402778</td>\n",
       "      <td>0.915054</td>\n",
       "      <td>0.111268</td>\n",
       "      <td>0.013443</td>\n",
       "    </tr>\n",
       "    <tr>\n",
       "      <th>7</th>\n",
       "      <td>[21.71, 22.74)</td>\n",
       "      <td>40</td>\n",
       "      <td>0.070299</td>\n",
       "      <td>27</td>\n",
       "      <td>13</td>\n",
       "      <td>0.325000</td>\n",
       "      <td>1.252037</td>\n",
       "      <td>0.113865</td>\n",
       "      <td>0.013371</td>\n",
       "    </tr>\n",
       "    <tr>\n",
       "      <th>8</th>\n",
       "      <td>[22.74, 24.00)</td>\n",
       "      <td>29</td>\n",
       "      <td>0.050967</td>\n",
       "      <td>24</td>\n",
       "      <td>5</td>\n",
       "      <td>0.172414</td>\n",
       "      <td>2.089765</td>\n",
       "      <td>0.207309</td>\n",
       "      <td>0.022035</td>\n",
       "    </tr>\n",
       "    <tr>\n",
       "      <th>9</th>\n",
       "      <td>[24.00, 26.98)</td>\n",
       "      <td>43</td>\n",
       "      <td>0.075571</td>\n",
       "      <td>30</td>\n",
       "      <td>13</td>\n",
       "      <td>0.302326</td>\n",
       "      <td>1.357398</td>\n",
       "      <td>0.142656</td>\n",
       "      <td>0.016578</td>\n",
       "    </tr>\n",
       "    <tr>\n",
       "      <th>10</th>\n",
       "      <td>[26.98, inf)</td>\n",
       "      <td>33</td>\n",
       "      <td>0.057996</td>\n",
       "      <td>15</td>\n",
       "      <td>18</td>\n",
       "      <td>0.545455</td>\n",
       "      <td>0.338828</td>\n",
       "      <td>0.006890</td>\n",
       "      <td>0.000857</td>\n",
       "    </tr>\n",
       "    <tr>\n",
       "      <th>11</th>\n",
       "      <td>Special</td>\n",
       "      <td>0</td>\n",
       "      <td>0.000000</td>\n",
       "      <td>0</td>\n",
       "      <td>0</td>\n",
       "      <td>0.000000</td>\n",
       "      <td>0.000000</td>\n",
       "      <td>0.000000</td>\n",
       "      <td>0.000000</td>\n",
       "    </tr>\n",
       "    <tr>\n",
       "      <th>12</th>\n",
       "      <td>Missing</td>\n",
       "      <td>0</td>\n",
       "      <td>0.000000</td>\n",
       "      <td>0</td>\n",
       "      <td>0</td>\n",
       "      <td>0.000000</td>\n",
       "      <td>0.000000</td>\n",
       "      <td>0.000000</td>\n",
       "      <td>0.000000</td>\n",
       "    </tr>\n",
       "    <tr>\n",
       "      <th>Totals</th>\n",
       "      <td></td>\n",
       "      <td>569</td>\n",
       "      <td>1.000000</td>\n",
       "      <td>212</td>\n",
       "      <td>357</td>\n",
       "      <td>0.627417</td>\n",
       "      <td></td>\n",
       "      <td>1.438701</td>\n",
       "      <td>0.156488</td>\n",
       "    </tr>\n",
       "  </tbody>\n",
       "</table>\n",
       "</div>"
      ],
      "text/plain": [
       "                   Bin  Count  Count (%)  Non-event  Event  Event rate  \\\n",
       "0        (-inf, 15.05)     92   0.161687          4     88    0.956522   \n",
       "1       [15.05, 16.39)     61   0.107206          8     53    0.868852   \n",
       "2       [16.39, 17.03)     29   0.050967          6     23    0.793103   \n",
       "3       [17.03, 18.46)     79   0.138840         17     62    0.784810   \n",
       "4       [18.46, 19.47)     55   0.096661         20     35    0.636364   \n",
       "5       [19.47, 20.20)     36   0.063269         18     18    0.500000   \n",
       "6       [20.20, 21.71)     72   0.126538         43     29    0.402778   \n",
       "7       [21.71, 22.74)     40   0.070299         27     13    0.325000   \n",
       "8       [22.74, 24.00)     29   0.050967         24      5    0.172414   \n",
       "9       [24.00, 26.98)     43   0.075571         30     13    0.302326   \n",
       "10        [26.98, inf)     33   0.057996         15     18    0.545455   \n",
       "11             Special      0   0.000000          0      0    0.000000   \n",
       "12             Missing      0   0.000000          0      0    0.000000   \n",
       "Totals                    569   1.000000        212    357    0.627417   \n",
       "\n",
       "             WoE        IV        JS  \n",
       "0      -2.569893  0.584986  0.057939  \n",
       "1      -1.369701  0.151658  0.017602  \n",
       "2      -0.822585  0.029715  0.003613  \n",
       "3      -0.772772  0.072239  0.008812  \n",
       "4      -0.038466  0.000142  0.000018  \n",
       "5       0.521150  0.017972  0.002221  \n",
       "6       0.915054  0.111268  0.013443  \n",
       "7       1.252037  0.113865  0.013371  \n",
       "8       2.089765  0.207309  0.022035  \n",
       "9       1.357398  0.142656  0.016578  \n",
       "10      0.338828  0.006890  0.000857  \n",
       "11      0.000000  0.000000  0.000000  \n",
       "12      0.000000  0.000000  0.000000  \n",
       "Totals            1.438701  0.156488  "
      ]
     },
     "execution_count": 42,
     "metadata": {},
     "output_type": "execute_result"
    }
   ],
   "source": [
    "binning_table = optb.binning_table\n",
    "binning_table.build()"
   ]
  },
  {
   "cell_type": "code",
   "execution_count": 43,
   "metadata": {},
   "outputs": [
    {
     "data": {
      "image/png": "[encoded data removed]",
      "text/plain": [
       "<Figure size 432x288 with 2 Axes>"
      ]
     },
     "metadata": {
      "needs_background": "light"
     },
     "output_type": "display_data"
    }
   ],
   "source": [
    "binning_table.plot(metric=\"event_rate\")"
   ]
  },
  {
   "cell_type": "markdown",
   "metadata": {},
   "source": [
    "For example, we can force the variable mean texture to be monotonically descending with respect to the probability of having breast cancer."
   ]
  },
  {
   "cell_type": "code",
   "execution_count": 44,
   "metadata": {},
   "outputs": [
    {
     "data": {
      "text/plain": [
       "OptimalBinning(monotonic_trend='descending', name='mean texture')"
      ]
     },
     "execution_count": 44,
     "metadata": {},
     "output_type": "execute_result"
    }
   ],
   "source": [
    "optb = OptimalBinning(name=variable, dtype=\"numerical\", solver=\"cp\",\n",
    "                      monotonic_trend=\"descending\")\n",
    "optb.fit(x, y)"
   ]
  },
  {
   "cell_type": "code",
   "execution_count": 45,
   "metadata": {},
   "outputs": [
    {
     "data": {
      "image/png": "[encoded data removed]",
      "text/plain": [
       "<Figure size 432x288 with 2 Axes>"
      ]
     },
     "metadata": {
      "needs_background": "light"
     },
     "output_type": "display_data"
    }
   ],
   "source": [
    "binning_table = optb.binning_table\n",
    "binning_table.build()\n",
    "binning_table.plot(metric=\"event_rate\")"
   ]
  },
  {
   "cell_type": "markdown",
   "metadata": {},
   "source": [
    "#### Reduction of dominating bins"
   ]
  },
  {
   "cell_type": "markdown",
   "metadata": {},
   "source": [
    "Version 0.3.0 introduced a new constraint to produce more homogeneous solutions by reducing a concentration metric such as the difference between the largest and smallest bin. The added regularization parameter ``gamma`` controls the importance of the reduction term. Larger values specify stronger regularization. Continuing with the previous example"
   ]
  },
  {
   "cell_type": "code",
   "execution_count": 46,
   "metadata": {},
   "outputs": [
    {
     "data": {
      "text/plain": [
       "OptimalBinning(gamma=0.5, monotonic_trend='descending', name='mean texture')"
      ]
     },
     "execution_count": 46,
     "metadata": {},
     "output_type": "execute_result"
    }
   ],
   "source": [
    "optb = OptimalBinning(name=variable, dtype=\"numerical\", solver=\"cp\",\n",
    "                      monotonic_trend=\"descending\", gamma=0.5)\n",
    "optb.fit(x, y)"
   ]
  },
  {
   "cell_type": "code",
   "execution_count": 47,
   "metadata": {},
   "outputs": [
    {
     "data": {
      "image/png": "[encoded data removed]",
      "text/plain": [
       "<Figure size 432x288 with 2 Axes>"
      ]
     },
     "metadata": {
      "needs_background": "light"
     },
     "output_type": "display_data"
    }
   ],
   "source": [
    "binning_table = optb.binning_table\n",
    "binning_table.build()\n",
    "binning_table.plot(metric=\"event_rate\")"
   ]
  },
  {
   "cell_type": "markdown",
   "metadata": {},
   "source": [
    "Note that the new solution produces more homogeneous bins, removing the dominance of bin 7 previously observed."
   ]
  },
  {
   "cell_type": "markdown",
   "metadata": {},
   "source": [
    "#### User-defined split points"
   ]
  },
  {
   "cell_type": "markdown",
   "metadata": {},
   "source": [
    "In some situations, we have defined split points or bins required to satisfy a priori belief,  knowledge or business constraint. The ``OptimalBinning`` permits to pass user-defined split points for numerical variables and user-defined bins for categorical variables. The supplied information is used as a pre-binning, disallowing any pre-binning method set by the user. Furthermore, version 0.5.0 introduces ``user_splits_fixed`` parameter, to allow the user to fix some user-defined splits, so these must appear in the solution."
   ]
  },
  {
   "cell_type": "markdown",
   "metadata": {},
   "source": [
    "Example numerical variable:"
   ]
  },
  {
   "cell_type": "code",
   "execution_count": 48,
   "metadata": {},
   "outputs": [],
   "source": [
    "user_splits =       [  14,    15,    16,    17,    20,    21,    22,    27]\n",
    "user_splits_fixed = [False, True,  True, False, False, False, False, False]"
   ]
  },
  {
   "cell_type": "code",
   "execution_count": 49,
   "metadata": {},
   "outputs": [
    {
     "data": {
      "text/plain": [
       "OptimalBinning(name='mean texture', solver='mip',\n",
       "               user_splits=[14, 15, 16, 17, 20, 21, 22, 27],\n",
       "               user_splits_fixed=array([False,  True,  True, False, False, False, False, False]))"
      ]
     },
     "execution_count": 49,
     "metadata": {},
     "output_type": "execute_result"
    }
   ],
   "source": [
    "optb = OptimalBinning(name=variable, dtype=\"numerical\", solver=\"mip\",\n",
    "                      user_splits=user_splits, user_splits_fixed=user_splits_fixed)\n",
    "\n",
    "optb.fit(x, y)"
   ]
  },
  {
   "cell_type": "code",
   "execution_count": 50,
   "metadata": {},
   "outputs": [
    {
     "data": {
      "text/html": [
       "<div>\n",
       "<style scoped>\n",
       "    .dataframe tbody tr th:only-of-type {\n",
       "        vertical-align: middle;\n",
       "    }\n",
       "\n",
       "    .dataframe tbody tr th {\n",
       "        vertical-align: top;\n",
       "    }\n",
       "\n",
       "    .dataframe thead th {\n",
       "        text-align: right;\n",
       "    }\n",
       "</style>\n",
       "<table border=\"1\" class=\"dataframe\">\n",
       "  <thead>\n",
       "    <tr style=\"text-align: right;\">\n",
       "      <th></th>\n",
       "      <th>Bin</th>\n",
       "      <th>Count</th>\n",
       "      <th>Count (%)</th>\n",
       "      <th>Non-event</th>\n",
       "      <th>Event</th>\n",
       "      <th>Event rate</th>\n",
       "      <th>WoE</th>\n",
       "      <th>IV</th>\n",
       "      <th>JS</th>\n",
       "    </tr>\n",
       "  </thead>\n",
       "  <tbody>\n",
       "    <tr>\n",
       "      <th>0</th>\n",
       "      <td>(-inf, 14.00)</td>\n",
       "      <td>54</td>\n",
       "      <td>0.094903</td>\n",
       "      <td>2</td>\n",
       "      <td>52</td>\n",
       "      <td>0.962963</td>\n",
       "      <td>-2.736947</td>\n",
       "      <td>0.372839</td>\n",
       "      <td>0.035974</td>\n",
       "    </tr>\n",
       "    <tr>\n",
       "      <th>1</th>\n",
       "      <td>[14.00, 15.00)</td>\n",
       "      <td>37</td>\n",
       "      <td>0.065026</td>\n",
       "      <td>2</td>\n",
       "      <td>35</td>\n",
       "      <td>0.945946</td>\n",
       "      <td>-2.341051</td>\n",
       "      <td>0.207429</td>\n",
       "      <td>0.021268</td>\n",
       "    </tr>\n",
       "    <tr>\n",
       "      <th>2</th>\n",
       "      <td>[15.00, 16.00)</td>\n",
       "      <td>43</td>\n",
       "      <td>0.075571</td>\n",
       "      <td>7</td>\n",
       "      <td>36</td>\n",
       "      <td>0.837209</td>\n",
       "      <td>-1.116459</td>\n",
       "      <td>0.075720</td>\n",
       "      <td>0.009002</td>\n",
       "    </tr>\n",
       "    <tr>\n",
       "      <th>3</th>\n",
       "      <td>[16.00, 20.00)</td>\n",
       "      <td>210</td>\n",
       "      <td>0.369069</td>\n",
       "      <td>59</td>\n",
       "      <td>151</td>\n",
       "      <td>0.719048</td>\n",
       "      <td>-0.418593</td>\n",
       "      <td>0.060557</td>\n",
       "      <td>0.007515</td>\n",
       "    </tr>\n",
       "    <tr>\n",
       "      <th>4</th>\n",
       "      <td>[20.00, 21.00)</td>\n",
       "      <td>45</td>\n",
       "      <td>0.079086</td>\n",
       "      <td>26</td>\n",
       "      <td>19</td>\n",
       "      <td>0.422222</td>\n",
       "      <td>0.834807</td>\n",
       "      <td>0.057952</td>\n",
       "      <td>0.007041</td>\n",
       "    </tr>\n",
       "    <tr>\n",
       "      <th>5</th>\n",
       "      <td>[21.00, 22.00)</td>\n",
       "      <td>49</td>\n",
       "      <td>0.086116</td>\n",
       "      <td>30</td>\n",
       "      <td>19</td>\n",
       "      <td>0.387755</td>\n",
       "      <td>0.977908</td>\n",
       "      <td>0.086338</td>\n",
       "      <td>0.010382</td>\n",
       "    </tr>\n",
       "    <tr>\n",
       "      <th>6</th>\n",
       "      <td>[22.00, 27.00)</td>\n",
       "      <td>99</td>\n",
       "      <td>0.173989</td>\n",
       "      <td>71</td>\n",
       "      <td>28</td>\n",
       "      <td>0.282828</td>\n",
       "      <td>1.451625</td>\n",
       "      <td>0.372304</td>\n",
       "      <td>0.042839</td>\n",
       "    </tr>\n",
       "    <tr>\n",
       "      <th>7</th>\n",
       "      <td>[27.00, inf)</td>\n",
       "      <td>32</td>\n",
       "      <td>0.056239</td>\n",
       "      <td>15</td>\n",
       "      <td>17</td>\n",
       "      <td>0.531250</td>\n",
       "      <td>0.395986</td>\n",
       "      <td>0.009161</td>\n",
       "      <td>0.001138</td>\n",
       "    </tr>\n",
       "    <tr>\n",
       "      <th>8</th>\n",
       "      <td>Special</td>\n",
       "      <td>0</td>\n",
       "      <td>0.000000</td>\n",
       "      <td>0</td>\n",
       "      <td>0</td>\n",
       "      <td>0.000000</td>\n",
       "      <td>0.000000</td>\n",
       "      <td>0.000000</td>\n",
       "      <td>0.000000</td>\n",
       "    </tr>\n",
       "    <tr>\n",
       "      <th>9</th>\n",
       "      <td>Missing</td>\n",
       "      <td>0</td>\n",
       "      <td>0.000000</td>\n",
       "      <td>0</td>\n",
       "      <td>0</td>\n",
       "      <td>0.000000</td>\n",
       "      <td>0.000000</td>\n",
       "      <td>0.000000</td>\n",
       "      <td>0.000000</td>\n",
       "    </tr>\n",
       "    <tr>\n",
       "      <th>Totals</th>\n",
       "      <td></td>\n",
       "      <td>569</td>\n",
       "      <td>1.000000</td>\n",
       "      <td>212</td>\n",
       "      <td>357</td>\n",
       "      <td>0.627417</td>\n",
       "      <td></td>\n",
       "      <td>1.242301</td>\n",
       "      <td>0.135158</td>\n",
       "    </tr>\n",
       "  </tbody>\n",
       "</table>\n",
       "</div>"
      ],
      "text/plain": [
       "                   Bin  Count  Count (%)  Non-event  Event  Event rate  \\\n",
       "0        (-inf, 14.00)     54   0.094903          2     52    0.962963   \n",
       "1       [14.00, 15.00)     37   0.065026          2     35    0.945946   \n",
       "2       [15.00, 16.00)     43   0.075571          7     36    0.837209   \n",
       "3       [16.00, 20.00)    210   0.369069         59    151    0.719048   \n",
       "4       [20.00, 21.00)     45   0.079086         26     19    0.422222   \n",
       "5       [21.00, 22.00)     49   0.086116         30     19    0.387755   \n",
       "6       [22.00, 27.00)     99   0.173989         71     28    0.282828   \n",
       "7         [27.00, inf)     32   0.056239         15     17    0.531250   \n",
       "8              Special      0   0.000000          0      0    0.000000   \n",
       "9              Missing      0   0.000000          0      0    0.000000   \n",
       "Totals                    569   1.000000        212    357    0.627417   \n",
       "\n",
       "             WoE        IV        JS  \n",
       "0      -2.736947  0.372839  0.035974  \n",
       "1      -2.341051  0.207429  0.021268  \n",
       "2      -1.116459  0.075720  0.009002  \n",
       "3      -0.418593  0.060557  0.007515  \n",
       "4       0.834807  0.057952  0.007041  \n",
       "5       0.977908  0.086338  0.010382  \n",
       "6       1.451625  0.372304  0.042839  \n",
       "7       0.395986  0.009161  0.001138  \n",
       "8       0.000000  0.000000  0.000000  \n",
       "9       0.000000  0.000000  0.000000  \n",
       "Totals            1.242301  0.135158  "
      ]
     },
     "execution_count": 50,
     "metadata": {},
     "output_type": "execute_result"
    }
   ],
   "source": [
    "binning_table = optb.binning_table\n",
    "binning_table.build()"
   ]
  },
  {
   "cell_type": "code",
   "execution_count": 51,
   "metadata": {},
   "outputs": [
    {
     "name": "stdout",
     "output_type": "stream",
     "text": [
      "optbinning (Version 0.16.0)\n",
      "Copyright (c) 2019-2022 Guillermo Navas-Palencia, Apache License 2.0\n",
      "\n",
      "  Name    : mean texture                    \n",
      "  Status  : OPTIMAL                         \n",
      "\n",
      "  Pre-binning statistics\n",
      "    Number of pre-bins                     9\n",
      "    Number of refinements                  0\n",
      "\n",
      "  Solver statistics\n",
      "    Type                                 mip\n",
      "    Number of variables                  137\n",
      "    Number of constraints                 55\n",
      "    Objective value                   1.2423\n",
      "    Best objective bound              1.2423\n",
      "\n",
      "  Timing\n",
      "    Total time                          0.08 sec\n",
      "    Pre-processing                      0.00 sec   (  0.98%)\n",
      "    Pre-binning                         0.00 sec   (  1.50%)\n",
      "    Solver                              0.08 sec   ( 96.65%)\n",
      "    Post-processing                     0.00 sec   (  0.12%)\n",
      "\n"
     ]
    }
   ],
   "source": [
    "optb.information()"
   ]
  },
  {
   "cell_type": "markdown",
   "metadata": {},
   "source": [
    "Example categorical variable:"
   ]
  },
  {
   "cell_type": "code",
   "execution_count": 52,
   "metadata": {},
   "outputs": [],
   "source": [
    "user_splits = np.array([\n",
    "               ['Businessman'], \n",
    "               ['Working'],\n",
    "               ['Commercial associate'],\n",
    "               ['Pensioner', 'Maternity leave'],\n",
    "               ['State servant'],\n",
    "               ['Unemployed', 'Student']], dtype=object)"
   ]
  },
  {
   "cell_type": "code",
   "execution_count": 53,
   "metadata": {},
   "outputs": [
    {
     "data": {
      "text/plain": [
       "OptimalBinning(dtype='categorical', name='NAME_INCOME_TYPE',\n",
       "               user_splits=array([list(['Working']), list(['Commercial associate']),\n",
       "       list(['Pensioner', 'Maternity leave']), list(['State servant']),\n",
       "       list(['Unemployed', 'Student'])], dtype=object),\n",
       "               user_splits_fixed=array([ True,  True,  True,  True,  True]))"
      ]
     },
     "execution_count": 53,
     "metadata": {},
     "output_type": "execute_result"
    }
   ],
   "source": [
    "optb = OptimalBinning(name=variable_cat, dtype=\"categorical\", solver=\"cp\",\n",
    "                      user_splits=user_splits,\n",
    "                      user_splits_fixed=[False, True, True, True, True, True])\n",
    "\n",
    "optb.fit(x_cat, y_cat)"
   ]
  },
  {
   "cell_type": "code",
   "execution_count": 54,
   "metadata": {},
   "outputs": [
    {
     "data": {
      "text/html": [
       "<div>\n",
       "<style scoped>\n",
       "    .dataframe tbody tr th:only-of-type {\n",
       "        vertical-align: middle;\n",
       "    }\n",
       "\n",
       "    .dataframe tbody tr th {\n",
       "        vertical-align: top;\n",
       "    }\n",
       "\n",
       "    .dataframe thead th {\n",
       "        text-align: right;\n",
       "    }\n",
       "</style>\n",
       "<table border=\"1\" class=\"dataframe\">\n",
       "  <thead>\n",
       "    <tr style=\"text-align: right;\">\n",
       "      <th></th>\n",
       "      <th>Bin</th>\n",
       "      <th>Count</th>\n",
       "      <th>Count (%)</th>\n",
       "      <th>Non-event</th>\n",
       "      <th>Event</th>\n",
       "      <th>Event rate</th>\n",
       "      <th>WoE</th>\n",
       "      <th>IV</th>\n",
       "      <th>JS</th>\n",
       "    </tr>\n",
       "  </thead>\n",
       "  <tbody>\n",
       "    <tr>\n",
       "      <th>0</th>\n",
       "      <td>[Businessman, Pensioner, Maternity leave]</td>\n",
       "      <td>55377</td>\n",
       "      <td>0.180081</td>\n",
       "      <td>52393</td>\n",
       "      <td>2984</td>\n",
       "      <td>0.053885</td>\n",
       "      <td>0.433023</td>\n",
       "      <td>0.028206</td>\n",
       "      <td>0.003499</td>\n",
       "    </tr>\n",
       "    <tr>\n",
       "      <th>1</th>\n",
       "      <td>[State servant]</td>\n",
       "      <td>21703</td>\n",
       "      <td>0.070576</td>\n",
       "      <td>20454</td>\n",
       "      <td>1249</td>\n",
       "      <td>0.057550</td>\n",
       "      <td>0.363350</td>\n",
       "      <td>0.008010</td>\n",
       "      <td>0.000996</td>\n",
       "    </tr>\n",
       "    <tr>\n",
       "      <th>2</th>\n",
       "      <td>[Commercial associate]</td>\n",
       "      <td>71617</td>\n",
       "      <td>0.232892</td>\n",
       "      <td>66257</td>\n",
       "      <td>5360</td>\n",
       "      <td>0.074843</td>\n",
       "      <td>0.082092</td>\n",
       "      <td>0.001516</td>\n",
       "      <td>0.000189</td>\n",
       "    </tr>\n",
       "    <tr>\n",
       "      <th>3</th>\n",
       "      <td>[Working]</td>\n",
       "      <td>158774</td>\n",
       "      <td>0.516320</td>\n",
       "      <td>143550</td>\n",
       "      <td>15224</td>\n",
       "      <td>0.095885</td>\n",
       "      <td>-0.188675</td>\n",
       "      <td>0.019895</td>\n",
       "      <td>0.002483</td>\n",
       "    </tr>\n",
       "    <tr>\n",
       "      <th>4</th>\n",
       "      <td>[Unemployed, Student]</td>\n",
       "      <td>40</td>\n",
       "      <td>0.000130</td>\n",
       "      <td>32</td>\n",
       "      <td>8</td>\n",
       "      <td>0.200000</td>\n",
       "      <td>-1.046191</td>\n",
       "      <td>0.000219</td>\n",
       "      <td>0.000026</td>\n",
       "    </tr>\n",
       "    <tr>\n",
       "      <th>5</th>\n",
       "      <td>Special</td>\n",
       "      <td>0</td>\n",
       "      <td>0.000000</td>\n",
       "      <td>0</td>\n",
       "      <td>0</td>\n",
       "      <td>0.000000</td>\n",
       "      <td>0.000000</td>\n",
       "      <td>0.000000</td>\n",
       "      <td>0.000000</td>\n",
       "    </tr>\n",
       "    <tr>\n",
       "      <th>6</th>\n",
       "      <td>Missing</td>\n",
       "      <td>0</td>\n",
       "      <td>0.000000</td>\n",
       "      <td>0</td>\n",
       "      <td>0</td>\n",
       "      <td>0.000000</td>\n",
       "      <td>0.000000</td>\n",
       "      <td>0.000000</td>\n",
       "      <td>0.000000</td>\n",
       "    </tr>\n",
       "    <tr>\n",
       "      <th>Totals</th>\n",
       "      <td></td>\n",
       "      <td>307511</td>\n",
       "      <td>1.000000</td>\n",
       "      <td>282686</td>\n",
       "      <td>24825</td>\n",
       "      <td>0.080729</td>\n",
       "      <td></td>\n",
       "      <td>0.057846</td>\n",
       "      <td>0.007193</td>\n",
       "    </tr>\n",
       "  </tbody>\n",
       "</table>\n",
       "</div>"
      ],
      "text/plain": [
       "                                              Bin   Count  Count (%)  \\\n",
       "0       [Businessman, Pensioner, Maternity leave]   55377   0.180081   \n",
       "1                                 [State servant]   21703   0.070576   \n",
       "2                          [Commercial associate]   71617   0.232892   \n",
       "3                                       [Working]  158774   0.516320   \n",
       "4                           [Unemployed, Student]      40   0.000130   \n",
       "5                                         Special       0   0.000000   \n",
       "6                                         Missing       0   0.000000   \n",
       "Totals                                             307511   1.000000   \n",
       "\n",
       "        Non-event  Event  Event rate       WoE        IV        JS  \n",
       "0           52393   2984    0.053885  0.433023  0.028206  0.003499  \n",
       "1           20454   1249    0.057550  0.363350  0.008010  0.000996  \n",
       "2           66257   5360    0.074843  0.082092  0.001516  0.000189  \n",
       "3          143550  15224    0.095885 -0.188675  0.019895  0.002483  \n",
       "4              32      8    0.200000 -1.046191  0.000219  0.000026  \n",
       "5               0      0    0.000000  0.000000  0.000000  0.000000  \n",
       "6               0      0    0.000000  0.000000  0.000000  0.000000  \n",
       "Totals     282686  24825    0.080729            0.057846  0.007193  "
      ]
     },
     "execution_count": 54,
     "metadata": {},
     "output_type": "execute_result"
    }
   ],
   "source": [
    "binning_table = optb.binning_table\n",
    "binning_table.build()"
   ]
  },
  {
   "cell_type": "code",
   "execution_count": 55,
   "metadata": {},
   "outputs": [
    {
     "data": {
      "image/png": "[encoded data removed]",
      "text/plain": [
       "<Figure size 432x288 with 2 Axes>"
      ]
     },
     "metadata": {
      "needs_background": "light"
     },
     "output_type": "display_data"
    }
   ],
   "source": [
    "optb.binning_table.plot(metric=\"event_rate\")"
   ]
  },
  {
   "cell_type": "code",
   "execution_count": 56,
   "metadata": {},
   "outputs": [
    {
     "name": "stdout",
     "output_type": "stream",
     "text": [
      "optbinning (Version 0.16.0)\n",
      "Copyright (c) 2019-2022 Guillermo Navas-Palencia, Apache License 2.0\n",
      "\n",
      "  Name    : NAME_INCOME_TYPE                \n",
      "  Status  : OPTIMAL                         \n",
      "\n",
      "  Pre-binning statistics\n",
      "    Number of pre-bins                     5\n",
      "    Number of refinements                  1\n",
      "\n",
      "  Solver statistics\n",
      "    Type                                  cp\n",
      "    Number of booleans                     0\n",
      "    Number of branches                     0\n",
      "    Number of conflicts                    0\n",
      "    Objective value                    57843\n",
      "    Best objective bound               57843\n",
      "\n",
      "  Timing\n",
      "    Total time                          0.24 sec\n",
      "    Pre-processing                      0.02 sec   (  7.18%)\n",
      "    Pre-binning                         0.21 sec   ( 88.23%)\n",
      "    Solver                              0.01 sec   (  4.42%)\n",
      "      model generation                  0.01 sec   ( 86.44%)\n",
      "      optimizer                         0.00 sec   ( 13.56%)\n",
      "    Post-processing                     0.00 sec   (  0.03%)\n",
      "\n"
     ]
    }
   ],
   "source": [
    "optb.information()"
   ]
  },
  {
   "cell_type": "markdown",
   "metadata": {},
   "source": [
    "#### Performance: choosing a solver"
   ]
  },
  {
   "cell_type": "markdown",
   "metadata": {},
   "source": [
    "For small problems, say less than ``max_n_prebins<=20``, the ``solver=\"mip\"`` tends to be faster than ``solver=\"cp\"``. However, for medium and large problems, experiments show the contrary. For very large problems, we recommend the use of the commercial solver LocalSolver via ``solver=\"ls\"``. See the specific LocalSolver tutorial."
   ]
  },
  {
   "cell_type": "markdown",
   "metadata": {},
   "source": [
    "#### Missing data and special codes"
   ]
  },
  {
   "cell_type": "markdown",
   "metadata": {},
   "source": [
    "For this example, let's load data from the FICO Explainable Machine Learning Challenge: https://community.fico.com/s/explainable-machine-learning-challenge"
   ]
  },
  {
   "cell_type": "code",
   "execution_count": 57,
   "metadata": {},
   "outputs": [],
   "source": [
    "df = pd.read_csv(\"data/FICO_challenge/heloc_dataset_v1.csv\", sep=\",\")"
   ]
  },
  {
   "cell_type": "markdown",
   "metadata": {},
   "source": [
    "The data dictionary of this challenge includes three special values/codes:\n",
    "\n",
    "* -9 No Bureau Record or No Investigation\n",
    "* -8 No Usable/Valid Trades or Inquiries\n",
    "* -7 Condition not Met (e.g. No Inquiries, No Delinquencies) "
   ]
  },
  {
   "cell_type": "code",
   "execution_count": 58,
   "metadata": {},
   "outputs": [],
   "source": [
    "special_codes = [-9, -8, -7]"
   ]
  },
  {
   "cell_type": "code",
   "execution_count": 59,
   "metadata": {},
   "outputs": [],
   "source": [
    "variable = \"AverageMInFile\"\n",
    "x = df[variable].values\n",
    "y = df.RiskPerformance.values"
   ]
  },
  {
   "cell_type": "code",
   "execution_count": 60,
   "metadata": {},
   "outputs": [
    {
     "data": {
      "text/plain": [
       "array(['Bad', 'Good'], dtype=object)"
      ]
     },
     "execution_count": 60,
     "metadata": {},
     "output_type": "execute_result"
    }
   ],
   "source": [
    "df.RiskPerformance.unique()"
   ]
  },
  {
   "cell_type": "markdown",
   "metadata": {},
   "source": [
    "Target is a categorical dichotomic variable, which can be easily transform into numerical."
   ]
  },
  {
   "cell_type": "code",
   "execution_count": 61,
   "metadata": {},
   "outputs": [],
   "source": [
    "mask = y == \"Bad\"\n",
    "y[mask] = 1\n",
    "y[~mask] = 0\n",
    "y = y.astype(int)"
   ]
  },
  {
   "cell_type": "markdown",
   "metadata": {},
   "source": [
    "For the sake of completeness, we include a few missing values"
   ]
  },
  {
   "cell_type": "code",
   "execution_count": 62,
   "metadata": {},
   "outputs": [],
   "source": [
    "idx = np.random.randint(0, len(x), 500)\n",
    "x = x.astype(float)\n",
    "x[idx] = np.nan"
   ]
  },
  {
   "cell_type": "code",
   "execution_count": 63,
   "metadata": {},
   "outputs": [
    {
     "data": {
      "text/plain": [
       "OptimalBinning(name='AverageMInFile', solver='mip', special_codes=[-9, -8, -7])"
      ]
     },
     "execution_count": 63,
     "metadata": {},
     "output_type": "execute_result"
    }
   ],
   "source": [
    "optb = OptimalBinning(name=variable, dtype=\"numerical\", solver=\"mip\",\n",
    "                      special_codes=special_codes)\n",
    "\n",
    "optb.fit(x, y)"
   ]
  },
  {
   "cell_type": "code",
   "execution_count": 64,
   "metadata": {},
   "outputs": [
    {
     "name": "stdout",
     "output_type": "stream",
     "text": [
      "optbinning (Version 0.16.0)\n",
      "Copyright (c) 2019-2022 Guillermo Navas-Palencia, Apache License 2.0\n",
      "\n",
      "  Name    : AverageMInFile                  \n",
      "  Status  : OPTIMAL                         \n",
      "\n",
      "  Pre-binning statistics\n",
      "    Number of pre-bins                    13\n",
      "    Number of refinements                  0\n",
      "\n",
      "  Solver statistics\n",
      "    Type                                 mip\n",
      "    Number of variables                  176\n",
      "    Number of constraints                 91\n",
      "    Objective value                   0.3266\n",
      "    Best objective bound              0.3266\n",
      "\n",
      "  Timing\n",
      "    Total time                          0.08 sec\n",
      "    Pre-processing                      0.00 sec   (  1.79%)\n",
      "    Pre-binning                         0.01 sec   (  7.49%)\n",
      "    Solver                              0.07 sec   ( 89.94%)\n",
      "    Post-processing                     0.00 sec   (  0.34%)\n",
      "\n"
     ]
    }
   ],
   "source": [
    "optb.information(print_level=1)"
   ]
  },
  {
   "cell_type": "code",
   "execution_count": 65,
   "metadata": {},
   "outputs": [
    {
     "data": {
      "text/html": [
       "<div>\n",
       "<style scoped>\n",
       "    .dataframe tbody tr th:only-of-type {\n",
       "        vertical-align: middle;\n",
       "    }\n",
       "\n",
       "    .dataframe tbody tr th {\n",
       "        vertical-align: top;\n",
       "    }\n",
       "\n",
       "    .dataframe thead th {\n",
       "        text-align: right;\n",
       "    }\n",
       "</style>\n",
       "<table border=\"1\" class=\"dataframe\">\n",
       "  <thead>\n",
       "    <tr style=\"text-align: right;\">\n",
       "      <th></th>\n",
       "      <th>Bin</th>\n",
       "      <th>Count</th>\n",
       "      <th>Count (%)</th>\n",
       "      <th>Non-event</th>\n",
       "      <th>Event</th>\n",
       "      <th>Event rate</th>\n",
       "      <th>WoE</th>\n",
       "      <th>IV</th>\n",
       "      <th>JS</th>\n",
       "    </tr>\n",
       "  </thead>\n",
       "  <tbody>\n",
       "    <tr>\n",
       "      <th>0</th>\n",
       "      <td>(-inf, 30.50)</td>\n",
       "      <td>551</td>\n",
       "      <td>0.052682</td>\n",
       "      <td>97</td>\n",
       "      <td>454</td>\n",
       "      <td>0.823956</td>\n",
       "      <td>-1.455559</td>\n",
       "      <td>0.092814</td>\n",
       "      <td>0.010675</td>\n",
       "    </tr>\n",
       "    <tr>\n",
       "      <th>1</th>\n",
       "      <td>[30.50, 48.50)</td>\n",
       "      <td>1064</td>\n",
       "      <td>0.101731</td>\n",
       "      <td>289</td>\n",
       "      <td>775</td>\n",
       "      <td>0.728383</td>\n",
       "      <td>-0.898609</td>\n",
       "      <td>0.075634</td>\n",
       "      <td>0.009148</td>\n",
       "    </tr>\n",
       "    <tr>\n",
       "      <th>2</th>\n",
       "      <td>[48.50, 56.50)</td>\n",
       "      <td>693</td>\n",
       "      <td>0.066259</td>\n",
       "      <td>251</td>\n",
       "      <td>442</td>\n",
       "      <td>0.637807</td>\n",
       "      <td>-0.478029</td>\n",
       "      <td>0.014708</td>\n",
       "      <td>0.001821</td>\n",
       "    </tr>\n",
       "    <tr>\n",
       "      <th>3</th>\n",
       "      <td>[56.50, 64.50)</td>\n",
       "      <td>911</td>\n",
       "      <td>0.087102</td>\n",
       "      <td>390</td>\n",
       "      <td>521</td>\n",
       "      <td>0.571899</td>\n",
       "      <td>-0.201776</td>\n",
       "      <td>0.003519</td>\n",
       "      <td>0.000439</td>\n",
       "    </tr>\n",
       "    <tr>\n",
       "      <th>4</th>\n",
       "      <td>[64.50, 70.50)</td>\n",
       "      <td>781</td>\n",
       "      <td>0.074673</td>\n",
       "      <td>364</td>\n",
       "      <td>417</td>\n",
       "      <td>0.533931</td>\n",
       "      <td>-0.048105</td>\n",
       "      <td>0.000173</td>\n",
       "      <td>0.000022</td>\n",
       "    </tr>\n",
       "    <tr>\n",
       "      <th>5</th>\n",
       "      <td>[70.50, 75.50)</td>\n",
       "      <td>677</td>\n",
       "      <td>0.064729</td>\n",
       "      <td>332</td>\n",
       "      <td>345</td>\n",
       "      <td>0.509601</td>\n",
       "      <td>0.049418</td>\n",
       "      <td>0.000158</td>\n",
       "      <td>0.000020</td>\n",
       "    </tr>\n",
       "    <tr>\n",
       "      <th>6</th>\n",
       "      <td>[75.50, 80.50)</td>\n",
       "      <td>630</td>\n",
       "      <td>0.060235</td>\n",
       "      <td>335</td>\n",
       "      <td>295</td>\n",
       "      <td>0.468254</td>\n",
       "      <td>0.214983</td>\n",
       "      <td>0.002786</td>\n",
       "      <td>0.000348</td>\n",
       "    </tr>\n",
       "    <tr>\n",
       "      <th>7</th>\n",
       "      <td>[80.50, 101.50)</td>\n",
       "      <td>2157</td>\n",
       "      <td>0.206234</td>\n",
       "      <td>1232</td>\n",
       "      <td>925</td>\n",
       "      <td>0.428836</td>\n",
       "      <td>0.374428</td>\n",
       "      <td>0.028814</td>\n",
       "      <td>0.003581</td>\n",
       "    </tr>\n",
       "    <tr>\n",
       "      <th>8</th>\n",
       "      <td>[101.50, 116.50)</td>\n",
       "      <td>860</td>\n",
       "      <td>0.082226</td>\n",
       "      <td>531</td>\n",
       "      <td>329</td>\n",
       "      <td>0.382558</td>\n",
       "      <td>0.566532</td>\n",
       "      <td>0.026022</td>\n",
       "      <td>0.003210</td>\n",
       "    </tr>\n",
       "    <tr>\n",
       "      <th>9</th>\n",
       "      <td>[116.50, inf)</td>\n",
       "      <td>1090</td>\n",
       "      <td>0.104216</td>\n",
       "      <td>706</td>\n",
       "      <td>384</td>\n",
       "      <td>0.352294</td>\n",
       "      <td>0.696800</td>\n",
       "      <td>0.049373</td>\n",
       "      <td>0.006050</td>\n",
       "    </tr>\n",
       "    <tr>\n",
       "      <th>10</th>\n",
       "      <td>Special</td>\n",
       "      <td>562</td>\n",
       "      <td>0.053734</td>\n",
       "      <td>251</td>\n",
       "      <td>311</td>\n",
       "      <td>0.553381</td>\n",
       "      <td>-0.126512</td>\n",
       "      <td>0.000857</td>\n",
       "      <td>0.000107</td>\n",
       "    </tr>\n",
       "    <tr>\n",
       "      <th>11</th>\n",
       "      <td>Missing</td>\n",
       "      <td>483</td>\n",
       "      <td>0.046180</td>\n",
       "      <td>222</td>\n",
       "      <td>261</td>\n",
       "      <td>0.540373</td>\n",
       "      <td>-0.074015</td>\n",
       "      <td>0.000252</td>\n",
       "      <td>0.000032</td>\n",
       "    </tr>\n",
       "    <tr>\n",
       "      <th>Totals</th>\n",
       "      <td></td>\n",
       "      <td>10459</td>\n",
       "      <td>1.000000</td>\n",
       "      <td>5000</td>\n",
       "      <td>5459</td>\n",
       "      <td>0.521943</td>\n",
       "      <td></td>\n",
       "      <td>0.295110</td>\n",
       "      <td>0.035452</td>\n",
       "    </tr>\n",
       "  </tbody>\n",
       "</table>\n",
       "</div>"
      ],
      "text/plain": [
       "                     Bin  Count  Count (%)  Non-event  Event  Event rate  \\\n",
       "0          (-inf, 30.50)    551   0.052682         97    454    0.823956   \n",
       "1         [30.50, 48.50)   1064   0.101731        289    775    0.728383   \n",
       "2         [48.50, 56.50)    693   0.066259        251    442    0.637807   \n",
       "3         [56.50, 64.50)    911   0.087102        390    521    0.571899   \n",
       "4         [64.50, 70.50)    781   0.074673        364    417    0.533931   \n",
       "5         [70.50, 75.50)    677   0.064729        332    345    0.509601   \n",
       "6         [75.50, 80.50)    630   0.060235        335    295    0.468254   \n",
       "7        [80.50, 101.50)   2157   0.206234       1232    925    0.428836   \n",
       "8       [101.50, 116.50)    860   0.082226        531    329    0.382558   \n",
       "9          [116.50, inf)   1090   0.104216        706    384    0.352294   \n",
       "10               Special    562   0.053734        251    311    0.553381   \n",
       "11               Missing    483   0.046180        222    261    0.540373   \n",
       "Totals                    10459   1.000000       5000   5459    0.521943   \n",
       "\n",
       "             WoE        IV        JS  \n",
       "0      -1.455559  0.092814  0.010675  \n",
       "1      -0.898609  0.075634  0.009148  \n",
       "2      -0.478029  0.014708  0.001821  \n",
       "3      -0.201776  0.003519  0.000439  \n",
       "4      -0.048105  0.000173  0.000022  \n",
       "5       0.049418  0.000158  0.000020  \n",
       "6       0.214983  0.002786  0.000348  \n",
       "7       0.374428  0.028814  0.003581  \n",
       "8       0.566532  0.026022  0.003210  \n",
       "9       0.696800  0.049373  0.006050  \n",
       "10     -0.126512  0.000857  0.000107  \n",
       "11     -0.074015  0.000252  0.000032  \n",
       "Totals            0.295110  0.035452  "
      ]
     },
     "execution_count": 65,
     "metadata": {},
     "output_type": "execute_result"
    }
   ],
   "source": [
    "binning_table = optb.binning_table\n",
    "binning_table.build()"
   ]
  },
  {
   "cell_type": "markdown",
   "metadata": {},
   "source": [
    "Note the dashed bins 10 and 11, corresponding to the special codes bin and the missing bin, respectively."
   ]
  },
  {
   "cell_type": "code",
   "execution_count": 66,
   "metadata": {},
   "outputs": [
    {
     "data": {
      "image/png": "[encoded data removed]",
      "text/plain": [
       "<Figure size 432x288 with 2 Axes>"
      ]
     },
     "metadata": {
      "needs_background": "light"
     },
     "output_type": "display_data"
    }
   ],
   "source": [
    "binning_table.plot(metric=\"event_rate\")"
   ]
  },
  {
   "cell_type": "markdown",
   "metadata": {},
   "source": [
    "#### Treat special codes separately"
   ]
  },
  {
   "cell_type": "markdown",
   "metadata": {},
   "source": [
    "Version 0.13.0 introduced the option to pass a dictionary of special codes to treat them separately. This feature provides more flexibility to the modeller. Note that a special code can be a single value or a list of values, for example, a combination of several special values."
   ]
  },
  {
   "cell_type": "code",
   "execution_count": 67,
   "metadata": {},
   "outputs": [
    {
     "data": {
      "text/plain": [
       "OptimalBinning(name='AverageMInFile', solver='mip',\n",
       "               special_codes={'special_1': -9, 'special_2': -8,\n",
       "                              'special_3': -7})"
      ]
     },
     "execution_count": 67,
     "metadata": {},
     "output_type": "execute_result"
    }
   ],
   "source": [
    "special_codes = {'special_1': -9, \"special_2\": -8, \"special_3\": -7}\n",
    "\n",
    "x[10:20] = -8\n",
    "x[100:105] = -7\n",
    "\n",
    "optb = OptimalBinning(name=variable, dtype=\"numerical\", solver=\"mip\",\n",
    "                      special_codes=special_codes)\n",
    "\n",
    "optb.fit(x, y)"
   ]
  },
  {
   "cell_type": "code",
   "execution_count": 68,
   "metadata": {},
   "outputs": [
    {
     "data": {
      "text/html": [
       "<div>\n",
       "<style scoped>\n",
       "    .dataframe tbody tr th:only-of-type {\n",
       "        vertical-align: middle;\n",
       "    }\n",
       "\n",
       "    .dataframe tbody tr th {\n",
       "        vertical-align: top;\n",
       "    }\n",
       "\n",
       "    .dataframe thead th {\n",
       "        text-align: right;\n",
       "    }\n",
       "</style>\n",
       "<table border=\"1\" class=\"dataframe\">\n",
       "  <thead>\n",
       "    <tr style=\"text-align: right;\">\n",
       "      <th></th>\n",
       "      <th>Bin</th>\n",
       "      <th>Count</th>\n",
       "      <th>Count (%)</th>\n",
       "      <th>Non-event</th>\n",
       "      <th>Event</th>\n",
       "      <th>Event rate</th>\n",
       "      <th>WoE</th>\n",
       "      <th>IV</th>\n",
       "      <th>JS</th>\n",
       "    </tr>\n",
       "  </thead>\n",
       "  <tbody>\n",
       "    <tr>\n",
       "      <th>0</th>\n",
       "      <td>(-inf, 30.50)</td>\n",
       "      <td>550</td>\n",
       "      <td>0.052586</td>\n",
       "      <td>97</td>\n",
       "      <td>453</td>\n",
       "      <td>0.823636</td>\n",
       "      <td>-1.453353</td>\n",
       "      <td>0.092407</td>\n",
       "      <td>0.010631</td>\n",
       "    </tr>\n",
       "    <tr>\n",
       "      <th>1</th>\n",
       "      <td>[30.50, 48.50)</td>\n",
       "      <td>1062</td>\n",
       "      <td>0.101539</td>\n",
       "      <td>288</td>\n",
       "      <td>774</td>\n",
       "      <td>0.728814</td>\n",
       "      <td>-0.900784</td>\n",
       "      <td>0.075832</td>\n",
       "      <td>0.009171</td>\n",
       "    </tr>\n",
       "    <tr>\n",
       "      <th>2</th>\n",
       "      <td>[48.50, 56.50)</td>\n",
       "      <td>693</td>\n",
       "      <td>0.066259</td>\n",
       "      <td>251</td>\n",
       "      <td>442</td>\n",
       "      <td>0.637807</td>\n",
       "      <td>-0.478029</td>\n",
       "      <td>0.014708</td>\n",
       "      <td>0.001821</td>\n",
       "    </tr>\n",
       "    <tr>\n",
       "      <th>3</th>\n",
       "      <td>[56.50, 64.50)</td>\n",
       "      <td>910</td>\n",
       "      <td>0.087006</td>\n",
       "      <td>390</td>\n",
       "      <td>520</td>\n",
       "      <td>0.571429</td>\n",
       "      <td>-0.199854</td>\n",
       "      <td>0.003449</td>\n",
       "      <td>0.000430</td>\n",
       "    </tr>\n",
       "    <tr>\n",
       "      <th>4</th>\n",
       "      <td>[64.50, 70.50)</td>\n",
       "      <td>778</td>\n",
       "      <td>0.074386</td>\n",
       "      <td>364</td>\n",
       "      <td>414</td>\n",
       "      <td>0.532134</td>\n",
       "      <td>-0.040884</td>\n",
       "      <td>0.000124</td>\n",
       "      <td>0.000016</td>\n",
       "    </tr>\n",
       "    <tr>\n",
       "      <th>5</th>\n",
       "      <td>[70.50, 75.50)</td>\n",
       "      <td>677</td>\n",
       "      <td>0.064729</td>\n",
       "      <td>332</td>\n",
       "      <td>345</td>\n",
       "      <td>0.509601</td>\n",
       "      <td>0.049418</td>\n",
       "      <td>0.000158</td>\n",
       "      <td>0.000020</td>\n",
       "    </tr>\n",
       "    <tr>\n",
       "      <th>6</th>\n",
       "      <td>[75.50, 80.50)</td>\n",
       "      <td>628</td>\n",
       "      <td>0.060044</td>\n",
       "      <td>335</td>\n",
       "      <td>293</td>\n",
       "      <td>0.466561</td>\n",
       "      <td>0.221786</td>\n",
       "      <td>0.002956</td>\n",
       "      <td>0.000369</td>\n",
       "    </tr>\n",
       "    <tr>\n",
       "      <th>7</th>\n",
       "      <td>[80.50, 101.50)</td>\n",
       "      <td>2153</td>\n",
       "      <td>0.205851</td>\n",
       "      <td>1230</td>\n",
       "      <td>923</td>\n",
       "      <td>0.428704</td>\n",
       "      <td>0.374968</td>\n",
       "      <td>0.028843</td>\n",
       "      <td>0.003584</td>\n",
       "    </tr>\n",
       "    <tr>\n",
       "      <th>8</th>\n",
       "      <td>[101.50, 116.50)</td>\n",
       "      <td>860</td>\n",
       "      <td>0.082226</td>\n",
       "      <td>531</td>\n",
       "      <td>329</td>\n",
       "      <td>0.382558</td>\n",
       "      <td>0.566532</td>\n",
       "      <td>0.026022</td>\n",
       "      <td>0.003210</td>\n",
       "    </tr>\n",
       "    <tr>\n",
       "      <th>9</th>\n",
       "      <td>[116.50, inf)</td>\n",
       "      <td>1088</td>\n",
       "      <td>0.104025</td>\n",
       "      <td>705</td>\n",
       "      <td>383</td>\n",
       "      <td>0.352022</td>\n",
       "      <td>0.697991</td>\n",
       "      <td>0.049446</td>\n",
       "      <td>0.006058</td>\n",
       "    </tr>\n",
       "    <tr>\n",
       "      <th>10</th>\n",
       "      <td>special_1</td>\n",
       "      <td>562</td>\n",
       "      <td>0.053734</td>\n",
       "      <td>251</td>\n",
       "      <td>311</td>\n",
       "      <td>0.553381</td>\n",
       "      <td>-0.126512</td>\n",
       "      <td>0.000857</td>\n",
       "      <td>0.000107</td>\n",
       "    </tr>\n",
       "    <tr>\n",
       "      <th>11</th>\n",
       "      <td>special_2</td>\n",
       "      <td>10</td>\n",
       "      <td>0.000956</td>\n",
       "      <td>2</td>\n",
       "      <td>8</td>\n",
       "      <td>0.800000</td>\n",
       "      <td>-1.298467</td>\n",
       "      <td>0.001383</td>\n",
       "      <td>0.000162</td>\n",
       "    </tr>\n",
       "    <tr>\n",
       "      <th>12</th>\n",
       "      <td>special_3</td>\n",
       "      <td>5</td>\n",
       "      <td>0.000478</td>\n",
       "      <td>2</td>\n",
       "      <td>3</td>\n",
       "      <td>0.600000</td>\n",
       "      <td>-0.317637</td>\n",
       "      <td>0.000048</td>\n",
       "      <td>0.000006</td>\n",
       "    </tr>\n",
       "    <tr>\n",
       "      <th>13</th>\n",
       "      <td>Missing</td>\n",
       "      <td>483</td>\n",
       "      <td>0.046180</td>\n",
       "      <td>222</td>\n",
       "      <td>261</td>\n",
       "      <td>0.540373</td>\n",
       "      <td>-0.074015</td>\n",
       "      <td>0.000252</td>\n",
       "      <td>0.000032</td>\n",
       "    </tr>\n",
       "    <tr>\n",
       "      <th>Totals</th>\n",
       "      <td></td>\n",
       "      <td>10459</td>\n",
       "      <td>1.000000</td>\n",
       "      <td>5000</td>\n",
       "      <td>5459</td>\n",
       "      <td>0.521943</td>\n",
       "      <td></td>\n",
       "      <td>0.296485</td>\n",
       "      <td>0.035616</td>\n",
       "    </tr>\n",
       "  </tbody>\n",
       "</table>\n",
       "</div>"
      ],
      "text/plain": [
       "                     Bin  Count  Count (%)  Non-event  Event  Event rate  \\\n",
       "0          (-inf, 30.50)    550   0.052586         97    453    0.823636   \n",
       "1         [30.50, 48.50)   1062   0.101539        288    774    0.728814   \n",
       "2         [48.50, 56.50)    693   0.066259        251    442    0.637807   \n",
       "3         [56.50, 64.50)    910   0.087006        390    520    0.571429   \n",
       "4         [64.50, 70.50)    778   0.074386        364    414    0.532134   \n",
       "5         [70.50, 75.50)    677   0.064729        332    345    0.509601   \n",
       "6         [75.50, 80.50)    628   0.060044        335    293    0.466561   \n",
       "7        [80.50, 101.50)   2153   0.205851       1230    923    0.428704   \n",
       "8       [101.50, 116.50)    860   0.082226        531    329    0.382558   \n",
       "9          [116.50, inf)   1088   0.104025        705    383    0.352022   \n",
       "10             special_1    562   0.053734        251    311    0.553381   \n",
       "11             special_2     10   0.000956          2      8    0.800000   \n",
       "12             special_3      5   0.000478          2      3    0.600000   \n",
       "13               Missing    483   0.046180        222    261    0.540373   \n",
       "Totals                    10459   1.000000       5000   5459    0.521943   \n",
       "\n",
       "             WoE        IV        JS  \n",
       "0      -1.453353  0.092407  0.010631  \n",
       "1      -0.900784  0.075832  0.009171  \n",
       "2      -0.478029  0.014708  0.001821  \n",
       "3      -0.199854  0.003449  0.000430  \n",
       "4      -0.040884  0.000124  0.000016  \n",
       "5       0.049418  0.000158  0.000020  \n",
       "6       0.221786  0.002956  0.000369  \n",
       "7       0.374968  0.028843  0.003584  \n",
       "8       0.566532  0.026022  0.003210  \n",
       "9       0.697991  0.049446  0.006058  \n",
       "10     -0.126512  0.000857  0.000107  \n",
       "11     -1.298467  0.001383  0.000162  \n",
       "12     -0.317637  0.000048  0.000006  \n",
       "13     -0.074015  0.000252  0.000032  \n",
       "Totals            0.296485  0.035616  "
      ]
     },
     "execution_count": 68,
     "metadata": {},
     "output_type": "execute_result"
    }
   ],
   "source": [
    "optb.binning_table.build()"
   ]
  },
  {
   "cell_type": "code",
   "execution_count": 69,
   "metadata": {},
   "outputs": [
    {
     "data": {
      "image/png": "[encoded data removed]",
      "text/plain": [
       "<Figure size 432x288 with 2 Axes>"
      ]
     },
     "metadata": {
      "needs_background": "light"
     },
     "output_type": "display_data"
    }
   ],
   "source": [
    "optb.binning_table.plot(metric=\"event_rate\")"
   ]
  },
  {
   "cell_type": "code",
   "execution_count": 70,
   "metadata": {},
   "outputs": [
    {
     "data": {
      "text/plain": [
       "OptimalBinning(name='AverageMInFile', solver='mip',\n",
       "               special_codes={'special_1': -9, 'special_comb': [-7, -8]})"
      ]
     },
     "execution_count": 70,
     "metadata": {},
     "output_type": "execute_result"
    }
   ],
   "source": [
    "special_codes = {'special_1': -9, \"special_comb\": [-7, -8]}\n",
    "\n",
    "optb = OptimalBinning(name=variable, dtype=\"numerical\", solver=\"mip\",\n",
    "                      special_codes=special_codes)\n",
    "\n",
    "optb.fit(x, y)"
   ]
  },
  {
   "cell_type": "code",
   "execution_count": 71,
   "metadata": {},
   "outputs": [
    {
     "data": {
      "text/html": [
       "<div>\n",
       "<style scoped>\n",
       "    .dataframe tbody tr th:only-of-type {\n",
       "        vertical-align: middle;\n",
       "    }\n",
       "\n",
       "    .dataframe tbody tr th {\n",
       "        vertical-align: top;\n",
       "    }\n",
       "\n",
       "    .dataframe thead th {\n",
       "        text-align: right;\n",
       "    }\n",
       "</style>\n",
       "<table border=\"1\" class=\"dataframe\">\n",
       "  <thead>\n",
       "    <tr style=\"text-align: right;\">\n",
       "      <th></th>\n",
       "      <th>Bin</th>\n",
       "      <th>Count</th>\n",
       "      <th>Count (%)</th>\n",
       "      <th>Non-event</th>\n",
       "      <th>Event</th>\n",
       "      <th>Event rate</th>\n",
       "      <th>WoE</th>\n",
       "      <th>IV</th>\n",
       "      <th>JS</th>\n",
       "    </tr>\n",
       "  </thead>\n",
       "  <tbody>\n",
       "    <tr>\n",
       "      <th>0</th>\n",
       "      <td>(-inf, 30.50)</td>\n",
       "      <td>550</td>\n",
       "      <td>0.052586</td>\n",
       "      <td>97</td>\n",
       "      <td>453</td>\n",
       "      <td>0.823636</td>\n",
       "      <td>-1.453353</td>\n",
       "      <td>0.092407</td>\n",
       "      <td>0.010631</td>\n",
       "    </tr>\n",
       "    <tr>\n",
       "      <th>1</th>\n",
       "      <td>[30.50, 48.50)</td>\n",
       "      <td>1062</td>\n",
       "      <td>0.101539</td>\n",
       "      <td>288</td>\n",
       "      <td>774</td>\n",
       "      <td>0.728814</td>\n",
       "      <td>-0.900784</td>\n",
       "      <td>0.075832</td>\n",
       "      <td>0.009171</td>\n",
       "    </tr>\n",
       "    <tr>\n",
       "      <th>2</th>\n",
       "      <td>[48.50, 56.50)</td>\n",
       "      <td>693</td>\n",
       "      <td>0.066259</td>\n",
       "      <td>251</td>\n",
       "      <td>442</td>\n",
       "      <td>0.637807</td>\n",
       "      <td>-0.478029</td>\n",
       "      <td>0.014708</td>\n",
       "      <td>0.001821</td>\n",
       "    </tr>\n",
       "    <tr>\n",
       "      <th>3</th>\n",
       "      <td>[56.50, 64.50)</td>\n",
       "      <td>910</td>\n",
       "      <td>0.087006</td>\n",
       "      <td>390</td>\n",
       "      <td>520</td>\n",
       "      <td>0.571429</td>\n",
       "      <td>-0.199854</td>\n",
       "      <td>0.003449</td>\n",
       "      <td>0.000430</td>\n",
       "    </tr>\n",
       "    <tr>\n",
       "      <th>4</th>\n",
       "      <td>[64.50, 70.50)</td>\n",
       "      <td>778</td>\n",
       "      <td>0.074386</td>\n",
       "      <td>364</td>\n",
       "      <td>414</td>\n",
       "      <td>0.532134</td>\n",
       "      <td>-0.040884</td>\n",
       "      <td>0.000124</td>\n",
       "      <td>0.000016</td>\n",
       "    </tr>\n",
       "    <tr>\n",
       "      <th>5</th>\n",
       "      <td>[70.50, 75.50)</td>\n",
       "      <td>677</td>\n",
       "      <td>0.064729</td>\n",
       "      <td>332</td>\n",
       "      <td>345</td>\n",
       "      <td>0.509601</td>\n",
       "      <td>0.049418</td>\n",
       "      <td>0.000158</td>\n",
       "      <td>0.000020</td>\n",
       "    </tr>\n",
       "    <tr>\n",
       "      <th>6</th>\n",
       "      <td>[75.50, 80.50)</td>\n",
       "      <td>628</td>\n",
       "      <td>0.060044</td>\n",
       "      <td>335</td>\n",
       "      <td>293</td>\n",
       "      <td>0.466561</td>\n",
       "      <td>0.221786</td>\n",
       "      <td>0.002956</td>\n",
       "      <td>0.000369</td>\n",
       "    </tr>\n",
       "    <tr>\n",
       "      <th>7</th>\n",
       "      <td>[80.50, 101.50)</td>\n",
       "      <td>2153</td>\n",
       "      <td>0.205851</td>\n",
       "      <td>1230</td>\n",
       "      <td>923</td>\n",
       "      <td>0.428704</td>\n",
       "      <td>0.374968</td>\n",
       "      <td>0.028843</td>\n",
       "      <td>0.003584</td>\n",
       "    </tr>\n",
       "    <tr>\n",
       "      <th>8</th>\n",
       "      <td>[101.50, 116.50)</td>\n",
       "      <td>860</td>\n",
       "      <td>0.082226</td>\n",
       "      <td>531</td>\n",
       "      <td>329</td>\n",
       "      <td>0.382558</td>\n",
       "      <td>0.566532</td>\n",
       "      <td>0.026022</td>\n",
       "      <td>0.003210</td>\n",
       "    </tr>\n",
       "    <tr>\n",
       "      <th>9</th>\n",
       "      <td>[116.50, inf)</td>\n",
       "      <td>1088</td>\n",
       "      <td>0.104025</td>\n",
       "      <td>705</td>\n",
       "      <td>383</td>\n",
       "      <td>0.352022</td>\n",
       "      <td>0.697991</td>\n",
       "      <td>0.049446</td>\n",
       "      <td>0.006058</td>\n",
       "    </tr>\n",
       "    <tr>\n",
       "      <th>10</th>\n",
       "      <td>special_1</td>\n",
       "      <td>562</td>\n",
       "      <td>0.053734</td>\n",
       "      <td>251</td>\n",
       "      <td>311</td>\n",
       "      <td>0.553381</td>\n",
       "      <td>-0.126512</td>\n",
       "      <td>0.000857</td>\n",
       "      <td>0.000107</td>\n",
       "    </tr>\n",
       "    <tr>\n",
       "      <th>11</th>\n",
       "      <td>special_comb</td>\n",
       "      <td>15</td>\n",
       "      <td>0.001434</td>\n",
       "      <td>4</td>\n",
       "      <td>11</td>\n",
       "      <td>0.733333</td>\n",
       "      <td>-0.923773</td>\n",
       "      <td>0.001122</td>\n",
       "      <td>0.000136</td>\n",
       "    </tr>\n",
       "    <tr>\n",
       "      <th>12</th>\n",
       "      <td>Missing</td>\n",
       "      <td>483</td>\n",
       "      <td>0.046180</td>\n",
       "      <td>222</td>\n",
       "      <td>261</td>\n",
       "      <td>0.540373</td>\n",
       "      <td>-0.074015</td>\n",
       "      <td>0.000252</td>\n",
       "      <td>0.000032</td>\n",
       "    </tr>\n",
       "    <tr>\n",
       "      <th>Totals</th>\n",
       "      <td></td>\n",
       "      <td>10459</td>\n",
       "      <td>1.000000</td>\n",
       "      <td>5000</td>\n",
       "      <td>5459</td>\n",
       "      <td>0.521943</td>\n",
       "      <td></td>\n",
       "      <td>0.296176</td>\n",
       "      <td>0.035584</td>\n",
       "    </tr>\n",
       "  </tbody>\n",
       "</table>\n",
       "</div>"
      ],
      "text/plain": [
       "                     Bin  Count  Count (%)  Non-event  Event  Event rate  \\\n",
       "0          (-inf, 30.50)    550   0.052586         97    453    0.823636   \n",
       "1         [30.50, 48.50)   1062   0.101539        288    774    0.728814   \n",
       "2         [48.50, 56.50)    693   0.066259        251    442    0.637807   \n",
       "3         [56.50, 64.50)    910   0.087006        390    520    0.571429   \n",
       "4         [64.50, 70.50)    778   0.074386        364    414    0.532134   \n",
       "5         [70.50, 75.50)    677   0.064729        332    345    0.509601   \n",
       "6         [75.50, 80.50)    628   0.060044        335    293    0.466561   \n",
       "7        [80.50, 101.50)   2153   0.205851       1230    923    0.428704   \n",
       "8       [101.50, 116.50)    860   0.082226        531    329    0.382558   \n",
       "9          [116.50, inf)   1088   0.104025        705    383    0.352022   \n",
       "10             special_1    562   0.053734        251    311    0.553381   \n",
       "11          special_comb     15   0.001434          4     11    0.733333   \n",
       "12               Missing    483   0.046180        222    261    0.540373   \n",
       "Totals                    10459   1.000000       5000   5459    0.521943   \n",
       "\n",
       "             WoE        IV        JS  \n",
       "0      -1.453353  0.092407  0.010631  \n",
       "1      -0.900784  0.075832  0.009171  \n",
       "2      -0.478029  0.014708  0.001821  \n",
       "3      -0.199854  0.003449  0.000430  \n",
       "4      -0.040884  0.000124  0.000016  \n",
       "5       0.049418  0.000158  0.000020  \n",
       "6       0.221786  0.002956  0.000369  \n",
       "7       0.374968  0.028843  0.003584  \n",
       "8       0.566532  0.026022  0.003210  \n",
       "9       0.697991  0.049446  0.006058  \n",
       "10     -0.126512  0.000857  0.000107  \n",
       "11     -0.923773  0.001122  0.000136  \n",
       "12     -0.074015  0.000252  0.000032  \n",
       "Totals            0.296176  0.035584  "
      ]
     },
     "execution_count": 71,
     "metadata": {},
     "output_type": "execute_result"
    }
   ],
   "source": [
    "optb.binning_table.build()"
   ]
  },
  {
   "cell_type": "markdown",
   "metadata": {},
   "source": [
    "Version 0.15.1 added the option ``show_bin_labels`` to show the bin label instead of the bin id on the x-axis."
   ]
  },
  {
   "cell_type": "code",
   "execution_count": 72,
   "metadata": {},
   "outputs": [
    {
     "data": {
      "image/png": "[encoded data removed]",
      "text/plain": [
       "<Figure size 432x288 with 2 Axes>"
      ]
     },
     "metadata": {
      "needs_background": "light"
     },
     "output_type": "display_data"
    }
   ],
   "source": [
    "optb.binning_table.plot(metric=\"event_rate\", show_bin_labels=True)"
   ]
  },
  {
   "cell_type": "markdown",
   "metadata": {},
   "source": [
    "#### Verbosity option"
   ]
  },
  {
   "cell_type": "markdown",
   "metadata": {},
   "source": [
    "For debugging purposes, we can print information on each step of the computation by triggering the ``verbose`` option."
   ]
  },
  {
   "cell_type": "code",
   "execution_count": 73,
   "metadata": {},
   "outputs": [
    {
     "name": "stdout",
     "output_type": "stream",
     "text": [
      "2022-10-23 14:51:10,904 | INFO : Optimal binning started.\n",
      "2022-10-23 14:51:10,907 | INFO : Options: check parameters.\n",
      "2022-10-23 14:51:10,914 | INFO : Pre-processing started.\n",
      "2022-10-23 14:51:10,916 | INFO : Pre-processing: number of samples: 10459\n",
      "2022-10-23 14:51:10,925 | INFO : Pre-processing: number of clean samples: 9976\n",
      "2022-10-23 14:51:10,929 | INFO : Pre-processing: number of missing samples: 483\n",
      "2022-10-23 14:51:10,933 | INFO : Pre-processing: number of special samples: 0\n",
      "2022-10-23 14:51:10,937 | INFO : Pre-processing terminated. Time: 0.0004s\n",
      "2022-10-23 14:51:10,941 | INFO : Pre-binning started.\n",
      "2022-10-23 14:51:10,954 | INFO : Pre-binning: number of prebins: 15\n",
      "2022-10-23 14:51:10,954 | INFO : Pre-binning: number of refinements: 0\n",
      "2022-10-23 14:51:10,956 | INFO : Pre-binning terminated. Time: 0.0079s\n",
      "2022-10-23 14:51:10,957 | INFO : Optimizer started.\n",
      "2022-10-23 14:51:10,964 | INFO : Optimizer: classifier predicts descending monotonic trend.\n",
      "2022-10-23 14:51:10,966 | INFO : Optimizer: monotonic trend set to descending.\n",
      "2022-10-23 14:51:10,968 | INFO : Optimizer: build model...\n",
      "2022-10-23 14:51:11,072 | INFO : Optimizer: solve...\n",
      "2022-10-23 14:51:11,076 | INFO : Optimizer terminated. Time: 0.1126s\n",
      "2022-10-23 14:51:11,077 | INFO : Post-processing started.\n",
      "2022-10-23 14:51:11,078 | INFO : Post-processing: compute binning information.\n",
      "2022-10-23 14:51:11,078 | INFO : Post-processing terminated. Time: 0.0002s\n",
      "2022-10-23 14:51:11,079 | INFO : Optimal binning terminated. Status: OPTIMAL. Time: 0.1758s\n"
     ]
    },
    {
     "data": {
      "text/plain": [
       "OptimalBinning(name='AverageMInFile', solver='mip', verbose=True)"
      ]
     },
     "execution_count": 73,
     "metadata": {},
     "output_type": "execute_result"
    }
   ],
   "source": [
    "optb = OptimalBinning(name=variable, dtype=\"numerical\", solver=\"mip\", verbose=True)\n",
    "optb.fit(x, y)"
   ]
  }
 ],
 "metadata": {
  "kernelspec": {
   "display_name": "Python 3",
   "language": "python",
   "name": "python3"
  },
  "language_info": {
   "codemirror_mode": {
    "name": "ipython",
    "version": 3
   },
   "file_extension": ".py",
   "mimetype": "text/x-python",
   "name": "python",
   "nbconvert_exporter": "python",
   "pygments_lexer": "ipython3",
   "version": "3.7.4"
  }
 },
 "nbformat": 4,
 "nbformat_minor": 2
}
