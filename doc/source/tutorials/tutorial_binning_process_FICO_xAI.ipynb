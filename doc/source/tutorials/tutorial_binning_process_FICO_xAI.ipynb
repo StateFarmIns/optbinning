{
 "cells": [
  {
   "cell_type": "markdown",
   "metadata": {},
   "source": [
    "# Tutorial: FICO Explainable Machine Learning Challenge"
   ]
  },
  {
   "cell_type": "markdown",
   "metadata": {},
   "source": [
    "In this tutorial, we use the dataset form the FICO Explainable Machine Learning Challenge: https://community.fico.com/s/explainable-machine-learning-challenge. The goal is to create a pipeline by combining a binning process and logistic regression to obtain an explainable model and compare it against a black-box model using Gradient Boosting Tree (GBT) as an estimator."
   ]
  },
  {
   "cell_type": "code",
   "execution_count": 1,
   "metadata": {},
   "outputs": [],
   "source": [
    "import matplotlib.pyplot as plt\n",
    "import numpy as np\n",
    "import pandas as pd"
   ]
  },
  {
   "cell_type": "code",
   "execution_count": 2,
   "metadata": {},
   "outputs": [],
   "source": [
    "from optbinning import BinningProcess\n",
    "\n",
    "from sklearn.linear_model import LogisticRegression\n",
    "from sklearn.ensemble import GradientBoostingClassifier\n",
    "from sklearn.metrics import classification_report\n",
    "from sklearn.metrics import auc, roc_auc_score, roc_curve\n",
    "from sklearn.model_selection import train_test_split\n",
    "from sklearn.pipeline import Pipeline"
   ]
  },
  {
   "cell_type": "markdown",
   "metadata": {},
   "source": [
    "Download the dataset from the link above and load it."
   ]
  },
  {
   "cell_type": "code",
   "execution_count": 3,
   "metadata": {},
   "outputs": [],
   "source": [
    "df = pd.read_csv(\"data/FICO_challenge/heloc_dataset_v1.csv\", sep=\",\")"
   ]
  },
  {
   "cell_type": "code",
   "execution_count": 4,
   "metadata": {},
   "outputs": [],
   "source": [
    "variable_names = list(df.columns[1:])"
   ]
  },
  {
   "cell_type": "code",
   "execution_count": 5,
   "metadata": {},
   "outputs": [],
   "source": [
    "X = df[variable_names].values"
   ]
  },
  {
   "cell_type": "markdown",
   "metadata": {},
   "source": [
    "Transform the categorical dichotomic target variable into numerical."
   ]
  },
  {
   "cell_type": "code",
   "execution_count": 6,
   "metadata": {},
   "outputs": [],
   "source": [
    "y = df.RiskPerformance.values\n",
    "mask = y == \"Bad\"\n",
    "y[mask] = 1\n",
    "y[~mask] = 0\n",
    "y = y.astype(int)"
   ]
  },
  {
   "cell_type": "markdown",
   "metadata": {},
   "source": [
    "#### Modeling"
   ]
  },
  {
   "cell_type": "markdown",
   "metadata": {},
   "source": [
    "The data dictionary of this challenge includes three special values/codes:\n",
    "    \n",
    "* -9 No Bureau Record or No Investigation\n",
    "* -8 No Usable/Valid Trades or Inquiries\n",
    "* -7 Condition not Met (e.g. No Inquiries, No Delinquencies)"
   ]
  },
  {
   "cell_type": "code",
   "execution_count": 7,
   "metadata": {},
   "outputs": [],
   "source": [
    "special_codes = [-9, -8, -7]"
   ]
  },
  {
   "cell_type": "markdown",
   "metadata": {},
   "source": [
    "This challenge imposes monotonicity constraints with respect to the probability of a bad target for many of the variables. We apply these rules by passing the following dictionary of parameters for these variables involved."
   ]
  },
  {
   "cell_type": "code",
   "execution_count": 8,
   "metadata": {},
   "outputs": [],
   "source": [
    "binning_fit_params = {\n",
    "    \"ExternalRiskEstimate\": {\"monotonic_trend\": \"descending\"},\n",
    "    \"MSinceOldestTradeOpen\": {\"monotonic_trend\": \"descending\"},\n",
    "    \"MSinceMostRecentTradeOpen\": {\"monotonic_trend\": \"descending\"},\n",
    "    \"AverageMInFile\": {\"monotonic_trend\": \"descending\"},\n",
    "    \"NumSatisfactoryTrades\": {\"monotonic_trend\": \"descending\"},\n",
    "    \"NumTrades60Ever2DerogPubRec\": {\"monotonic_trend\": \"ascending\"},\n",
    "    \"NumTrades90Ever2DerogPubRec\": {\"monotonic_trend\": \"ascending\"},\n",
    "    \"PercentTradesNeverDelq\": {\"monotonic_trend\": \"descending\"},\n",
    "    \"MSinceMostRecentDelq\": {\"monotonic_trend\": \"descending\"},\n",
    "    \"NumTradesOpeninLast12M\": {\"monotonic_trend\": \"ascending\"},\n",
    "    \"MSinceMostRecentInqexcl7days\": {\"monotonic_trend\": \"descending\"},\n",
    "    \"NumInqLast6M\": {\"monotonic_trend\": \"ascending\"},\n",
    "    \"NumInqLast6Mexcl7days\": {\"monotonic_trend\": \"ascending\"},\n",
    "    \"NetFractionRevolvingBurden\": {\"monotonic_trend\": \"ascending\"},\n",
    "    \"NetFractionInstallBurden\": {\"monotonic_trend\": \"ascending\"},\n",
    "    \"NumBank2NatlTradesWHighUtilization\": {\"monotonic_trend\": \"ascending\"}\n",
    "}"
   ]
  },
  {
   "cell_type": "markdown",
   "metadata": {},
   "source": [
    "Instantiate a ``BinningProcess`` object class with variable names, special codes and dictionary of binning parameters. Create a explainable model pipeline and a black-blox pipeline."
   ]
  },
  {
   "cell_type": "code",
   "execution_count": 9,
   "metadata": {},
   "outputs": [],
   "source": [
    "binning_process = BinningProcess(variable_names, special_codes=special_codes,\n",
    "                                 binning_fit_params=binning_fit_params)"
   ]
  },
  {
   "cell_type": "code",
   "execution_count": 10,
   "metadata": {},
   "outputs": [],
   "source": [
    "clf1 = Pipeline(steps=[('binning_process', binning_process),\n",
    "                      ('classifier', LogisticRegression(solver=\"lbfgs\"))])\n",
    "\n",
    "clf2 = LogisticRegression(solver=\"lbfgs\")\n",
    "\n",
    "clf3 = GradientBoostingClassifier()"
   ]
  },
  {
   "cell_type": "markdown",
   "metadata": {},
   "source": [
    "Split dataset into train and test. Fit pipelines with training data, then generate classification reports to show the main classification metrics."
   ]
  },
  {
   "cell_type": "code",
   "execution_count": 11,
   "metadata": {},
   "outputs": [],
   "source": [
    "X_train, X_test, y_train, y_test = train_test_split(X, y, test_size=0.2, random_state=42)"
   ]
  },
  {
   "cell_type": "code",
   "execution_count": 12,
   "metadata": {},
   "outputs": [
    {
     "data": {
      "text/plain": [
       "Pipeline(steps=[('binning_process',\n",
       "                 BinningProcess(binning_fit_params={'AverageMInFile': {'monotonic_trend': 'descending'},\n",
       "                                                    'ExternalRiskEstimate': {'monotonic_trend': 'descending'},\n",
       "                                                    'MSinceMostRecentDelq': {'monotonic_trend': 'descending'},\n",
       "                                                    'MSinceMostRecentInqexcl7days': {'monotonic_trend': 'descending'},\n",
       "                                                    'MSinceMostRecentTradeOpen': {'monotonic_trend': 'descen...\n",
       "                                                'MaxDelqEver', 'NumTotalTrades',\n",
       "                                                'NumTradesOpeninLast12M',\n",
       "                                                'PercentInstallTrades',\n",
       "                                                'MSinceMostRecentInqexcl7days',\n",
       "                                                'NumInqLast6M',\n",
       "                                                'NumInqLast6Mexcl7days',\n",
       "                                                'NetFractionRevolvingBurden',\n",
       "                                                'NetFractionInstallBurden',\n",
       "                                                'NumRevolvingTradesWBalance',\n",
       "                                                'NumInstallTradesWBalance',\n",
       "                                                'NumBank2NatlTradesWHighUtilization',\n",
       "                                                'PercentTradesWBalance'])),\n",
       "                ('classifier', LogisticRegression())])"
      ]
     },
     "execution_count": 12,
     "metadata": {},
     "output_type": "execute_result"
    }
   ],
   "source": [
    "clf1.fit(X_train, y_train)"
   ]
  },
  {
   "cell_type": "code",
   "execution_count": 13,
   "metadata": {},
   "outputs": [
    {
     "name": "stderr",
     "output_type": "stream",
     "text": [
      "/home/gui/anaconda3/lib/python3.7/site-packages/sklearn/linear_model/_logistic.py:765: ConvergenceWarning: lbfgs failed to converge (status=1):\n",
      "STOP: TOTAL NO. of ITERATIONS REACHED LIMIT.\n",
      "\n",
      "Increase the number of iterations (max_iter) or scale the data as shown in:\n",
      "    https://scikit-learn.org/stable/modules/preprocessing.html\n",
      "Please also refer to the documentation for alternative solver options:\n",
      "    https://scikit-learn.org/stable/modules/linear_model.html#logistic-regression\n",
      "  extra_warning_msg=_LOGISTIC_SOLVER_CONVERGENCE_MSG)\n"
     ]
    },
    {
     "data": {
      "text/plain": [
       "LogisticRegression()"
      ]
     },
     "execution_count": 13,
     "metadata": {},
     "output_type": "execute_result"
    }
   ],
   "source": [
    "clf2.fit(X_train, y_train)"
   ]
  },
  {
   "cell_type": "code",
   "execution_count": 14,
   "metadata": {},
   "outputs": [
    {
     "data": {
      "text/plain": [
       "GradientBoostingClassifier()"
      ]
     },
     "execution_count": 14,
     "metadata": {},
     "output_type": "execute_result"
    }
   ],
   "source": [
    "clf3.fit(X_train, y_train)"
   ]
  },
  {
   "cell_type": "code",
   "execution_count": 15,
   "metadata": {},
   "outputs": [
    {
     "name": "stdout",
     "output_type": "stream",
     "text": [
      "              precision    recall  f1-score   support\n",
      "\n",
      "           0       0.70      0.66      0.68      1004\n",
      "           1       0.70      0.74      0.72      1088\n",
      "\n",
      "    accuracy                           0.70      2092\n",
      "   macro avg       0.70      0.70      0.70      2092\n",
      "weighted avg       0.70      0.70      0.70      2092\n",
      "\n"
     ]
    }
   ],
   "source": [
    "y_pred = clf1.predict(X_test)\n",
    "print(classification_report(y_test, y_pred))"
   ]
  },
  {
   "cell_type": "code",
   "execution_count": 16,
   "metadata": {},
   "outputs": [
    {
     "name": "stdout",
     "output_type": "stream",
     "text": [
      "              precision    recall  f1-score   support\n",
      "\n",
      "           0       0.67      0.66      0.67      1004\n",
      "           1       0.69      0.70      0.70      1088\n",
      "\n",
      "    accuracy                           0.68      2092\n",
      "   macro avg       0.68      0.68      0.68      2092\n",
      "weighted avg       0.68      0.68      0.68      2092\n",
      "\n"
     ]
    }
   ],
   "source": [
    "y_pred = clf2.predict(X_test)\n",
    "print(classification_report(y_test, y_pred))"
   ]
  },
  {
   "cell_type": "code",
   "execution_count": 17,
   "metadata": {},
   "outputs": [
    {
     "name": "stdout",
     "output_type": "stream",
     "text": [
      "              precision    recall  f1-score   support\n",
      "\n",
      "           0       0.71      0.66      0.68      1004\n",
      "           1       0.70      0.75      0.73      1088\n",
      "\n",
      "    accuracy                           0.71      2092\n",
      "   macro avg       0.71      0.70      0.70      2092\n",
      "weighted avg       0.71      0.71      0.70      2092\n",
      "\n"
     ]
    }
   ],
   "source": [
    "y_pred = clf3.predict(X_test)\n",
    "print(classification_report(y_test, y_pred))"
   ]
  },
  {
   "cell_type": "markdown",
   "metadata": {},
   "source": [
    "Plot the Receiver Operating Characteristic (ROC) metric to evaluate and compare the classifiers' prediction."
   ]
  },
  {
   "cell_type": "code",
   "execution_count": 18,
   "metadata": {},
   "outputs": [],
   "source": [
    "probs = clf1.predict_proba(X_test)\n",
    "preds = probs[:,1]\n",
    "fpr1, tpr1, threshold = roc_curve(y_test, preds)\n",
    "roc_auc1 = auc(fpr1, tpr1)\n",
    "\n",
    "probs = clf2.predict_proba(X_test)\n",
    "preds = probs[:,1]\n",
    "fpr2, tpr2, threshold = roc_curve(y_test, preds)\n",
    "roc_auc2 = auc(fpr2, tpr2)\n",
    "\n",
    "probs = clf3.predict_proba(X_test)\n",
    "preds = probs[:,1]\n",
    "fpr3, tpr3, threshold = roc_curve(y_test, preds)\n",
    "roc_auc3 = auc(fpr3, tpr3)"
   ]
  },
  {
   "cell_type": "code",
   "execution_count": 19,
   "metadata": {},
   "outputs": [
    {
     "data": {
      "image/png": "[encoded data removed]",
      "text/plain": [
       "<Figure size 432x288 with 1 Axes>"
      ]
     },
     "metadata": {
      "needs_background": "light"
     },
     "output_type": "display_data"
    }
   ],
   "source": [
    "plt.title('Receiver Operating Characteristic')\n",
    "plt.plot(fpr1, tpr1, 'b', label='Binning+LR: AUC = {0:.2f}'.format(roc_auc1))\n",
    "plt.plot(fpr2, tpr2, 'g', label='LR: AUC = {0:.2f}'.format(roc_auc2))\n",
    "plt.plot(fpr3, tpr3, 'r', label='GBT: AUC = {0:.2f}'.format(roc_auc3))\n",
    "plt.legend(loc='lower right')\n",
    "plt.plot([0, 1], [0, 1],'k--')\n",
    "plt.xlim([0, 1])\n",
    "plt.ylim([0, 1])\n",
    "plt.ylabel('True Positive Rate')\n",
    "plt.xlabel('False Positive Rate')\n",
    "plt.show()"
   ]
  },
  {
   "cell_type": "markdown",
   "metadata": {},
   "source": [
    "The plot above shows the increment in terms of model performance after binning when the logistic estimator is chosen. Furthermore, a previous binning process might reduce numerical instability issues, as confirmed when fitting the classifier ``clf2``."
   ]
  },
  {
   "cell_type": "markdown",
   "metadata": {},
   "source": [
    "#### Binning process statistics"
   ]
  },
  {
   "cell_type": "markdown",
   "metadata": {},
   "source": [
    "The binning process of the pipeline can be retrieved to show information about the problem and timing statistics."
   ]
  },
  {
   "cell_type": "code",
   "execution_count": 20,
   "metadata": {},
   "outputs": [
    {
     "name": "stdout",
     "output_type": "stream",
     "text": [
      "optbinning (Version 0.18.0)\n",
      "Copyright (c) 2019-2023 Guillermo Navas-Palencia, Apache License 2.0\n",
      "\n",
      "  Begin options\n",
      "    max_n_prebins                         20   * d\n",
      "    min_prebin_size                     0.05   * d\n",
      "    min_n_bins                            no   * d\n",
      "    max_n_bins                            no   * d\n",
      "    min_bin_size                          no   * d\n",
      "    max_bin_size                          no   * d\n",
      "    max_pvalue                            no   * d\n",
      "    max_pvalue_policy            consecutive   * d\n",
      "    selection_criteria                    no   * d\n",
      "    fixed_variables                       no   * d\n",
      "    categorical_variables                 no   * d\n",
      "    special_codes                        yes   * U\n",
      "    split_digits                          no   * d\n",
      "    binning_fit_params                   yes   * U\n",
      "    binning_transform_params              no   * d\n",
      "    verbose                            False   * d\n",
      "  End options\n",
      "\n",
      "  Statistics\n",
      "    Number of records                   8367\n",
      "    Number of variables                   23\n",
      "    Target type                       binary\n",
      "\n",
      "    Number of numerical                   23\n",
      "    Number of categorical                  0\n",
      "    Number of selected                    23\n",
      "\n",
      "  Time                                1.6887 sec\n",
      "\n"
     ]
    }
   ],
   "source": [
    "binning_process.information(print_level=2)"
   ]
  },
  {
   "cell_type": "markdown",
   "metadata": {},
   "source": [
    "The ``summary`` method returns basic statistics for each binned variable."
   ]
  },
  {
   "cell_type": "code",
   "execution_count": 21,
   "metadata": {
    "scrolled": false
   },
   "outputs": [
    {
     "data": {
      "text/html": [
       "<div>\n",
       "<style scoped>\n",
       "    .dataframe tbody tr th:only-of-type {\n",
       "        vertical-align: middle;\n",
       "    }\n",
       "\n",
       "    .dataframe tbody tr th {\n",
       "        vertical-align: top;\n",
       "    }\n",
       "\n",
       "    .dataframe thead th {\n",
       "        text-align: right;\n",
       "    }\n",
       "</style>\n",
       "<table border=\"1\" class=\"dataframe\">\n",
       "  <thead>\n",
       "    <tr style=\"text-align: right;\">\n",
       "      <th></th>\n",
       "      <th>name</th>\n",
       "      <th>dtype</th>\n",
       "      <th>status</th>\n",
       "      <th>selected</th>\n",
       "      <th>n_bins</th>\n",
       "      <th>iv</th>\n",
       "      <th>js</th>\n",
       "      <th>gini</th>\n",
       "      <th>quality_score</th>\n",
       "    </tr>\n",
       "  </thead>\n",
       "  <tbody>\n",
       "    <tr>\n",
       "      <th>0</th>\n",
       "      <td>ExternalRiskEstimate</td>\n",
       "      <td>numerical</td>\n",
       "      <td>OPTIMAL</td>\n",
       "      <td>True</td>\n",
       "      <td>12</td>\n",
       "      <td>1.018368</td>\n",
       "      <td>0.116638</td>\n",
       "      <td>0.534387</td>\n",
       "      <td>0.031792</td>\n",
       "    </tr>\n",
       "    <tr>\n",
       "      <th>1</th>\n",
       "      <td>MSinceOldestTradeOpen</td>\n",
       "      <td>numerical</td>\n",
       "      <td>OPTIMAL</td>\n",
       "      <td>True</td>\n",
       "      <td>11</td>\n",
       "      <td>0.252786</td>\n",
       "      <td>0.030483</td>\n",
       "      <td>0.264740</td>\n",
       "      <td>0.027179</td>\n",
       "    </tr>\n",
       "    <tr>\n",
       "      <th>2</th>\n",
       "      <td>MSinceMostRecentTradeOpen</td>\n",
       "      <td>numerical</td>\n",
       "      <td>OPTIMAL</td>\n",
       "      <td>True</td>\n",
       "      <td>6</td>\n",
       "      <td>0.019086</td>\n",
       "      <td>0.002377</td>\n",
       "      <td>0.065597</td>\n",
       "      <td>0.000556</td>\n",
       "    </tr>\n",
       "    <tr>\n",
       "      <th>3</th>\n",
       "      <td>AverageMInFile</td>\n",
       "      <td>numerical</td>\n",
       "      <td>OPTIMAL</td>\n",
       "      <td>True</td>\n",
       "      <td>10</td>\n",
       "      <td>0.319379</td>\n",
       "      <td>0.038458</td>\n",
       "      <td>0.304157</td>\n",
       "      <td>0.128082</td>\n",
       "    </tr>\n",
       "    <tr>\n",
       "      <th>4</th>\n",
       "      <td>NumSatisfactoryTrades</td>\n",
       "      <td>numerical</td>\n",
       "      <td>OPTIMAL</td>\n",
       "      <td>True</td>\n",
       "      <td>10</td>\n",
       "      <td>0.126726</td>\n",
       "      <td>0.015424</td>\n",
       "      <td>0.180888</td>\n",
       "      <td>0.001210</td>\n",
       "    </tr>\n",
       "    <tr>\n",
       "      <th>5</th>\n",
       "      <td>NumTrades60Ever2DerogPubRec</td>\n",
       "      <td>numerical</td>\n",
       "      <td>OPTIMAL</td>\n",
       "      <td>True</td>\n",
       "      <td>4</td>\n",
       "      <td>0.178710</td>\n",
       "      <td>0.021915</td>\n",
       "      <td>0.200184</td>\n",
       "      <td>0.201631</td>\n",
       "    </tr>\n",
       "    <tr>\n",
       "      <th>6</th>\n",
       "      <td>NumTrades90Ever2DerogPubRec</td>\n",
       "      <td>numerical</td>\n",
       "      <td>OPTIMAL</td>\n",
       "      <td>True</td>\n",
       "      <td>3</td>\n",
       "      <td>0.133485</td>\n",
       "      <td>0.016301</td>\n",
       "      <td>0.155193</td>\n",
       "      <td>0.286527</td>\n",
       "    </tr>\n",
       "    <tr>\n",
       "      <th>7</th>\n",
       "      <td>PercentTradesNeverDelq</td>\n",
       "      <td>numerical</td>\n",
       "      <td>OPTIMAL</td>\n",
       "      <td>True</td>\n",
       "      <td>8</td>\n",
       "      <td>0.377803</td>\n",
       "      <td>0.045428</td>\n",
       "      <td>0.316946</td>\n",
       "      <td>0.101421</td>\n",
       "    </tr>\n",
       "    <tr>\n",
       "      <th>8</th>\n",
       "      <td>MSinceMostRecentDelq</td>\n",
       "      <td>numerical</td>\n",
       "      <td>OPTIMAL</td>\n",
       "      <td>True</td>\n",
       "      <td>7</td>\n",
       "      <td>0.289526</td>\n",
       "      <td>0.035246</td>\n",
       "      <td>0.272229</td>\n",
       "      <td>0.239494</td>\n",
       "    </tr>\n",
       "    <tr>\n",
       "      <th>9</th>\n",
       "      <td>MaxDelq2PublicRecLast12M</td>\n",
       "      <td>numerical</td>\n",
       "      <td>OPTIMAL</td>\n",
       "      <td>True</td>\n",
       "      <td>3</td>\n",
       "      <td>0.330280</td>\n",
       "      <td>0.040250</td>\n",
       "      <td>0.301670</td>\n",
       "      <td>0.833712</td>\n",
       "    </tr>\n",
       "    <tr>\n",
       "      <th>10</th>\n",
       "      <td>MaxDelqEver</td>\n",
       "      <td>numerical</td>\n",
       "      <td>OPTIMAL</td>\n",
       "      <td>True</td>\n",
       "      <td>4</td>\n",
       "      <td>0.236098</td>\n",
       "      <td>0.029129</td>\n",
       "      <td>0.257314</td>\n",
       "      <td>0.667940</td>\n",
       "    </tr>\n",
       "    <tr>\n",
       "      <th>11</th>\n",
       "      <td>NumTotalTrades</td>\n",
       "      <td>numerical</td>\n",
       "      <td>OPTIMAL</td>\n",
       "      <td>True</td>\n",
       "      <td>8</td>\n",
       "      <td>0.064716</td>\n",
       "      <td>0.008027</td>\n",
       "      <td>0.138545</td>\n",
       "      <td>0.011755</td>\n",
       "    </tr>\n",
       "    <tr>\n",
       "      <th>12</th>\n",
       "      <td>NumTradesOpeninLast12M</td>\n",
       "      <td>numerical</td>\n",
       "      <td>OPTIMAL</td>\n",
       "      <td>True</td>\n",
       "      <td>6</td>\n",
       "      <td>0.023530</td>\n",
       "      <td>0.002936</td>\n",
       "      <td>0.083770</td>\n",
       "      <td>0.007932</td>\n",
       "    </tr>\n",
       "    <tr>\n",
       "      <th>13</th>\n",
       "      <td>PercentInstallTrades</td>\n",
       "      <td>numerical</td>\n",
       "      <td>OPTIMAL</td>\n",
       "      <td>True</td>\n",
       "      <td>8</td>\n",
       "      <td>0.098610</td>\n",
       "      <td>0.012107</td>\n",
       "      <td>0.159569</td>\n",
       "      <td>0.077405</td>\n",
       "    </tr>\n",
       "    <tr>\n",
       "      <th>14</th>\n",
       "      <td>MSinceMostRecentInqexcl7days</td>\n",
       "      <td>numerical</td>\n",
       "      <td>OPTIMAL</td>\n",
       "      <td>True</td>\n",
       "      <td>4</td>\n",
       "      <td>0.166538</td>\n",
       "      <td>0.020460</td>\n",
       "      <td>0.211639</td>\n",
       "      <td>0.531041</td>\n",
       "    </tr>\n",
       "    <tr>\n",
       "      <th>15</th>\n",
       "      <td>NumInqLast6M</td>\n",
       "      <td>numerical</td>\n",
       "      <td>OPTIMAL</td>\n",
       "      <td>True</td>\n",
       "      <td>4</td>\n",
       "      <td>0.089956</td>\n",
       "      <td>0.011127</td>\n",
       "      <td>0.159369</td>\n",
       "      <td>0.323780</td>\n",
       "    </tr>\n",
       "    <tr>\n",
       "      <th>16</th>\n",
       "      <td>NumInqLast6Mexcl7days</td>\n",
       "      <td>numerical</td>\n",
       "      <td>OPTIMAL</td>\n",
       "      <td>True</td>\n",
       "      <td>5</td>\n",
       "      <td>0.083992</td>\n",
       "      <td>0.010394</td>\n",
       "      <td>0.153641</td>\n",
       "      <td>0.036291</td>\n",
       "    </tr>\n",
       "    <tr>\n",
       "      <th>17</th>\n",
       "      <td>NetFractionRevolvingBurden</td>\n",
       "      <td>numerical</td>\n",
       "      <td>OPTIMAL</td>\n",
       "      <td>True</td>\n",
       "      <td>9</td>\n",
       "      <td>0.574686</td>\n",
       "      <td>0.068232</td>\n",
       "      <td>0.410605</td>\n",
       "      <td>0.343593</td>\n",
       "    </tr>\n",
       "    <tr>\n",
       "      <th>18</th>\n",
       "      <td>NetFractionInstallBurden</td>\n",
       "      <td>numerical</td>\n",
       "      <td>OPTIMAL</td>\n",
       "      <td>True</td>\n",
       "      <td>5</td>\n",
       "      <td>0.037879</td>\n",
       "      <td>0.004724</td>\n",
       "      <td>0.105916</td>\n",
       "      <td>0.053723</td>\n",
       "    </tr>\n",
       "    <tr>\n",
       "      <th>19</th>\n",
       "      <td>NumRevolvingTradesWBalance</td>\n",
       "      <td>numerical</td>\n",
       "      <td>OPTIMAL</td>\n",
       "      <td>True</td>\n",
       "      <td>7</td>\n",
       "      <td>0.093376</td>\n",
       "      <td>0.011578</td>\n",
       "      <td>0.162108</td>\n",
       "      <td>0.011291</td>\n",
       "    </tr>\n",
       "    <tr>\n",
       "      <th>20</th>\n",
       "      <td>NumInstallTradesWBalance</td>\n",
       "      <td>numerical</td>\n",
       "      <td>OPTIMAL</td>\n",
       "      <td>True</td>\n",
       "      <td>5</td>\n",
       "      <td>0.014121</td>\n",
       "      <td>0.001762</td>\n",
       "      <td>0.059437</td>\n",
       "      <td>0.010423</td>\n",
       "    </tr>\n",
       "    <tr>\n",
       "      <th>21</th>\n",
       "      <td>NumBank2NatlTradesWHighUtilization</td>\n",
       "      <td>numerical</td>\n",
       "      <td>OPTIMAL</td>\n",
       "      <td>True</td>\n",
       "      <td>5</td>\n",
       "      <td>0.334853</td>\n",
       "      <td>0.041017</td>\n",
       "      <td>0.308402</td>\n",
       "      <td>0.222126</td>\n",
       "    </tr>\n",
       "    <tr>\n",
       "      <th>22</th>\n",
       "      <td>PercentTradesWBalance</td>\n",
       "      <td>numerical</td>\n",
       "      <td>OPTIMAL</td>\n",
       "      <td>True</td>\n",
       "      <td>12</td>\n",
       "      <td>0.365412</td>\n",
       "      <td>0.044210</td>\n",
       "      <td>0.334112</td>\n",
       "      <td>0.018131</td>\n",
       "    </tr>\n",
       "  </tbody>\n",
       "</table>\n",
       "</div>"
      ],
      "text/plain": [
       "                                  name      dtype   status  selected n_bins  \\\n",
       "0                 ExternalRiskEstimate  numerical  OPTIMAL      True     12   \n",
       "1                MSinceOldestTradeOpen  numerical  OPTIMAL      True     11   \n",
       "2            MSinceMostRecentTradeOpen  numerical  OPTIMAL      True      6   \n",
       "3                       AverageMInFile  numerical  OPTIMAL      True     10   \n",
       "4                NumSatisfactoryTrades  numerical  OPTIMAL      True     10   \n",
       "5          NumTrades60Ever2DerogPubRec  numerical  OPTIMAL      True      4   \n",
       "6          NumTrades90Ever2DerogPubRec  numerical  OPTIMAL      True      3   \n",
       "7               PercentTradesNeverDelq  numerical  OPTIMAL      True      8   \n",
       "8                 MSinceMostRecentDelq  numerical  OPTIMAL      True      7   \n",
       "9             MaxDelq2PublicRecLast12M  numerical  OPTIMAL      True      3   \n",
       "10                         MaxDelqEver  numerical  OPTIMAL      True      4   \n",
       "11                      NumTotalTrades  numerical  OPTIMAL      True      8   \n",
       "12              NumTradesOpeninLast12M  numerical  OPTIMAL      True      6   \n",
       "13                PercentInstallTrades  numerical  OPTIMAL      True      8   \n",
       "14        MSinceMostRecentInqexcl7days  numerical  OPTIMAL      True      4   \n",
       "15                        NumInqLast6M  numerical  OPTIMAL      True      4   \n",
       "16               NumInqLast6Mexcl7days  numerical  OPTIMAL      True      5   \n",
       "17          NetFractionRevolvingBurden  numerical  OPTIMAL      True      9   \n",
       "18            NetFractionInstallBurden  numerical  OPTIMAL      True      5   \n",
       "19          NumRevolvingTradesWBalance  numerical  OPTIMAL      True      7   \n",
       "20            NumInstallTradesWBalance  numerical  OPTIMAL      True      5   \n",
       "21  NumBank2NatlTradesWHighUtilization  numerical  OPTIMAL      True      5   \n",
       "22               PercentTradesWBalance  numerical  OPTIMAL      True     12   \n",
       "\n",
       "          iv        js      gini quality_score  \n",
       "0   1.018368  0.116638  0.534387      0.031792  \n",
       "1   0.252786  0.030483  0.264740      0.027179  \n",
       "2   0.019086  0.002377  0.065597      0.000556  \n",
       "3   0.319379  0.038458  0.304157      0.128082  \n",
       "4   0.126726  0.015424  0.180888      0.001210  \n",
       "5   0.178710  0.021915  0.200184      0.201631  \n",
       "6   0.133485  0.016301  0.155193      0.286527  \n",
       "7   0.377803  0.045428  0.316946      0.101421  \n",
       "8   0.289526  0.035246  0.272229      0.239494  \n",
       "9   0.330280  0.040250  0.301670      0.833712  \n",
       "10  0.236098  0.029129  0.257314      0.667940  \n",
       "11  0.064716  0.008027  0.138545      0.011755  \n",
       "12  0.023530  0.002936  0.083770      0.007932  \n",
       "13  0.098610  0.012107  0.159569      0.077405  \n",
       "14  0.166538  0.020460  0.211639      0.531041  \n",
       "15  0.089956  0.011127  0.159369      0.323780  \n",
       "16  0.083992  0.010394  0.153641      0.036291  \n",
       "17  0.574686  0.068232  0.410605      0.343593  \n",
       "18  0.037879  0.004724  0.105916      0.053723  \n",
       "19  0.093376  0.011578  0.162108      0.011291  \n",
       "20  0.014121  0.001762  0.059437      0.010423  \n",
       "21  0.334853  0.041017  0.308402      0.222126  \n",
       "22  0.365412  0.044210  0.334112      0.018131  "
      ]
     },
     "execution_count": 21,
     "metadata": {},
     "output_type": "execute_result"
    }
   ],
   "source": [
    "binning_process.summary()"
   ]
  },
  {
   "cell_type": "markdown",
   "metadata": {},
   "source": [
    "The ``get_binned_variable`` method serves to retrieve an optimal binning object, which can be analyzed in detail afterward."
   ]
  },
  {
   "cell_type": "code",
   "execution_count": 22,
   "metadata": {},
   "outputs": [],
   "source": [
    "optb = binning_process.get_binned_variable(\"NumBank2NatlTradesWHighUtilization\")"
   ]
  },
  {
   "cell_type": "code",
   "execution_count": 23,
   "metadata": {},
   "outputs": [
    {
     "data": {
      "text/html": [
       "<div>\n",
       "<style scoped>\n",
       "    .dataframe tbody tr th:only-of-type {\n",
       "        vertical-align: middle;\n",
       "    }\n",
       "\n",
       "    .dataframe tbody tr th {\n",
       "        vertical-align: top;\n",
       "    }\n",
       "\n",
       "    .dataframe thead th {\n",
       "        text-align: right;\n",
       "    }\n",
       "</style>\n",
       "<table border=\"1\" class=\"dataframe\">\n",
       "  <thead>\n",
       "    <tr style=\"text-align: right;\">\n",
       "      <th></th>\n",
       "      <th>Bin</th>\n",
       "      <th>Count</th>\n",
       "      <th>Count (%)</th>\n",
       "      <th>Non-event</th>\n",
       "      <th>Event</th>\n",
       "      <th>Event rate</th>\n",
       "      <th>WoE</th>\n",
       "      <th>IV</th>\n",
       "      <th>JS</th>\n",
       "    </tr>\n",
       "  </thead>\n",
       "  <tbody>\n",
       "    <tr>\n",
       "      <th>0</th>\n",
       "      <td>(-inf, 0.50)</td>\n",
       "      <td>3416</td>\n",
       "      <td>0.408271</td>\n",
       "      <td>2184</td>\n",
       "      <td>1232</td>\n",
       "      <td>0.360656</td>\n",
       "      <td>0.662217</td>\n",
       "      <td>0.175281</td>\n",
       "      <td>0.021518</td>\n",
       "    </tr>\n",
       "    <tr>\n",
       "      <th>1</th>\n",
       "      <td>[0.50, 1.50)</td>\n",
       "      <td>2015</td>\n",
       "      <td>0.240827</td>\n",
       "      <td>858</td>\n",
       "      <td>1157</td>\n",
       "      <td>0.574194</td>\n",
       "      <td>-0.209284</td>\n",
       "      <td>0.010461</td>\n",
       "      <td>0.001305</td>\n",
       "    </tr>\n",
       "    <tr>\n",
       "      <th>2</th>\n",
       "      <td>[1.50, 2.50)</td>\n",
       "      <td>983</td>\n",
       "      <td>0.117485</td>\n",
       "      <td>345</td>\n",
       "      <td>638</td>\n",
       "      <td>0.649034</td>\n",
       "      <td>-0.525096</td>\n",
       "      <td>0.031309</td>\n",
       "      <td>0.003869</td>\n",
       "    </tr>\n",
       "    <tr>\n",
       "      <th>3</th>\n",
       "      <td>[2.50, 3.50)</td>\n",
       "      <td>496</td>\n",
       "      <td>0.059281</td>\n",
       "      <td>137</td>\n",
       "      <td>359</td>\n",
       "      <td>0.723790</td>\n",
       "      <td>-0.873644</td>\n",
       "      <td>0.041802</td>\n",
       "      <td>0.005065</td>\n",
       "    </tr>\n",
       "    <tr>\n",
       "      <th>4</th>\n",
       "      <td>[3.50, inf)</td>\n",
       "      <td>521</td>\n",
       "      <td>0.062268</td>\n",
       "      <td>139</td>\n",
       "      <td>382</td>\n",
       "      <td>0.733205</td>\n",
       "      <td>-0.921249</td>\n",
       "      <td>0.048466</td>\n",
       "      <td>0.005853</td>\n",
       "    </tr>\n",
       "    <tr>\n",
       "      <th>5</th>\n",
       "      <td>Special</td>\n",
       "      <td>936</td>\n",
       "      <td>0.111868</td>\n",
       "      <td>333</td>\n",
       "      <td>603</td>\n",
       "      <td>0.644231</td>\n",
       "      <td>-0.504077</td>\n",
       "      <td>0.027533</td>\n",
       "      <td>0.003406</td>\n",
       "    </tr>\n",
       "    <tr>\n",
       "      <th>6</th>\n",
       "      <td>Missing</td>\n",
       "      <td>0</td>\n",
       "      <td>0.000000</td>\n",
       "      <td>0</td>\n",
       "      <td>0</td>\n",
       "      <td>0.000000</td>\n",
       "      <td>0.000000</td>\n",
       "      <td>0.000000</td>\n",
       "      <td>0.000000</td>\n",
       "    </tr>\n",
       "    <tr>\n",
       "      <th>Totals</th>\n",
       "      <td></td>\n",
       "      <td>8367</td>\n",
       "      <td>1.000000</td>\n",
       "      <td>3996</td>\n",
       "      <td>4371</td>\n",
       "      <td>0.522409</td>\n",
       "      <td></td>\n",
       "      <td>0.334853</td>\n",
       "      <td>0.041017</td>\n",
       "    </tr>\n",
       "  </tbody>\n",
       "</table>\n",
       "</div>"
      ],
      "text/plain": [
       "                 Bin  Count  Count (%)  Non-event  Event  Event rate  \\\n",
       "0       (-inf, 0.50)   3416   0.408271       2184   1232    0.360656   \n",
       "1       [0.50, 1.50)   2015   0.240827        858   1157    0.574194   \n",
       "2       [1.50, 2.50)    983   0.117485        345    638    0.649034   \n",
       "3       [2.50, 3.50)    496   0.059281        137    359    0.723790   \n",
       "4        [3.50, inf)    521   0.062268        139    382    0.733205   \n",
       "5            Special    936   0.111868        333    603    0.644231   \n",
       "6            Missing      0   0.000000          0      0    0.000000   \n",
       "Totals                 8367   1.000000       3996   4371    0.522409   \n",
       "\n",
       "             WoE        IV        JS  \n",
       "0       0.662217  0.175281  0.021518  \n",
       "1      -0.209284  0.010461  0.001305  \n",
       "2      -0.525096  0.031309  0.003869  \n",
       "3      -0.873644  0.041802  0.005065  \n",
       "4      -0.921249  0.048466  0.005853  \n",
       "5      -0.504077  0.027533  0.003406  \n",
       "6       0.000000  0.000000  0.000000  \n",
       "Totals            0.334853  0.041017  "
      ]
     },
     "execution_count": 23,
     "metadata": {},
     "output_type": "execute_result"
    }
   ],
   "source": [
    "optb.binning_table.build()"
   ]
  },
  {
   "cell_type": "code",
   "execution_count": 24,
   "metadata": {},
   "outputs": [
    {
     "data": {
      "image/png": "[encoded data removed]",
      "text/plain": [
       "<Figure size 432x288 with 2 Axes>"
      ]
     },
     "metadata": {
      "needs_background": "light"
     },
     "output_type": "display_data"
    }
   ],
   "source": [
    "optb.binning_table.plot(metric=\"event_rate\")"
   ]
  },
  {
   "cell_type": "code",
   "execution_count": 25,
   "metadata": {},
   "outputs": [
    {
     "name": "stdout",
     "output_type": "stream",
     "text": [
      "---------------------------------------------\n",
      "OptimalBinning: Binary Binning Table Analysis\n",
      "---------------------------------------------\n",
      "\n",
      "  General metrics\n",
      "\n",
      "    Gini index               0.30840174\n",
      "    IV (Jeffrey)             0.33485338\n",
      "    JS (Jensen-Shannon)      0.04101657\n",
      "    Hellinger                0.04143062\n",
      "    Triangular               0.16088993\n",
      "    KS                       0.26468885\n",
      "    HHI                      0.25839135\n",
      "    HHI (normalized)         0.13478991\n",
      "    Cramer's V               0.28612357\n",
      "    Quality score            0.22212566\n",
      "\n",
      "  Monotonic trend             ascending\n",
      "\n",
      "  Significance tests\n",
      "\n",
      "    Bin A  Bin B  t-statistic      p-value      P[A > B]  P[B > A]\n",
      "        0      1   234.556206 6.049946e-53 5.576352e-107  1.000000\n",
      "        1      2    15.402738 8.686234e-05  7.665294e-06  0.999992\n",
      "        2      3     8.386138 3.780934e-03  1.290940e-03  0.998709\n",
      "        3      4     0.113909 7.357368e-01  3.678894e-01  0.632111\n",
      "\n"
     ]
    }
   ],
   "source": [
    "optb.binning_table.analysis()"
   ]
  }
 ],
 "metadata": {
  "kernelspec": {
   "display_name": "Python 3",
   "language": "python",
   "name": "python3"
  },
  "language_info": {
   "codemirror_mode": {
    "name": "ipython",
    "version": 3
   },
   "file_extension": ".py",
   "mimetype": "text/x-python",
   "name": "python",
   "nbconvert_exporter": "python",
   "pygments_lexer": "ipython3",
   "version": "3.7.4"
  }
 },
 "nbformat": 4,
 "nbformat_minor": 2
}
