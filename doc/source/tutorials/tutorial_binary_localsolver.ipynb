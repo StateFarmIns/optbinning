{
 "cells": [
  {
   "cell_type": "markdown",
   "metadata": {},
   "source": [
    "# Tutorial: optimal binning with binary target - LocalSolver"
   ]
  },
  {
   "cell_type": "markdown",
   "metadata": {},
   "source": [
    "To get us started, let's load the application_train.csv file from the Kaggle's competition https://www.kaggle.com/c/home-credit-default-risk/data."
   ]
  },
  {
   "cell_type": "code",
   "execution_count": 1,
   "metadata": {},
   "outputs": [],
   "source": [
    "import pandas as pd"
   ]
  },
  {
   "cell_type": "code",
   "execution_count": 2,
   "metadata": {},
   "outputs": [],
   "source": [
    "df = pd.read_csv(\"data/kaggle/HomeCreditDefaultRisk/application_train.csv\", engine='c')"
   ]
  },
  {
   "cell_type": "markdown",
   "metadata": {},
   "source": [
    "We choose a variable to discretize and the binary target."
   ]
  },
  {
   "cell_type": "code",
   "execution_count": 3,
   "metadata": {},
   "outputs": [],
   "source": [
    "variable = \"REGION_POPULATION_RELATIVE\"\n",
    "x = df[variable].values\n",
    "y = df.TARGET.values"
   ]
  },
  {
   "cell_type": "markdown",
   "metadata": {},
   "source": [
    "Import and instantiate an ``OptimalBinning`` object class. We pass the variable name, its data type, and a solver, in this case, we choose the commercial solver LocalSolver. Note that LocalSolver requires a time limit, which is set to 20 seconds (LocalSolver 10.0). Besides, for this example, we require a more granular binning, therefore we allow a large number of prebins with small size.\n",
    "\n",
    "To use LocalSolver follow the avaiable instructions:\n",
    "https://www.localsolver.com/docs/last/quickstart/solvingyourfirstmodelinpython.html"
   ]
  },
  {
   "cell_type": "code",
   "execution_count": 4,
   "metadata": {},
   "outputs": [],
   "source": [
    "from optbinning import OptimalBinning"
   ]
  },
  {
   "cell_type": "code",
   "execution_count": 5,
   "metadata": {},
   "outputs": [],
   "source": [
    "optb = OptimalBinning(name=variable, dtype=\"numerical\", solver=\"ls\", max_n_prebins=100,\n",
    "                      min_prebin_size=0.001, time_limit=20)"
   ]
  },
  {
   "cell_type": "markdown",
   "metadata": {},
   "source": [
    "We fit the optimal binning object with arrays ``x`` and ``y``."
   ]
  },
  {
   "cell_type": "code",
   "execution_count": 6,
   "metadata": {
    "scrolled": false
   },
   "outputs": [
    {
     "name": "stdout",
     "output_type": "stream",
     "text": [
      "Push initial solution 100%\u001b[2K\n",
      "\u001b[1m\u001b[4mModel\u001b[0m:  expressions = 79028, decisions = 309, constraints = 6161, objectives = 1\n",
      "\u001b[1m\u001b[4mParam\u001b[0m:  time limit = 20 sec, no iteration limit\n",
      "\n",
      "[objective direction ]:     maximize\n",
      "\n",
      "[  0 sec,       0 itr]:            0\n",
      "[ optimality gap     ]:      100.00%\n",
      "[  1 sec,       0 itr]:            0\n",
      "[  2 sec,    1650 itr]:        34776\n",
      "[  3 sec,    6276 itr]:        37297\n",
      "[  4 sec,    6276 itr]:        37297\n",
      "[  5 sec,    8516 itr]:        37297\n",
      "[  6 sec,   10771 itr]:        37297\n",
      "[  7 sec,   12813 itr]:        37297\n",
      "[  8 sec,   15256 itr]:        37305\n",
      "[  9 sec,   17634 itr]:        37305\n",
      "[ 10 sec,   20136 itr]:        37305\n",
      "[ optimality gap     ]:       82.27%\n",
      "[ 11 sec,   22303 itr]:        37305\n",
      "[ 12 sec,   24608 itr]:        37729\n",
      "[ 13 sec,   26865 itr]:        37758\n",
      "[ 14 sec,   28828 itr]:        37758\n",
      "[ 15 sec,   33133 itr]:        37758\n",
      "[ 16 sec,   33133 itr]:        37758\n",
      "[ 17 sec,   35139 itr]:        37758\n",
      "[ 18 sec,   37028 itr]:        37758\n",
      "[ 19 sec,   40000 itr]:        37758\n",
      "[ 20 sec,   40000 itr]:        37758\n",
      "[ optimality gap     ]:       82.06%\n",
      "[ 20 sec,   40000 itr]:        37758\n",
      "[ optimality gap     ]:       82.06%\n",
      "\n",
      "40000 iterations performed in 20 seconds\n",
      "\n",
      "\u001b[1m\u001b[32mFeasible solution: \u001b[0m\n",
      "  obj    =        37758\n",
      "  gap    =       82.06%\n",
      "  bounds =       210419\n"
     ]
    },
    {
     "data": {
      "text/plain": [
       "OptimalBinning(cat_cutoff=None, class_weight=None, divergence='iv',\n",
       "               dtype='numerical', gamma=0, max_bin_n_event=None,\n",
       "               max_bin_n_nonevent=None, max_bin_size=None, max_n_bins=None,\n",
       "               max_n_prebins=100, max_pvalue=None,\n",
       "               max_pvalue_policy='consecutive', min_bin_n_event=None,\n",
       "               min_bin_n_nonevent=None, min_bin_size=None,\n",
       "               min_event_rate_diff=0, min_n_bins=None, min_prebin_size=0.001,\n",
       "               mip_solver='bop', monotonic_trend='auto',\n",
       "               name='REGION_POPULATION_RELATIVE', outlier_detector=None,\n",
       "               outlier_params=None, prebinning_method='cart', solver='ls',\n",
       "               special_codes=None, split_digits=None, time_limit=20,\n",
       "               user_splits=None, user_splits_fixed=None, ...)"
      ]
     },
     "execution_count": 6,
     "metadata": {},
     "output_type": "execute_result"
    }
   ],
   "source": [
    "optb.fit(x, y)"
   ]
  },
  {
   "cell_type": "markdown",
   "metadata": {},
   "source": [
    "You can check if an optimal or feasible solution has been found via the ``status`` attribute:"
   ]
  },
  {
   "cell_type": "code",
   "execution_count": 7,
   "metadata": {},
   "outputs": [
    {
     "data": {
      "text/plain": [
       "'FEASIBLE'"
      ]
     },
     "execution_count": 7,
     "metadata": {},
     "output_type": "execute_result"
    }
   ],
   "source": [
    "optb.status"
   ]
  },
  {
   "cell_type": "code",
   "execution_count": 8,
   "metadata": {},
   "outputs": [
    {
     "name": "stdout",
     "output_type": "stream",
     "text": [
      "---------------------------------------------\n",
      "OptimalBinning: Binary Binning Table Analysis\n",
      "---------------------------------------------\n",
      "\n",
      "  General metrics\n",
      "\n",
      "    Gini index               0.08180326\n",
      "    IV (Jeffrey)             0.03776231\n",
      "    JS (Jensen-Shannon)      0.00465074\n",
      "    Hellinger                0.00468508\n",
      "    Triangular               0.01833822\n",
      "    KS                       0.06087208\n",
      "    HHI                      0.23425608\n",
      "    HHI (normalized)         0.16464300\n",
      "    Cramer's V               0.05102627\n",
      "    Quality score            0.06257516\n",
      "\n",
      "  Monotonic trend                  peak\n",
      "\n",
      "  Significance tests\n",
      "\n",
      "    Bin A  Bin B  t-statistic      p-value      P[A > B]     P[B > A]\n",
      "        0      1     1.445262 2.292897e-01  1.013041e-01 8.986959e-01\n",
      "        1      2   158.939080 1.929529e-36 1.179082e-218 1.000000e+00\n",
      "        2      3   131.200666 2.238000e-30  1.000000e+00 1.110223e-16\n",
      "        3      4     0.878638 3.485750e-01  8.240457e-01 1.759543e-01\n",
      "        4      5    14.925402 1.118468e-04  9.999989e-01 1.123668e-06\n",
      "        5      6     3.969732 4.632513e-02  9.768847e-01 2.311530e-02\n",
      "        6      7    40.662233 1.809509e-10  1.000000e+00 3.330669e-16\n",
      "        7      8    29.296187 6.211781e-08  1.000000e+00 4.795286e-11\n",
      "        8      9    10.992632 9.147483e-04  9.997649e-01 2.351244e-04\n",
      "\n"
     ]
    }
   ],
   "source": [
    "binning_table = optb.binning_table\n",
    "binning_table.build()\n",
    "binning_table.analysis()"
   ]
  },
  {
   "cell_type": "code",
   "execution_count": 9,
   "metadata": {},
   "outputs": [
    {
     "data": {
      "image/png": "[encoded data removed]",
      "text/plain": [
       "<Figure size 432x288 with 2 Axes>"
      ]
     },
     "metadata": {
      "needs_background": "light"
     },
     "output_type": "display_data"
    }
   ],
   "source": [
    "binning_table.plot(metric=\"event_rate\")"
   ]
  },
  {
   "cell_type": "code",
   "execution_count": 10,
   "metadata": {},
   "outputs": [
    {
     "name": "stdout",
     "output_type": "stream",
     "text": [
      "optbinning (Version 0.9.2)\n",
      "Copyright (c) 2019-2021 Guillermo Navas-Palencia, Apache License 2.0\n",
      "\n",
      "  Name    : REGION_POPULATION_RELATIVE      \n",
      "  Status  : FEASIBLE                        \n",
      "\n",
      "  Pre-binning statistics\n",
      "    Number of pre-bins                    77\n",
      "    Number of refinements                  0\n",
      "\n",
      "  Solver statistics\n",
      "    Type                                  ls\n",
      "    Number of iterations               40000\n",
      "\n",
      "  Timing\n",
      "    Total time                         21.43 sec\n",
      "    Pre-processing                      0.01 sec   (  0.05%)\n",
      "    Pre-binning                         0.50 sec   (  2.35%)\n",
      "    Solver                             20.91 sec   ( 97.59%)\n",
      "    Post-processing                     0.00 sec   (  0.00%)\n",
      "\n"
     ]
    }
   ],
   "source": [
    "optb.information(print_level=1)"
   ]
  },
  {
   "cell_type": "markdown",
   "metadata": {},
   "source": [
    "Computing the optimal binning starting with a large number of prebins might be challenging in some situations, therefore solvers such as LocalSolver are suitable to find quality feasible solutions in a reasonable amount of time. However, if LocalSolver is not available we can always try solver options \"cp\" or \"mip\"."
   ]
  },
  {
   "cell_type": "markdown",
   "metadata": {},
   "source": [
    "#### Constraint programming solver"
   ]
  },
  {
   "cell_type": "markdown",
   "metadata": {},
   "source": [
    "First, we keep the 5 seconds time limit:"
   ]
  },
  {
   "cell_type": "code",
   "execution_count": 11,
   "metadata": {},
   "outputs": [],
   "source": [
    "optb = OptimalBinning(name=variable, dtype=\"numerical\", solver=\"cp\", max_n_prebins=100,\n",
    "                      min_prebin_size=0.001, time_limit=5)"
   ]
  },
  {
   "cell_type": "code",
   "execution_count": 12,
   "metadata": {},
   "outputs": [
    {
     "data": {
      "text/plain": [
       "OptimalBinning(cat_cutoff=None, class_weight=None, divergence='iv',\n",
       "               dtype='numerical', gamma=0, max_bin_n_event=None,\n",
       "               max_bin_n_nonevent=None, max_bin_size=None, max_n_bins=None,\n",
       "               max_n_prebins=100, max_pvalue=None,\n",
       "               max_pvalue_policy='consecutive', min_bin_n_event=None,\n",
       "               min_bin_n_nonevent=None, min_bin_size=None,\n",
       "               min_event_rate_diff=0, min_n_bins=None, min_prebin_size=0.001,\n",
       "               mip_solver='bop', monotonic_trend='auto',\n",
       "               name='REGION_POPULATION_RELATIVE', outlier_detector=None,\n",
       "               outlier_params=None, prebinning_method='cart', solver='cp',\n",
       "               special_codes=None, split_digits=None, time_limit=5,\n",
       "               user_splits=None, user_splits_fixed=None, ...)"
      ]
     },
     "execution_count": 12,
     "metadata": {},
     "output_type": "execute_result"
    }
   ],
   "source": [
    "optb.fit(x, y)"
   ]
  },
  {
   "cell_type": "markdown",
   "metadata": {},
   "source": [
    "The status is \"UNKNOWN\" therefore nor feasible or optimal solutions was found in 5 seconds."
   ]
  },
  {
   "cell_type": "code",
   "execution_count": 13,
   "metadata": {},
   "outputs": [
    {
     "data": {
      "text/plain": [
       "'UNKNOWN'"
      ]
     },
     "execution_count": 13,
     "metadata": {},
     "output_type": "execute_result"
    }
   ],
   "source": [
    "optb.status"
   ]
  },
  {
   "cell_type": "code",
   "execution_count": 14,
   "metadata": {},
   "outputs": [
    {
     "name": "stdout",
     "output_type": "stream",
     "text": [
      "optbinning (Version 0.9.2)\n",
      "Copyright (c) 2019-2021 Guillermo Navas-Palencia, Apache License 2.0\n",
      "\n",
      "  Name    : REGION_POPULATION_RELATIVE      \n",
      "  Status  : UNKNOWN                         \n",
      "\n",
      "  Pre-binning statistics\n",
      "    Number of pre-bins                    77\n",
      "    Number of refinements                  0\n",
      "\n"
     ]
    }
   ],
   "source": [
    "optb.information(print_level=1)"
   ]
  },
  {
   "cell_type": "markdown",
   "metadata": {},
   "source": [
    "We increase the time limit to 30 seconds."
   ]
  },
  {
   "cell_type": "code",
   "execution_count": 15,
   "metadata": {},
   "outputs": [],
   "source": [
    "optb = OptimalBinning(name=variable, dtype=\"numerical\", solver=\"cp\", max_n_prebins=100,\n",
    "                      min_prebin_size=0.001, time_limit=30)"
   ]
  },
  {
   "cell_type": "code",
   "execution_count": 16,
   "metadata": {},
   "outputs": [
    {
     "data": {
      "text/plain": [
       "OptimalBinning(cat_cutoff=None, class_weight=None, divergence='iv',\n",
       "               dtype='numerical', gamma=0, max_bin_n_event=None,\n",
       "               max_bin_n_nonevent=None, max_bin_size=None, max_n_bins=None,\n",
       "               max_n_prebins=100, max_pvalue=None,\n",
       "               max_pvalue_policy='consecutive', min_bin_n_event=None,\n",
       "               min_bin_n_nonevent=None, min_bin_size=None,\n",
       "               min_event_rate_diff=0, min_n_bins=None, min_prebin_size=0.001,\n",
       "               mip_solver='bop', monotonic_trend='auto',\n",
       "               name='REGION_POPULATION_RELATIVE', outlier_detector=None,\n",
       "               outlier_params=None, prebinning_method='cart', solver='cp',\n",
       "               special_codes=None, split_digits=None, time_limit=30,\n",
       "               user_splits=None, user_splits_fixed=None, ...)"
      ]
     },
     "execution_count": 16,
     "metadata": {},
     "output_type": "execute_result"
    }
   ],
   "source": [
    "optb.fit(x, y)"
   ]
  },
  {
   "cell_type": "markdown",
   "metadata": {},
   "source": [
    "In 30 seconds we found a feasible solution"
   ]
  },
  {
   "cell_type": "code",
   "execution_count": 17,
   "metadata": {},
   "outputs": [
    {
     "data": {
      "text/plain": [
       "'FEASIBLE'"
      ]
     },
     "execution_count": 17,
     "metadata": {},
     "output_type": "execute_result"
    }
   ],
   "source": [
    "optb.status"
   ]
  },
  {
   "cell_type": "code",
   "execution_count": 18,
   "metadata": {},
   "outputs": [
    {
     "name": "stdout",
     "output_type": "stream",
     "text": [
      "optbinning (Version 0.9.2)\n",
      "Copyright (c) 2019-2021 Guillermo Navas-Palencia, Apache License 2.0\n",
      "\n",
      "  Name    : REGION_POPULATION_RELATIVE      \n",
      "  Status  : FEASIBLE                        \n",
      "\n",
      "  Pre-binning statistics\n",
      "    Number of pre-bins                    77\n",
      "    Number of refinements                  0\n",
      "\n",
      "  Solver statistics\n",
      "    Type                                  cp\n",
      "    Number of booleans                  3155\n",
      "    Number of branches                 28213\n",
      "    Number of conflicts                 6885\n",
      "    Objective value                    37367\n",
      "    Best objective bound               74233\n",
      "\n",
      "  Timing\n",
      "    Total time                         49.50 sec\n",
      "    Pre-processing                      0.00 sec   (  0.01%)\n",
      "    Pre-binning                         0.45 sec   (  0.90%)\n",
      "    Solver                             49.05 sec   ( 99.09%)\n",
      "      model generation                 19.04 sec   ( 38.83%)\n",
      "      optimizer                        30.00 sec   ( 61.17%)\n",
      "    Post-processing                     0.00 sec   (  0.00%)\n",
      "\n"
     ]
    }
   ],
   "source": [
    "optb.information(print_level=1)"
   ]
  },
  {
   "cell_type": "code",
   "execution_count": 19,
   "metadata": {},
   "outputs": [
    {
     "name": "stdout",
     "output_type": "stream",
     "text": [
      "---------------------------------------------\n",
      "OptimalBinning: Binary Binning Table Analysis\n",
      "---------------------------------------------\n",
      "\n",
      "  General metrics\n",
      "\n",
      "    Gini index               0.08891470\n",
      "    IV (Jeffrey)             0.03737164\n",
      "    JS (Jensen-Shannon)      0.00461702\n",
      "    Hellinger                0.00464395\n",
      "    Triangular               0.01825927\n",
      "    KS                       0.06087208\n",
      "    HHI                      0.19466583\n",
      "    HHI (normalized)         0.13271705\n",
      "    Cramer's V               0.04978528\n",
      "    Quality score            0.00058822\n",
      "\n",
      "  Monotonic trend                  peak\n",
      "\n",
      "  Significance tests\n",
      "\n",
      "    Bin A  Bin B  t-statistic      p-value     P[A > B]     P[B > A]\n",
      "        0      1     1.221574 2.690519e-01 1.202075e-01 8.797925e-01\n",
      "        1      2     3.537222 6.000588e-02 3.120268e-02 9.687973e-01\n",
      "        2      3     0.078781 7.789566e-01 3.875777e-01 6.124223e-01\n",
      "        3      4     0.190265 6.626959e-01 3.352569e-01 6.647431e-01\n",
      "        4      5    26.771144 2.290319e-07 1.971027e-08 1.000000e+00\n",
      "        5      6     7.184990 7.351597e-03 9.965864e-01 3.413632e-03\n",
      "        6      7    40.761911 1.719521e-10 1.000000e+00 2.474909e-12\n",
      "        7      8     0.011697 9.138763e-01 5.399700e-01 4.600300e-01\n",
      "        8      9    54.211508 1.800294e-13 1.000000e+00 1.110223e-16\n",
      "        9     10    29.296187 6.211781e-08 1.000000e+00 4.795264e-11\n",
      "       10     11    10.992632 9.147483e-04 9.997649e-01 2.351244e-04\n",
      "\n"
     ]
    }
   ],
   "source": [
    "binning_table = optb.binning_table\n",
    "binning_table.build()\n",
    "binning_table.analysis()"
   ]
  },
  {
   "cell_type": "markdown",
   "metadata": {},
   "source": [
    "The current solution is IV = 0.03514331, compared to the LocalSolver solver solution 0.03776231. Let us increase the time limit to 200 seconds."
   ]
  },
  {
   "cell_type": "code",
   "execution_count": 20,
   "metadata": {},
   "outputs": [],
   "source": [
    "optb = OptimalBinning(name=variable, dtype=\"numerical\", solver=\"cp\", max_n_prebins=100,\n",
    "                      min_prebin_size=0.001, time_limit=200)"
   ]
  },
  {
   "cell_type": "code",
   "execution_count": 21,
   "metadata": {},
   "outputs": [
    {
     "data": {
      "text/plain": [
       "OptimalBinning(cat_cutoff=None, class_weight=None, divergence='iv',\n",
       "               dtype='numerical', gamma=0, max_bin_n_event=None,\n",
       "               max_bin_n_nonevent=None, max_bin_size=None, max_n_bins=None,\n",
       "               max_n_prebins=100, max_pvalue=None,\n",
       "               max_pvalue_policy='consecutive', min_bin_n_event=None,\n",
       "               min_bin_n_nonevent=None, min_bin_size=None,\n",
       "               min_event_rate_diff=0, min_n_bins=None, min_prebin_size=0.001,\n",
       "               mip_solver='bop', monotonic_trend='auto',\n",
       "               name='REGION_POPULATION_RELATIVE', outlier_detector=None,\n",
       "               outlier_params=None, prebinning_method='cart', solver='cp',\n",
       "               special_codes=None, split_digits=None, time_limit=200,\n",
       "               user_splits=None, user_splits_fixed=None, ...)"
      ]
     },
     "execution_count": 21,
     "metadata": {},
     "output_type": "execute_result"
    }
   ],
   "source": [
    "optb.fit(x, y)"
   ]
  },
  {
   "cell_type": "markdown",
   "metadata": {},
   "source": [
    "The optimal solution is found within the time limit."
   ]
  },
  {
   "cell_type": "code",
   "execution_count": 22,
   "metadata": {},
   "outputs": [
    {
     "data": {
      "text/plain": [
       "'OPTIMAL'"
      ]
     },
     "execution_count": 22,
     "metadata": {},
     "output_type": "execute_result"
    }
   ],
   "source": [
    "optb.status"
   ]
  },
  {
   "cell_type": "code",
   "execution_count": 23,
   "metadata": {},
   "outputs": [
    {
     "name": "stdout",
     "output_type": "stream",
     "text": [
      "optbinning (Version 0.9.2)\n",
      "Copyright (c) 2019-2021 Guillermo Navas-Palencia, Apache License 2.0\n",
      "\n",
      "  Name    : REGION_POPULATION_RELATIVE      \n",
      "  Status  : OPTIMAL                         \n",
      "\n",
      "  Pre-binning statistics\n",
      "    Number of pre-bins                    77\n",
      "    Number of refinements                  0\n",
      "\n",
      "  Solver statistics\n",
      "    Type                                  cp\n",
      "    Number of booleans                  3155\n",
      "    Number of branches                165953\n",
      "    Number of conflicts                75652\n",
      "    Objective value                    37758\n",
      "    Best objective bound               37758\n",
      "\n",
      "  Timing\n",
      "    Total time                        148.19 sec\n",
      "    Pre-processing                      0.00 sec   (  0.00%)\n",
      "    Pre-binning                         0.44 sec   (  0.30%)\n",
      "    Solver                            147.75 sec   ( 99.70%)\n",
      "      model generation                 17.90 sec   ( 12.12%)\n",
      "      optimizer                       129.84 sec   ( 87.88%)\n",
      "    Post-processing                     0.00 sec   (  0.00%)\n",
      "\n"
     ]
    }
   ],
   "source": [
    "optb.information(print_level=1)"
   ]
  },
  {
   "cell_type": "code",
   "execution_count": 24,
   "metadata": {},
   "outputs": [
    {
     "name": "stdout",
     "output_type": "stream",
     "text": [
      "---------------------------------------------\n",
      "OptimalBinning: Binary Binning Table Analysis\n",
      "---------------------------------------------\n",
      "\n",
      "  General metrics\n",
      "\n",
      "    Gini index               0.08180326\n",
      "    IV (Jeffrey)             0.03776231\n",
      "    JS (Jensen-Shannon)      0.00465074\n",
      "    Hellinger                0.00468508\n",
      "    Triangular               0.01833822\n",
      "    KS                       0.06087208\n",
      "    HHI                      0.23425608\n",
      "    HHI (normalized)         0.16464300\n",
      "    Cramer's V               0.05102627\n",
      "    Quality score            0.06257516\n",
      "\n",
      "  Monotonic trend                  peak\n",
      "\n",
      "  Significance tests\n",
      "\n",
      "    Bin A  Bin B  t-statistic      p-value      P[A > B]     P[B > A]\n",
      "        0      1     1.445262 2.292897e-01  1.013041e-01 8.986959e-01\n",
      "        1      2   158.939080 1.929529e-36 1.179082e-218 1.000000e+00\n",
      "        2      3   131.200666 2.238000e-30  1.000000e+00 1.110223e-16\n",
      "        3      4     0.878638 3.485750e-01  8.240457e-01 1.759543e-01\n",
      "        4      5    14.925402 1.118468e-04  9.999989e-01 1.123668e-06\n",
      "        5      6     3.969732 4.632513e-02  9.768847e-01 2.311530e-02\n",
      "        6      7    40.662233 1.809509e-10  1.000000e+00 3.330669e-16\n",
      "        7      8    29.296187 6.211781e-08  1.000000e+00 4.795253e-11\n",
      "        8      9    10.992632 9.147483e-04  9.997649e-01 2.351244e-04\n",
      "\n"
     ]
    }
   ],
   "source": [
    "binning_table = optb.binning_table\n",
    "binning_table.build()\n",
    "binning_table.analysis()"
   ]
  },
  {
   "cell_type": "markdown",
   "metadata": {},
   "source": [
    "The optimal solution is IV = 0.03776231, matching the LocalSolver solver solution 0.03776231. "
   ]
  },
  {
   "cell_type": "code",
   "execution_count": 25,
   "metadata": {},
   "outputs": [
    {
     "data": {
      "image/png": "[encoded data removed]",
      "text/plain": [
       "<Figure size 432x288 with 2 Axes>"
      ]
     },
     "metadata": {
      "needs_background": "light"
     },
     "output_type": "display_data"
    }
   ],
   "source": [
    "binning_table.plot(metric=\"event_rate\")"
   ]
  }
 ],
 "metadata": {
  "kernelspec": {
   "display_name": "Python 3",
   "language": "python",
   "name": "python3"
  },
  "language_info": {
   "codemirror_mode": {
    "name": "ipython",
    "version": 3
   },
   "file_extension": ".py",
   "mimetype": "text/x-python",
   "name": "python",
   "nbconvert_exporter": "python",
   "pygments_lexer": "ipython3",
   "version": "3.7.4"
  }
 },
 "nbformat": 4,
 "nbformat_minor": 2
}
