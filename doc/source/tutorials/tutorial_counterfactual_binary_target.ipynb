{
 "cells": [
  {
   "cell_type": "markdown",
   "metadata": {},
   "source": [
    "# Tutorial: Counterfactual explanations for scorecard with binary target"
   ]
  },
  {
   "cell_type": "markdown",
   "metadata": {},
   "source": [
    "Comment introduction"
   ]
  },
  {
   "cell_type": "code",
   "execution_count": 1,
   "metadata": {},
   "outputs": [],
   "source": [
    "import numpy as np\n",
    "import pandas as pd\n",
    "\n",
    "from sklearn.linear_model import LogisticRegression\n",
    "\n",
    "from optbinning import BinningProcess\n",
    "from optbinning import Scorecard\n",
    "from optbinning.scorecard import Counterfactual"
   ]
  },
  {
   "cell_type": "markdown",
   "metadata": {},
   "source": [
    "This dataset has 8 features. The outcome is income which is binarized to 0 (low-income, <=50K) or 1 (high-income, >50K)."
   ]
  },
  {
   "cell_type": "code",
   "execution_count": 2,
   "metadata": {},
   "outputs": [],
   "source": [
    "df = pd.read_csv(\"data/adult.data\", sep=\",\", header=None)\n",
    "\n",
    "columns = [\"age\", \"workclass\", \"fnlwgt\", \"education\", \"education-num\",\n",
    "           \"marital-status\", \"occupation\", \"relationship\", \"race\", \"sex\",\n",
    "           \"capital-gain\", \"capital-loss\", \"hours-per-week\",\"native-country\",\n",
    "           \"income\"]\n",
    "\n",
    "target = \"income\"\n",
    "\n",
    "variable_names = [\"age\", \"workclass\", \"education\", \"marital-status\",\n",
    "                  \"occupation\", \"race\", \"sex\", \"hours-per-week\"]\n",
    "\n",
    "df.columns = columns\n",
    "df = df[variable_names  + [target]]\n",
    "df[target] = (df[target].values == ' >50K').astype(int)"
   ]
  },
  {
   "cell_type": "markdown",
   "metadata": {},
   "source": [
    "#### Scorecard model"
   ]
  },
  {
   "cell_type": "markdown",
   "metadata": {},
   "source": [
    "Comment"
   ]
  },
  {
   "cell_type": "code",
   "execution_count": 3,
   "metadata": {},
   "outputs": [
    {
     "data": {
      "text/plain": [
       "Scorecard(binning_process=BinningProcess(binning_fit_params=None,\n",
       "                                         binning_transform_params=None,\n",
       "                                         categorical_variables=None,\n",
       "                                         max_bin_size=None, max_n_bins=None,\n",
       "                                         max_n_prebins=20, max_pvalue=None,\n",
       "                                         max_pvalue_policy='consecutive',\n",
       "                                         min_bin_size=None, min_n_bins=None,\n",
       "                                         min_prebin_size=0.05, n_jobs=None,\n",
       "                                         selection_criteria=None,\n",
       "                                         special_codes=None, split_digits=None,\n",
       "                                         v...\n",
       "                                       dual=False, fit_intercept=True,\n",
       "                                       intercept_scaling=1, l1_ratio=None,\n",
       "                                       max_iter=100, multi_class='auto',\n",
       "                                       n_jobs=None, penalty='l2',\n",
       "                                       random_state=None, solver='lbfgs',\n",
       "                                       tol=0.0001, verbose=0,\n",
       "                                       warm_start=False),\n",
       "          intercept_based=False, reverse_scorecard=False, rounding=False,\n",
       "          scaling_method='min_max',\n",
       "          scaling_method_params={'max': 850, 'min': 300}, target='income',\n",
       "          verbose=False)"
      ]
     },
     "execution_count": 3,
     "metadata": {},
     "output_type": "execute_result"
    }
   ],
   "source": [
    "binning_process = BinningProcess(variable_names)\n",
    "\n",
    "estimator = LogisticRegression(solver=\"lbfgs\", class_weight=\"balanced\")\n",
    "\n",
    "scorecard = Scorecard(target=target, binning_process=binning_process,\n",
    "                      estimator=estimator, scaling_method=\"min_max\",\n",
    "                      scaling_method_params={\"min\": 300, \"max\": 850})\n",
    "\n",
    "scorecard.fit(df)"
   ]
  },
  {
   "cell_type": "markdown",
   "metadata": {},
   "source": [
    "#### Generating counterfactual explanations - binary outcome"
   ]
  },
  {
   "cell_type": "markdown",
   "metadata": {},
   "source": [
    "##### Single counterfactual"
   ]
  },
  {
   "cell_type": "markdown",
   "metadata": {},
   "source": [
    "Comment"
   ]
  },
  {
   "cell_type": "code",
   "execution_count": 4,
   "metadata": {},
   "outputs": [],
   "source": [
    "idx_lowest = np.argmin(scorecard.predict_proba(df)[:, 1])\n",
    "query = df.iloc[idx_lowest, :-1].to_dict()"
   ]
  },
  {
   "cell_type": "code",
   "execution_count": 5,
   "metadata": {},
   "outputs": [
    {
     "data": {
      "text/plain": [
       "{'age': 17,\n",
       " 'workclass': ' Private',\n",
       " 'education': ' 11th',\n",
       " 'marital-status': ' Never-married',\n",
       " 'occupation': ' Other-service',\n",
       " 'race': ' Black',\n",
       " 'sex': ' Female',\n",
       " 'hours-per-week': 25}"
      ]
     },
     "execution_count": 5,
     "metadata": {},
     "output_type": "execute_result"
    }
   ],
   "source": [
    "query"
   ]
  },
  {
   "cell_type": "markdown",
   "metadata": {},
   "source": [
    "Comment"
   ]
  },
  {
   "cell_type": "code",
   "execution_count": 6,
   "metadata": {},
   "outputs": [],
   "source": [
    "cf = Counterfactual(scorecard=scorecard)"
   ]
  },
  {
   "cell_type": "code",
   "execution_count": 7,
   "metadata": {},
   "outputs": [
    {
     "data": {
      "text/plain": [
       "Counterfactual(n_jobs=1,\n",
       "               scorecard=Scorecard(binning_process=BinningProcess(binning_fit_params=None,\n",
       "                                                                  binning_transform_params=None,\n",
       "                                                                  categorical_variables=None,\n",
       "                                                                  max_bin_size=None,\n",
       "                                                                  max_n_bins=None,\n",
       "                                                                  max_n_prebins=20,\n",
       "                                                                  max_pvalue=None,\n",
       "                                                                  max_pvalue_policy='consecutive',\n",
       "                                                                  min_bin_size=None,\n",
       "                                                                  min_n_bins=None,\n",
       "                                                                  min_prebin_size=0.05,\n",
       "                                                                  n_jobs=None,\n",
       "                                                                  selection_criteria=None,\n",
       "                                                                  spec...\n",
       "                                                                intercept_scaling=1,\n",
       "                                                                l1_ratio=None,\n",
       "                                                                max_iter=100,\n",
       "                                                                multi_class='auto',\n",
       "                                                                n_jobs=None,\n",
       "                                                                penalty='l2',\n",
       "                                                                random_state=None,\n",
       "                                                                solver='lbfgs',\n",
       "                                                                tol=0.0001,\n",
       "                                                                verbose=0,\n",
       "                                                                warm_start=False),\n",
       "                                   intercept_based=False,\n",
       "                                   reverse_scorecard=False, rounding=False,\n",
       "                                   scaling_method='min_max',\n",
       "                                   scaling_method_params={'max': 850,\n",
       "                                                          'min': 300},\n",
       "                                   target='income', verbose=False),\n",
       "               special_missing=False, verbose=False)"
      ]
     },
     "execution_count": 7,
     "metadata": {},
     "output_type": "execute_result"
    }
   ],
   "source": [
    "cf.fit(df)"
   ]
  },
  {
   "cell_type": "markdown",
   "metadata": {},
   "source": [
    "Comment"
   ]
  },
  {
   "cell_type": "code",
   "execution_count": 8,
   "metadata": {
    "scrolled": false
   },
   "outputs": [
    {
     "data": {
      "text/plain": [
       "Counterfactual(n_jobs=1,\n",
       "               scorecard=Scorecard(binning_process=BinningProcess(binning_fit_params=None,\n",
       "                                                                  binning_transform_params=None,\n",
       "                                                                  categorical_variables=None,\n",
       "                                                                  max_bin_size=None,\n",
       "                                                                  max_n_bins=None,\n",
       "                                                                  max_n_prebins=20,\n",
       "                                                                  max_pvalue=None,\n",
       "                                                                  max_pvalue_policy='consecutive',\n",
       "                                                                  min_bin_size=None,\n",
       "                                                                  min_n_bins=None,\n",
       "                                                                  min_prebin_size=0.05,\n",
       "                                                                  n_jobs=None,\n",
       "                                                                  selection_criteria=None,\n",
       "                                                                  spec...\n",
       "                                                                intercept_scaling=1,\n",
       "                                                                l1_ratio=None,\n",
       "                                                                max_iter=100,\n",
       "                                                                multi_class='auto',\n",
       "                                                                n_jobs=None,\n",
       "                                                                penalty='l2',\n",
       "                                                                random_state=None,\n",
       "                                                                solver='lbfgs',\n",
       "                                                                tol=0.0001,\n",
       "                                                                verbose=0,\n",
       "                                                                warm_start=False),\n",
       "                                   intercept_based=False,\n",
       "                                   reverse_scorecard=False, rounding=False,\n",
       "                                   scaling_method='min_max',\n",
       "                                   scaling_method_params={'max': 850,\n",
       "                                                          'min': 300},\n",
       "                                   target='income', verbose=False),\n",
       "               special_missing=False, verbose=False)"
      ]
     },
     "execution_count": 8,
     "metadata": {},
     "output_type": "execute_result"
    }
   ],
   "source": [
    "cf.generate(query=query, y=1, outcome_type=\"binary\", n_cf=1, max_changes=3)"
   ]
  },
  {
   "cell_type": "markdown",
   "metadata": {},
   "source": [
    "Comment"
   ]
  },
  {
   "cell_type": "code",
   "execution_count": 9,
   "metadata": {},
   "outputs": [
    {
     "data": {
      "text/plain": [
       "'OPTIMAL'"
      ]
     },
     "execution_count": 9,
     "metadata": {},
     "output_type": "execute_result"
    }
   ],
   "source": [
    "cf.status"
   ]
  },
  {
   "cell_type": "code",
   "execution_count": 10,
   "metadata": {},
   "outputs": [
    {
     "name": "stdout",
     "output_type": "stream",
     "text": [
      "optbinning (Version 0.11.0)\n",
      "Copyright (c) 2019-2021 Guillermo Navas-Palencia, Apache License 2.0\n",
      "\n",
      "  Begin options\n",
      "    scorecard                            yes   * U\n",
      "    special_missing                    False   * d\n",
      "    n_jobs                                 1   * d\n",
      "    verbose                            False   * d\n",
      "  End options\n",
      "\n",
      "  Status  : OPTIMAL                         \n",
      "\n",
      "  Solver statistics\n",
      "    Type                                 mip\n",
      "    Number of variables                   88\n",
      "    Number of constraints                 42\n",
      "    Objective value                  16.1490\n",
      "    Best objective bound             16.1490\n",
      "\n",
      "  Objectives\n",
      "    proximity                         3.7558\n",
      "    closeness                        12.3932\n",
      "\n",
      "  Timing\n",
      "    Total time                          0.22 sec\n",
      "    Fit                                 0.13 sec   ( 58.29%)\n",
      "    Solver                              0.08 sec   ( 36.68%)\n",
      "    Post-processing                     0.01 sec   ( 13.71%)\n",
      "\n"
     ]
    }
   ],
   "source": [
    "cf.information(print_level=2)"
   ]
  },
  {
   "cell_type": "markdown",
   "metadata": {},
   "source": [
    "Comment"
   ]
  },
  {
   "cell_type": "code",
   "execution_count": 11,
   "metadata": {},
   "outputs": [
    {
     "data": {
      "text/html": [
       "<div>\n",
       "<style scoped>\n",
       "    .dataframe tbody tr th:only-of-type {\n",
       "        vertical-align: middle;\n",
       "    }\n",
       "\n",
       "    .dataframe tbody tr th {\n",
       "        vertical-align: top;\n",
       "    }\n",
       "\n",
       "    .dataframe thead th {\n",
       "        text-align: right;\n",
       "    }\n",
       "</style>\n",
       "<table border=\"1\" class=\"dataframe\">\n",
       "  <thead>\n",
       "    <tr style=\"text-align: right;\">\n",
       "      <th></th>\n",
       "      <th>age</th>\n",
       "      <th>workclass</th>\n",
       "      <th>education</th>\n",
       "      <th>marital-status</th>\n",
       "      <th>occupation</th>\n",
       "      <th>race</th>\n",
       "      <th>sex</th>\n",
       "      <th>hours-per-week</th>\n",
       "    </tr>\n",
       "  </thead>\n",
       "  <tbody>\n",
       "    <tr>\n",
       "      <th>0</th>\n",
       "      <td>[33.50, 35.50)</td>\n",
       "      <td>Private</td>\n",
       "      <td>[ Masters,  Prof-school,  Doctorate]</td>\n",
       "      <td>[ Married-AF-spouse,  Married-civ-spouse]</td>\n",
       "      <td>Other-service</td>\n",
       "      <td>Black</td>\n",
       "      <td>Female</td>\n",
       "      <td>25</td>\n",
       "    </tr>\n",
       "  </tbody>\n",
       "</table>\n",
       "</div>"
      ],
      "text/plain": [
       "              age workclass                             education  \\\n",
       "0  [33.50, 35.50)   Private  [ Masters,  Prof-school,  Doctorate]   \n",
       "\n",
       "                              marital-status      occupation    race      sex  \\\n",
       "0  [ Married-AF-spouse,  Married-civ-spouse]   Other-service   Black   Female   \n",
       "\n",
       "  hours-per-week  \n",
       "0             25  "
      ]
     },
     "execution_count": 11,
     "metadata": {},
     "output_type": "execute_result"
    }
   ],
   "source": [
    "cf.display()"
   ]
  },
  {
   "cell_type": "code",
   "execution_count": 12,
   "metadata": {},
   "outputs": [
    {
     "data": {
      "text/html": [
       "<div>\n",
       "<style scoped>\n",
       "    .dataframe tbody tr th:only-of-type {\n",
       "        vertical-align: middle;\n",
       "    }\n",
       "\n",
       "    .dataframe tbody tr th {\n",
       "        vertical-align: top;\n",
       "    }\n",
       "\n",
       "    .dataframe thead th {\n",
       "        text-align: right;\n",
       "    }\n",
       "</style>\n",
       "<table border=\"1\" class=\"dataframe\">\n",
       "  <thead>\n",
       "    <tr style=\"text-align: right;\">\n",
       "      <th></th>\n",
       "      <th>age</th>\n",
       "      <th>workclass</th>\n",
       "      <th>education</th>\n",
       "      <th>marital-status</th>\n",
       "      <th>occupation</th>\n",
       "      <th>race</th>\n",
       "      <th>sex</th>\n",
       "      <th>hours-per-week</th>\n",
       "    </tr>\n",
       "  </thead>\n",
       "  <tbody>\n",
       "    <tr>\n",
       "      <th>0</th>\n",
       "      <td>[33.50, 35.50)</td>\n",
       "      <td>-</td>\n",
       "      <td>[ Masters,  Prof-school,  Doctorate]</td>\n",
       "      <td>[ Married-AF-spouse,  Married-civ-spouse]</td>\n",
       "      <td>-</td>\n",
       "      <td>-</td>\n",
       "      <td>-</td>\n",
       "      <td>-</td>\n",
       "    </tr>\n",
       "  </tbody>\n",
       "</table>\n",
       "</div>"
      ],
      "text/plain": [
       "              age workclass                             education  \\\n",
       "0  [33.50, 35.50)         -  [ Masters,  Prof-school,  Doctorate]   \n",
       "\n",
       "                              marital-status occupation race sex  \\\n",
       "0  [ Married-AF-spouse,  Married-civ-spouse]          -    -   -   \n",
       "\n",
       "  hours-per-week  \n",
       "0              -  "
      ]
     },
     "execution_count": 12,
     "metadata": {},
     "output_type": "execute_result"
    }
   ],
   "source": [
    "cf.display(show_only_changes=True)"
   ]
  },
  {
   "cell_type": "code",
   "execution_count": 13,
   "metadata": {},
   "outputs": [
    {
     "data": {
      "text/html": [
       "<div>\n",
       "<style scoped>\n",
       "    .dataframe tbody tr th:only-of-type {\n",
       "        vertical-align: middle;\n",
       "    }\n",
       "\n",
       "    .dataframe tbody tr th {\n",
       "        vertical-align: top;\n",
       "    }\n",
       "\n",
       "    .dataframe thead th {\n",
       "        text-align: right;\n",
       "    }\n",
       "</style>\n",
       "<table border=\"1\" class=\"dataframe\">\n",
       "  <thead>\n",
       "    <tr style=\"text-align: right;\">\n",
       "      <th></th>\n",
       "      <th>age</th>\n",
       "      <th>workclass</th>\n",
       "      <th>education</th>\n",
       "      <th>marital-status</th>\n",
       "      <th>occupation</th>\n",
       "      <th>race</th>\n",
       "      <th>sex</th>\n",
       "      <th>hours-per-week</th>\n",
       "      <th>outcome</th>\n",
       "    </tr>\n",
       "  </thead>\n",
       "  <tbody>\n",
       "    <tr>\n",
       "      <th>0</th>\n",
       "      <td>[33.50, 35.50)</td>\n",
       "      <td>-</td>\n",
       "      <td>[ Masters,  Prof-school,  Doctorate]</td>\n",
       "      <td>[ Married-AF-spouse,  Married-civ-spouse]</td>\n",
       "      <td>-</td>\n",
       "      <td>-</td>\n",
       "      <td>-</td>\n",
       "      <td>-</td>\n",
       "      <td>0.505995</td>\n",
       "    </tr>\n",
       "  </tbody>\n",
       "</table>\n",
       "</div>"
      ],
      "text/plain": [
       "              age workclass                             education  \\\n",
       "0  [33.50, 35.50)         -  [ Masters,  Prof-school,  Doctorate]   \n",
       "\n",
       "                              marital-status occupation race sex  \\\n",
       "0  [ Married-AF-spouse,  Married-civ-spouse]          -    -   -   \n",
       "\n",
       "  hours-per-week   outcome  \n",
       "0              -  0.505995  "
      ]
     },
     "execution_count": 13,
     "metadata": {},
     "output_type": "execute_result"
    }
   ],
   "source": [
    "cf.display(show_only_changes=True, show_outcome=True)"
   ]
  },
  {
   "cell_type": "markdown",
   "metadata": {},
   "source": [
    "##### Actionable features"
   ]
  },
  {
   "cell_type": "markdown",
   "metadata": {},
   "source": [
    "Comment"
   ]
  },
  {
   "cell_type": "code",
   "execution_count": 14,
   "metadata": {},
   "outputs": [
    {
     "data": {
      "text/html": [
       "<div>\n",
       "<style scoped>\n",
       "    .dataframe tbody tr th:only-of-type {\n",
       "        vertical-align: middle;\n",
       "    }\n",
       "\n",
       "    .dataframe tbody tr th {\n",
       "        vertical-align: top;\n",
       "    }\n",
       "\n",
       "    .dataframe thead th {\n",
       "        text-align: right;\n",
       "    }\n",
       "</style>\n",
       "<table border=\"1\" class=\"dataframe\">\n",
       "  <thead>\n",
       "    <tr style=\"text-align: right;\">\n",
       "      <th></th>\n",
       "      <th>age</th>\n",
       "      <th>workclass</th>\n",
       "      <th>education</th>\n",
       "      <th>marital-status</th>\n",
       "      <th>occupation</th>\n",
       "      <th>race</th>\n",
       "      <th>sex</th>\n",
       "      <th>hours-per-week</th>\n",
       "      <th>outcome</th>\n",
       "    </tr>\n",
       "  </thead>\n",
       "  <tbody>\n",
       "    <tr>\n",
       "      <th>0</th>\n",
       "      <td>[43.50, 49.50)</td>\n",
       "      <td>-</td>\n",
       "      <td>[ Masters,  Prof-school,  Doctorate]</td>\n",
       "      <td>-</td>\n",
       "      <td>[ Tech-support,  Protective-serv,  Prof-specia...</td>\n",
       "      <td>-</td>\n",
       "      <td>-</td>\n",
       "      <td>[39.50, 41.50)</td>\n",
       "      <td>0.503416</td>\n",
       "    </tr>\n",
       "  </tbody>\n",
       "</table>\n",
       "</div>"
      ],
      "text/plain": [
       "              age workclass                             education  \\\n",
       "0  [43.50, 49.50)         -  [ Masters,  Prof-school,  Doctorate]   \n",
       "\n",
       "  marital-status                                         occupation race sex  \\\n",
       "0              -  [ Tech-support,  Protective-serv,  Prof-specia...    -   -   \n",
       "\n",
       "   hours-per-week   outcome  \n",
       "0  [39.50, 41.50)  0.503416  "
      ]
     },
     "execution_count": 14,
     "metadata": {},
     "output_type": "execute_result"
    }
   ],
   "source": [
    "cf.generate(query=query, y=1, outcome_type=\"binary\", n_cf=1, max_changes=4,\n",
    "            actionable_features=[\"age\", \"workclass\", \"education\", \"occupation\",\n",
    "                                 \"hours-per-week\"]\n",
    "           ).display(show_only_changes=True, show_outcome=True)"
   ]
  },
  {
   "cell_type": "markdown",
   "metadata": {},
   "source": [
    "##### Weighted vs hierarchical method"
   ]
  },
  {
   "cell_type": "markdown",
   "metadata": {},
   "source": [
    "Comment"
   ]
  },
  {
   "cell_type": "code",
   "execution_count": 15,
   "metadata": {},
   "outputs": [
    {
     "data": {
      "text/html": [
       "<div>\n",
       "<style scoped>\n",
       "    .dataframe tbody tr th:only-of-type {\n",
       "        vertical-align: middle;\n",
       "    }\n",
       "\n",
       "    .dataframe tbody tr th {\n",
       "        vertical-align: top;\n",
       "    }\n",
       "\n",
       "    .dataframe thead th {\n",
       "        text-align: right;\n",
       "    }\n",
       "</style>\n",
       "<table border=\"1\" class=\"dataframe\">\n",
       "  <thead>\n",
       "    <tr style=\"text-align: right;\">\n",
       "      <th></th>\n",
       "      <th>age</th>\n",
       "      <th>workclass</th>\n",
       "      <th>education</th>\n",
       "      <th>marital-status</th>\n",
       "      <th>occupation</th>\n",
       "      <th>race</th>\n",
       "      <th>sex</th>\n",
       "      <th>hours-per-week</th>\n",
       "    </tr>\n",
       "  </thead>\n",
       "  <tbody>\n",
       "    <tr>\n",
       "      <th>0</th>\n",
       "      <td>[37.50, 40.50)</td>\n",
       "      <td>Private</td>\n",
       "      <td>[ Bachelors]</td>\n",
       "      <td>[ Married-AF-spouse,  Married-civ-spouse]</td>\n",
       "      <td>[ ?,  Armed-Forces,  Farming-fishing]</td>\n",
       "      <td>Black</td>\n",
       "      <td>Female</td>\n",
       "      <td>25</td>\n",
       "    </tr>\n",
       "  </tbody>\n",
       "</table>\n",
       "</div>"
      ],
      "text/plain": [
       "              age workclass     education  \\\n",
       "0  [37.50, 40.50)   Private  [ Bachelors]   \n",
       "\n",
       "                              marital-status  \\\n",
       "0  [ Married-AF-spouse,  Married-civ-spouse]   \n",
       "\n",
       "                              occupation    race      sex hours-per-week  \n",
       "0  [ ?,  Armed-Forces,  Farming-fishing]   Black   Female             25  "
      ]
     },
     "execution_count": 15,
     "metadata": {},
     "output_type": "execute_result"
    }
   ],
   "source": [
    "cf.generate(query=query, y=1, outcome_type=\"binary\", n_cf=1,\n",
    "            method=\"weighted\", max_changes=4).display()"
   ]
  },
  {
   "cell_type": "code",
   "execution_count": 16,
   "metadata": {},
   "outputs": [
    {
     "name": "stdout",
     "output_type": "stream",
     "text": [
      "optbinning (Version 0.11.0)\n",
      "Copyright (c) 2019-2021 Guillermo Navas-Palencia, Apache License 2.0\n",
      "\n",
      "  Status  : OPTIMAL                         \n",
      "\n",
      "  Solver statistics\n",
      "    Type                                 mip\n",
      "    Number of variables                   88\n",
      "    Number of constraints                 42\n",
      "    Objective value                  14.0037\n",
      "    Best objective bound             14.0024\n",
      "\n",
      "  Objectives\n",
      "    proximity                         4.1646\n",
      "    closeness                         9.8391\n",
      "\n",
      "  Timing\n",
      "    Total time                          0.30 sec\n",
      "    Fit                                 0.13 sec   ( 43.44%)\n",
      "    Solver                              0.16 sec   ( 54.23%)\n",
      "    Post-processing                     0.01 sec   (  4.28%)\n",
      "\n"
     ]
    }
   ],
   "source": [
    "cf.information()"
   ]
  },
  {
   "cell_type": "code",
   "execution_count": 17,
   "metadata": {},
   "outputs": [
    {
     "data": {
      "text/html": [
       "<div>\n",
       "<style scoped>\n",
       "    .dataframe tbody tr th:only-of-type {\n",
       "        vertical-align: middle;\n",
       "    }\n",
       "\n",
       "    .dataframe tbody tr th {\n",
       "        vertical-align: top;\n",
       "    }\n",
       "\n",
       "    .dataframe thead th {\n",
       "        text-align: right;\n",
       "    }\n",
       "</style>\n",
       "<table border=\"1\" class=\"dataframe\">\n",
       "  <thead>\n",
       "    <tr style=\"text-align: right;\">\n",
       "      <th></th>\n",
       "      <th>age</th>\n",
       "      <th>workclass</th>\n",
       "      <th>education</th>\n",
       "      <th>marital-status</th>\n",
       "      <th>occupation</th>\n",
       "      <th>race</th>\n",
       "      <th>sex</th>\n",
       "      <th>hours-per-week</th>\n",
       "    </tr>\n",
       "  </thead>\n",
       "  <tbody>\n",
       "    <tr>\n",
       "      <th>0</th>\n",
       "      <td>[43.50, 49.50)</td>\n",
       "      <td>Private</td>\n",
       "      <td>[ Masters,  Prof-school,  Doctorate]</td>\n",
       "      <td>Never-married</td>\n",
       "      <td>[ Tech-support,  Protective-serv,  Prof-specia...</td>\n",
       "      <td>Black</td>\n",
       "      <td>Female</td>\n",
       "      <td>[39.50, 41.50)</td>\n",
       "    </tr>\n",
       "  </tbody>\n",
       "</table>\n",
       "</div>"
      ],
      "text/plain": [
       "              age workclass                             education  \\\n",
       "0  [43.50, 49.50)   Private  [ Masters,  Prof-school,  Doctorate]   \n",
       "\n",
       "   marital-status                                         occupation    race  \\\n",
       "0   Never-married  [ Tech-support,  Protective-serv,  Prof-specia...   Black   \n",
       "\n",
       "       sex  hours-per-week  \n",
       "0   Female  [39.50, 41.50)  "
      ]
     },
     "execution_count": 17,
     "metadata": {},
     "output_type": "execute_result"
    }
   ],
   "source": [
    "cf.generate(query=query, y=1, outcome_type=\"binary\", n_cf=1,\n",
    "            method=\"weighted\", objectives={\"proximity\": 0.1, \"closeness\": 0.9},\n",
    "            max_changes=4\n",
    "           ).display()"
   ]
  },
  {
   "cell_type": "code",
   "execution_count": 18,
   "metadata": {},
   "outputs": [
    {
     "name": "stdout",
     "output_type": "stream",
     "text": [
      "optbinning (Version 0.11.0)\n",
      "Copyright (c) 2019-2021 Guillermo Navas-Palencia, Apache License 2.0\n",
      "\n",
      "  Status  : OPTIMAL                         \n",
      "\n",
      "  Solver statistics\n",
      "    Type                                 mip\n",
      "    Number of variables                   88\n",
      "    Number of constraints                 42\n",
      "    Objective value                   9.0395\n",
      "    Best objective bound              9.0395\n",
      "\n",
      "  Objectives\n",
      "    proximity                         5.5872\n",
      "    closeness                         9.4231\n",
      "\n",
      "  Timing\n",
      "    Total time                          0.39 sec\n",
      "    Fit                                 0.13 sec   ( 33.32%)\n",
      "    Solver                              0.25 sec   ( 64.93%)\n",
      "    Post-processing                     0.01 sec   (  2.70%)\n",
      "\n"
     ]
    }
   ],
   "source": [
    "cf.information()"
   ]
  },
  {
   "cell_type": "markdown",
   "metadata": {},
   "source": [
    "Comment"
   ]
  },
  {
   "cell_type": "code",
   "execution_count": 19,
   "metadata": {},
   "outputs": [
    {
     "data": {
      "text/html": [
       "<div>\n",
       "<style scoped>\n",
       "    .dataframe tbody tr th:only-of-type {\n",
       "        vertical-align: middle;\n",
       "    }\n",
       "\n",
       "    .dataframe tbody tr th {\n",
       "        vertical-align: top;\n",
       "    }\n",
       "\n",
       "    .dataframe thead th {\n",
       "        text-align: right;\n",
       "    }\n",
       "</style>\n",
       "<table border=\"1\" class=\"dataframe\">\n",
       "  <thead>\n",
       "    <tr style=\"text-align: right;\">\n",
       "      <th></th>\n",
       "      <th>age</th>\n",
       "      <th>workclass</th>\n",
       "      <th>education</th>\n",
       "      <th>marital-status</th>\n",
       "      <th>occupation</th>\n",
       "      <th>race</th>\n",
       "      <th>sex</th>\n",
       "      <th>hours-per-week</th>\n",
       "    </tr>\n",
       "  </thead>\n",
       "  <tbody>\n",
       "    <tr>\n",
       "      <th>0</th>\n",
       "      <td>[35.50, 37.50)</td>\n",
       "      <td>Private</td>\n",
       "      <td>[ Masters,  Prof-school,  Doctorate]</td>\n",
       "      <td>[ Married-AF-spouse,  Married-civ-spouse]</td>\n",
       "      <td>Other-service</td>\n",
       "      <td>Black</td>\n",
       "      <td>Female</td>\n",
       "      <td>[25.50, 34.50)</td>\n",
       "    </tr>\n",
       "  </tbody>\n",
       "</table>\n",
       "</div>"
      ],
      "text/plain": [
       "              age workclass                             education  \\\n",
       "0  [35.50, 37.50)   Private  [ Masters,  Prof-school,  Doctorate]   \n",
       "\n",
       "                              marital-status      occupation    race      sex  \\\n",
       "0  [ Married-AF-spouse,  Married-civ-spouse]   Other-service   Black   Female   \n",
       "\n",
       "   hours-per-week  \n",
       "0  [25.50, 34.50)  "
      ]
     },
     "execution_count": 19,
     "metadata": {},
     "output_type": "execute_result"
    }
   ],
   "source": [
    "cf.generate(query=query, y=1, outcome_type=\"binary\", n_cf=1,\n",
    "            method=\"hierarchical\", max_changes=4\n",
    "           ).display()"
   ]
  },
  {
   "cell_type": "code",
   "execution_count": 20,
   "metadata": {},
   "outputs": [
    {
     "name": "stdout",
     "output_type": "stream",
     "text": [
      "optbinning (Version 0.11.0)\n",
      "Copyright (c) 2019-2021 Guillermo Navas-Palencia, Apache License 2.0\n",
      "\n",
      "  Status  : OPTIMAL                         \n",
      "\n",
      "  Solver statistics\n",
      "    Type                                 mip\n",
      "    Number of variables                   90\n",
      "    Number of constraints                 44\n",
      "    Objective value                  12.0849\n",
      "    Best objective bound             12.0849\n",
      "\n",
      "  Objectives\n",
      "    proximity                         3.9645\n",
      "    closeness                        12.0849\n",
      "\n",
      "  Timing\n",
      "    Total time                          0.22 sec\n",
      "    Fit                                 0.13 sec   ( 60.64%)\n",
      "    Solver                              0.08 sec   ( 35.59%)\n",
      "    Post-processing                     0.01 sec   ( 10.60%)\n",
      "\n"
     ]
    }
   ],
   "source": [
    "cf.information()"
   ]
  },
  {
   "cell_type": "code",
   "execution_count": 21,
   "metadata": {},
   "outputs": [
    {
     "data": {
      "text/html": [
       "<div>\n",
       "<style scoped>\n",
       "    .dataframe tbody tr th:only-of-type {\n",
       "        vertical-align: middle;\n",
       "    }\n",
       "\n",
       "    .dataframe tbody tr th {\n",
       "        vertical-align: top;\n",
       "    }\n",
       "\n",
       "    .dataframe thead th {\n",
       "        text-align: right;\n",
       "    }\n",
       "</style>\n",
       "<table border=\"1\" class=\"dataframe\">\n",
       "  <thead>\n",
       "    <tr style=\"text-align: right;\">\n",
       "      <th></th>\n",
       "      <th>age</th>\n",
       "      <th>workclass</th>\n",
       "      <th>education</th>\n",
       "      <th>marital-status</th>\n",
       "      <th>occupation</th>\n",
       "      <th>race</th>\n",
       "      <th>sex</th>\n",
       "      <th>hours-per-week</th>\n",
       "    </tr>\n",
       "  </thead>\n",
       "  <tbody>\n",
       "    <tr>\n",
       "      <th>0</th>\n",
       "      <td>[37.50, 40.50)</td>\n",
       "      <td>Private</td>\n",
       "      <td>[ Bachelors]</td>\n",
       "      <td>[ Married-AF-spouse,  Married-civ-spouse]</td>\n",
       "      <td>[ ?,  Armed-Forces,  Farming-fishing]</td>\n",
       "      <td>Black</td>\n",
       "      <td>Female</td>\n",
       "      <td>25</td>\n",
       "    </tr>\n",
       "  </tbody>\n",
       "</table>\n",
       "</div>"
      ],
      "text/plain": [
       "              age workclass     education  \\\n",
       "0  [37.50, 40.50)   Private  [ Bachelors]   \n",
       "\n",
       "                              marital-status  \\\n",
       "0  [ Married-AF-spouse,  Married-civ-spouse]   \n",
       "\n",
       "                              occupation    race      sex hours-per-week  \n",
       "0  [ ?,  Armed-Forces,  Farming-fishing]   Black   Female             25  "
      ]
     },
     "execution_count": 21,
     "metadata": {},
     "output_type": "execute_result"
    }
   ],
   "source": [
    "cf.generate(query=query, y=1, outcome_type=\"binary\", n_cf=1,\n",
    "            method=\"hierarchical\", objectives={\"proximity\": 1, \"closeness\": 2},\n",
    "            max_changes=4\n",
    "           ).display()"
   ]
  },
  {
   "cell_type": "code",
   "execution_count": 22,
   "metadata": {},
   "outputs": [
    {
     "name": "stdout",
     "output_type": "stream",
     "text": [
      "optbinning (Version 0.11.0)\n",
      "Copyright (c) 2019-2021 Guillermo Navas-Palencia, Apache License 2.0\n",
      "\n",
      "  Status  : OPTIMAL                         \n",
      "\n",
      "  Solver statistics\n",
      "    Type                                 mip\n",
      "    Number of variables                   90\n",
      "    Number of constraints                 44\n",
      "    Objective value                   4.1646\n",
      "    Best objective bound              4.1646\n",
      "\n",
      "  Objectives\n",
      "    closeness                         9.8391\n",
      "    proximity                         4.1646\n",
      "\n",
      "  Timing\n",
      "    Total time                          0.42 sec\n",
      "    Fit                                 0.13 sec   ( 30.90%)\n",
      "    Solver                              0.29 sec   ( 67.54%)\n",
      "    Post-processing                     0.01 sec   (  2.31%)\n",
      "\n"
     ]
    }
   ],
   "source": [
    "cf.information()"
   ]
  },
  {
   "cell_type": "markdown",
   "metadata": {},
   "source": [
    "##### Multiple counterfactuals"
   ]
  },
  {
   "cell_type": "markdown",
   "metadata": {},
   "source": [
    "Comment 1"
   ]
  },
  {
   "cell_type": "markdown",
   "metadata": {},
   "source": [
    "Comment 2: hard constraints"
   ]
  },
  {
   "cell_type": "code",
   "execution_count": 23,
   "metadata": {},
   "outputs": [
    {
     "data": {
      "text/html": [
       "<div>\n",
       "<style scoped>\n",
       "    .dataframe tbody tr th:only-of-type {\n",
       "        vertical-align: middle;\n",
       "    }\n",
       "\n",
       "    .dataframe tbody tr th {\n",
       "        vertical-align: top;\n",
       "    }\n",
       "\n",
       "    .dataframe thead th {\n",
       "        text-align: right;\n",
       "    }\n",
       "</style>\n",
       "<table border=\"1\" class=\"dataframe\">\n",
       "  <thead>\n",
       "    <tr style=\"text-align: right;\">\n",
       "      <th></th>\n",
       "      <th>age</th>\n",
       "      <th>workclass</th>\n",
       "      <th>education</th>\n",
       "      <th>marital-status</th>\n",
       "      <th>occupation</th>\n",
       "      <th>race</th>\n",
       "      <th>sex</th>\n",
       "      <th>hours-per-week</th>\n",
       "      <th>outcome</th>\n",
       "    </tr>\n",
       "  </thead>\n",
       "  <tbody>\n",
       "    <tr>\n",
       "      <th>0</th>\n",
       "      <td>[43.50, 49.50)</td>\n",
       "      <td>-</td>\n",
       "      <td>[ Masters,  Prof-school,  Doctorate]</td>\n",
       "      <td>-</td>\n",
       "      <td>[ Sales]</td>\n",
       "      <td>-</td>\n",
       "      <td>-</td>\n",
       "      <td>[41.50, 49.50)</td>\n",
       "      <td>0.514491</td>\n",
       "    </tr>\n",
       "    <tr>\n",
       "      <th>0</th>\n",
       "      <td>[40.50, 43.50)</td>\n",
       "      <td>-</td>\n",
       "      <td>[ Bachelors]</td>\n",
       "      <td>[ Married-AF-spouse,  Married-civ-spouse]</td>\n",
       "      <td>-</td>\n",
       "      <td>-</td>\n",
       "      <td>-</td>\n",
       "      <td>[34.50, 39.50)</td>\n",
       "      <td>0.537689</td>\n",
       "    </tr>\n",
       "    <tr>\n",
       "      <th>0</th>\n",
       "      <td>[37.50, 40.50)</td>\n",
       "      <td>-</td>\n",
       "      <td>[ Bachelors]</td>\n",
       "      <td>[ Married-AF-spouse,  Married-civ-spouse]</td>\n",
       "      <td>[ ?,  Armed-Forces,  Farming-fishing]</td>\n",
       "      <td>-</td>\n",
       "      <td>-</td>\n",
       "      <td>-</td>\n",
       "      <td>0.508597</td>\n",
       "    </tr>\n",
       "  </tbody>\n",
       "</table>\n",
       "</div>"
      ],
      "text/plain": [
       "              age workclass                             education  \\\n",
       "0  [43.50, 49.50)         -  [ Masters,  Prof-school,  Doctorate]   \n",
       "0  [40.50, 43.50)         -                          [ Bachelors]   \n",
       "0  [37.50, 40.50)         -                          [ Bachelors]   \n",
       "\n",
       "                              marital-status  \\\n",
       "0                                          -   \n",
       "0  [ Married-AF-spouse,  Married-civ-spouse]   \n",
       "0  [ Married-AF-spouse,  Married-civ-spouse]   \n",
       "\n",
       "                              occupation race sex  hours-per-week   outcome  \n",
       "0                               [ Sales]    -   -  [41.50, 49.50)  0.514491  \n",
       "0                                      -    -   -  [34.50, 39.50)  0.537689  \n",
       "0  [ ?,  Armed-Forces,  Farming-fishing]    -   -               -  0.508597  "
      ]
     },
     "execution_count": 23,
     "metadata": {},
     "output_type": "execute_result"
    }
   ],
   "source": [
    "cf.generate(query=query, y=1, outcome_type=\"binary\", n_cf=3, max_changes=4,\n",
    "            hard_constraints=[\"diversity_features\"], time_limit=5\n",
    "           ).display(show_only_changes=True, show_outcome=True)"
   ]
  },
  {
   "cell_type": "code",
   "execution_count": 24,
   "metadata": {},
   "outputs": [
    {
     "name": "stdout",
     "output_type": "stream",
     "text": [
      "optbinning (Version 0.11.0)\n",
      "Copyright (c) 2019-2021 Guillermo Navas-Palencia, Apache License 2.0\n",
      "\n",
      "  Status  : FEASIBLE                        \n",
      "\n",
      "  Solver statistics\n",
      "    Type                                 mip\n",
      "    Number of variables                  408\n",
      "    Number of constraints                957\n",
      "    Objective value                  44.0018\n",
      "    Best objective bound             40.1499\n",
      "\n",
      "  Objectives\n",
      "    proximity                        14.1411\n",
      "    closeness                        29.8606\n",
      "\n",
      "  Timing\n",
      "    Total time                          5.29 sec\n",
      "    Fit                                 0.13 sec   (  2.47%)\n",
      "    Solver                              5.15 sec   ( 97.21%)\n",
      "    Post-processing                     0.02 sec   (  0.33%)\n",
      "\n"
     ]
    }
   ],
   "source": [
    "cf.information()"
   ]
  },
  {
   "cell_type": "markdown",
   "metadata": {},
   "source": [
    "Comment - increase time limit"
   ]
  },
  {
   "cell_type": "code",
   "execution_count": 25,
   "metadata": {},
   "outputs": [
    {
     "data": {
      "text/html": [
       "<div>\n",
       "<style scoped>\n",
       "    .dataframe tbody tr th:only-of-type {\n",
       "        vertical-align: middle;\n",
       "    }\n",
       "\n",
       "    .dataframe tbody tr th {\n",
       "        vertical-align: top;\n",
       "    }\n",
       "\n",
       "    .dataframe thead th {\n",
       "        text-align: right;\n",
       "    }\n",
       "</style>\n",
       "<table border=\"1\" class=\"dataframe\">\n",
       "  <thead>\n",
       "    <tr style=\"text-align: right;\">\n",
       "      <th></th>\n",
       "      <th>age</th>\n",
       "      <th>workclass</th>\n",
       "      <th>education</th>\n",
       "      <th>marital-status</th>\n",
       "      <th>occupation</th>\n",
       "      <th>race</th>\n",
       "      <th>sex</th>\n",
       "      <th>hours-per-week</th>\n",
       "      <th>outcome</th>\n",
       "    </tr>\n",
       "  </thead>\n",
       "  <tbody>\n",
       "    <tr>\n",
       "      <th>0</th>\n",
       "      <td>[43.50, 49.50)</td>\n",
       "      <td>-</td>\n",
       "      <td>[ Masters,  Prof-school,  Doctorate]</td>\n",
       "      <td>-</td>\n",
       "      <td>[ Tech-support,  Protective-serv,  Prof-specia...</td>\n",
       "      <td>-</td>\n",
       "      <td>-</td>\n",
       "      <td>[39.50, 41.50)</td>\n",
       "      <td>0.503416</td>\n",
       "    </tr>\n",
       "    <tr>\n",
       "      <th>0</th>\n",
       "      <td>[40.50, 43.50)</td>\n",
       "      <td>-</td>\n",
       "      <td>[ Bachelors]</td>\n",
       "      <td>[ Married-AF-spouse,  Married-civ-spouse]</td>\n",
       "      <td>-</td>\n",
       "      <td>-</td>\n",
       "      <td>-</td>\n",
       "      <td>[34.50, 39.50)</td>\n",
       "      <td>0.537689</td>\n",
       "    </tr>\n",
       "    <tr>\n",
       "      <th>0</th>\n",
       "      <td>[37.50, 40.50)</td>\n",
       "      <td>-</td>\n",
       "      <td>[ Bachelors]</td>\n",
       "      <td>[ Married-AF-spouse,  Married-civ-spouse]</td>\n",
       "      <td>[ ?,  Armed-Forces,  Farming-fishing]</td>\n",
       "      <td>-</td>\n",
       "      <td>-</td>\n",
       "      <td>-</td>\n",
       "      <td>0.508597</td>\n",
       "    </tr>\n",
       "  </tbody>\n",
       "</table>\n",
       "</div>"
      ],
      "text/plain": [
       "              age workclass                             education  \\\n",
       "0  [43.50, 49.50)         -  [ Masters,  Prof-school,  Doctorate]   \n",
       "0  [40.50, 43.50)         -                          [ Bachelors]   \n",
       "0  [37.50, 40.50)         -                          [ Bachelors]   \n",
       "\n",
       "                              marital-status  \\\n",
       "0                                          -   \n",
       "0  [ Married-AF-spouse,  Married-civ-spouse]   \n",
       "0  [ Married-AF-spouse,  Married-civ-spouse]   \n",
       "\n",
       "                                          occupation race sex  hours-per-week  \\\n",
       "0  [ Tech-support,  Protective-serv,  Prof-specia...    -   -  [39.50, 41.50)   \n",
       "0                                                  -    -   -  [34.50, 39.50)   \n",
       "0              [ ?,  Armed-Forces,  Farming-fishing]    -   -               -   \n",
       "\n",
       "    outcome  \n",
       "0  0.503416  \n",
       "0  0.537689  \n",
       "0  0.508597  "
      ]
     },
     "execution_count": 25,
     "metadata": {},
     "output_type": "execute_result"
    }
   ],
   "source": [
    "cf.generate(query=query, y=1, outcome_type=\"binary\", n_cf=3, max_changes=4,\n",
    "            hard_constraints=[\"diversity_features\"], time_limit=15\n",
    "           ).display(show_only_changes=True, show_outcome=True)"
   ]
  },
  {
   "cell_type": "code",
   "execution_count": 26,
   "metadata": {},
   "outputs": [
    {
     "name": "stdout",
     "output_type": "stream",
     "text": [
      "optbinning (Version 0.11.0)\n",
      "Copyright (c) 2019-2021 Guillermo Navas-Palencia, Apache License 2.0\n",
      "\n",
      "  Status  : OPTIMAL                         \n",
      "\n",
      "  Solver statistics\n",
      "    Type                                 mip\n",
      "    Number of variables                  408\n",
      "    Number of constraints                957\n",
      "    Objective value                  43.7051\n",
      "    Best objective bound             43.7051\n",
      "\n",
      "  Objectives\n",
      "    proximity                        14.0688\n",
      "    closeness                        29.6363\n",
      "\n",
      "  Timing\n",
      "    Total time                         10.66 sec\n",
      "    Fit                                 0.13 sec   (  1.23%)\n",
      "    Solver                             10.51 sec   ( 98.61%)\n",
      "    Post-processing                     0.02 sec   (  0.17%)\n",
      "\n"
     ]
    }
   ],
   "source": [
    "cf.information()"
   ]
  },
  {
   "cell_type": "markdown",
   "metadata": {},
   "source": [
    "Comment about the first counterfactual"
   ]
  },
  {
   "cell_type": "code",
   "execution_count": 27,
   "metadata": {},
   "outputs": [
    {
     "data": {
      "text/html": [
       "<div>\n",
       "<style scoped>\n",
       "    .dataframe tbody tr th:only-of-type {\n",
       "        vertical-align: middle;\n",
       "    }\n",
       "\n",
       "    .dataframe tbody tr th {\n",
       "        vertical-align: top;\n",
       "    }\n",
       "\n",
       "    .dataframe thead th {\n",
       "        text-align: right;\n",
       "    }\n",
       "</style>\n",
       "<table border=\"1\" class=\"dataframe\">\n",
       "  <thead>\n",
       "    <tr style=\"text-align: right;\">\n",
       "      <th></th>\n",
       "      <th>age</th>\n",
       "      <th>workclass</th>\n",
       "      <th>education</th>\n",
       "      <th>marital-status</th>\n",
       "      <th>occupation</th>\n",
       "      <th>race</th>\n",
       "      <th>sex</th>\n",
       "      <th>hours-per-week</th>\n",
       "      <th>outcome</th>\n",
       "    </tr>\n",
       "  </thead>\n",
       "  <tbody>\n",
       "    <tr>\n",
       "      <th>0</th>\n",
       "      <td>[40.50, 43.50)</td>\n",
       "      <td>-</td>\n",
       "      <td>[ Assoc-acdm,  Assoc-voc]</td>\n",
       "      <td>[ Married-AF-spouse,  Married-civ-spouse]</td>\n",
       "      <td>-</td>\n",
       "      <td>-</td>\n",
       "      <td>-</td>\n",
       "      <td>[41.50, 49.50)</td>\n",
       "      <td>0.529430</td>\n",
       "    </tr>\n",
       "    <tr>\n",
       "      <th>0</th>\n",
       "      <td>[49.50, 54.50)</td>\n",
       "      <td>-</td>\n",
       "      <td>[ Masters,  Prof-school,  Doctorate]</td>\n",
       "      <td>[ Married-spouse-absent,  Widowed,  Divorced]</td>\n",
       "      <td>[ Tech-support,  Protective-serv,  Prof-specia...</td>\n",
       "      <td>-</td>\n",
       "      <td>-</td>\n",
       "      <td>-</td>\n",
       "      <td>0.510208</td>\n",
       "    </tr>\n",
       "    <tr>\n",
       "      <th>0</th>\n",
       "      <td>[43.50, 49.50)</td>\n",
       "      <td>-</td>\n",
       "      <td>[ Bachelors]</td>\n",
       "      <td>-</td>\n",
       "      <td>[ Exec-managerial]</td>\n",
       "      <td>-</td>\n",
       "      <td>-</td>\n",
       "      <td>[49.50, 55.50)</td>\n",
       "      <td>0.518267</td>\n",
       "    </tr>\n",
       "  </tbody>\n",
       "</table>\n",
       "</div>"
      ],
      "text/plain": [
       "              age workclass                             education  \\\n",
       "0  [40.50, 43.50)         -             [ Assoc-acdm,  Assoc-voc]   \n",
       "0  [49.50, 54.50)         -  [ Masters,  Prof-school,  Doctorate]   \n",
       "0  [43.50, 49.50)         -                          [ Bachelors]   \n",
       "\n",
       "                                  marital-status  \\\n",
       "0      [ Married-AF-spouse,  Married-civ-spouse]   \n",
       "0  [ Married-spouse-absent,  Widowed,  Divorced]   \n",
       "0                                              -   \n",
       "\n",
       "                                          occupation race sex  hours-per-week  \\\n",
       "0                                                  -    -   -  [41.50, 49.50)   \n",
       "0  [ Tech-support,  Protective-serv,  Prof-specia...    -   -               -   \n",
       "0                                 [ Exec-managerial]    -   -  [49.50, 55.50)   \n",
       "\n",
       "    outcome  \n",
       "0  0.529430  \n",
       "0  0.510208  \n",
       "0  0.518267  "
      ]
     },
     "execution_count": 27,
     "metadata": {},
     "output_type": "execute_result"
    }
   ],
   "source": [
    "cf.generate(query=query, y=1, outcome_type=\"binary\", n_cf=3, max_changes=4,\n",
    "            hard_constraints=[\"diversity_features\", \"diversity_values\"], time_limit=15\n",
    "           ).display(show_only_changes=True, show_outcome=True)"
   ]
  },
  {
   "cell_type": "code",
   "execution_count": 28,
   "metadata": {},
   "outputs": [
    {
     "name": "stdout",
     "output_type": "stream",
     "text": [
      "optbinning (Version 0.11.0)\n",
      "Copyright (c) 2019-2021 Guillermo Navas-Palencia, Apache License 2.0\n",
      "\n",
      "  Status  : OPTIMAL                         \n",
      "\n",
      "  Solver statistics\n",
      "    Type                                 mip\n",
      "    Number of variables                  408\n",
      "    Number of constraints                981\n",
      "    Objective value                  47.7067\n",
      "    Best objective bound             47.7067\n",
      "\n",
      "  Objectives\n",
      "    proximity                        16.0514\n",
      "    closeness                        31.6553\n",
      "\n",
      "  Timing\n",
      "    Total time                         10.91 sec\n",
      "    Fit                                 0.13 sec   (  1.20%)\n",
      "    Solver                             10.76 sec   ( 98.63%)\n",
      "    Post-processing                     0.02 sec   (  0.17%)\n",
      "\n"
     ]
    }
   ],
   "source": [
    "cf.information()"
   ]
  },
  {
   "cell_type": "markdown",
   "metadata": {},
   "source": [
    "#### Generating counterfactual explanations - probability outcome"
   ]
  },
  {
   "cell_type": "markdown",
   "metadata": {},
   "source": [
    "Comment"
   ]
  },
  {
   "cell_type": "code",
   "execution_count": 29,
   "metadata": {},
   "outputs": [],
   "source": [
    "df_query = pd.DataFrame([query],columns=query.keys())"
   ]
  },
  {
   "cell_type": "code",
   "execution_count": 30,
   "metadata": {},
   "outputs": [
    {
     "data": {
      "text/plain": [
       "array([[9.99831890e-01, 1.68109773e-04]])"
      ]
     },
     "execution_count": 30,
     "metadata": {},
     "output_type": "execute_result"
    }
   ],
   "source": [
    "scorecard.predict_proba(df_query)"
   ]
  },
  {
   "cell_type": "markdown",
   "metadata": {},
   "source": [
    "Comment"
   ]
  },
  {
   "cell_type": "code",
   "execution_count": 31,
   "metadata": {},
   "outputs": [
    {
     "data": {
      "text/html": [
       "<div>\n",
       "<style scoped>\n",
       "    .dataframe tbody tr th:only-of-type {\n",
       "        vertical-align: middle;\n",
       "    }\n",
       "\n",
       "    .dataframe tbody tr th {\n",
       "        vertical-align: top;\n",
       "    }\n",
       "\n",
       "    .dataframe thead th {\n",
       "        text-align: right;\n",
       "    }\n",
       "</style>\n",
       "<table border=\"1\" class=\"dataframe\">\n",
       "  <thead>\n",
       "    <tr style=\"text-align: right;\">\n",
       "      <th></th>\n",
       "      <th>age</th>\n",
       "      <th>workclass</th>\n",
       "      <th>education</th>\n",
       "      <th>marital-status</th>\n",
       "      <th>occupation</th>\n",
       "      <th>race</th>\n",
       "      <th>sex</th>\n",
       "      <th>hours-per-week</th>\n",
       "      <th>outcome</th>\n",
       "    </tr>\n",
       "  </thead>\n",
       "  <tbody>\n",
       "    <tr>\n",
       "      <th>0</th>\n",
       "      <td>[23.50, 25.50)</td>\n",
       "      <td>-</td>\n",
       "      <td>[ HS-grad]</td>\n",
       "      <td>-</td>\n",
       "      <td>[ ?,  Armed-Forces,  Farming-fishing]</td>\n",
       "      <td>-</td>\n",
       "      <td>-</td>\n",
       "      <td>[25.50, 34.50)</td>\n",
       "      <td>0.007926</td>\n",
       "    </tr>\n",
       "    <tr>\n",
       "      <th>0</th>\n",
       "      <td>[23.50, 25.50)</td>\n",
       "      <td>-</td>\n",
       "      <td>[ HS-grad]</td>\n",
       "      <td>-</td>\n",
       "      <td>[ ?,  Armed-Forces,  Farming-fishing]</td>\n",
       "      <td>-</td>\n",
       "      <td>-</td>\n",
       "      <td>-</td>\n",
       "      <td>0.007168</td>\n",
       "    </tr>\n",
       "  </tbody>\n",
       "</table>\n",
       "</div>"
      ],
      "text/plain": [
       "              age workclass   education marital-status  \\\n",
       "0  [23.50, 25.50)         -  [ HS-grad]              -   \n",
       "0  [23.50, 25.50)         -  [ HS-grad]              -   \n",
       "\n",
       "                              occupation race sex  hours-per-week   outcome  \n",
       "0  [ ?,  Armed-Forces,  Farming-fishing]    -   -  [25.50, 34.50)  0.007926  \n",
       "0  [ ?,  Armed-Forces,  Farming-fishing]    -   -               -  0.007168  "
      ]
     },
     "execution_count": 31,
     "metadata": {},
     "output_type": "execute_result"
    }
   ],
   "source": [
    "cf.generate(query=df_query, y=0.7, outcome_type=\"probability\", n_cf=2, max_changes=4,\n",
    "            hard_constraints=[\"diversity_features\"],\n",
    "            soft_constraints={\"diff_outcome\": 1},\n",
    "            ).display(show_only_changes=True, show_outcome=True)"
   ]
  },
  {
   "cell_type": "markdown",
   "metadata": {},
   "source": [
    "Comment"
   ]
  },
  {
   "cell_type": "code",
   "execution_count": 32,
   "metadata": {},
   "outputs": [
    {
     "data": {
      "text/html": [
       "<div>\n",
       "<style scoped>\n",
       "    .dataframe tbody tr th:only-of-type {\n",
       "        vertical-align: middle;\n",
       "    }\n",
       "\n",
       "    .dataframe tbody tr th {\n",
       "        vertical-align: top;\n",
       "    }\n",
       "\n",
       "    .dataframe thead th {\n",
       "        text-align: right;\n",
       "    }\n",
       "</style>\n",
       "<table border=\"1\" class=\"dataframe\">\n",
       "  <thead>\n",
       "    <tr style=\"text-align: right;\">\n",
       "      <th></th>\n",
       "      <th>age</th>\n",
       "      <th>workclass</th>\n",
       "      <th>education</th>\n",
       "      <th>marital-status</th>\n",
       "      <th>occupation</th>\n",
       "      <th>race</th>\n",
       "      <th>sex</th>\n",
       "      <th>hours-per-week</th>\n",
       "      <th>outcome</th>\n",
       "    </tr>\n",
       "  </thead>\n",
       "  <tbody>\n",
       "    <tr>\n",
       "      <th>0</th>\n",
       "      <td>[40.50, 43.50)</td>\n",
       "      <td>-</td>\n",
       "      <td>[ Masters,  Prof-school,  Doctorate]</td>\n",
       "      <td>[ Married-AF-spouse,  Married-civ-spouse]</td>\n",
       "      <td>-</td>\n",
       "      <td>-</td>\n",
       "      <td>-</td>\n",
       "      <td>[34.50, 39.50)</td>\n",
       "      <td>0.697510</td>\n",
       "    </tr>\n",
       "    <tr>\n",
       "      <th>0</th>\n",
       "      <td>[43.50, 49.50)</td>\n",
       "      <td>-</td>\n",
       "      <td>[ Masters,  Prof-school,  Doctorate]</td>\n",
       "      <td>[ Married-AF-spouse,  Married-civ-spouse]</td>\n",
       "      <td>[ ?,  Armed-Forces,  Farming-fishing]</td>\n",
       "      <td>-</td>\n",
       "      <td>-</td>\n",
       "      <td>-</td>\n",
       "      <td>0.702461</td>\n",
       "    </tr>\n",
       "  </tbody>\n",
       "</table>\n",
       "</div>"
      ],
      "text/plain": [
       "              age workclass                             education  \\\n",
       "0  [40.50, 43.50)         -  [ Masters,  Prof-school,  Doctorate]   \n",
       "0  [43.50, 49.50)         -  [ Masters,  Prof-school,  Doctorate]   \n",
       "\n",
       "                              marital-status  \\\n",
       "0  [ Married-AF-spouse,  Married-civ-spouse]   \n",
       "0  [ Married-AF-spouse,  Married-civ-spouse]   \n",
       "\n",
       "                              occupation race sex  hours-per-week   outcome  \n",
       "0                                      -    -   -  [34.50, 39.50)  0.697510  \n",
       "0  [ ?,  Armed-Forces,  Farming-fishing]    -   -               -  0.702461  "
      ]
     },
     "execution_count": 32,
     "metadata": {},
     "output_type": "execute_result"
    }
   ],
   "source": [
    "cf.generate(query=df_query, y=0.7, outcome_type=\"probability\", n_cf=2, max_changes=4,\n",
    "            hard_constraints=[\"diversity_features\"],\n",
    "            soft_constraints={\"diff_outcome\": 100}\n",
    "           ).display(show_only_changes=True, show_outcome=True)"
   ]
  },
  {
   "cell_type": "code",
   "execution_count": 33,
   "metadata": {},
   "outputs": [
    {
     "name": "stdout",
     "output_type": "stream",
     "text": [
      "optbinning (Version 0.11.0)\n",
      "Copyright (c) 2019-2021 Guillermo Navas-Palencia, Apache License 2.0\n",
      "\n",
      "  Status  : OPTIMAL                         \n",
      "\n",
      "  Solver statistics\n",
      "    Type                                 mip\n",
      "    Number of variables                  290\n",
      "    Number of constraints                493\n",
      "    Objective value                  32.4569\n",
      "    Best objective bound             32.4569\n",
      "\n",
      "  Objectives\n",
      "    proximity                         9.1380\n",
      "    closeness                        22.6536\n",
      "    diff_outcome                      0.0067\n",
      "\n",
      "  Timing\n",
      "    Total time                          2.12 sec\n",
      "    Fit                                 0.13 sec   (  6.17%)\n",
      "    Solver                              1.98 sec   ( 93.25%)\n",
      "    Post-processing                     0.01 sec   (  0.63%)\n",
      "\n"
     ]
    }
   ],
   "source": [
    "cf.information()"
   ]
  },
  {
   "cell_type": "markdown",
   "metadata": {},
   "source": [
    "Comment"
   ]
  },
  {
   "cell_type": "code",
   "execution_count": 34,
   "metadata": {},
   "outputs": [
    {
     "data": {
      "text/html": [
       "<div>\n",
       "<style scoped>\n",
       "    .dataframe tbody tr th:only-of-type {\n",
       "        vertical-align: middle;\n",
       "    }\n",
       "\n",
       "    .dataframe tbody tr th {\n",
       "        vertical-align: top;\n",
       "    }\n",
       "\n",
       "    .dataframe thead th {\n",
       "        text-align: right;\n",
       "    }\n",
       "</style>\n",
       "<table border=\"1\" class=\"dataframe\">\n",
       "  <thead>\n",
       "    <tr style=\"text-align: right;\">\n",
       "      <th></th>\n",
       "      <th>age</th>\n",
       "      <th>workclass</th>\n",
       "      <th>education</th>\n",
       "      <th>marital-status</th>\n",
       "      <th>occupation</th>\n",
       "      <th>race</th>\n",
       "      <th>sex</th>\n",
       "      <th>hours-per-week</th>\n",
       "      <th>outcome</th>\n",
       "    </tr>\n",
       "  </thead>\n",
       "  <tbody>\n",
       "    <tr>\n",
       "      <th>0</th>\n",
       "      <td>[49.50, 54.50)</td>\n",
       "      <td>-</td>\n",
       "      <td>[ Masters,  Prof-school,  Doctorate]</td>\n",
       "      <td>[ Married-AF-spouse,  Married-civ-spouse]</td>\n",
       "      <td>-</td>\n",
       "      <td>-</td>\n",
       "      <td>-</td>\n",
       "      <td>[34.50, 39.50)</td>\n",
       "      <td>0.733405</td>\n",
       "    </tr>\n",
       "    <tr>\n",
       "      <th>0</th>\n",
       "      <td>[49.50, 54.50)</td>\n",
       "      <td>-</td>\n",
       "      <td>[ Masters,  Prof-school,  Doctorate]</td>\n",
       "      <td>[ Married-AF-spouse,  Married-civ-spouse]</td>\n",
       "      <td>[ ?,  Armed-Forces,  Farming-fishing]</td>\n",
       "      <td>-</td>\n",
       "      <td>-</td>\n",
       "      <td>-</td>\n",
       "      <td>0.715094</td>\n",
       "    </tr>\n",
       "  </tbody>\n",
       "</table>\n",
       "</div>"
      ],
      "text/plain": [
       "              age workclass                             education  \\\n",
       "0  [49.50, 54.50)         -  [ Masters,  Prof-school,  Doctorate]   \n",
       "0  [49.50, 54.50)         -  [ Masters,  Prof-school,  Doctorate]   \n",
       "\n",
       "                              marital-status  \\\n",
       "0  [ Married-AF-spouse,  Married-civ-spouse]   \n",
       "0  [ Married-AF-spouse,  Married-civ-spouse]   \n",
       "\n",
       "                              occupation race sex  hours-per-week   outcome  \n",
       "0                                      -    -   -  [34.50, 39.50)  0.733405  \n",
       "0  [ ?,  Armed-Forces,  Farming-fishing]    -   -               -  0.715094  "
      ]
     },
     "execution_count": 34,
     "metadata": {},
     "output_type": "execute_result"
    }
   ],
   "source": [
    "cf.generate(query=df_query, y=0.7, outcome_type=\"probability\", n_cf=2, max_changes=4,\n",
    "            hard_constraints=[\"diversity_features\", \"min_outcome\"]\n",
    "           ).display(show_only_changes=True, show_outcome=True)"
   ]
  },
  {
   "cell_type": "code",
   "execution_count": 35,
   "metadata": {},
   "outputs": [
    {
     "name": "stdout",
     "output_type": "stream",
     "text": [
      "optbinning (Version 0.11.0)\n",
      "Copyright (c) 2019-2021 Guillermo Navas-Palencia, Apache License 2.0\n",
      "\n",
      "  Status  : OPTIMAL                         \n",
      "\n",
      "  Solver statistics\n",
      "    Type                                 mip\n",
      "    Number of variables                  290\n",
      "    Number of constraints                493\n",
      "    Objective value                  31.7672\n",
      "    Best objective bound             31.7672\n",
      "\n",
      "  Objectives\n",
      "    proximity                         9.2342\n",
      "    closeness                        22.5330\n",
      "\n",
      "  Timing\n",
      "    Total time                          1.39 sec\n",
      "    Fit                                 0.13 sec   (  9.42%)\n",
      "    Solver                              1.25 sec   ( 89.67%)\n",
      "    Post-processing                     0.01 sec   (  1.01%)\n",
      "\n"
     ]
    }
   ],
   "source": [
    "cf.information()"
   ]
  },
  {
   "cell_type": "code",
   "execution_count": 36,
   "metadata": {},
   "outputs": [
    {
     "data": {
      "text/html": [
       "<div>\n",
       "<style scoped>\n",
       "    .dataframe tbody tr th:only-of-type {\n",
       "        vertical-align: middle;\n",
       "    }\n",
       "\n",
       "    .dataframe tbody tr th {\n",
       "        vertical-align: top;\n",
       "    }\n",
       "\n",
       "    .dataframe thead th {\n",
       "        text-align: right;\n",
       "    }\n",
       "</style>\n",
       "<table border=\"1\" class=\"dataframe\">\n",
       "  <thead>\n",
       "    <tr style=\"text-align: right;\">\n",
       "      <th></th>\n",
       "      <th>age</th>\n",
       "      <th>workclass</th>\n",
       "      <th>education</th>\n",
       "      <th>marital-status</th>\n",
       "      <th>occupation</th>\n",
       "      <th>race</th>\n",
       "      <th>sex</th>\n",
       "      <th>hours-per-week</th>\n",
       "      <th>outcome</th>\n",
       "    </tr>\n",
       "  </thead>\n",
       "  <tbody>\n",
       "    <tr>\n",
       "      <th>0</th>\n",
       "      <td>[49.50, 54.50)</td>\n",
       "      <td>-</td>\n",
       "      <td>[ Masters,  Prof-school,  Doctorate]</td>\n",
       "      <td>[ Married-AF-spouse,  Married-civ-spouse]</td>\n",
       "      <td>[ ?,  Armed-Forces,  Farming-fishing]</td>\n",
       "      <td>-</td>\n",
       "      <td>-</td>\n",
       "      <td>-</td>\n",
       "      <td>0.715094</td>\n",
       "    </tr>\n",
       "    <tr>\n",
       "      <th>0</th>\n",
       "      <td>[40.50, 43.50)</td>\n",
       "      <td>-</td>\n",
       "      <td>[ Bachelors]</td>\n",
       "      <td>[ Married-AF-spouse,  Married-civ-spouse]</td>\n",
       "      <td>-</td>\n",
       "      <td>-</td>\n",
       "      <td>-</td>\n",
       "      <td>[49.50, 55.50)</td>\n",
       "      <td>0.718292</td>\n",
       "    </tr>\n",
       "  </tbody>\n",
       "</table>\n",
       "</div>"
      ],
      "text/plain": [
       "              age workclass                             education  \\\n",
       "0  [49.50, 54.50)         -  [ Masters,  Prof-school,  Doctorate]   \n",
       "0  [40.50, 43.50)         -                          [ Bachelors]   \n",
       "\n",
       "                              marital-status  \\\n",
       "0  [ Married-AF-spouse,  Married-civ-spouse]   \n",
       "0  [ Married-AF-spouse,  Married-civ-spouse]   \n",
       "\n",
       "                              occupation race sex  hours-per-week   outcome  \n",
       "0  [ ?,  Armed-Forces,  Farming-fishing]    -   -               -  0.715094  \n",
       "0                                      -    -   -  [49.50, 55.50)  0.718292  "
      ]
     },
     "execution_count": 36,
     "metadata": {},
     "output_type": "execute_result"
    }
   ],
   "source": [
    "cf.generate(query=df_query, y=0.7, outcome_type=\"probability\", n_cf=2,\n",
    "            max_changes=4, method=\"hierarchical\",\n",
    "            objectives={\"proximity\": 2, \"closeness\": 1},\n",
    "            hard_constraints=[\"min_outcome\"],\n",
    "            soft_constraints={\"diversity_features\": 2, \"diversity_values\": 1}\n",
    "           ).display(show_only_changes=True, show_outcome=True)"
   ]
  },
  {
   "cell_type": "code",
   "execution_count": 37,
   "metadata": {},
   "outputs": [
    {
     "name": "stdout",
     "output_type": "stream",
     "text": [
      "optbinning (Version 0.11.0)\n",
      "Copyright (c) 2019-2021 Guillermo Navas-Palencia, Apache License 2.0\n",
      "\n",
      "  Status  : OPTIMAL                         \n",
      "\n",
      "  Solver statistics\n",
      "    Type                                 mip\n",
      "    Number of variables                  296\n",
      "    Number of constraints                498\n",
      "    Objective value                  -6.0000\n",
      "    Best objective bound             -6.0000\n",
      "\n",
      "  Objectives\n",
      "    proximity                         9.9447\n",
      "    diversity_features                2.0000\n",
      "    closeness                        23.7715\n",
      "    diversity_values                  6.0000\n",
      "\n",
      "  Timing\n",
      "    Total time                          3.07 sec\n",
      "    Fit                                 0.13 sec   (  4.26%)\n",
      "    Solver                              2.92 sec   ( 95.33%)\n",
      "    Post-processing                     0.01 sec   (  0.42%)\n",
      "\n"
     ]
    }
   ],
   "source": [
    "cf.information()"
   ]
  },
  {
   "cell_type": "markdown",
   "metadata": {},
   "source": [
    "#### Special and missing bins"
   ]
  },
  {
   "cell_type": "code",
   "execution_count": 38,
   "metadata": {},
   "outputs": [],
   "source": [
    "cf = Counterfactual(scorecard=scorecard, special_missing=True)"
   ]
  },
  {
   "cell_type": "code",
   "execution_count": 39,
   "metadata": {},
   "outputs": [
    {
     "data": {
      "text/plain": [
       "Counterfactual(n_jobs=1,\n",
       "               scorecard=Scorecard(binning_process=BinningProcess(binning_fit_params=None,\n",
       "                                                                  binning_transform_params=None,\n",
       "                                                                  categorical_variables=None,\n",
       "                                                                  max_bin_size=None,\n",
       "                                                                  max_n_bins=None,\n",
       "                                                                  max_n_prebins=20,\n",
       "                                                                  max_pvalue=None,\n",
       "                                                                  max_pvalue_policy='consecutive',\n",
       "                                                                  min_bin_size=None,\n",
       "                                                                  min_n_bins=None,\n",
       "                                                                  min_prebin_size=0.05,\n",
       "                                                                  n_jobs=None,\n",
       "                                                                  selection_criteria=None,\n",
       "                                                                  spec...\n",
       "                                                                intercept_scaling=1,\n",
       "                                                                l1_ratio=None,\n",
       "                                                                max_iter=100,\n",
       "                                                                multi_class='auto',\n",
       "                                                                n_jobs=None,\n",
       "                                                                penalty='l2',\n",
       "                                                                random_state=None,\n",
       "                                                                solver='lbfgs',\n",
       "                                                                tol=0.0001,\n",
       "                                                                verbose=0,\n",
       "                                                                warm_start=False),\n",
       "                                   intercept_based=False,\n",
       "                                   reverse_scorecard=False, rounding=False,\n",
       "                                   scaling_method='min_max',\n",
       "                                   scaling_method_params={'max': 850,\n",
       "                                                          'min': 300},\n",
       "                                   target='income', verbose=False),\n",
       "               special_missing=True, verbose=False)"
      ]
     },
     "execution_count": 39,
     "metadata": {},
     "output_type": "execute_result"
    }
   ],
   "source": [
    "cf.fit(df)"
   ]
  },
  {
   "cell_type": "code",
   "execution_count": 40,
   "metadata": {},
   "outputs": [
    {
     "data": {
      "text/html": [
       "<div>\n",
       "<style scoped>\n",
       "    .dataframe tbody tr th:only-of-type {\n",
       "        vertical-align: middle;\n",
       "    }\n",
       "\n",
       "    .dataframe tbody tr th {\n",
       "        vertical-align: top;\n",
       "    }\n",
       "\n",
       "    .dataframe thead th {\n",
       "        text-align: right;\n",
       "    }\n",
       "</style>\n",
       "<table border=\"1\" class=\"dataframe\">\n",
       "  <thead>\n",
       "    <tr style=\"text-align: right;\">\n",
       "      <th></th>\n",
       "      <th>age</th>\n",
       "      <th>workclass</th>\n",
       "      <th>education</th>\n",
       "      <th>marital-status</th>\n",
       "      <th>occupation</th>\n",
       "      <th>race</th>\n",
       "      <th>sex</th>\n",
       "      <th>hours-per-week</th>\n",
       "    </tr>\n",
       "  </thead>\n",
       "  <tbody>\n",
       "    <tr>\n",
       "      <th>0</th>\n",
       "      <td>[49.50, 54.50)</td>\n",
       "      <td>-</td>\n",
       "      <td>[ Assoc-acdm,  Assoc-voc]</td>\n",
       "      <td>[ Married-AF-spouse,  Married-civ-spouse]</td>\n",
       "      <td>-</td>\n",
       "      <td>-</td>\n",
       "      <td>-</td>\n",
       "      <td>Missing</td>\n",
       "    </tr>\n",
       "  </tbody>\n",
       "</table>\n",
       "</div>"
      ],
      "text/plain": [
       "              age workclass                  education  \\\n",
       "0  [49.50, 54.50)         -  [ Assoc-acdm,  Assoc-voc]   \n",
       "\n",
       "                              marital-status occupation race sex  \\\n",
       "0  [ Married-AF-spouse,  Married-civ-spouse]          -    -   -   \n",
       "\n",
       "  hours-per-week  \n",
       "0        Missing  "
      ]
     },
     "execution_count": 40,
     "metadata": {},
     "output_type": "execute_result"
    }
   ],
   "source": [
    "cf.generate(query=query, y=1, outcome_type=\"binary\", n_cf=1, max_changes=4\n",
    "           ).display(show_only_changes=True)"
   ]
  }
 ],
 "metadata": {
  "kernelspec": {
   "display_name": "Python 3",
   "language": "python",
   "name": "python3"
  },
  "language_info": {
   "codemirror_mode": {
    "name": "ipython",
    "version": 3
   },
   "file_extension": ".py",
   "mimetype": "text/x-python",
   "name": "python",
   "nbconvert_exporter": "python",
   "pygments_lexer": "ipython3",
   "version": "3.7.4"
  }
 },
 "nbformat": 4,
 "nbformat_minor": 2
}
