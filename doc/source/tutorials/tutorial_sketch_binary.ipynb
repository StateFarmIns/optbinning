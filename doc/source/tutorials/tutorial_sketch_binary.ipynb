{
 "cells": [
  {
   "cell_type": "markdown",
   "metadata": {},
   "source": [
    "# Tutorial: optimal binning sketch with binary target"
   ]
  },
  {
   "cell_type": "markdown",
   "metadata": {},
   "source": [
    "## Stream processing"
   ]
  },
  {
   "cell_type": "markdown",
   "metadata": {},
   "source": [
    "To get us started, let's prepare the application_train.csv file from the Kaggle's competition https://www.kaggle.com/c/home-credit-default-risk/data. This dataset will be used to simulate streaming data."
   ]
  },
  {
   "cell_type": "code",
   "execution_count": 1,
   "metadata": {},
   "outputs": [],
   "source": [
    "import pandas as pd"
   ]
  },
  {
   "cell_type": "code",
   "execution_count": 2,
   "metadata": {},
   "outputs": [],
   "source": [
    "filepath = \"data/kaggle/HomeCreditDefaultRisk/application_train.csv\""
   ]
  },
  {
   "cell_type": "markdown",
   "metadata": {},
   "source": [
    "We choose a variable to discretize and the binary target."
   ]
  },
  {
   "cell_type": "code",
   "execution_count": 3,
   "metadata": {},
   "outputs": [],
   "source": [
    "variable = \"EXT_SOURCE_2\"\n",
    "target = \"TARGET\""
   ]
  },
  {
   "cell_type": "markdown",
   "metadata": {},
   "source": [
    "Import and instantiate an ``OptimalBinningSketch`` object class. We pass the variable name, its data type, and a solver, in this case, we choose the constraint programming solver. In addition, we pass the binning sketch type and the desired absolute precision."
   ]
  },
  {
   "cell_type": "code",
   "execution_count": 4,
   "metadata": {},
   "outputs": [],
   "source": [
    "from optbinning import OptimalBinningSketch"
   ]
  },
  {
   "cell_type": "code",
   "execution_count": 5,
   "metadata": {},
   "outputs": [],
   "source": [
    "optbsketch = OptimalBinningSketch(name=variable, dtype=\"numerical\", sketch=\"gk\",\n",
    "                                  eps=1e-4, min_bin_size=0.05, solver=\"cp\")"
   ]
  },
  {
   "cell_type": "markdown",
   "metadata": {},
   "source": [
    "For simulating data streams, we read by chunks the dataset, adding arrays ``x`` and ``y`` of length 1000 to the optimal binning sketch object. If ``chunksize=1``, we would add one single record at a time. Besides, we perform a solve every 10 additions to keep progress of the optimal binning sketch performance."
   ]
  },
  {
   "cell_type": "code",
   "execution_count": 6,
   "metadata": {},
   "outputs": [],
   "source": [
    "chunks = pd.read_csv(filepath_or_buffer=filepath, engine='c', chunksize=1000,\n",
    "                     usecols=[variable, target])\n",
    "\n",
    "for k, chunk in enumerate(chunks):\n",
    "    x = chunk[variable].values\n",
    "    y = chunk[target].values\n",
    "    \n",
    "    optbsketch.add(x, y)\n",
    "    \n",
    "    if k % 10 == 0:\n",
    "        optbsketch.solve()"
   ]
  },
  {
   "cell_type": "code",
   "execution_count": 7,
   "metadata": {},
   "outputs": [
    {
     "data": {
      "text/plain": [
       "OptimalBinningSketch(min_bin_size=0.05, name='EXT_SOURCE_2')"
      ]
     },
     "execution_count": 7,
     "metadata": {},
     "output_type": "execute_result"
    }
   ],
   "source": [
    "optbsketch.solve()"
   ]
  },
  {
   "cell_type": "markdown",
   "metadata": {},
   "source": [
    "You can check if an optimal solution has been found via the ``status`` attribute:"
   ]
  },
  {
   "cell_type": "code",
   "execution_count": 8,
   "metadata": {},
   "outputs": [
    {
     "data": {
      "text/plain": [
       "'OPTIMAL'"
      ]
     },
     "execution_count": 8,
     "metadata": {},
     "output_type": "execute_result"
    }
   ],
   "source": [
    "optbsketch.status"
   ]
  },
  {
   "cell_type": "markdown",
   "metadata": {},
   "source": [
    "You can also retrieve the optimal split points via the ``splits`` attribute:"
   ]
  },
  {
   "cell_type": "code",
   "execution_count": 9,
   "metadata": {},
   "outputs": [
    {
     "data": {
      "text/plain": [
       "array([0.21604822, 0.33976279, 0.39249913, 0.47915776, 0.56599903,\n",
       "       0.60839573, 0.64593877, 0.68204983, 0.72210817])"
      ]
     },
     "execution_count": 9,
     "metadata": {},
     "output_type": "execute_result"
    }
   ],
   "source": [
    "optbsketch.splits"
   ]
  },
  {
   "cell_type": "markdown",
   "metadata": {},
   "source": [
    "As in other binning classes in this library, method ``information`` is available to display overview information. This includes streaming statistics and timings such as the time spent in additions and solves, or the memory usage of the internal binning sketch. Note that the total time migth be significantly higher due to the time spent by pandas reading the CSV file. The remaining information is corresponding to the last solution."
   ]
  },
  {
   "cell_type": "code",
   "execution_count": 10,
   "metadata": {},
   "outputs": [
    {
     "name": "stdout",
     "output_type": "stream",
     "text": [
      "optbinning (Version 0.17.0)\n",
      "Copyright (c) 2019-2022 Guillermo Navas-Palencia, Apache License 2.0\n",
      "\n",
      "  Begin options\n",
      "    name                        EXT_SOURCE_2   * U\n",
      "    dtype                          numerical   * d\n",
      "    sketch                                gk   * d\n",
      "    eps                               0.0001   * d\n",
      "    K                                     25   * d\n",
      "    solver                                cp   * d\n",
      "    divergence                            iv   * d\n",
      "    max_n_prebins                         20   * d\n",
      "    min_n_bins                            no   * d\n",
      "    max_n_bins                            no   * d\n",
      "    min_bin_size                        0.05   * U\n",
      "    max_bin_size                          no   * d\n",
      "    min_bin_n_nonevent                    no   * d\n",
      "    max_bin_n_nonevent                    no   * d\n",
      "    min_bin_n_event                       no   * d\n",
      "    max_bin_n_event                       no   * d\n",
      "    monotonic_trend                     auto   * d\n",
      "    min_event_rate_diff                    0   * d\n",
      "    max_pvalue                            no   * d\n",
      "    max_pvalue_policy            consecutive   * d\n",
      "    gamma                                  0   * d\n",
      "    cat_cutoff                            no   * d\n",
      "    cat_heuristic                      False   * d\n",
      "    special_codes                         no   * d\n",
      "    split_digits                          no   * d\n",
      "    mip_solver                           bop   * d\n",
      "    time_limit                           100   * d\n",
      "    verbose                            False   * d\n",
      "  End options\n",
      "\n",
      "  Name    : EXT_SOURCE_2                    \n",
      "  Status  : OPTIMAL                         \n",
      "\n",
      "  Pre-binning statistics\n",
      "    Number of pre-bins                    20\n",
      "    Number of refinements                  0\n",
      "\n",
      "  Solver statistics\n",
      "    Type                                  cp\n",
      "    Number of booleans                   142\n",
      "    Number of branches                   297\n",
      "    Number of conflicts                    1\n",
      "    Objective value                   307348\n",
      "    Best objective bound              307348\n",
      "\n",
      "  Timing\n",
      "    Total time                          0.41 sec\n",
      "    Pre-binning                         0.15 sec   ( 36.58%)\n",
      "    Solver                              0.26 sec   ( 63.29%)\n",
      "      model generation                  0.22 sec   ( 84.53%)\n",
      "      optimizer                         0.04 sec   ( 15.47%)\n",
      "    Post-processing                     0.00 sec   (  0.02%)\n",
      "\n",
      "  Streaming statistics\n",
      "    Sketch memory usage              4.25709 MB\n",
      "    Processed records                 307511\n",
      "    Add operations                       308\n",
      "    Solve operations                      32\n",
      "\n",
      "  Streaming timing\n",
      "    Time add                            1.36 sec   (0.0044 sec / add)\n",
      "    Time solve                         14.91 sec   (0.4658 sec / solve)\n",
      "\n"
     ]
    }
   ],
   "source": [
    "optbsketch.information(print_level=2)"
   ]
  },
  {
   "cell_type": "markdown",
   "metadata": {},
   "source": [
    "Since we have performed several solves throughout the process, we can observe the performance progress using method  ``plot_progress``. Observe the convergence and reduction of the standard error as new data is added."
   ]
  },
  {
   "cell_type": "code",
   "execution_count": 11,
   "metadata": {},
   "outputs": [
    {
     "data": {
      "image/png": "[encoded data removed]",
      "text/plain": [
       "<Figure size 432x288 with 1 Axes>"
      ]
     },
     "metadata": {
      "needs_background": "light"
     },
     "output_type": "display_data"
    }
   ],
   "source": [
    "optbsketch.plot_progress()"
   ]
  },
  {
   "cell_type": "markdown",
   "metadata": {},
   "source": [
    "##### The binning table"
   ]
  },
  {
   "cell_type": "markdown",
   "metadata": {},
   "source": [
    "The optimal binning algorithms return a binning table; a binning table displays the binned data and several metrics for each bin. Class ``OptimalBinningSketch`` returns an object ``BinningTable`` via the ``binning_table`` attribute."
   ]
  },
  {
   "cell_type": "code",
   "execution_count": 12,
   "metadata": {},
   "outputs": [
    {
     "data": {
      "text/html": [
       "<div>\n",
       "<style scoped>\n",
       "    .dataframe tbody tr th:only-of-type {\n",
       "        vertical-align: middle;\n",
       "    }\n",
       "\n",
       "    .dataframe tbody tr th {\n",
       "        vertical-align: top;\n",
       "    }\n",
       "\n",
       "    .dataframe thead th {\n",
       "        text-align: right;\n",
       "    }\n",
       "</style>\n",
       "<table border=\"1\" class=\"dataframe\">\n",
       "  <thead>\n",
       "    <tr style=\"text-align: right;\">\n",
       "      <th></th>\n",
       "      <th>Bin</th>\n",
       "      <th>Count</th>\n",
       "      <th>Count (%)</th>\n",
       "      <th>Non-event</th>\n",
       "      <th>Event</th>\n",
       "      <th>Event rate</th>\n",
       "      <th>WoE</th>\n",
       "      <th>IV</th>\n",
       "      <th>JS</th>\n",
       "    </tr>\n",
       "  </thead>\n",
       "  <tbody>\n",
       "    <tr>\n",
       "      <th>0</th>\n",
       "      <td>(-inf, 0.22)</td>\n",
       "      <td>30728</td>\n",
       "      <td>0.099925</td>\n",
       "      <td>25095</td>\n",
       "      <td>5633</td>\n",
       "      <td>0.183318</td>\n",
       "      <td>-0.938459</td>\n",
       "      <td>0.129634</td>\n",
       "      <td>1.563463e-02</td>\n",
       "    </tr>\n",
       "    <tr>\n",
       "      <th>1</th>\n",
       "      <td>[0.22, 0.34)</td>\n",
       "      <td>30609</td>\n",
       "      <td>0.099538</td>\n",
       "      <td>26905</td>\n",
       "      <td>3704</td>\n",
       "      <td>0.121010</td>\n",
       "      <td>-0.449587</td>\n",
       "      <td>0.024290</td>\n",
       "      <td>3.010977e-03</td>\n",
       "    </tr>\n",
       "    <tr>\n",
       "      <th>2</th>\n",
       "      <td>[0.34, 0.39)</td>\n",
       "      <td>15387</td>\n",
       "      <td>0.050037</td>\n",
       "      <td>13761</td>\n",
       "      <td>1626</td>\n",
       "      <td>0.105674</td>\n",
       "      <td>-0.296770</td>\n",
       "      <td>0.004991</td>\n",
       "      <td>6.216437e-04</td>\n",
       "    </tr>\n",
       "    <tr>\n",
       "      <th>3</th>\n",
       "      <td>[0.39, 0.48)</td>\n",
       "      <td>30719</td>\n",
       "      <td>0.099896</td>\n",
       "      <td>27945</td>\n",
       "      <td>2774</td>\n",
       "      <td>0.090302</td>\n",
       "      <td>-0.122538</td>\n",
       "      <td>0.001579</td>\n",
       "      <td>1.972682e-04</td>\n",
       "    </tr>\n",
       "    <tr>\n",
       "      <th>4</th>\n",
       "      <td>[0.48, 0.57)</td>\n",
       "      <td>46028</td>\n",
       "      <td>0.149679</td>\n",
       "      <td>42524</td>\n",
       "      <td>3504</td>\n",
       "      <td>0.076128</td>\n",
       "      <td>0.063678</td>\n",
       "      <td>0.000591</td>\n",
       "      <td>7.385673e-05</td>\n",
       "    </tr>\n",
       "    <tr>\n",
       "      <th>5</th>\n",
       "      <td>[0.57, 0.61)</td>\n",
       "      <td>30682</td>\n",
       "      <td>0.099775</td>\n",
       "      <td>28642</td>\n",
       "      <td>2040</td>\n",
       "      <td>0.066488</td>\n",
       "      <td>0.209439</td>\n",
       "      <td>0.004010</td>\n",
       "      <td>5.003169e-04</td>\n",
       "    </tr>\n",
       "    <tr>\n",
       "      <th>6</th>\n",
       "      <td>[0.61, 0.65)</td>\n",
       "      <td>30692</td>\n",
       "      <td>0.099808</td>\n",
       "      <td>28898</td>\n",
       "      <td>1794</td>\n",
       "      <td>0.058452</td>\n",
       "      <td>0.346839</td>\n",
       "      <td>0.010392</td>\n",
       "      <td>1.292468e-03</td>\n",
       "    </tr>\n",
       "    <tr>\n",
       "      <th>7</th>\n",
       "      <td>[0.65, 0.68)</td>\n",
       "      <td>30612</td>\n",
       "      <td>0.099548</td>\n",
       "      <td>29116</td>\n",
       "      <td>1496</td>\n",
       "      <td>0.048870</td>\n",
       "      <td>0.536007</td>\n",
       "      <td>0.022907</td>\n",
       "      <td>2.829549e-03</td>\n",
       "    </tr>\n",
       "    <tr>\n",
       "      <th>8</th>\n",
       "      <td>[0.68, 0.72)</td>\n",
       "      <td>30747</td>\n",
       "      <td>0.099987</td>\n",
       "      <td>29458</td>\n",
       "      <td>1289</td>\n",
       "      <td>0.041923</td>\n",
       "      <td>0.696613</td>\n",
       "      <td>0.036422</td>\n",
       "      <td>4.462842e-03</td>\n",
       "    </tr>\n",
       "    <tr>\n",
       "      <th>9</th>\n",
       "      <td>[0.72, inf)</td>\n",
       "      <td>30647</td>\n",
       "      <td>0.099661</td>\n",
       "      <td>29734</td>\n",
       "      <td>913</td>\n",
       "      <td>0.029791</td>\n",
       "      <td>1.050825</td>\n",
       "      <td>0.071883</td>\n",
       "      <td>8.593536e-03</td>\n",
       "    </tr>\n",
       "    <tr>\n",
       "      <th>10</th>\n",
       "      <td>Special</td>\n",
       "      <td>0</td>\n",
       "      <td>0.000000</td>\n",
       "      <td>0</td>\n",
       "      <td>0</td>\n",
       "      <td>0.000000</td>\n",
       "      <td>0.000000</td>\n",
       "      <td>0.000000</td>\n",
       "      <td>0.000000e+00</td>\n",
       "    </tr>\n",
       "    <tr>\n",
       "      <th>11</th>\n",
       "      <td>Missing</td>\n",
       "      <td>660</td>\n",
       "      <td>0.002146</td>\n",
       "      <td>608</td>\n",
       "      <td>52</td>\n",
       "      <td>0.078788</td>\n",
       "      <td>0.026446</td>\n",
       "      <td>0.000001</td>\n",
       "      <td>1.855558e-07</td>\n",
       "    </tr>\n",
       "    <tr>\n",
       "      <th>Totals</th>\n",
       "      <td></td>\n",
       "      <td>307511</td>\n",
       "      <td>1.000000</td>\n",
       "      <td>282686</td>\n",
       "      <td>24825</td>\n",
       "      <td>0.080729</td>\n",
       "      <td></td>\n",
       "      <td>0.306700</td>\n",
       "      <td>3.721727e-02</td>\n",
       "    </tr>\n",
       "  </tbody>\n",
       "</table>\n",
       "</div>"
      ],
      "text/plain": [
       "                 Bin   Count  Count (%)  Non-event  Event  Event rate  \\\n",
       "0       (-inf, 0.22)   30728   0.099925      25095   5633    0.183318   \n",
       "1       [0.22, 0.34)   30609   0.099538      26905   3704    0.121010   \n",
       "2       [0.34, 0.39)   15387   0.050037      13761   1626    0.105674   \n",
       "3       [0.39, 0.48)   30719   0.099896      27945   2774    0.090302   \n",
       "4       [0.48, 0.57)   46028   0.149679      42524   3504    0.076128   \n",
       "5       [0.57, 0.61)   30682   0.099775      28642   2040    0.066488   \n",
       "6       [0.61, 0.65)   30692   0.099808      28898   1794    0.058452   \n",
       "7       [0.65, 0.68)   30612   0.099548      29116   1496    0.048870   \n",
       "8       [0.68, 0.72)   30747   0.099987      29458   1289    0.041923   \n",
       "9        [0.72, inf)   30647   0.099661      29734    913    0.029791   \n",
       "10           Special       0   0.000000          0      0    0.000000   \n",
       "11           Missing     660   0.002146        608     52    0.078788   \n",
       "Totals                307511   1.000000     282686  24825    0.080729   \n",
       "\n",
       "             WoE        IV            JS  \n",
       "0      -0.938459  0.129634  1.563463e-02  \n",
       "1      -0.449587  0.024290  3.010977e-03  \n",
       "2      -0.296770  0.004991  6.216437e-04  \n",
       "3      -0.122538  0.001579  1.972682e-04  \n",
       "4       0.063678  0.000591  7.385673e-05  \n",
       "5       0.209439  0.004010  5.003169e-04  \n",
       "6       0.346839  0.010392  1.292468e-03  \n",
       "7       0.536007  0.022907  2.829549e-03  \n",
       "8       0.696613  0.036422  4.462842e-03  \n",
       "9       1.050825  0.071883  8.593536e-03  \n",
       "10      0.000000  0.000000  0.000000e+00  \n",
       "11      0.026446  0.000001  1.855558e-07  \n",
       "Totals            0.306700  3.721727e-02  "
      ]
     },
     "execution_count": 12,
     "metadata": {},
     "output_type": "execute_result"
    }
   ],
   "source": [
    "optbsketch.binning_table.build()"
   ]
  },
  {
   "cell_type": "markdown",
   "metadata": {},
   "source": [
    "You can use the method ``plot`` to visualize the histogram and WoE or event rate curve. Note that the Bin ID corresponds to the binning table index."
   ]
  },
  {
   "cell_type": "code",
   "execution_count": 13,
   "metadata": {},
   "outputs": [
    {
     "data": {
      "image/png": "[encoded data removed]",
      "text/plain": [
       "<Figure size 432x288 with 2 Axes>"
      ]
     },
     "metadata": {
      "needs_background": "light"
     },
     "output_type": "display_data"
    }
   ],
   "source": [
    "optbsketch.binning_table.plot(metric=\"woe\")"
   ]
  },
  {
   "cell_type": "code",
   "execution_count": 14,
   "metadata": {},
   "outputs": [
    {
     "data": {
      "image/png": "[encoded data removed]",
      "text/plain": [
       "<Figure size 432x288 with 2 Axes>"
      ]
     },
     "metadata": {
      "needs_background": "light"
     },
     "output_type": "display_data"
    }
   ],
   "source": [
    "optbsketch.binning_table.plot(metric=\"event_rate\")"
   ]
  },
  {
   "cell_type": "markdown",
   "metadata": {},
   "source": [
    "##### Event rate / WoE transformation"
   ]
  },
  {
   "cell_type": "markdown",
   "metadata": {},
   "source": [
    "Now that we have checked the binned data, we can transform our original data into WoE or event rate values. You can check the correctness of the transformation using pandas ``value_counts`` method, for instance. The ``transform`` method is handy to transform streaming data with the current binning sketch or after the fitting of the binning sketch has been completed."
   ]
  },
  {
   "cell_type": "code",
   "execution_count": 15,
   "metadata": {},
   "outputs": [],
   "source": [
    "x = [0.2, 0.31, 0.21, 0.12, 0.16, 0.41, 0.65, 0.8]"
   ]
  },
  {
   "cell_type": "code",
   "execution_count": 16,
   "metadata": {},
   "outputs": [],
   "source": [
    "x_transform_woe = optbsketch.transform(x, metric=\"woe\")"
   ]
  },
  {
   "cell_type": "code",
   "execution_count": 17,
   "metadata": {},
   "outputs": [
    {
     "data": {
      "text/plain": [
       "-0.938459    4\n",
       "-0.449587    1\n",
       "-0.122538    1\n",
       " 1.050825    1\n",
       " 0.536007    1\n",
       "dtype: int64"
      ]
     },
     "execution_count": 17,
     "metadata": {},
     "output_type": "execute_result"
    }
   ],
   "source": [
    "pd.Series(x_transform_woe).value_counts()"
   ]
  },
  {
   "cell_type": "code",
   "execution_count": 18,
   "metadata": {},
   "outputs": [],
   "source": [
    "x_transform_event_rate = optbsketch.transform(x, metric=\"event_rate\")"
   ]
  },
  {
   "cell_type": "code",
   "execution_count": 19,
   "metadata": {},
   "outputs": [
    {
     "data": {
      "text/plain": [
       "0.183318    4\n",
       "0.090302    1\n",
       "0.048870    1\n",
       "0.121010    1\n",
       "0.029791    1\n",
       "dtype: int64"
      ]
     },
     "execution_count": 19,
     "metadata": {},
     "output_type": "execute_result"
    }
   ],
   "source": [
    "pd.Series(x_transform_event_rate).value_counts()"
   ]
  },
  {
   "cell_type": "code",
   "execution_count": 20,
   "metadata": {},
   "outputs": [],
   "source": [
    "x_transform_indices = optbsketch.transform(x, metric=\"indices\")"
   ]
  },
  {
   "cell_type": "code",
   "execution_count": 21,
   "metadata": {},
   "outputs": [
    {
     "data": {
      "text/plain": [
       "0    4\n",
       "1    1\n",
       "3    1\n",
       "9    1\n",
       "7    1\n",
       "dtype: int64"
      ]
     },
     "execution_count": 21,
     "metadata": {},
     "output_type": "execute_result"
    }
   ],
   "source": [
    "pd.Series(x_transform_indices).value_counts()"
   ]
  },
  {
   "cell_type": "code",
   "execution_count": 22,
   "metadata": {},
   "outputs": [],
   "source": [
    "x_transform_bins = optbsketch.transform(x, metric=\"bins\")"
   ]
  },
  {
   "cell_type": "code",
   "execution_count": 23,
   "metadata": {},
   "outputs": [
    {
     "data": {
      "text/plain": [
       "(-inf, 0.22)    4\n",
       "[0.22, 0.34)    1\n",
       "[0.65, 0.68)    1\n",
       "[0.72, inf)     1\n",
       "[0.39, 0.48)    1\n",
       "dtype: int64"
      ]
     },
     "execution_count": 23,
     "metadata": {},
     "output_type": "execute_result"
    }
   ],
   "source": [
    "pd.Series(x_transform_bins).value_counts()"
   ]
  },
  {
   "cell_type": "markdown",
   "metadata": {},
   "source": [
    "#### Categorical variable"
   ]
  },
  {
   "cell_type": "code",
   "execution_count": 24,
   "metadata": {},
   "outputs": [],
   "source": [
    "variable_cat = \"NAME_INCOME_TYPE\""
   ]
  },
  {
   "cell_type": "markdown",
   "metadata": {},
   "source": [
    "We instantiate an ``OptimalBinningSketch`` object class with the variable name, its data type (**categorical**) and a solver, in this case, we choose the mixed-integer programming solver. Also, for this particular example, we set a ``cat_cutoff=0.1`` to create bin others with categories in which the percentage of occurrences is below 10%. This will merge categories State servant, Unemployed, Student, Businessman and Maternity leave."
   ]
  },
  {
   "cell_type": "code",
   "execution_count": 25,
   "metadata": {},
   "outputs": [],
   "source": [
    "optbsketch = OptimalBinningSketch(name=variable_cat, dtype=\"categorical\", solver=\"mip\",\n",
    "                                  min_bin_size=0.05, cat_cutoff=0.1)"
   ]
  },
  {
   "cell_type": "markdown",
   "metadata": {},
   "source": [
    "Similar to the previous case, we simulate streaming data and perform several solves throughout the process."
   ]
  },
  {
   "cell_type": "code",
   "execution_count": 26,
   "metadata": {},
   "outputs": [],
   "source": [
    "chunks = pd.read_csv(filepath_or_buffer=filepath, engine='c', chunksize=100,\n",
    "                     usecols=[variable_cat, target])\n",
    "\n",
    "for k, chunk in enumerate(chunks):\n",
    "    x = chunk[variable_cat].values\n",
    "    y = chunk[target].values\n",
    "    \n",
    "    optbsketch.add(x, y)\n",
    "    \n",
    "    if k % 100 == 0:\n",
    "        optbsketch.solve()"
   ]
  },
  {
   "cell_type": "code",
   "execution_count": 27,
   "metadata": {},
   "outputs": [
    {
     "data": {
      "text/plain": [
       "OptimalBinningSketch(cat_cutoff=0.1, dtype='categorical', min_bin_size=0.05,\n",
       "                     name='NAME_INCOME_TYPE', solver='mip')"
      ]
     },
     "execution_count": 27,
     "metadata": {},
     "output_type": "execute_result"
    }
   ],
   "source": [
    "optbsketch.solve()"
   ]
  },
  {
   "cell_type": "code",
   "execution_count": 28,
   "metadata": {},
   "outputs": [
    {
     "data": {
      "text/plain": [
       "'OPTIMAL'"
      ]
     },
     "execution_count": 28,
     "metadata": {},
     "output_type": "execute_result"
    }
   ],
   "source": [
    "optbsketch.status"
   ]
  },
  {
   "cell_type": "markdown",
   "metadata": {},
   "source": [
    "The optimal split points are the list of classes belonging to each bin."
   ]
  },
  {
   "cell_type": "code",
   "execution_count": 29,
   "metadata": {},
   "outputs": [
    {
     "data": {
      "text/plain": [
       "[array(['Pensioner'], dtype=object),\n",
       " array(['Commercial associate'], dtype=object),\n",
       " array(['Working'], dtype=object),\n",
       " array(['State servant', 'Unemployed', 'Student', 'Businessman',\n",
       "        'Maternity leave'], dtype=object)]"
      ]
     },
     "execution_count": 29,
     "metadata": {},
     "output_type": "execute_result"
    }
   ],
   "source": [
    "optbsketch.splits"
   ]
  },
  {
   "cell_type": "markdown",
   "metadata": {},
   "source": [
    "Note that for categorical data, the time per add and memory usage is significantly reduced."
   ]
  },
  {
   "cell_type": "code",
   "execution_count": 30,
   "metadata": {},
   "outputs": [
    {
     "name": "stdout",
     "output_type": "stream",
     "text": [
      "optbinning (Version 0.17.0)\n",
      "Copyright (c) 2019-2022 Guillermo Navas-Palencia, Apache License 2.0\n",
      "\n",
      "  Begin options\n",
      "    name                     NAME_INCOME_TYPE   * U\n",
      "    dtype                        categorical   * U\n",
      "    sketch                                gk   * d\n",
      "    eps                               0.0001   * d\n",
      "    K                                     25   * d\n",
      "    solver                               mip   * U\n",
      "    divergence                            iv   * d\n",
      "    max_n_prebins                         20   * d\n",
      "    min_n_bins                            no   * d\n",
      "    max_n_bins                            no   * d\n",
      "    min_bin_size                        0.05   * U\n",
      "    max_bin_size                          no   * d\n",
      "    min_bin_n_nonevent                    no   * d\n",
      "    max_bin_n_nonevent                    no   * d\n",
      "    min_bin_n_event                       no   * d\n",
      "    max_bin_n_event                       no   * d\n",
      "    monotonic_trend                     auto   * d\n",
      "    min_event_rate_diff                    0   * d\n",
      "    max_pvalue                            no   * d\n",
      "    max_pvalue_policy            consecutive   * d\n",
      "    gamma                                  0   * d\n",
      "    cat_cutoff                           0.1   * U\n",
      "    cat_heuristic                      False   * d\n",
      "    special_codes                         no   * d\n",
      "    split_digits                          no   * d\n",
      "    mip_solver                           bop   * d\n",
      "    time_limit                           100   * d\n",
      "    verbose                            False   * d\n",
      "  End options\n",
      "\n",
      "  Name    : NAME_INCOME_TYPE                \n",
      "  Status  : OPTIMAL                         \n",
      "\n",
      "  Pre-binning statistics\n",
      "    Number of pre-bins                     3\n",
      "    Number of refinements                  0\n",
      "\n",
      "  Solver statistics\n",
      "    Type                                 mip\n",
      "    Number of variables                   12\n",
      "    Number of constraints                  6\n",
      "    Objective value                   0.0524\n",
      "    Best objective bound              0.0524\n",
      "\n",
      "  Timing\n",
      "    Total time                          0.00 sec\n",
      "    Pre-binning                         0.00 sec   ( 16.25%)\n",
      "    Solver                              0.00 sec   ( 81.27%)\n",
      "    Post-processing                     0.00 sec   (  2.01%)\n",
      "\n",
      "  Streaming statistics\n",
      "    Sketch memory usage              0.00280 MB\n",
      "    Processed records                 307511\n",
      "    Add operations                      3076\n",
      "    Solve operations                      32\n",
      "\n",
      "  Streaming timing\n",
      "    Time add                            0.74 sec   (0.0002 sec / add)\n",
      "    Time solve                          0.13 sec   (0.0041 sec / solve)\n",
      "\n"
     ]
    }
   ],
   "source": [
    "optbsketch.information(print_level=2)"
   ]
  },
  {
   "cell_type": "code",
   "execution_count": 31,
   "metadata": {},
   "outputs": [
    {
     "data": {
      "image/png": "[encoded data removed]",
      "text/plain": [
       "<Figure size 432x288 with 1 Axes>"
      ]
     },
     "metadata": {
      "needs_background": "light"
     },
     "output_type": "display_data"
    }
   ],
   "source": [
    "optbsketch.plot_progress()"
   ]
  },
  {
   "cell_type": "code",
   "execution_count": 32,
   "metadata": {},
   "outputs": [
    {
     "data": {
      "text/html": [
       "<div>\n",
       "<style scoped>\n",
       "    .dataframe tbody tr th:only-of-type {\n",
       "        vertical-align: middle;\n",
       "    }\n",
       "\n",
       "    .dataframe tbody tr th {\n",
       "        vertical-align: top;\n",
       "    }\n",
       "\n",
       "    .dataframe thead th {\n",
       "        text-align: right;\n",
       "    }\n",
       "</style>\n",
       "<table border=\"1\" class=\"dataframe\">\n",
       "  <thead>\n",
       "    <tr style=\"text-align: right;\">\n",
       "      <th></th>\n",
       "      <th>Bin</th>\n",
       "      <th>Count</th>\n",
       "      <th>Count (%)</th>\n",
       "      <th>Non-event</th>\n",
       "      <th>Event</th>\n",
       "      <th>Event rate</th>\n",
       "      <th>WoE</th>\n",
       "      <th>IV</th>\n",
       "      <th>JS</th>\n",
       "    </tr>\n",
       "  </thead>\n",
       "  <tbody>\n",
       "    <tr>\n",
       "      <th>0</th>\n",
       "      <td>[Pensioner]</td>\n",
       "      <td>55362</td>\n",
       "      <td>0.180033</td>\n",
       "      <td>52380</td>\n",
       "      <td>2982</td>\n",
       "      <td>0.053864</td>\n",
       "      <td>0.433445</td>\n",
       "      <td>0.028249</td>\n",
       "      <td>0.003504</td>\n",
       "    </tr>\n",
       "    <tr>\n",
       "      <th>1</th>\n",
       "      <td>[Commercial associate]</td>\n",
       "      <td>71617</td>\n",
       "      <td>0.232892</td>\n",
       "      <td>66257</td>\n",
       "      <td>5360</td>\n",
       "      <td>0.074843</td>\n",
       "      <td>0.082092</td>\n",
       "      <td>0.001516</td>\n",
       "      <td>0.000189</td>\n",
       "    </tr>\n",
       "    <tr>\n",
       "      <th>2</th>\n",
       "      <td>[Working]</td>\n",
       "      <td>158774</td>\n",
       "      <td>0.516320</td>\n",
       "      <td>143550</td>\n",
       "      <td>15224</td>\n",
       "      <td>0.095885</td>\n",
       "      <td>-0.188675</td>\n",
       "      <td>0.019895</td>\n",
       "      <td>0.002483</td>\n",
       "    </tr>\n",
       "    <tr>\n",
       "      <th>3</th>\n",
       "      <td>[State servant, Unemployed, Student, Businessm...</td>\n",
       "      <td>21758</td>\n",
       "      <td>0.070755</td>\n",
       "      <td>20499</td>\n",
       "      <td>1259</td>\n",
       "      <td>0.057864</td>\n",
       "      <td>0.357573</td>\n",
       "      <td>0.007795</td>\n",
       "      <td>0.000969</td>\n",
       "    </tr>\n",
       "    <tr>\n",
       "      <th>4</th>\n",
       "      <td>Special</td>\n",
       "      <td>0</td>\n",
       "      <td>0.000000</td>\n",
       "      <td>0</td>\n",
       "      <td>0</td>\n",
       "      <td>0.000000</td>\n",
       "      <td>0.000000</td>\n",
       "      <td>0.000000</td>\n",
       "      <td>0.000000</td>\n",
       "    </tr>\n",
       "    <tr>\n",
       "      <th>5</th>\n",
       "      <td>Missing</td>\n",
       "      <td>0</td>\n",
       "      <td>0.000000</td>\n",
       "      <td>0</td>\n",
       "      <td>0</td>\n",
       "      <td>0.000000</td>\n",
       "      <td>0.000000</td>\n",
       "      <td>0.000000</td>\n",
       "      <td>0.000000</td>\n",
       "    </tr>\n",
       "    <tr>\n",
       "      <th>Totals</th>\n",
       "      <td></td>\n",
       "      <td>307511</td>\n",
       "      <td>1.000000</td>\n",
       "      <td>282686</td>\n",
       "      <td>24825</td>\n",
       "      <td>0.080729</td>\n",
       "      <td></td>\n",
       "      <td>0.057455</td>\n",
       "      <td>0.007146</td>\n",
       "    </tr>\n",
       "  </tbody>\n",
       "</table>\n",
       "</div>"
      ],
      "text/plain": [
       "                                                      Bin   Count  Count (%)  \\\n",
       "0                                             [Pensioner]   55362   0.180033   \n",
       "1                                  [Commercial associate]   71617   0.232892   \n",
       "2                                               [Working]  158774   0.516320   \n",
       "3       [State servant, Unemployed, Student, Businessm...   21758   0.070755   \n",
       "4                                                 Special       0   0.000000   \n",
       "5                                                 Missing       0   0.000000   \n",
       "Totals                                                     307511   1.000000   \n",
       "\n",
       "        Non-event  Event  Event rate       WoE        IV        JS  \n",
       "0           52380   2982    0.053864  0.433445  0.028249  0.003504  \n",
       "1           66257   5360    0.074843  0.082092  0.001516  0.000189  \n",
       "2          143550  15224    0.095885 -0.188675  0.019895  0.002483  \n",
       "3           20499   1259    0.057864  0.357573  0.007795  0.000969  \n",
       "4               0      0    0.000000  0.000000  0.000000  0.000000  \n",
       "5               0      0    0.000000  0.000000  0.000000  0.000000  \n",
       "Totals     282686  24825    0.080729            0.057455  0.007146  "
      ]
     },
     "execution_count": 32,
     "metadata": {},
     "output_type": "execute_result"
    }
   ],
   "source": [
    "optbsketch.binning_table.build()"
   ]
  },
  {
   "cell_type": "markdown",
   "metadata": {},
   "source": [
    "You can use the method ``plot`` to visualize the histogram and WoE or event rate curve. Note that for categorical variables the optimal bins are **always** monotonically ascending with respect to the event rate. Finally, note that bin 3 corresponds to bin others and is represented by using a lighter color."
   ]
  },
  {
   "cell_type": "code",
   "execution_count": 33,
   "metadata": {},
   "outputs": [
    {
     "data": {
      "image/png": "[encoded data removed]",
      "text/plain": [
       "<Figure size 432x288 with 2 Axes>"
      ]
     },
     "metadata": {
      "needs_background": "light"
     },
     "output_type": "display_data"
    }
   ],
   "source": [
    "optbsketch.binning_table.plot(metric=\"event_rate\")"
   ]
  },
  {
   "cell_type": "markdown",
   "metadata": {},
   "source": [
    "Same as for the numerical dtype, we can transform our original data into WoE or event rate values. Transformation of data including categories not present during training return zero WoE or event rate."
   ]
  },
  {
   "cell_type": "code",
   "execution_count": 34,
   "metadata": {},
   "outputs": [],
   "source": [
    "x_new = [\"Businessman\", \"Working\", \"Unknown\"]"
   ]
  },
  {
   "cell_type": "code",
   "execution_count": 35,
   "metadata": {},
   "outputs": [],
   "source": [
    "x_transform_woe = optbsketch.transform(x_new, metric=\"woe\")"
   ]
  },
  {
   "cell_type": "code",
   "execution_count": 36,
   "metadata": {},
   "outputs": [
    {
     "data": {
      "text/html": [
       "<div>\n",
       "<style scoped>\n",
       "    .dataframe tbody tr th:only-of-type {\n",
       "        vertical-align: middle;\n",
       "    }\n",
       "\n",
       "    .dataframe tbody tr th {\n",
       "        vertical-align: top;\n",
       "    }\n",
       "\n",
       "    .dataframe thead th {\n",
       "        text-align: right;\n",
       "    }\n",
       "</style>\n",
       "<table border=\"1\" class=\"dataframe\">\n",
       "  <thead>\n",
       "    <tr style=\"text-align: right;\">\n",
       "      <th></th>\n",
       "      <th>NAME_INCOME_TYPE</th>\n",
       "      <th>WoE</th>\n",
       "    </tr>\n",
       "  </thead>\n",
       "  <tbody>\n",
       "    <tr>\n",
       "      <th>0</th>\n",
       "      <td>Businessman</td>\n",
       "      <td>0.357573</td>\n",
       "    </tr>\n",
       "    <tr>\n",
       "      <th>1</th>\n",
       "      <td>Working</td>\n",
       "      <td>-0.188675</td>\n",
       "    </tr>\n",
       "    <tr>\n",
       "      <th>2</th>\n",
       "      <td>Unknown</td>\n",
       "      <td>0.000000</td>\n",
       "    </tr>\n",
       "  </tbody>\n",
       "</table>\n",
       "</div>"
      ],
      "text/plain": [
       "  NAME_INCOME_TYPE       WoE\n",
       "0      Businessman  0.357573\n",
       "1          Working -0.188675\n",
       "2          Unknown  0.000000"
      ]
     },
     "execution_count": 36,
     "metadata": {},
     "output_type": "execute_result"
    }
   ],
   "source": [
    "pd.DataFrame({variable_cat: x_new, \"WoE\": x_transform_woe})"
   ]
  },
  {
   "cell_type": "markdown",
   "metadata": {},
   "source": [
    "## Batch processing"
   ]
  },
  {
   "cell_type": "markdown",
   "metadata": {},
   "source": [
    "The new OptimalBinningSketch class permits several new use cases:\n",
    "\n",
    "- **Case 1**: Optimal binning using datasets with the same structure stored on a distributed infrastructure. **No data centralization**.\n",
    "\n",
    "- **Case 2**: Optimal binning for very large datasets that do not fit in memory.\n",
    "\n",
    "- **Case 3**: Optimal binning suitable for **federated learning**. The training data is kept on the device, only the OptimalBinningSketch class is sent to the cloud, where it is merged.\n"
   ]
  },
  {
   "cell_type": "markdown",
   "metadata": {},
   "source": [
    "In this example, we have three partitions of a dataset. For faster columnar access we use parquet"
   ]
  },
  {
   "cell_type": "code",
   "execution_count": 37,
   "metadata": {},
   "outputs": [],
   "source": [
    "filepaths = [\"data/df1.parquet.gzip\",\n",
    "             \"data/df2.parquet.gzip\",\n",
    "             \"data/df3.parquet.gzip\"]"
   ]
  },
  {
   "cell_type": "code",
   "execution_count": 38,
   "metadata": {},
   "outputs": [],
   "source": [
    "variable = \"EXT_SOURCE_3\"\n",
    "target = \"TARGET\""
   ]
  },
  {
   "cell_type": "markdown",
   "metadata": {},
   "source": [
    "We create a simple map-reduce structure"
   ]
  },
  {
   "cell_type": "code",
   "execution_count": 39,
   "metadata": {},
   "outputs": [],
   "source": [
    "from functools import reduce"
   ]
  },
  {
   "cell_type": "code",
   "execution_count": 40,
   "metadata": {},
   "outputs": [],
   "source": [
    "def add(filepath):\n",
    "    df = pd.read_parquet(path=filepath, columns=[variable, target])\n",
    "    x = df[variable].values\n",
    "    y = df[target].values\n",
    "   \n",
    "    optbsketch = OptimalBinningSketch(name=variable, dtype=\"numerical\",\n",
    "                                      sketch=\"gk\", min_bin_size=0.05)\n",
    "    optbsketch.add(x, y)\n",
    "    \n",
    "    return optbsketch\n",
    "    \n",
    "def merge(optbsketch, other_optbsketch):\n",
    "    optbsketch.merge(other_optbsketch)\n",
    "    \n",
    "    return optbsketch\n",
    "\n",
    "\n",
    "optbsketch = reduce(merge, map(add, filepaths))"
   ]
  },
  {
   "cell_type": "code",
   "execution_count": 41,
   "metadata": {},
   "outputs": [
    {
     "data": {
      "text/plain": [
       "OptimalBinningSketch(min_bin_size=0.05, name='EXT_SOURCE_3')"
      ]
     },
     "execution_count": 41,
     "metadata": {},
     "output_type": "execute_result"
    }
   ],
   "source": [
    "optbsketch.solve()"
   ]
  },
  {
   "cell_type": "code",
   "execution_count": 42,
   "metadata": {},
   "outputs": [
    {
     "name": "stdout",
     "output_type": "stream",
     "text": [
      "optbinning (Version 0.17.0)\n",
      "Copyright (c) 2019-2022 Guillermo Navas-Palencia, Apache License 2.0\n",
      "\n",
      "  Name    : EXT_SOURCE_3                    \n",
      "  Status  : OPTIMAL                         \n",
      "\n",
      "  Pre-binning statistics\n",
      "    Number of pre-bins                    20\n",
      "    Number of refinements                  0\n",
      "\n",
      "  Solver statistics\n",
      "    Type                                  cp\n",
      "    Number of booleans                   121\n",
      "    Number of branches                   252\n",
      "    Number of conflicts                    0\n",
      "    Objective value                   411345\n",
      "    Best objective bound              411345\n",
      "\n",
      "  Timing\n",
      "    Total time                          0.68 sec\n",
      "    Pre-binning                         0.43 sec   ( 63.48%)\n",
      "    Solver                              0.25 sec   ( 36.44%)\n",
      "      model generation                  0.21 sec   ( 85.76%)\n",
      "      optimizer                         0.04 sec   ( 14.24%)\n",
      "    Post-processing                     0.00 sec   (  0.01%)\n",
      "\n",
      "  Streaming statistics\n",
      "    Sketch memory usage              9.31202 MB\n",
      "    Processed records                 307511\n",
      "    Add operations                         1\n",
      "    Solve operations                       1\n",
      "\n",
      "  Streaming timing\n",
      "    Time add                            0.48 sec   (0.4758 sec / add)\n",
      "    Time solve                          0.68 sec   (0.6788 sec / solve)\n",
      "\n"
     ]
    }
   ],
   "source": [
    "optbsketch.information()"
   ]
  },
  {
   "cell_type": "code",
   "execution_count": 43,
   "metadata": {},
   "outputs": [
    {
     "data": {
      "text/html": [
       "<div>\n",
       "<style scoped>\n",
       "    .dataframe tbody tr th:only-of-type {\n",
       "        vertical-align: middle;\n",
       "    }\n",
       "\n",
       "    .dataframe tbody tr th {\n",
       "        vertical-align: top;\n",
       "    }\n",
       "\n",
       "    .dataframe thead th {\n",
       "        text-align: right;\n",
       "    }\n",
       "</style>\n",
       "<table border=\"1\" class=\"dataframe\">\n",
       "  <thead>\n",
       "    <tr style=\"text-align: right;\">\n",
       "      <th></th>\n",
       "      <th>Bin</th>\n",
       "      <th>Count</th>\n",
       "      <th>Count (%)</th>\n",
       "      <th>Non-event</th>\n",
       "      <th>Event</th>\n",
       "      <th>Event rate</th>\n",
       "      <th>WoE</th>\n",
       "      <th>IV</th>\n",
       "      <th>JS</th>\n",
       "    </tr>\n",
       "  </thead>\n",
       "  <tbody>\n",
       "    <tr>\n",
       "      <th>0</th>\n",
       "      <td>(-inf, 0.23)</td>\n",
       "      <td>24912</td>\n",
       "      <td>0.081012</td>\n",
       "      <td>19934</td>\n",
       "      <td>4978</td>\n",
       "      <td>0.199823</td>\n",
       "      <td>-1.045087</td>\n",
       "      <td>0.135869</td>\n",
       "      <td>0.016251</td>\n",
       "    </tr>\n",
       "    <tr>\n",
       "      <th>1</th>\n",
       "      <td>[0.23, 0.33)</td>\n",
       "      <td>24475</td>\n",
       "      <td>0.079591</td>\n",
       "      <td>21357</td>\n",
       "      <td>3118</td>\n",
       "      <td>0.127395</td>\n",
       "      <td>-0.508298</td>\n",
       "      <td>0.025440</td>\n",
       "      <td>0.003146</td>\n",
       "    </tr>\n",
       "    <tr>\n",
       "      <th>2</th>\n",
       "      <td>[0.33, 0.41)</td>\n",
       "      <td>25058</td>\n",
       "      <td>0.081487</td>\n",
       "      <td>22675</td>\n",
       "      <td>2383</td>\n",
       "      <td>0.095099</td>\n",
       "      <td>-0.179583</td>\n",
       "      <td>0.002834</td>\n",
       "      <td>0.000354</td>\n",
       "    </tr>\n",
       "    <tr>\n",
       "      <th>3</th>\n",
       "      <td>[0.41, 0.48)</td>\n",
       "      <td>24687</td>\n",
       "      <td>0.080280</td>\n",
       "      <td>22718</td>\n",
       "      <td>1969</td>\n",
       "      <td>0.079759</td>\n",
       "      <td>0.013146</td>\n",
       "      <td>0.000014</td>\n",
       "      <td>0.000002</td>\n",
       "    </tr>\n",
       "    <tr>\n",
       "      <th>4</th>\n",
       "      <td>[0.48, 0.56)</td>\n",
       "      <td>36860</td>\n",
       "      <td>0.119866</td>\n",
       "      <td>34644</td>\n",
       "      <td>2216</td>\n",
       "      <td>0.060119</td>\n",
       "      <td>0.316935</td>\n",
       "      <td>0.010550</td>\n",
       "      <td>0.001313</td>\n",
       "    </tr>\n",
       "    <tr>\n",
       "      <th>5</th>\n",
       "      <td>[0.56, 0.62)</td>\n",
       "      <td>24858</td>\n",
       "      <td>0.080836</td>\n",
       "      <td>23606</td>\n",
       "      <td>1252</td>\n",
       "      <td>0.050366</td>\n",
       "      <td>0.504273</td>\n",
       "      <td>0.016678</td>\n",
       "      <td>0.002063</td>\n",
       "    </tr>\n",
       "    <tr>\n",
       "      <th>6</th>\n",
       "      <td>[0.62, 0.67)</td>\n",
       "      <td>24647</td>\n",
       "      <td>0.080150</td>\n",
       "      <td>23565</td>\n",
       "      <td>1082</td>\n",
       "      <td>0.043900</td>\n",
       "      <td>0.648466</td>\n",
       "      <td>0.025793</td>\n",
       "      <td>0.003169</td>\n",
       "    </tr>\n",
       "    <tr>\n",
       "      <th>7</th>\n",
       "      <td>[0.67, 0.72)</td>\n",
       "      <td>24067</td>\n",
       "      <td>0.078264</td>\n",
       "      <td>23128</td>\n",
       "      <td>939</td>\n",
       "      <td>0.039016</td>\n",
       "      <td>0.771498</td>\n",
       "      <td>0.033939</td>\n",
       "      <td>0.004140</td>\n",
       "    </tr>\n",
       "    <tr>\n",
       "      <th>8</th>\n",
       "      <td>[0.72, inf)</td>\n",
       "      <td>36982</td>\n",
       "      <td>0.120262</td>\n",
       "      <td>35771</td>\n",
       "      <td>1211</td>\n",
       "      <td>0.032746</td>\n",
       "      <td>0.953206</td>\n",
       "      <td>0.074120</td>\n",
       "      <td>0.008929</td>\n",
       "    </tr>\n",
       "    <tr>\n",
       "      <th>9</th>\n",
       "      <td>Special</td>\n",
       "      <td>0</td>\n",
       "      <td>0.000000</td>\n",
       "      <td>0</td>\n",
       "      <td>0</td>\n",
       "      <td>0.000000</td>\n",
       "      <td>0.000000</td>\n",
       "      <td>0.000000</td>\n",
       "      <td>0.000000</td>\n",
       "    </tr>\n",
       "    <tr>\n",
       "      <th>10</th>\n",
       "      <td>Missing</td>\n",
       "      <td>60965</td>\n",
       "      <td>0.198253</td>\n",
       "      <td>55288</td>\n",
       "      <td>5677</td>\n",
       "      <td>0.093119</td>\n",
       "      <td>-0.156353</td>\n",
       "      <td>0.005175</td>\n",
       "      <td>0.000646</td>\n",
       "    </tr>\n",
       "    <tr>\n",
       "      <th>Totals</th>\n",
       "      <td></td>\n",
       "      <td>307511</td>\n",
       "      <td>1.000000</td>\n",
       "      <td>282686</td>\n",
       "      <td>24825</td>\n",
       "      <td>0.080729</td>\n",
       "      <td></td>\n",
       "      <td>0.330411</td>\n",
       "      <td>0.040013</td>\n",
       "    </tr>\n",
       "  </tbody>\n",
       "</table>\n",
       "</div>"
      ],
      "text/plain": [
       "                 Bin   Count  Count (%)  Non-event  Event  Event rate  \\\n",
       "0       (-inf, 0.23)   24912   0.081012      19934   4978    0.199823   \n",
       "1       [0.23, 0.33)   24475   0.079591      21357   3118    0.127395   \n",
       "2       [0.33, 0.41)   25058   0.081487      22675   2383    0.095099   \n",
       "3       [0.41, 0.48)   24687   0.080280      22718   1969    0.079759   \n",
       "4       [0.48, 0.56)   36860   0.119866      34644   2216    0.060119   \n",
       "5       [0.56, 0.62)   24858   0.080836      23606   1252    0.050366   \n",
       "6       [0.62, 0.67)   24647   0.080150      23565   1082    0.043900   \n",
       "7       [0.67, 0.72)   24067   0.078264      23128    939    0.039016   \n",
       "8        [0.72, inf)   36982   0.120262      35771   1211    0.032746   \n",
       "9            Special       0   0.000000          0      0    0.000000   \n",
       "10           Missing   60965   0.198253      55288   5677    0.093119   \n",
       "Totals                307511   1.000000     282686  24825    0.080729   \n",
       "\n",
       "             WoE        IV        JS  \n",
       "0      -1.045087  0.135869  0.016251  \n",
       "1      -0.508298  0.025440  0.003146  \n",
       "2      -0.179583  0.002834  0.000354  \n",
       "3       0.013146  0.000014  0.000002  \n",
       "4       0.316935  0.010550  0.001313  \n",
       "5       0.504273  0.016678  0.002063  \n",
       "6       0.648466  0.025793  0.003169  \n",
       "7       0.771498  0.033939  0.004140  \n",
       "8       0.953206  0.074120  0.008929  \n",
       "9       0.000000  0.000000  0.000000  \n",
       "10     -0.156353  0.005175  0.000646  \n",
       "Totals            0.330411  0.040013  "
      ]
     },
     "execution_count": 43,
     "metadata": {},
     "output_type": "execute_result"
    }
   ],
   "source": [
    "optbsketch.binning_table.build()"
   ]
  },
  {
   "cell_type": "code",
   "execution_count": 44,
   "metadata": {},
   "outputs": [
    {
     "data": {
      "image/png": "[encoded data removed]",
      "text/plain": [
       "<Figure size 432x288 with 2 Axes>"
      ]
     },
     "metadata": {
      "needs_background": "light"
     },
     "output_type": "display_data"
    }
   ],
   "source": [
    "optbsketch.binning_table.plot(metric=\"event_rate\")"
   ]
  },
  {
   "cell_type": "code",
   "execution_count": 45,
   "metadata": {},
   "outputs": [
    {
     "name": "stdout",
     "output_type": "stream",
     "text": [
      "---------------------------------------------\n",
      "OptimalBinning: Binary Binning Table Analysis\n",
      "---------------------------------------------\n",
      "\n",
      "  General metrics\n",
      "\n",
      "    Gini index               0.31382475\n",
      "    IV (Jeffrey)             0.33041081\n",
      "    JS (Jensen-Shannon)      0.04001304\n",
      "    Hellinger                0.04064260\n",
      "    Triangular               0.15533757\n",
      "    KS                       0.19583547\n",
      "    HHI                      0.11320133\n",
      "    HHI (normalized)         0.02452146\n",
      "    Cramer's V               0.18562733\n",
      "    Quality score            0.94042182\n",
      "\n",
      "  Monotonic trend            descending\n",
      "\n",
      "  Significance tests\n",
      "\n",
      "    Bin A  Bin B  t-statistic       p-value  P[A > B]     P[B > A]\n",
      "        0      1   472.532789 9.007791e-105  1.000000 1.110223e-16\n",
      "        1      2   130.812523  2.721311e-30  1.000000 1.110223e-16\n",
      "        2      3    36.659113  1.406997e-09  1.000000 7.681411e-12\n",
      "        3      4    89.982629  2.402603e-21  1.000000 1.110223e-16\n",
      "        4      5    26.629360  2.464697e-07  1.000000 1.861165e-09\n",
      "        5      6    11.518699  6.889960e-04  0.999754 2.460969e-04\n",
      "        6      7     7.303566  6.881789e-03  0.996897 3.102626e-03\n",
      "        7      8    16.870882  4.001068e-05  0.999986 1.404877e-05\n",
      "\n"
     ]
    }
   ],
   "source": [
    "optbsketch.binning_table.analysis()"
   ]
  }
 ],
 "metadata": {
  "kernelspec": {
   "display_name": "Python 3",
   "language": "python",
   "name": "python3"
  },
  "language_info": {
   "codemirror_mode": {
    "name": "ipython",
    "version": 3
   },
   "file_extension": ".py",
   "mimetype": "text/x-python",
   "name": "python",
   "nbconvert_exporter": "python",
   "pygments_lexer": "ipython3",
   "version": "3.7.4"
  }
 },
 "nbformat": 4,
 "nbformat_minor": 2
}
