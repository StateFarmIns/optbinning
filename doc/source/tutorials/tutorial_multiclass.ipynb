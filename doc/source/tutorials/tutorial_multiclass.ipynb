{
 "cells": [
  {
   "cell_type": "markdown",
   "metadata": {},
   "source": [
    "# Tutorial: optimal binning with multiclass target"
   ]
  },
  {
   "cell_type": "markdown",
   "metadata": {},
   "source": [
    "## Basic"
   ]
  },
  {
   "cell_type": "markdown",
   "metadata": {},
   "source": [
    "To get us started, let's load a well-known dataset from the UCI repository and transform the data into a ``pandas.DataFrame``."
   ]
  },
  {
   "cell_type": "code",
   "execution_count": 1,
   "metadata": {},
   "outputs": [],
   "source": [
    "import pandas as pd\n",
    "from sklearn.datasets import load_wine"
   ]
  },
  {
   "cell_type": "code",
   "execution_count": 2,
   "metadata": {},
   "outputs": [],
   "source": [
    "data = load_wine()\n",
    "df = pd.DataFrame(data.data, columns=data.feature_names)"
   ]
  },
  {
   "cell_type": "markdown",
   "metadata": {},
   "source": [
    "We choose a variable to discretize and the multiclass target."
   ]
  },
  {
   "cell_type": "code",
   "execution_count": 3,
   "metadata": {},
   "outputs": [],
   "source": [
    "variable = \"ash\"\n",
    "x = df[variable].values\n",
    "y = data.target"
   ]
  },
  {
   "cell_type": "markdown",
   "metadata": {},
   "source": [
    "Import and instantiate an ``MulticlassOptimalBinning`` object class. We pass the variable name  and a solver, in this case, we choose the constraint programming solver."
   ]
  },
  {
   "cell_type": "code",
   "execution_count": 4,
   "metadata": {},
   "outputs": [],
   "source": [
    "from optbinning import MulticlassOptimalBinning"
   ]
  },
  {
   "cell_type": "code",
   "execution_count": 5,
   "metadata": {},
   "outputs": [],
   "source": [
    "optb = MulticlassOptimalBinning(name=variable, solver=\"cp\")"
   ]
  },
  {
   "cell_type": "markdown",
   "metadata": {},
   "source": [
    "We fit the optimal binning object with arrays ``x`` and ``y``."
   ]
  },
  {
   "cell_type": "code",
   "execution_count": 6,
   "metadata": {
    "scrolled": false
   },
   "outputs": [
    {
     "data": {
      "text/plain": [
       "MulticlassOptimalBinning(name='ash')"
      ]
     },
     "execution_count": 6,
     "metadata": {},
     "output_type": "execute_result"
    }
   ],
   "source": [
    "optb.fit(x, y)"
   ]
  },
  {
   "cell_type": "markdown",
   "metadata": {},
   "source": [
    "You can check if an optimal solution has been found via the ``status`` attribute:"
   ]
  },
  {
   "cell_type": "code",
   "execution_count": 7,
   "metadata": {},
   "outputs": [
    {
     "data": {
      "text/plain": [
       "'OPTIMAL'"
      ]
     },
     "execution_count": 7,
     "metadata": {},
     "output_type": "execute_result"
    }
   ],
   "source": [
    "optb.status"
   ]
  },
  {
   "cell_type": "markdown",
   "metadata": {},
   "source": [
    "You can also retrieve the optimal split points via the ``splits`` attribute:"
   ]
  },
  {
   "cell_type": "code",
   "execution_count": 8,
   "metadata": {},
   "outputs": [
    {
     "data": {
      "text/plain": [
       "array([2.1450001 , 2.245     , 2.31499994, 2.6049999 , 2.6450001 ])"
      ]
     },
     "execution_count": 8,
     "metadata": {},
     "output_type": "execute_result"
    }
   ],
   "source": [
    "optb.splits"
   ]
  },
  {
   "cell_type": "markdown",
   "metadata": {},
   "source": [
    "#### The binning table"
   ]
  },
  {
   "cell_type": "markdown",
   "metadata": {},
   "source": [
    "The optimal binning algorithms return a binning table; a binning table displays the binned data and several metrics for each bin. Class ``OptimalBinning`` returns an object ``MulticlassBinningTable`` via the ``binning_table`` attribute."
   ]
  },
  {
   "cell_type": "code",
   "execution_count": 9,
   "metadata": {},
   "outputs": [],
   "source": [
    "binning_table = optb.binning_table"
   ]
  },
  {
   "cell_type": "code",
   "execution_count": 10,
   "metadata": {},
   "outputs": [
    {
     "data": {
      "text/plain": [
       "optbinning.binning.binning_statistics.MulticlassBinningTable"
      ]
     },
     "execution_count": 10,
     "metadata": {},
     "output_type": "execute_result"
    }
   ],
   "source": [
    "type(binning_table)"
   ]
  },
  {
   "cell_type": "markdown",
   "metadata": {},
   "source": [
    "The `binning_table` is instantiated, but not built. Therefore, the first step is to call the method `build`, which returns a ``pandas.DataFrame``."
   ]
  },
  {
   "cell_type": "code",
   "execution_count": 11,
   "metadata": {},
   "outputs": [
    {
     "data": {
      "text/html": [
       "<div>\n",
       "<style scoped>\n",
       "    .dataframe tbody tr th:only-of-type {\n",
       "        vertical-align: middle;\n",
       "    }\n",
       "\n",
       "    .dataframe tbody tr th {\n",
       "        vertical-align: top;\n",
       "    }\n",
       "\n",
       "    .dataframe thead th {\n",
       "        text-align: right;\n",
       "    }\n",
       "</style>\n",
       "<table border=\"1\" class=\"dataframe\">\n",
       "  <thead>\n",
       "    <tr style=\"text-align: right;\">\n",
       "      <th></th>\n",
       "      <th>Bin</th>\n",
       "      <th>Count</th>\n",
       "      <th>Count (%)</th>\n",
       "      <th>Event_0</th>\n",
       "      <th>Event_1</th>\n",
       "      <th>Event_2</th>\n",
       "      <th>Event_rate_0</th>\n",
       "      <th>Event_rate_1</th>\n",
       "      <th>Event_rate_2</th>\n",
       "    </tr>\n",
       "  </thead>\n",
       "  <tbody>\n",
       "    <tr>\n",
       "      <th>0</th>\n",
       "      <td>(-inf, 2.15)</td>\n",
       "      <td>31</td>\n",
       "      <td>0.174157</td>\n",
       "      <td>7</td>\n",
       "      <td>23</td>\n",
       "      <td>1</td>\n",
       "      <td>0.225806</td>\n",
       "      <td>0.741935</td>\n",
       "      <td>0.032258</td>\n",
       "    </tr>\n",
       "    <tr>\n",
       "      <th>1</th>\n",
       "      <td>[2.15, 2.25)</td>\n",
       "      <td>20</td>\n",
       "      <td>0.112360</td>\n",
       "      <td>2</td>\n",
       "      <td>13</td>\n",
       "      <td>5</td>\n",
       "      <td>0.100000</td>\n",
       "      <td>0.650000</td>\n",
       "      <td>0.250000</td>\n",
       "    </tr>\n",
       "    <tr>\n",
       "      <th>2</th>\n",
       "      <td>[2.25, 2.31)</td>\n",
       "      <td>26</td>\n",
       "      <td>0.146067</td>\n",
       "      <td>9</td>\n",
       "      <td>10</td>\n",
       "      <td>7</td>\n",
       "      <td>0.346154</td>\n",
       "      <td>0.384615</td>\n",
       "      <td>0.269231</td>\n",
       "    </tr>\n",
       "    <tr>\n",
       "      <th>3</th>\n",
       "      <td>[2.31, 2.60)</td>\n",
       "      <td>64</td>\n",
       "      <td>0.359551</td>\n",
       "      <td>24</td>\n",
       "      <td>17</td>\n",
       "      <td>23</td>\n",
       "      <td>0.375000</td>\n",
       "      <td>0.265625</td>\n",
       "      <td>0.359375</td>\n",
       "    </tr>\n",
       "    <tr>\n",
       "      <th>4</th>\n",
       "      <td>[2.60, 2.65)</td>\n",
       "      <td>10</td>\n",
       "      <td>0.056180</td>\n",
       "      <td>4</td>\n",
       "      <td>1</td>\n",
       "      <td>5</td>\n",
       "      <td>0.400000</td>\n",
       "      <td>0.100000</td>\n",
       "      <td>0.500000</td>\n",
       "    </tr>\n",
       "    <tr>\n",
       "      <th>5</th>\n",
       "      <td>[2.65, inf)</td>\n",
       "      <td>27</td>\n",
       "      <td>0.151685</td>\n",
       "      <td>13</td>\n",
       "      <td>7</td>\n",
       "      <td>7</td>\n",
       "      <td>0.481481</td>\n",
       "      <td>0.259259</td>\n",
       "      <td>0.259259</td>\n",
       "    </tr>\n",
       "    <tr>\n",
       "      <th>6</th>\n",
       "      <td>Special</td>\n",
       "      <td>0</td>\n",
       "      <td>0.000000</td>\n",
       "      <td>0</td>\n",
       "      <td>0</td>\n",
       "      <td>0</td>\n",
       "      <td>0.000000</td>\n",
       "      <td>0.000000</td>\n",
       "      <td>0.000000</td>\n",
       "    </tr>\n",
       "    <tr>\n",
       "      <th>7</th>\n",
       "      <td>Missing</td>\n",
       "      <td>0</td>\n",
       "      <td>0.000000</td>\n",
       "      <td>0</td>\n",
       "      <td>0</td>\n",
       "      <td>0</td>\n",
       "      <td>0.000000</td>\n",
       "      <td>0.000000</td>\n",
       "      <td>0.000000</td>\n",
       "    </tr>\n",
       "    <tr>\n",
       "      <th>Totals</th>\n",
       "      <td></td>\n",
       "      <td>178</td>\n",
       "      <td>1.000000</td>\n",
       "      <td>59</td>\n",
       "      <td>71</td>\n",
       "      <td>48</td>\n",
       "      <td>0.331461</td>\n",
       "      <td>0.398876</td>\n",
       "      <td>0.269663</td>\n",
       "    </tr>\n",
       "  </tbody>\n",
       "</table>\n",
       "</div>"
      ],
      "text/plain": [
       "                 Bin  Count  Count (%)  Event_0  Event_1  Event_2  \\\n",
       "0       (-inf, 2.15)     31   0.174157        7       23        1   \n",
       "1       [2.15, 2.25)     20   0.112360        2       13        5   \n",
       "2       [2.25, 2.31)     26   0.146067        9       10        7   \n",
       "3       [2.31, 2.60)     64   0.359551       24       17       23   \n",
       "4       [2.60, 2.65)     10   0.056180        4        1        5   \n",
       "5        [2.65, inf)     27   0.151685       13        7        7   \n",
       "6            Special      0   0.000000        0        0        0   \n",
       "7            Missing      0   0.000000        0        0        0   \n",
       "Totals                  178   1.000000       59       71       48   \n",
       "\n",
       "        Event_rate_0  Event_rate_1  Event_rate_2  \n",
       "0           0.225806      0.741935      0.032258  \n",
       "1           0.100000      0.650000      0.250000  \n",
       "2           0.346154      0.384615      0.269231  \n",
       "3           0.375000      0.265625      0.359375  \n",
       "4           0.400000      0.100000      0.500000  \n",
       "5           0.481481      0.259259      0.259259  \n",
       "6           0.000000      0.000000      0.000000  \n",
       "7           0.000000      0.000000      0.000000  \n",
       "Totals      0.331461      0.398876      0.269663  "
      ]
     },
     "execution_count": 11,
     "metadata": {},
     "output_type": "execute_result"
    }
   ],
   "source": [
    "binning_table.build()"
   ]
  },
  {
   "cell_type": "markdown",
   "metadata": {},
   "source": [
    "Let's describe the columns of this binning table:\n",
    "\n",
    "- Bin: the intervals delimited by the optimal split points.\n",
    "- Count: the number of records for each bin.\n",
    "- Count (%): the percentage of records for each bin.\n",
    "- Event: the number of event records $(y = class)$ for each bin.\n",
    "- Event rate: the percentage of event records for each bin. This is computed using one-vs-all or one-vs-rest approach.\n",
    "\n",
    "The last row shows the total number of records, event records, and event rates."
   ]
  },
  {
   "cell_type": "markdown",
   "metadata": {},
   "source": [
    "You can use the method ``plot`` to visualize the histogram and event rate curve. Note that the Bin ID corresponds to the binning table index."
   ]
  },
  {
   "cell_type": "code",
   "execution_count": 12,
   "metadata": {},
   "outputs": [
    {
     "data": {
      "image/png": "[encoded data removed]",
      "text/plain": [
       "<Figure size 432x288 with 2 Axes>"
      ]
     },
     "metadata": {
      "needs_background": "light"
     },
     "output_type": "display_data"
    }
   ],
   "source": [
    "binning_table.plot()"
   ]
  },
  {
   "cell_type": "markdown",
   "metadata": {},
   "source": [
    "##### Transformation"
   ]
  },
  {
   "cell_type": "markdown",
   "metadata": {},
   "source": [
    "Now that we have checked the binned data, we can transform our original data into a measure based on the one-vs-rest WoE metric. You can check the correctness of the transformation using pandas ``value_counts`` method, for instance."
   ]
  },
  {
   "cell_type": "code",
   "execution_count": 13,
   "metadata": {
    "scrolled": true
   },
   "outputs": [],
   "source": [
    "x_transform_woe = optb.transform(x, metric=\"bins\")"
   ]
  },
  {
   "cell_type": "code",
   "execution_count": 14,
   "metadata": {},
   "outputs": [
    {
     "data": {
      "text/plain": [
       "[2.31, 2.60)    64\n",
       "(-inf, 2.15)    31\n",
       "[2.65, inf)     27\n",
       "[2.25, 2.31)    26\n",
       "[2.15, 2.25)    20\n",
       "[2.60, 2.65)    10\n",
       "dtype: int64"
      ]
     },
     "execution_count": 14,
     "metadata": {},
     "output_type": "execute_result"
    }
   ],
   "source": [
    "pd.Series(x_transform_woe).value_counts()"
   ]
  },
  {
   "cell_type": "markdown",
   "metadata": {},
   "source": [
    "## Advanced"
   ]
  },
  {
   "cell_type": "markdown",
   "metadata": {},
   "source": [
    "Many of the advanced options have been covered in the previous tutorials with a binary target. **Check it out!** In this section, we focus on the binning table statistical analysis and the event rate monotonicity trends."
   ]
  },
  {
   "cell_type": "markdown",
   "metadata": {},
   "source": [
    "#### Binning table statistical analysis"
   ]
  },
  {
   "cell_type": "markdown",
   "metadata": {},
   "source": [
    "The ``analysis`` method performs a statistical analysis of the binning table, computing the Jensen-shannon divergence and the quality score. Additionally, a statistical significance test between consecutive bins of the contingency table is performed using the Chi-square test."
   ]
  },
  {
   "cell_type": "code",
   "execution_count": 15,
   "metadata": {},
   "outputs": [
    {
     "name": "stdout",
     "output_type": "stream",
     "text": [
      "-------------------------------------------------\n",
      "OptimalBinning: Multiclass Binning Table Analysis\n",
      "-------------------------------------------------\n",
      "\n",
      "  General metrics\n",
      "\n",
      "    JS (Jensen-Shannon)      0.10989515\n",
      "    HHI                      0.21973236\n",
      "    HHI (normalized)         0.10826555\n",
      "    Cramer's V               0.31694075\n",
      "    Quality score            0.05279822\n",
      "\n",
      "  Monotonic trend\n",
      "\n",
      "    Class  0                     valley\n",
      "    Class  1                     valley\n",
      "    Class  2                       peak\n",
      "\n",
      "  Significance tests\n",
      "\n",
      "    Bin A  Bin B  t-statistic  p-value\n",
      "        0      1     6.135081 0.046535\n",
      "        1      2     4.472669 0.106849\n",
      "        2      3     1.365275 0.505282\n",
      "        3      4     1.441642 0.486353\n",
      "        4      5     2.265477 0.322150\n",
      "\n"
     ]
    }
   ],
   "source": [
    "binning_table.analysis()"
   ]
  },
  {
   "cell_type": "markdown",
   "metadata": {},
   "source": [
    "#### Event rate monotonicity"
   ]
  },
  {
   "cell_type": "markdown",
   "metadata": {},
   "source": [
    "The ``monotonic_trend`` option permits forcing a monotonic trend to the event rate curve of each class. The default setting “auto” should be the preferred option, however, some business constraints might require to impose different trends. The default setting “auto” chooses the monotonic trend most likely to maximize the information value from the options “ascending”, “descending”, “peak” and “valley” for each class using a machine-learning-based classifier."
   ]
  },
  {
   "cell_type": "markdown",
   "metadata": {},
   "source": [
    "A good starting point to decide which monotonic trend to enforce for each class is to use ``monotonic_trend=None``. "
   ]
  },
  {
   "cell_type": "code",
   "execution_count": 16,
   "metadata": {},
   "outputs": [
    {
     "data": {
      "text/plain": [
       "MulticlassOptimalBinning(monotonic_trend=None, name='ash', solver='mip')"
      ]
     },
     "execution_count": 16,
     "metadata": {},
     "output_type": "execute_result"
    }
   ],
   "source": [
    "optb = MulticlassOptimalBinning(name=variable, solver=\"mip\", monotonic_trend=None)\n",
    "\n",
    "optb.fit(x, y)"
   ]
  },
  {
   "cell_type": "code",
   "execution_count": 17,
   "metadata": {},
   "outputs": [
    {
     "data": {
      "text/html": [
       "<div>\n",
       "<style scoped>\n",
       "    .dataframe tbody tr th:only-of-type {\n",
       "        vertical-align: middle;\n",
       "    }\n",
       "\n",
       "    .dataframe tbody tr th {\n",
       "        vertical-align: top;\n",
       "    }\n",
       "\n",
       "    .dataframe thead th {\n",
       "        text-align: right;\n",
       "    }\n",
       "</style>\n",
       "<table border=\"1\" class=\"dataframe\">\n",
       "  <thead>\n",
       "    <tr style=\"text-align: right;\">\n",
       "      <th></th>\n",
       "      <th>Bin</th>\n",
       "      <th>Count</th>\n",
       "      <th>Count (%)</th>\n",
       "      <th>Event_0</th>\n",
       "      <th>Event_1</th>\n",
       "      <th>Event_2</th>\n",
       "      <th>Event_rate_0</th>\n",
       "      <th>Event_rate_1</th>\n",
       "      <th>Event_rate_2</th>\n",
       "    </tr>\n",
       "  </thead>\n",
       "  <tbody>\n",
       "    <tr>\n",
       "      <th>0</th>\n",
       "      <td>(-inf, 2.15)</td>\n",
       "      <td>31</td>\n",
       "      <td>0.174157</td>\n",
       "      <td>7</td>\n",
       "      <td>23</td>\n",
       "      <td>1</td>\n",
       "      <td>0.225806</td>\n",
       "      <td>0.741935</td>\n",
       "      <td>0.032258</td>\n",
       "    </tr>\n",
       "    <tr>\n",
       "      <th>1</th>\n",
       "      <td>[2.15, 2.25)</td>\n",
       "      <td>20</td>\n",
       "      <td>0.112360</td>\n",
       "      <td>2</td>\n",
       "      <td>13</td>\n",
       "      <td>5</td>\n",
       "      <td>0.100000</td>\n",
       "      <td>0.650000</td>\n",
       "      <td>0.250000</td>\n",
       "    </tr>\n",
       "    <tr>\n",
       "      <th>2</th>\n",
       "      <td>[2.25, 2.28)</td>\n",
       "      <td>15</td>\n",
       "      <td>0.084270</td>\n",
       "      <td>5</td>\n",
       "      <td>5</td>\n",
       "      <td>5</td>\n",
       "      <td>0.333333</td>\n",
       "      <td>0.333333</td>\n",
       "      <td>0.333333</td>\n",
       "    </tr>\n",
       "    <tr>\n",
       "      <th>3</th>\n",
       "      <td>[2.28, 2.31)</td>\n",
       "      <td>11</td>\n",
       "      <td>0.061798</td>\n",
       "      <td>4</td>\n",
       "      <td>5</td>\n",
       "      <td>2</td>\n",
       "      <td>0.363636</td>\n",
       "      <td>0.454545</td>\n",
       "      <td>0.181818</td>\n",
       "    </tr>\n",
       "    <tr>\n",
       "      <th>4</th>\n",
       "      <td>[2.31, 2.35)</td>\n",
       "      <td>9</td>\n",
       "      <td>0.050562</td>\n",
       "      <td>1</td>\n",
       "      <td>2</td>\n",
       "      <td>6</td>\n",
       "      <td>0.111111</td>\n",
       "      <td>0.222222</td>\n",
       "      <td>0.666667</td>\n",
       "    </tr>\n",
       "    <tr>\n",
       "      <th>5</th>\n",
       "      <td>[2.35, 2.39)</td>\n",
       "      <td>12</td>\n",
       "      <td>0.067416</td>\n",
       "      <td>4</td>\n",
       "      <td>2</td>\n",
       "      <td>6</td>\n",
       "      <td>0.333333</td>\n",
       "      <td>0.166667</td>\n",
       "      <td>0.500000</td>\n",
       "    </tr>\n",
       "    <tr>\n",
       "      <th>6</th>\n",
       "      <td>[2.39, 2.47)</td>\n",
       "      <td>19</td>\n",
       "      <td>0.106742</td>\n",
       "      <td>10</td>\n",
       "      <td>6</td>\n",
       "      <td>3</td>\n",
       "      <td>0.526316</td>\n",
       "      <td>0.315789</td>\n",
       "      <td>0.157895</td>\n",
       "    </tr>\n",
       "    <tr>\n",
       "      <th>7</th>\n",
       "      <td>[2.47, 2.50)</td>\n",
       "      <td>9</td>\n",
       "      <td>0.050562</td>\n",
       "      <td>3</td>\n",
       "      <td>2</td>\n",
       "      <td>4</td>\n",
       "      <td>0.333333</td>\n",
       "      <td>0.222222</td>\n",
       "      <td>0.444444</td>\n",
       "    </tr>\n",
       "    <tr>\n",
       "      <th>8</th>\n",
       "      <td>[2.50, 2.60)</td>\n",
       "      <td>15</td>\n",
       "      <td>0.084270</td>\n",
       "      <td>6</td>\n",
       "      <td>5</td>\n",
       "      <td>4</td>\n",
       "      <td>0.400000</td>\n",
       "      <td>0.333333</td>\n",
       "      <td>0.266667</td>\n",
       "    </tr>\n",
       "    <tr>\n",
       "      <th>9</th>\n",
       "      <td>[2.60, 2.65)</td>\n",
       "      <td>10</td>\n",
       "      <td>0.056180</td>\n",
       "      <td>4</td>\n",
       "      <td>1</td>\n",
       "      <td>5</td>\n",
       "      <td>0.400000</td>\n",
       "      <td>0.100000</td>\n",
       "      <td>0.500000</td>\n",
       "    </tr>\n",
       "    <tr>\n",
       "      <th>10</th>\n",
       "      <td>[2.65, 2.73)</td>\n",
       "      <td>15</td>\n",
       "      <td>0.084270</td>\n",
       "      <td>9</td>\n",
       "      <td>2</td>\n",
       "      <td>4</td>\n",
       "      <td>0.600000</td>\n",
       "      <td>0.133333</td>\n",
       "      <td>0.266667</td>\n",
       "    </tr>\n",
       "    <tr>\n",
       "      <th>11</th>\n",
       "      <td>[2.73, inf)</td>\n",
       "      <td>12</td>\n",
       "      <td>0.067416</td>\n",
       "      <td>4</td>\n",
       "      <td>5</td>\n",
       "      <td>3</td>\n",
       "      <td>0.333333</td>\n",
       "      <td>0.416667</td>\n",
       "      <td>0.250000</td>\n",
       "    </tr>\n",
       "    <tr>\n",
       "      <th>12</th>\n",
       "      <td>Special</td>\n",
       "      <td>0</td>\n",
       "      <td>0.000000</td>\n",
       "      <td>0</td>\n",
       "      <td>0</td>\n",
       "      <td>0</td>\n",
       "      <td>0.000000</td>\n",
       "      <td>0.000000</td>\n",
       "      <td>0.000000</td>\n",
       "    </tr>\n",
       "    <tr>\n",
       "      <th>13</th>\n",
       "      <td>Missing</td>\n",
       "      <td>0</td>\n",
       "      <td>0.000000</td>\n",
       "      <td>0</td>\n",
       "      <td>0</td>\n",
       "      <td>0</td>\n",
       "      <td>0.000000</td>\n",
       "      <td>0.000000</td>\n",
       "      <td>0.000000</td>\n",
       "    </tr>\n",
       "    <tr>\n",
       "      <th>Totals</th>\n",
       "      <td></td>\n",
       "      <td>178</td>\n",
       "      <td>1.000000</td>\n",
       "      <td>59</td>\n",
       "      <td>71</td>\n",
       "      <td>48</td>\n",
       "      <td>0.331461</td>\n",
       "      <td>0.398876</td>\n",
       "      <td>0.269663</td>\n",
       "    </tr>\n",
       "  </tbody>\n",
       "</table>\n",
       "</div>"
      ],
      "text/plain": [
       "                 Bin  Count  Count (%)  Event_0  Event_1  Event_2  \\\n",
       "0       (-inf, 2.15)     31   0.174157        7       23        1   \n",
       "1       [2.15, 2.25)     20   0.112360        2       13        5   \n",
       "2       [2.25, 2.28)     15   0.084270        5        5        5   \n",
       "3       [2.28, 2.31)     11   0.061798        4        5        2   \n",
       "4       [2.31, 2.35)      9   0.050562        1        2        6   \n",
       "5       [2.35, 2.39)     12   0.067416        4        2        6   \n",
       "6       [2.39, 2.47)     19   0.106742       10        6        3   \n",
       "7       [2.47, 2.50)      9   0.050562        3        2        4   \n",
       "8       [2.50, 2.60)     15   0.084270        6        5        4   \n",
       "9       [2.60, 2.65)     10   0.056180        4        1        5   \n",
       "10      [2.65, 2.73)     15   0.084270        9        2        4   \n",
       "11       [2.73, inf)     12   0.067416        4        5        3   \n",
       "12           Special      0   0.000000        0        0        0   \n",
       "13           Missing      0   0.000000        0        0        0   \n",
       "Totals                  178   1.000000       59       71       48   \n",
       "\n",
       "        Event_rate_0  Event_rate_1  Event_rate_2  \n",
       "0           0.225806      0.741935      0.032258  \n",
       "1           0.100000      0.650000      0.250000  \n",
       "2           0.333333      0.333333      0.333333  \n",
       "3           0.363636      0.454545      0.181818  \n",
       "4           0.111111      0.222222      0.666667  \n",
       "5           0.333333      0.166667      0.500000  \n",
       "6           0.526316      0.315789      0.157895  \n",
       "7           0.333333      0.222222      0.444444  \n",
       "8           0.400000      0.333333      0.266667  \n",
       "9           0.400000      0.100000      0.500000  \n",
       "10          0.600000      0.133333      0.266667  \n",
       "11          0.333333      0.416667      0.250000  \n",
       "12          0.000000      0.000000      0.000000  \n",
       "13          0.000000      0.000000      0.000000  \n",
       "Totals      0.331461      0.398876      0.269663  "
      ]
     },
     "execution_count": 17,
     "metadata": {},
     "output_type": "execute_result"
    }
   ],
   "source": [
    "binning_table = optb.binning_table\n",
    "binning_table.build()"
   ]
  },
  {
   "cell_type": "code",
   "execution_count": 18,
   "metadata": {},
   "outputs": [
    {
     "data": {
      "image/png": "[encoded data removed]",
      "text/plain": [
       "<Figure size 432x288 with 2 Axes>"
      ]
     },
     "metadata": {
      "needs_background": "light"
     },
     "output_type": "display_data"
    }
   ],
   "source": [
    "binning_table.plot()"
   ]
  },
  {
   "cell_type": "code",
   "execution_count": 19,
   "metadata": {},
   "outputs": [
    {
     "name": "stdout",
     "output_type": "stream",
     "text": [
      "-------------------------------------------------\n",
      "OptimalBinning: Multiclass Binning Table Analysis\n",
      "-------------------------------------------------\n",
      "\n",
      "  General metrics\n",
      "\n",
      "    JS (Jensen-Shannon)      0.15199204\n",
      "    HHI                      0.09683121\n",
      "    HHI (normalized)         0.02735669\n",
      "    Cramer's V               0.37833165\n",
      "    Quality score            0.00403065\n",
      "\n",
      "  Monotonic trend\n",
      "\n",
      "    Class  0               no monotonic\n",
      "    Class  1               no monotonic\n",
      "    Class  2               no monotonic\n",
      "\n",
      "  Significance tests\n",
      "\n",
      "    Bin A  Bin B  t-statistic  p-value\n",
      "        0      1     6.135081 0.046535\n",
      "        1      2     4.212963 0.121665\n",
      "        2      3     0.800385 0.670191\n",
      "        3      4     4.935065 0.084794\n",
      "        4      5     1.400000 0.496585\n",
      "        5      6     4.205201 0.122138\n",
      "        6      7     2.682861 0.261471\n",
      "        7      8     0.838095 0.657673\n",
      "        8      9     2.268519 0.321660\n",
      "        9     10     1.424501 0.490539\n",
      "       10     11     3.056044 0.216964\n",
      "\n"
     ]
    }
   ],
   "source": [
    "binning_table.analysis()"
   ]
  },
  {
   "cell_type": "markdown",
   "metadata": {},
   "source": [
    "For example, we can decide that we do not care about class 2 and only force classes 0 and 1."
   ]
  },
  {
   "cell_type": "code",
   "execution_count": 20,
   "metadata": {},
   "outputs": [
    {
     "name": "stdout",
     "output_type": "stream",
     "text": [
      "2021-10-23 19:40:07,025 | INFO : Optimal binning started.\n",
      "2021-10-23 19:40:07,027 | INFO : Options: check parameters.\n",
      "2021-10-23 19:40:07,029 | INFO : Pre-processing started.\n",
      "2021-10-23 19:40:07,031 | INFO : Pre-processing: number of samples: 178\n",
      "2021-10-23 19:40:07,032 | INFO : Pre-processing: number of clean samples: 178\n",
      "2021-10-23 19:40:07,033 | INFO : Pre-processing: number of missing samples: 0\n",
      "2021-10-23 19:40:07,034 | INFO : Pre-processing: number of special samples: 0\n",
      "2021-10-23 19:40:07,036 | INFO : Pre-processing terminated. Time: 0.0002s\n",
      "2021-10-23 19:40:07,041 | INFO : Pre-binning started.\n",
      "2021-10-23 19:40:07,046 | INFO : Pre-binning: number prebins removed: 1\n",
      "2021-10-23 19:40:07,049 | INFO : Pre-binning: number of prebins: 12\n",
      "2021-10-23 19:40:07,050 | INFO : Pre-binning: number of refinements: 1\n",
      "2021-10-23 19:40:07,051 | INFO : Pre-binning terminated. Time: 0.0051s\n",
      "2021-10-23 19:40:07,053 | INFO : Optimizer started.\n",
      "2021-10-23 19:40:07,056 | INFO : Optimizer: classifier predicts valley monotonic trend.\n",
      "2021-10-23 19:40:07,058 | INFO : Optimizer: build model...\n",
      "2021-10-23 19:40:07,245 | INFO : Optimizer: solve...\n",
      "2021-10-23 19:40:07,249 | INFO : Optimizer terminated. Time: 0.1938s\n",
      "2021-10-23 19:40:07,250 | INFO : Post-processing started.\n",
      "2021-10-23 19:40:07,251 | INFO : Post-processing: compute binning information.\n",
      "2021-10-23 19:40:07,253 | INFO : Post-processing terminated. Time: 0.0003s\n",
      "2021-10-23 19:40:07,254 | INFO : Optimal binning terminated. Status: OPTIMAL. Time: 0.2285s\n"
     ]
    },
    {
     "data": {
      "text/plain": [
       "MulticlassOptimalBinning(monotonic_trend=['ascending', 'auto', None],\n",
       "                         name='ash', solver='mip', verbose=True)"
      ]
     },
     "execution_count": 20,
     "metadata": {},
     "output_type": "execute_result"
    }
   ],
   "source": [
    "optb = MulticlassOptimalBinning(name=variable, solver=\"mip\",\n",
    "                                monotonic_trend=[\"ascending\", \"auto\", None],\n",
    "                                verbose=True)\n",
    "\n",
    "optb.fit(x, y)"
   ]
  },
  {
   "cell_type": "code",
   "execution_count": 21,
   "metadata": {},
   "outputs": [
    {
     "data": {
      "text/html": [
       "<div>\n",
       "<style scoped>\n",
       "    .dataframe tbody tr th:only-of-type {\n",
       "        vertical-align: middle;\n",
       "    }\n",
       "\n",
       "    .dataframe tbody tr th {\n",
       "        vertical-align: top;\n",
       "    }\n",
       "\n",
       "    .dataframe thead th {\n",
       "        text-align: right;\n",
       "    }\n",
       "</style>\n",
       "<table border=\"1\" class=\"dataframe\">\n",
       "  <thead>\n",
       "    <tr style=\"text-align: right;\">\n",
       "      <th></th>\n",
       "      <th>Bin</th>\n",
       "      <th>Count</th>\n",
       "      <th>Count (%)</th>\n",
       "      <th>Event_0</th>\n",
       "      <th>Event_1</th>\n",
       "      <th>Event_2</th>\n",
       "      <th>Event_rate_0</th>\n",
       "      <th>Event_rate_1</th>\n",
       "      <th>Event_rate_2</th>\n",
       "    </tr>\n",
       "  </thead>\n",
       "  <tbody>\n",
       "    <tr>\n",
       "      <th>0</th>\n",
       "      <td>(-inf, 2.25)</td>\n",
       "      <td>51</td>\n",
       "      <td>0.286517</td>\n",
       "      <td>9</td>\n",
       "      <td>36</td>\n",
       "      <td>6</td>\n",
       "      <td>0.176471</td>\n",
       "      <td>0.705882</td>\n",
       "      <td>0.117647</td>\n",
       "    </tr>\n",
       "    <tr>\n",
       "      <th>1</th>\n",
       "      <td>[2.25, 2.35)</td>\n",
       "      <td>35</td>\n",
       "      <td>0.196629</td>\n",
       "      <td>10</td>\n",
       "      <td>12</td>\n",
       "      <td>13</td>\n",
       "      <td>0.285714</td>\n",
       "      <td>0.342857</td>\n",
       "      <td>0.371429</td>\n",
       "    </tr>\n",
       "    <tr>\n",
       "      <th>2</th>\n",
       "      <td>[2.35, 2.39)</td>\n",
       "      <td>12</td>\n",
       "      <td>0.067416</td>\n",
       "      <td>4</td>\n",
       "      <td>2</td>\n",
       "      <td>6</td>\n",
       "      <td>0.333333</td>\n",
       "      <td>0.166667</td>\n",
       "      <td>0.500000</td>\n",
       "    </tr>\n",
       "    <tr>\n",
       "      <th>3</th>\n",
       "      <td>[2.39, inf)</td>\n",
       "      <td>80</td>\n",
       "      <td>0.449438</td>\n",
       "      <td>36</td>\n",
       "      <td>21</td>\n",
       "      <td>23</td>\n",
       "      <td>0.450000</td>\n",
       "      <td>0.262500</td>\n",
       "      <td>0.287500</td>\n",
       "    </tr>\n",
       "    <tr>\n",
       "      <th>4</th>\n",
       "      <td>Special</td>\n",
       "      <td>0</td>\n",
       "      <td>0.000000</td>\n",
       "      <td>0</td>\n",
       "      <td>0</td>\n",
       "      <td>0</td>\n",
       "      <td>0.000000</td>\n",
       "      <td>0.000000</td>\n",
       "      <td>0.000000</td>\n",
       "    </tr>\n",
       "    <tr>\n",
       "      <th>5</th>\n",
       "      <td>Missing</td>\n",
       "      <td>0</td>\n",
       "      <td>0.000000</td>\n",
       "      <td>0</td>\n",
       "      <td>0</td>\n",
       "      <td>0</td>\n",
       "      <td>0.000000</td>\n",
       "      <td>0.000000</td>\n",
       "      <td>0.000000</td>\n",
       "    </tr>\n",
       "    <tr>\n",
       "      <th>Totals</th>\n",
       "      <td></td>\n",
       "      <td>178</td>\n",
       "      <td>1.000000</td>\n",
       "      <td>59</td>\n",
       "      <td>71</td>\n",
       "      <td>48</td>\n",
       "      <td>0.331461</td>\n",
       "      <td>0.398876</td>\n",
       "      <td>0.269663</td>\n",
       "    </tr>\n",
       "  </tbody>\n",
       "</table>\n",
       "</div>"
      ],
      "text/plain": [
       "                 Bin  Count  Count (%)  Event_0  Event_1  Event_2  \\\n",
       "0       (-inf, 2.25)     51   0.286517        9       36        6   \n",
       "1       [2.25, 2.35)     35   0.196629       10       12       13   \n",
       "2       [2.35, 2.39)     12   0.067416        4        2        6   \n",
       "3        [2.39, inf)     80   0.449438       36       21       23   \n",
       "4            Special      0   0.000000        0        0        0   \n",
       "5            Missing      0   0.000000        0        0        0   \n",
       "Totals                  178   1.000000       59       71       48   \n",
       "\n",
       "        Event_rate_0  Event_rate_1  Event_rate_2  \n",
       "0           0.176471      0.705882      0.117647  \n",
       "1           0.285714      0.342857      0.371429  \n",
       "2           0.333333      0.166667      0.500000  \n",
       "3           0.450000      0.262500      0.287500  \n",
       "4           0.000000      0.000000      0.000000  \n",
       "5           0.000000      0.000000      0.000000  \n",
       "Totals      0.331461      0.398876      0.269663  "
      ]
     },
     "execution_count": 21,
     "metadata": {},
     "output_type": "execute_result"
    }
   ],
   "source": [
    "binning_table = optb.binning_table\n",
    "binning_table.build()"
   ]
  },
  {
   "cell_type": "code",
   "execution_count": 22,
   "metadata": {},
   "outputs": [
    {
     "data": {
      "image/png": "[encoded data removed]",
      "text/plain": [
       "<Figure size 432x288 with 2 Axes>"
      ]
     },
     "metadata": {
      "needs_background": "light"
     },
     "output_type": "display_data"
    }
   ],
   "source": [
    "binning_table.plot()"
   ]
  },
  {
   "cell_type": "code",
   "execution_count": 23,
   "metadata": {},
   "outputs": [
    {
     "name": "stdout",
     "output_type": "stream",
     "text": [
      "-------------------------------------------------\n",
      "OptimalBinning: Multiclass Binning Table Analysis\n",
      "-------------------------------------------------\n",
      "\n",
      "  General metrics\n",
      "\n",
      "    JS (Jensen-Shannon)      0.08899633\n",
      "    HHI                      0.32729453\n",
      "    HHI (normalized)         0.19275344\n",
      "    Cramer's V               0.30518651\n",
      "    Quality score            0.08792312\n",
      "\n",
      "  Monotonic trend\n",
      "\n",
      "    Class  0                  ascending\n",
      "    Class  1            valley (convex)\n",
      "    Class  2             peak (concave)\n",
      "\n",
      "  Significance tests\n",
      "\n",
      "    Bin A  Bin B  t-statistic  p-value\n",
      "        0      1    12.072711 0.002390\n",
      "        1      2     1.364733 0.505419\n",
      "        2      3     2.204828 0.332069\n",
      "\n"
     ]
    }
   ],
   "source": [
    "binning_table.analysis()"
   ]
  }
 ],
 "metadata": {
  "kernelspec": {
   "display_name": "Python 3",
   "language": "python",
   "name": "python3"
  },
  "language_info": {
   "codemirror_mode": {
    "name": "ipython",
    "version": 3
   },
   "file_extension": ".py",
   "mimetype": "text/x-python",
   "name": "python",
   "nbconvert_exporter": "python",
   "pygments_lexer": "ipython3",
   "version": "3.7.4"
  }
 },
 "nbformat": 4,
 "nbformat_minor": 2
}
